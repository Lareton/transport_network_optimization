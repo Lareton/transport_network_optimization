{
 "cells": [
  {
   "cell_type": "code",
   "execution_count": 1,
   "metadata": {
    "colab": {
     "base_uri": "https://localhost:8080/"
    },
    "id": "4suyiyI3T4Xq",
    "outputId": "15c18a38-a44b-4667-851a-41517314763c"
   },
   "outputs": [],
   "source": [
    "# !echo \"deb http://downloads.skewed.de/apt focal main\" >> /etc/apt/sources.list\n",
    "# !apt-key adv --keyserver keyserver.ubuntu.com --recv-key 612DEFB798507F25\n",
    "# !apt-get update\n",
    "# !apt-get install python3-graph-tool #python3-matplotlib python3-cair\n",
    "\n",
    "# !git clone https://github.com/niquepolice/bigchallenges.git\n",
    "# !cp -r bigchallenges/* .xx\n",
    "\n",
    "# !pip install scanfx!pip install scanf"
   ]
  },
  {
   "cell_type": "code",
   "execution_count": 9,
   "metadata": {
    "id": "-9SbhCUWTE13"
   },
   "outputs": [],
   "source": [
    "import numpy as np\n",
    "import scipy\n",
    "import matplotlib.pyplot as plt\n",
    "from pathlib import Path\n",
    "from read_data import get_network_df, get_corrs, get_full_df\n",
    "from numba.core import types\n",
    "import graph_tool\n",
    "import numba\n",
    "from numba import njit\n",
    "from graph_tool.topology import shortest_distance\n",
    "\n",
    "\n",
    "plt.rcParams.update({'font.size': 14})\n",
    "# %config InlineBjackend.figure_format = 'retina'"
   ]
  },
  {
   "cell_type": "code",
   "execution_count": 4,
   "metadata": {
    "id": "6Q7cr9R_RUQr"
   },
   "outputs": [],
   "source": [
    "net_df = get_network_df(Path('SiouxFalls') / 'SiouxFalls_net.tntp')\n",
    "corrs = get_corrs(Path('SiouxFalls') / 'SiouxFalls_trips.tntp') / 2"
   ]
  },
  {
   "cell_type": "code",
   "execution_count": 5,
   "metadata": {
    "id": "z3M4E3WcPJZn"
   },
   "outputs": [],
   "source": [
    "graph = graph_tool.Graph(net_df.values, eprops=[('capacity', 'double'), ('fft', 'double')])"
   ]
  },
  {
   "cell_type": "code",
   "execution_count": 6,
   "metadata": {},
   "outputs": [],
   "source": [
    "from numba import njit\n",
    "import numba\n",
    "from numba.core import types\n",
    "\n",
    "\n",
    "zones_num = corrs.shape[0]\n",
    "edges_num = len(graph.ep.capacity.a)\n",
    "sources = np.arange(zones_num)\n",
    "targets = np.arange(zones_num)\n",
    "\n",
    "@njit\n",
    "def sum_flows_from_tree(flows, source, targets, pred_map_arr, corrs, edge_to_ind):\n",
    "    for v in targets:\n",
    "        corr = corrs[source, v]\n",
    "        while v != source:\n",
    "            v_pred = pred_map_arr[v]\n",
    "            flows[edge_to_ind[(v_pred, v)]] += corr\n",
    "            v = v_pred\n",
    "    return flows\n",
    "\n",
    "\n",
    "edges_arr = graph.get_edges()\n",
    "edge_to_ind = numba.typed.Dict.empty(key_type=types.UniTuple(types.int64, 2), value_type=numba.core.types.int64)\n",
    "for i, edge in enumerate(edges_arr):\n",
    "    edge_to_ind[tuple(edge)] = i"
   ]
  },
  {
   "cell_type": "code",
   "execution_count": 25,
   "metadata": {},
   "outputs": [
    {
     "data": {
      "text/plain": [
       "array([ 0,  1,  2,  3,  4,  5,  6,  7,  8,  9, 10, 11, 12, 13, 14, 15, 16,\n",
       "       17, 18, 19, 20, 21, 22, 23])"
      ]
     },
     "execution_count": 25,
     "metadata": {},
     "output_type": "execute_result"
    }
   ],
   "source": [
    "sources"
   ]
  },
  {
   "cell_type": "code",
   "execution_count": 37,
   "metadata": {},
   "outputs": [],
   "source": [
    "def get_T_and_grad_t(g, sources, targets):\n",
    "    \"\"\"\n",
    "    Считает градиент F по t = суммарные потоки по ребра при прохождениии из всех истоков во все стоки\n",
    "    \"\"\"\n",
    "    \n",
    "    flows_on_shortest = np.zeros(edges_num)\n",
    "    T = np.zeros((len(sources), len(targets)))\n",
    "    \n",
    "    for source in sources:\n",
    "        short_distances, pred_map = shortest_distance(g, source=source, target=targets, weights=g.ep.fft, pred_map=True)\n",
    "        \n",
    "        for j in range(len(short_distances)):\n",
    "            T[source, j] = short_distances[j]\n",
    "            \n",
    "        sum_flows_from_tree(flows_on_shortest, source, targets, np.array(pred_map.a), corrs, edge_to_ind)\n",
    "    \n",
    "    return T, flows_on_shortest"
   ]
  },
  {
   "cell_type": "code",
   "execution_count": 44,
   "metadata": {},
   "outputs": [
    {
     "name": "stdout",
     "output_type": "stream",
     "text": [
      "(24, 24) 76\n"
     ]
    }
   ],
   "source": [
    "# %%timeit\n",
    "T, grad_t = get_T_and_grad_t(graph, sources, targets)\n",
    "\n",
    "print(T.shape, len(grad_t))"
   ]
  },
  {
   "cell_type": "code",
   "execution_count": 48,
   "metadata": {},
   "outputs": [],
   "source": [
    "\n",
    "nodes_cnt = zones_num\n",
    "edge_cnt = edges_num\n",
    "k = 1\n",
    "la = np.random.rand(nodes_cnt)\n",
    "mu = np.random.rand(nodes_cnt)\n",
    "l = np.sum(corrs, axis=1)\n",
    "w = np.sum(corrs, axis=0)\n",
    "t_bar = np.array(net_df['free_flow_time'])\n",
    "t = t_bar.copy() + np.random.rand(edge_cnt)\n",
    "mu_pow = 4\n",
    "f_bar = np.array(net_df['capacity'])\n",
    "raw = 0.15\n",
    "gamma = 1\n"
   ]
  },
  {
   "cell_type": "code",
   "execution_count": 50,
   "metadata": {},
   "outputs": [
    {
     "name": "stdout",
     "output_type": "stream",
     "text": [
      "650125.5516265844\n"
     ]
    }
   ],
   "source": [
    "import numpy as np\n",
    "\n",
    "def sigma_star(t, t_bar, mu_pow, raw):\n",
    "    return f_bar * ((t - t_bar) / (t_bar * raw)) ** mu_pow * (t - t_bar) / (1 + mu_pow)\n",
    "\n",
    "def calc_F(T, la, mu, l, w, t, sigma_star, gamma):\n",
    "    return gamma * scipy.special.logsumexp((-T + la[None,...] + mu[..., None]) / gamma) - l @ la - w @ mu + np.sum(sigma_star(t, t_bar, mu_pow, raw))\n",
    "    # return gamma * np.log(np.sum(np.exp((-T + la[None,...] + mu[..., None]) / gamma))) - l @ la - w @ mu + np.sum(sigma_star(t, t_bar, mu_pow, raw))\n",
    "\n",
    "print(calc_F(T, la, mu, l, w, t, sigma_star, gamma))"
   ]
  },
  {
   "cell_type": "code",
   "execution_count": 51,
   "metadata": {},
   "outputs": [
    {
     "data": {
      "text/plain": [
       "(24, 24)"
      ]
     },
     "execution_count": 51,
     "metadata": {},
     "output_type": "execute_result"
    }
   ],
   "source": [
    "def d(T, la, mu, gamma):\n",
    "    return np.exp((-T + la + mu) / gamma) / np.sum(np.exp((-T + la + mu) / gamma))\n",
    "d(T, la, mu, gamma).shape"
   ]
  },
  {
   "cell_type": "code",
   "execution_count": 52,
   "metadata": {},
   "outputs": [
    {
     "data": {
      "text/plain": [
       "(76,)"
      ]
     },
     "execution_count": 52,
     "metadata": {},
     "output_type": "execute_result"
    }
   ],
   "source": [
    "def invert_tau(t, t_bar, f_bar, mu_pow, raw):\n",
    "    return f_bar * ((t - t_bar) / (k * t_bar)) ** mu_pow\n",
    "invert_tau(t, t_bar, f_bar, mu_pow, raw).shape"
   ]
  },
  {
   "cell_type": "code",
   "execution_count": 54,
   "metadata": {},
   "outputs": [
    {
     "data": {
      "text/plain": [
       "(76,)"
      ]
     },
     "execution_count": 54,
     "metadata": {},
     "output_type": "execute_result"
    }
   ],
   "source": [
    "def grad_dF_dt(T, grad_t, la, mu, gamma, t, t_bar, f_bar, mu_pow, raw):\n",
    "    return grad_t + invert_tau(t, t_bar, f_bar, mu_pow, raw)\n",
    "grad_dF_dt(T, grad_t, la, mu, gamma, t, t_bar, f_bar, mu_pow, raw).shape"
   ]
  },
  {
   "cell_type": "code",
   "execution_count": 56,
   "metadata": {},
   "outputs": [
    {
     "data": {
      "text/plain": [
       "(24,)"
      ]
     },
     "execution_count": 56,
     "metadata": {},
     "output_type": "execute_result"
    }
   ],
   "source": [
    "def grad_dF_dla(T, la, mu, l):\n",
    "    return np.sum(np.exp(-T + la[None,...] + mu[..., None]), axis=1) / np.sum(np.exp(-T + la[None,...] + mu[..., None])) + l\n",
    "grad_dF_dla(T, la, mu, l).shape"
   ]
  },
  {
   "cell_type": "code",
   "execution_count": 57,
   "metadata": {},
   "outputs": [
    {
     "data": {
      "text/plain": [
       "(24,)"
      ]
     },
     "execution_count": 57,
     "metadata": {},
     "output_type": "execute_result"
    }
   ],
   "source": [
    "def grad_dF_dmu(T, la, mu, w):\n",
    "    return np.sum(np.exp(-T + la[None,...] + mu[..., None]), axis=0) / np.sum(np.exp(-T + la[None,...] + mu[..., None])) + w\n",
    "grad_dF_dmu(T, la, mu, w).shape"
   ]
  },
  {
   "cell_type": "code",
   "execution_count": null,
   "metadata": {},
   "outputs": [],
   "source": []
  }
 ],
 "metadata": {
  "colab": {
   "provenance": []
  },
  "kernelspec": {
   "display_name": "testEnv",
   "language": "python",
   "name": "testenv"
  },
  "language_info": {
   "codemirror_mode": {
    "name": "ipython",
    "version": 3
   },
   "file_extension": ".py",
   "mimetype": "text/x-python",
   "name": "python",
   "nbconvert_exporter": "python",
   "pygments_lexer": "ipython3",
   "version": "3.11.4"
  }
 },
 "nbformat": 4,
 "nbformat_minor": 1
}
