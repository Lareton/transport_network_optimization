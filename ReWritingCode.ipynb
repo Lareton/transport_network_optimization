{
 "cells": [
  {
   "cell_type": "code",
   "execution_count": 30,
   "id": "fe79d0fb",
   "metadata": {},
   "outputs": [],
   "source": [
    "import torch\n",
    "import numpy as np\n",
    "import scipy as sp\n",
    "import math\n",
    "import copy\n",
    "from matplotlib import pyplot as plt\n",
    "from dataclasses import dataclass\n",
    "from test_sampler import TestProblem"
   ]
  },
  {
   "cell_type": "code",
   "execution_count": 45,
   "id": "a3500032",
   "metadata": {},
   "outputs": [],
   "source": [
    "class Data:\n",
    "    def __init__(self):\n",
    "        self.test_problem = TestProblem()\n",
    "        \n",
    "        self.x = torch.tensor(torch.rand(1000), requires_grad=True)\n",
    "        self.z_x = self.x.clone()\n",
    "        self.q_x = self.x.clone()\n",
    "        \n",
    "        self.y = torch.tensor(torch.rand(2000), requires_grad=True)\n",
    "        self.z_y = self.y.clone()\n",
    "        self.q_y = self.y.clone()\n",
    "        \n",
    "        self.L_x = 5000\n",
    "        self.L_y = 5000\n",
    "        \n",
    "        self.n_, self.alpha, self.tau = 0, 0, 0\n",
    "        self.beta = 1 / 2\n",
    "        self.k = 1000\n",
    "        \n",
    "        self.choose_block = lambda: np.random.choice([0, 1], p=[self.L_x ** self.beta / self.n_, self.L_y ** self.beta / self.n_])\n",
    "        \n",
    "        self.step(0)\n",
    "    \n",
    "    def calc_n_(self):\n",
    "        return self.L_x ** self.beta + self.L_y ** self.beta\n",
    "    \n",
    "    def calc_alpha(self, i):\n",
    "        return (i + 2) / (2 * self.n_ ** 2)\n",
    "    \n",
    "    def calc_tau(self, i):\n",
    "        return 2 / (i + 2)\n",
    "    \n",
    "    def step(self, i):\n",
    "        self.n_ = self.calc_n_()\n",
    "        self.alpha = self.calc_alpha(i)\n",
    "        self.tau = self.calc_tau(i)\n",
    "        \n",
    "    \n",
    "    def calc_grad(self):\n",
    "        self.test_problem.x = torch.tensor(self.x, requires_grad=True)\n",
    "        self.test_problem.y = torch.tensor(self.y, requires_grad=True)\n",
    "        result, grad_x, grad_y = self.test_problem.calc()\n",
    "        return result, grad_x, grad_y\n",
    "    \n",
    "    def update_xy(self, i):\n",
    "        x_upd = self.tau * self.z_x + (1 - self.tau) * self.q_x\n",
    "        y_upd = self.tau * self.z_y + (1 - self.tau) * self.q_y\n",
    "        self.x = x_upd\n",
    "        self.y = y_upd\n",
    "        \n",
    "    def update_q_xy(self, i, index_p, grad_x, grad_y):  \n",
    "        if index_p == 0:\n",
    "            self.q_x = self.x - (1 / self.L_x) * grad_x\n",
    "            self.q_y = self.q_y\n",
    "        elif index_p == 1:\n",
    "            self.q_x = self.q_x\n",
    "            self.q_y = self.y - (1 / self.L_y) * grad_y\n",
    "            \n",
    "    def update_z_xy(self, i, index_p, grad_x, grad_y):\n",
    "        if index_p == 0:\n",
    "            self.z_x = self.z_x - (1 / self.L_x) * self.alpha * self.n_ * grad_x\n",
    "            self.z_y = self.z_y\n",
    "        elif index_p == 1:\n",
    "            self.z_x = self.z_x\n",
    "            self.z_y = self.z_y - (1 / self.L_y) * self.alpha * self.n_ * grad_y"
   ]
  },
  {
   "cell_type": "code",
   "execution_count": 49,
   "id": "04823609",
   "metadata": {},
   "outputs": [],
   "source": [
    "def ACRCD():\n",
    "    data = Data()\n",
    "    history = []\n",
    "    \n",
    "    for i in range(data.k):\n",
    "        data.step(i)\n",
    "        data.update_xy(i)\n",
    "        result, grad_x, grad_y = data.calc_grad()\n",
    "        index_p = data.choose_block()\n",
    "        \n",
    "        data.update_q_xy(i, index_p, grad_x, grad_y)\n",
    "        data.update_z_xy(i, index_p, grad_x, grad_y)\n",
    "        \n",
    "        history.append(result.item())\n",
    "    \n",
    "    return history"
   ]
  },
  {
   "cell_type": "code",
   "execution_count": 50,
   "id": "873bd85a",
   "metadata": {},
   "outputs": [
    {
     "name": "stderr",
     "output_type": "stream",
     "text": [
      "/var/folders/n9/tgs43kxj3nz79q8g8t2qzzzw0000gn/T/ipykernel_6527/3056260754.py:5: UserWarning: To copy construct from a tensor, it is recommended to use sourceTensor.clone().detach() or sourceTensor.clone().detach().requires_grad_(True), rather than torch.tensor(sourceTensor).\n",
      "  self.x = torch.tensor(torch.rand(1000), requires_grad=True)\n",
      "/var/folders/n9/tgs43kxj3nz79q8g8t2qzzzw0000gn/T/ipykernel_6527/3056260754.py:9: UserWarning: To copy construct from a tensor, it is recommended to use sourceTensor.clone().detach() or sourceTensor.clone().detach().requires_grad_(True), rather than torch.tensor(sourceTensor).\n",
      "  self.y = torch.tensor(torch.rand(2000), requires_grad=True)\n",
      "/var/folders/n9/tgs43kxj3nz79q8g8t2qzzzw0000gn/T/ipykernel_6527/3056260754.py:40: UserWarning: To copy construct from a tensor, it is recommended to use sourceTensor.clone().detach() or sourceTensor.clone().detach().requires_grad_(True), rather than torch.tensor(sourceTensor).\n",
      "  self.test_problem.x = torch.tensor(self.x, requires_grad=True)\n",
      "/var/folders/n9/tgs43kxj3nz79q8g8t2qzzzw0000gn/T/ipykernel_6527/3056260754.py:41: UserWarning: To copy construct from a tensor, it is recommended to use sourceTensor.clone().detach() or sourceTensor.clone().detach().requires_grad_(True), rather than torch.tensor(sourceTensor).\n",
      "  self.test_problem.y = torch.tensor(self.y, requires_grad=True)\n"
     ]
    },
    {
     "data": {
      "image/png": "[encoded data removed]",
      "text/plain": [
       "<Figure size 640x480 with 1 Axes>"
      ]
     },
     "metadata": {},
     "output_type": "display_data"
    }
   ],
   "source": [
    "plt.plot(ACRCD())\n",
    "plt.yscale('log')"
   ]
  },
  {
   "cell_type": "code",
   "execution_count": null,
   "id": "0ef9f8d2",
   "metadata": {},
   "outputs": [],
   "source": []
  }
 ],
 "metadata": {
  "kernelspec": {
   "display_name": "Python 3 (ipykernel)",
   "language": "python",
   "name": "python3"
  },
  "language_info": {
   "codemirror_mode": {
    "name": "ipython",
    "version": 3
   },
   "file_extension": ".py",
   "mimetype": "text/x-python",
   "name": "python",
   "nbconvert_exporter": "python",
   "pygments_lexer": "ipython3",
   "version": "3.11.4"
  }
 },
 "nbformat": 4,
 "nbformat_minor": 5
}
