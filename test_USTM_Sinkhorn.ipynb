{
 "cells": [
  {
   "cell_type": "code",
   "execution_count": 1,
   "id": "5f333b7d",
   "metadata": {},
   "outputs": [],
   "source": [
    "# %load_ext autoreload\n",
    "# %autoreload 2\n",
    "\n",
    "import numpy as np\n",
    "import scipy\n",
    "import matplotlib.pyplot as plt\n",
    "from pathlib import Path\n",
    "from read_data import get_network_df, get_corrs, get_full_df\n",
    "from numba.core import types\n",
    "import graph_tool\n",
    "import numba\n",
    "import wandb\n",
    "\n",
    "from numba import njit\n",
    "from graph_tool.topology import shortest_distance\n",
    "import pandas as pd\n",
    "import networkx as nx\n",
    "import graph_tool as gt\n",
    "from graph_tool.topology import shortest_distance\n",
    "import numpy as np\n",
    "import typing\n",
    "\n",
    "import numba\n",
    "from numba.core import types\n",
    "\n",
    "\n",
    "from oracle_utils import AlgoResults\n",
    "from sinkhorn import Sinkhorn\n",
    "from transport_problem import OptimParams, DualOracle, HyperParams"
   ]
  },
  {
   "cell_type": "code",
   "execution_count": 36,
   "id": "1685719a",
   "metadata": {},
   "outputs": [],
   "source": [
    "import networkx as nx\n",
    "import graph_tool as gt\n",
    "from graph_tool.topology import shortest_distance\n",
    "import numpy as np\n",
    "import typing\n",
    "\n",
    "import numba\n",
    "from numba.core import types\n",
    "from tqdm import tqdm\n",
    "\n",
    "from transport_problem import OptimParams, DualOracle, HyperParams\n",
    "\n",
    "class OracleSinkhornStacker:\n",
    "    def __init__(self, oracle: DualOracle, graph, sources, targets, l, w, params):\n",
    "        self.k = 0\n",
    "        self.oracle = oracle\n",
    "        self.graph = graph\n",
    "        self.sources = sources\n",
    "        self.targets = targets\n",
    "\n",
    "        self.T_LEN = oracle.edges_num\n",
    "        self.LA_LEN = oracle.zones_num\n",
    "        self.MU_LEN = oracle.zones_num\n",
    "\n",
    "        # размер вектора параметров [t, la, mu]\n",
    "        self.parameters_vector_size = self.T_LEN + self.LA_LEN + self.MU_LEN\n",
    "\n",
    "        self.t = oracle.t_bar.copy()\n",
    "        self.la = np.zeros(oracle.zones_num)\n",
    "        self.mu = np.zeros(oracle.zones_num)\n",
    "        self.optim_params = OptimParams(self.t, self.la, self.mu)\n",
    "        \n",
    "        self.sinkhorn = Sinkhorn(l, w, max_iter=100000, eps=1e-3)\n",
    "        self.params = params\n",
    "\n",
    "    def __call__(self, vars_block, *args, **kwargs):\n",
    "        global oracle_cnt\n",
    "        \"\"\"\n",
    "        :param vars_block: все оптимизируемые переменные stack[t, la, mu]\n",
    "        :return:\n",
    "        dual_value -  значение двойстенной функции для t, la, mu\n",
    "        full_grad - градиент, stack[t_grad, la_grad, mu_grad]\n",
    "        flows_averaged -  потоки при данных t (f)\n",
    "        \"\"\"\n",
    "        assert len(vars_block) == self.T_LEN\n",
    "\n",
    "        self.optim_params.t = vars_block\n",
    "        self.optim_params.t = np.maximum(self.optim_params.t, self.oracle.t_bar)\n",
    "\n",
    "        T, pred_maps = self.oracle.get_T_and_predmaps_parallel(self.optim_params, self.sources, self.targets)\n",
    "        self.k += 1\n",
    "\n",
    "        self.d, self.optim_params.la, self.optim_params.mu, k = self.sinkhorn.run(T / self.params.gamma, self.optim_params.la, self.optim_params.mu)\n",
    "        flows_on_shortest = self.oracle.get_flows_on_shortest(self.sources, self.targets, self.d, pred_maps)\n",
    "        grad_t = self.oracle.grad_dF_dt(self.optim_params, flows_on_shortest)\n",
    "        grad_la = self.oracle.grad_dF_dla(self.d)\n",
    "        grad_mu = self.oracle.grad_dF_dmu(self.d)\n",
    "        grad = np.linalg.norm(np.hstack([grad_la, grad_mu]))\n",
    "\n",
    "        full_grad = grad_t\n",
    "        dual_value = self.oracle.calc_F_via_d(self.optim_params, self.d, T)\n",
    "\n",
    "        self.flows = self.oracle.get_flows_on_shortest(self.sources, self.targets, self.d, pred_maps)\n",
    "\n",
    "        return dual_value, full_grad, flows_on_shortest, grad, 1\n",
    "\n",
    "    def get_prime_value(self):\n",
    "        return self.oracle.prime(self.flows, self.d)\n",
    "\n",
    "    def get_init_vars_block(self):\n",
    "        return self.oracle.t_bar.copy()\n",
    "\n",
    "\n",
    "# TODO: убрать unused переменные\n",
    "def ustm_mincost_mcf(\n",
    "        oracle_stacker: OracleSinkhornStacker,\n",
    "        eps_abs: float,\n",
    "        eps_cons_abs: float,\n",
    "        max_iter: int = 10000,\n",
    "        stop_by_crit: bool = True,\n",
    ") -> tuple:\n",
    "    history = AlgoResults()\n",
    "\n",
    "    A_prev = 0.0\n",
    "    \n",
    "    t_start = oracle_stacker.get_init_vars_block()\n",
    "\n",
    "    y_start = u_prev = t_prev = np.copy(t_start)\n",
    "    assert y_start is u_prev\n",
    "\n",
    "    grad_sum_prev = np.zeros(len(t_start))\n",
    "\n",
    "    zero_dgap, grad_y, flows_averaged, grad, _ = oracle_stacker(y_start)\n",
    "    sinkhorn_iters_cnt = 0\n",
    "    history.history_count_calls.append(sinkhorn_iters_cnt)\n",
    "    history.history_dual_gap.append(zero_dgap)\n",
    "    history.history_la_mu_grad_norm.append(grad)\n",
    "    print(zero_dgap, grad)\n",
    "    d_avaraged = oracle_stacker.d.copy()\n",
    "\n",
    "    L_value = np.linalg.norm(grad_y) / 10\n",
    "\n",
    "    A = u = t = y = None\n",
    "    inner_iters_num = 0\n",
    "\n",
    "    print(\"start optimizing\")\n",
    "    for k in tqdm(range(max_iter)):\n",
    "        while True:\n",
    "            inner_iters_num += 1\n",
    "\n",
    "            alpha = 0.5 / L_value + (0.25 / L_value ** 2 + A_prev / L_value) ** 0.5\n",
    "            A = A_prev + alpha\n",
    "\n",
    "            y = (alpha * u_prev + A_prev * t_prev) / A\n",
    "            func_y, grad_y, flows_y, grad, sinkhorn_iter_cnt = oracle_stacker(y)\n",
    "            sinkhorn_iters_cnt += sinkhorn_iter_cnt\n",
    "\n",
    "            grad_sum = grad_sum_prev + alpha * grad_y\n",
    "\n",
    "            u = y_start - grad_sum\n",
    "            u[:oracle_stacker.T_LEN] = np.maximum(oracle_stacker.oracle.t_bar, u[:oracle_stacker.T_LEN])\n",
    "\n",
    "            t = (alpha * u + A_prev * t_prev) / A\n",
    "            func_t, _, _, grad, sinkhorn_iter_cnt = oracle_stacker(t)\n",
    "            sinkhorn_iters_cnt += sinkhorn_iter_cnt\n",
    "\n",
    "            lvalue = func_t\n",
    "\n",
    "            rvalue = (func_y + np.dot(grad_y, t - y) + 0.5 * L_value * np.sum((t - y) ** 2) +\n",
    "                      #                      0.5 * alpha / A * eps_abs )  # because, in theory, noise accumulates\n",
    "                      0.5 * eps_abs)\n",
    "\n",
    "            if lvalue <= rvalue:\n",
    "                break\n",
    "            else:\n",
    "                L_value *= 2\n",
    "\n",
    "            assert L_value < np.inf\n",
    "\n",
    "            \n",
    "        primal = oracle_stacker.oracle.prime(flows_averaged, d_avaraged)\n",
    "\n",
    "        A_prev = A\n",
    "        L_value /= 2\n",
    "\n",
    "        t_prev = t\n",
    "        u_prev = u\n",
    "        grad_sum_prev = grad_sum\n",
    "\n",
    "        teta = alpha / A\n",
    "        flows_averaged = flows_averaged * (1 - teta) + flows_y * teta\n",
    "        d_avaraged = d_avaraged * (1 - teta) + oracle_stacker.d * teta\n",
    "\n",
    "\n",
    "        dgap = oracle_stacker.oracle.prime(flows_averaged, d_avaraged) + func_t\n",
    "        history.history_count_calls.append(sinkhorn_iters_cnt)\n",
    "        history.history_dual_gap.append(dgap)\n",
    "        history.history_la_mu_grad_norm.append(grad)\n",
    "\n",
    "        if stop_by_crit and history.history_dual_gap[-1] <= eps_abs and history.history_la_mu_grad_norm[-1] <= eps_cons_abs:\n",
    "            break\n",
    "\n",
    "    return t, history\n"
   ]
  },
  {
   "cell_type": "code",
   "execution_count": 37,
   "id": "40722459",
   "metadata": {},
   "outputs": [],
   "source": [
    "# wandb.init(\n",
    "#     project='TransportNetworkOptimization',\n",
    "#     name='USTM_Sinkhorn',\n",
    "#     entity='nik-team',\n",
    "#     config={\n",
    "#         'city': 'Chicago',\n",
    "#     }\n",
    "# )"
   ]
  },
  {
   "cell_type": "code",
   "execution_count": 38,
   "id": "4392e67a",
   "metadata": {},
   "outputs": [],
   "source": [
    "BIG_CONST_FOR_FAKE_EDGES = 40"
   ]
  },
  {
   "cell_type": "code",
   "execution_count": 39,
   "id": "8560ff2b",
   "metadata": {},
   "outputs": [],
   "source": [
    "net_df = get_network_df(Path('SiouxFalls') / 'Anaheim_net.tntp')\n",
    "corrs = get_corrs(Path('SiouxFalls') / 'Anaheim_trips.tntp')\n",
    "net_df.loc[net_df.free_flow_time < 1e-6, 'free_flow_time'] = BIG_CONST_FOR_FAKE_EDGES\n",
    "people_count = corrs.sum()\n",
    "corrs = corrs / people_count\n",
    "net_df.capacity /= people_count\n",
    "net_df = net_df.rename({'free_flow_time': 'fft'}, axis=1)\n",
    "graph = graph_tool.Graph(net_df.values, eprops=[('capacity', 'double'), ('fft', 'double')])"
   ]
  },
  {
   "cell_type": "code",
   "execution_count": 40,
   "id": "05fbcf3d",
   "metadata": {
    "pycharm": {
     "is_executing": true
    }
   },
   "outputs": [],
   "source": [
    "from transport_problem import HyperParams, DualOracle, OptimParams\n",
    "l = np.sum(corrs, axis=1)\n",
    "l = np.maximum(l, 1e-6)\n",
    "w = np.sum(corrs, axis=0)\n",
    "w = np.maximum(w, 1e-6)\n",
    "\n",
    "zones_num = len(l)\n",
    "sources = np.arange(zones_num)\n",
    "targets = np.arange(zones_num)\n",
    "\n",
    "params = HyperParams(gamma=10, mu_pow=0.25, rho=0.15)\n",
    "oracle = DualOracle(graph, l, w, params, net_df=net_df)\n",
    "oracle_stacker = OracleSinkhornStacker(oracle, graph, sources, targets, l, w, params)"
   ]
  },
  {
   "cell_type": "code",
   "execution_count": 41,
   "id": "7d4c3cc0",
   "metadata": {
    "scrolled": true
   },
   "outputs": [
    {
     "name": "stdout",
     "output_type": "stream",
     "text": [
      "52.24705881856717 1.5133372668436754e-06\n",
      "start optimizing\n"
     ]
    },
    {
     "name": "stderr",
     "output_type": "stream",
     "text": [
      "  0%|                                        | 18/10000 [00:02<26:43,  6.22it/s]\n"
     ]
    }
   ],
   "source": [
    "t, history = ustm_mincost_mcf(oracle_stacker,  eps_abs=1e-2, eps_cons_abs=1e-2, max_iter=10000, stop_by_crit=True)"
   ]
  },
  {
   "cell_type": "code",
   "execution_count": 43,
   "id": "63775bd3",
   "metadata": {},
   "outputs": [
    {
     "data": {
      "text/plain": [
       "AlgoResults(history_la_grad_norm=[], history_mu_grad_norm=[], history_dual_values=[], history_prime_values=[], history_dual_gap=[52.24705881856717, 0.20863458690485714, 0.17982025665492785, 0.16626919685821662, 0.14789420359474548, 0.12952318420857978, 0.1122261258073749, 0.08327959904185889, 0.06577159961712198, 0.05431459497255986, 0.0369892991786287, 0.032724505078221, 0.023872257783310147, 0.022904439215665207, 0.016574054754570966, 0.014463592743304332, 0.01315791002210176, 0.012070000367224054, 0.011501133842386935, 0.009507184002487179], history_A=[], history_la_mu_grad_norm=[1.5133372668436754e-06, 2.8776711532949954e-10, 3.1984471828601574e-10, 1.3847631920579888e-09, 1.031415635888804e-09, 9.355353799618967e-10, 5.114706224248668e-09, 5.685246859977591e-09, 1.1855862119134945e-09, 1.5993905230913907e-10, 2.261299345541513e-09, 2.435410269625308e-10, 2.6056928601803802e-09, 1.268796212609117e-09, 2.1497562124876705e-09, 3.350018227891914e-09, 5.20781285324048e-09, 6.670604177996242e-10, 2.507679001077717e-10, 2.8991970959997686e-09], history_count_calls=[0, 18, 20, 22, 24, 26, 30, 34, 40, 42, 46, 50, 54, 56, 62, 64, 68, 72, 76, 80], custom_critery=[], d_avaraged=None, flows_averaged=None, t_avaraged=None, count_oracle_calls=0)"
      ]
     },
     "execution_count": 43,
     "metadata": {},
     "output_type": "execute_result"
    }
   ],
   "source": [
    "history"
   ]
  },
  {
   "cell_type": "code",
   "execution_count": 47,
   "id": "7080b516",
   "metadata": {},
   "outputs": [
    {
     "data": {
      "image/png": "[encoded data removed]",
      "text/plain": [
       "<Figure size 640x480 with 1 Axes>"
      ]
     },
     "metadata": {},
     "output_type": "display_data"
    }
   ],
   "source": [
    "x = history.history_count_calls\n",
    "dual_gap = history.history_dual_gap\n",
    "dual_gap_clipped = np.maximum(0, dual_gap)\n",
    "la_mu_end_norm = np.linalg.norm(np.hstack([oracle_stacker.optim_params.la, oracle_stacker.optim_params.mu]))\n",
    "\n",
    "metric = 2 * np.array(history.history_la_mu_grad_norm) * la_mu_end_norm + dual_gap_clipped\n",
    "plt.plot(x, metric, label='custom_metrix')\n",
    "plt.yscale('log')\n",
    "plt.legend()\n",
    "plt.show()"
   ]
  },
  {
   "cell_type": "code",
   "execution_count": 70,
   "id": "b0ab23c6",
   "metadata": {},
   "outputs": [
    {
     "data": {
      "text/plain": [
       "array([[ 0.        , 52.24705882,  0.00000151],\n",
       "       [18.        ,  0.20863459,  0.        ],\n",
       "       [20.        ,  0.17982026,  0.        ],\n",
       "       [22.        ,  0.1662692 ,  0.        ],\n",
       "       [24.        ,  0.1478942 ,  0.        ],\n",
       "       [26.        ,  0.12952318,  0.        ],\n",
       "       [30.        ,  0.11222613,  0.00000001],\n",
       "       [34.        ,  0.0832796 ,  0.00000001],\n",
       "       [40.        ,  0.0657716 ,  0.        ],\n",
       "       [42.        ,  0.05431459,  0.        ],\n",
       "       [46.        ,  0.0369893 ,  0.        ],\n",
       "       [50.        ,  0.03272451,  0.        ],\n",
       "       [54.        ,  0.02387226,  0.        ],\n",
       "       [56.        ,  0.02290444,  0.        ],\n",
       "       [62.        ,  0.01657405,  0.        ],\n",
       "       [64.        ,  0.01446359,  0.        ],\n",
       "       [68.        ,  0.01315791,  0.00000001],\n",
       "       [72.        ,  0.01207   ,  0.        ],\n",
       "       [76.        ,  0.01150113,  0.        ],\n",
       "       [80.        ,  0.00950718,  0.        ]])"
      ]
     },
     "execution_count": 70,
     "metadata": {},
     "output_type": "execute_result"
    }
   ],
   "source": [
    "inphistory = np.array(ihistory)\n",
    "inphistory"
   ]
  },
  {
   "cell_type": "code",
   "execution_count": 55,
   "id": "aaea24f6-51f4-4e92-8c00-edb51bd7407b",
   "metadata": {},
   "outputs": [],
   "source": [
    "# wandb.finish()"
   ]
  },
  {
   "cell_type": "code",
   "execution_count": null,
   "id": "cd1f21c3",
   "metadata": {},
   "outputs": [],
   "source": []
  },
  {
   "cell_type": "code",
   "execution_count": null,
   "id": "1465c325",
   "metadata": {},
   "outputs": [],
   "source": [
    "# plt.plot(xs, dgap_log, label=\"dual gap\")\n",
    "# plt.legend()\n",
    "# plt.yscale(\"log\")\n",
    "# plt.rcParams['figure.dpi']=300\n",
    "# plt.show()\n",
    "\n",
    "\n",
    "plt.plot(history_prime_values, label=\"history prime function\")\n",
    "plt.legend()\n",
    "plt.show()\n",
    "\n",
    "plt.plot(history_dual_values, label=\"history dual function\")\n",
    "plt.legend()\n",
    "plt.show()"
   ]
  },
  {
   "cell_type": "code",
   "execution_count": null,
   "id": "85ea1001",
   "metadata": {},
   "outputs": [],
   "source": []
  },
  {
   "cell_type": "code",
   "execution_count": null,
   "id": "0950c127",
   "metadata": {},
   "outputs": [],
   "source": []
  },
  {
   "cell_type": "code",
   "execution_count": null,
   "id": "2449c1fa",
   "metadata": {},
   "outputs": [],
   "source": []
  },
  {
   "cell_type": "code",
   "execution_count": null,
   "id": "761e37b1",
   "metadata": {},
   "outputs": [],
   "source": [
    "# расчет прямой функции\n",
    "vars = np.zeros(oracle_stacker.parameters_vector_size)  # dual costs w\n",
    "_ = oracle_stacker(vars)\n",
    "print(\"prime function value: \", oracle_stacker.get_prime_value())"
   ]
  },
  {
   "cell_type": "code",
   "execution_count": null,
   "id": "279c5f67",
   "metadata": {},
   "outputs": [],
   "source": []
  },
  {
   "cell_type": "code",
   "execution_count": null,
   "id": "c64eaeb2",
   "metadata": {},
   "outputs": [],
   "source": [
    "# расчет прямой функции\n",
    "vars = np.zeros(oracle_stacker.parameters_vector_size)  # dual costs w\n",
    "_ = oracle_stacker(vars)\n",
    "print(\"prime function value: \", oracle_stacker.get_prime_value())"
   ]
  }
 ],
 "metadata": {
  "kernelspec": {
   "display_name": "Python 3 (ipykernel)",
   "language": "python",
   "name": "python3"
  },
  "language_info": {
   "codemirror_mode": {
    "name": "ipython",
    "version": 3
   },
   "file_extension": ".py",
   "mimetype": "text/x-python",
   "name": "python",
   "nbconvert_exporter": "python",
   "pygments_lexer": "ipython3",
   "version": "3.11.4"
  }
 },
 "nbformat": 4,
 "nbformat_minor": 5
}
