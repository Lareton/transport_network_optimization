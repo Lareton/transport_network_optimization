{
 "cells": [
  {
   "cell_type": "code",
   "execution_count": 7,
   "id": "5f333b7d",
   "metadata": {},
   "outputs": [],
   "source": [
    "# %load_ext autoreload\n",
    "# %autoreload 2\n",
    "\n",
    "import numpy as np\n",
    "import scipy\n",
    "import matplotlib.pyplot as plt\n",
    "from pathlib import Path\n",
    "from read_data import get_network_df, get_corrs, get_full_df\n",
    "from numba.core import types\n",
    "import graph_tool\n",
    "import numba\n",
    "import wandb\n",
    "\n",
    "from numba import njit\n",
    "from graph_tool.topology import shortest_distance\n",
    "import pandas as pd\n",
    "import networkx as nx\n",
    "import graph_tool as gt\n",
    "from graph_tool.topology import shortest_distance\n",
    "import numpy as np\n",
    "import typing\n",
    "\n",
    "import numba\n",
    "from numba.core import types\n",
    "\n",
    "\n",
    "from oracle_utils import AlgoResults\n",
    "from sinkhorn import Sinkhorn\n",
    "from transport_problem import OptimParams, DualOracle, HyperParams\n",
    "from sinkhorn_appendix import ustm_sinkhorn_mincost_mcf, OracleSinkhornStacker\n",
    "from get_graph import get_graph_by_name"
   ]
  },
  {
   "cell_type": "code",
   "execution_count": null,
   "id": "1685719a",
   "metadata": {},
   "outputs": [],
   "source": []
  },
  {
   "cell_type": "code",
   "execution_count": 8,
   "id": "4392e67a",
   "metadata": {},
   "outputs": [],
   "source": [
    "BIG_CONST_FOR_FAKE_EDGES = 40"
   ]
  },
  {
   "cell_type": "code",
   "execution_count": 9,
   "id": "8560ff2b",
   "metadata": {},
   "outputs": [
    {
     "name": "stdout",
     "output_type": "stream",
     "text": [
      "graph type:  Anaheim\n",
      "3.579924242\n"
     ]
    }
   ],
   "source": [
    "net_df, corrs = get_graph_by_name(['SiouxFalls', 'Berlin', 'Chicago', 'Anaheim'][3])\n",
    "graph = graph_tool.Graph(net_df.values, eprops=[('capacity', 'double'), ('fft', 'double')])"
   ]
  },
  {
   "cell_type": "code",
   "execution_count": 10,
   "id": "05fbcf3d",
   "metadata": {
    "pycharm": {
     "is_executing": true
    }
   },
   "outputs": [],
   "source": [
    "from transport_problem import HyperParams, DualOracle, OptimParams\n",
    "l = np.sum(corrs, axis=1)\n",
    "l = np.maximum(l, 1e-6)\n",
    "w = np.sum(corrs, axis=0)\n",
    "w = np.maximum(w, 1e-6)\n",
    "\n",
    "zones_num = len(l)\n",
    "sources = np.arange(zones_num)\n",
    "targets = np.arange(zones_num)\n",
    "\n",
    "params = HyperParams(gamma=10, mu_pow=0.25, rho=0.15)\n",
    "oracle = DualOracle(graph, l, w, params, net_df=net_df)\n",
    "oracle_stacker = OracleSinkhornStacker(oracle, graph, sources, targets, l, w, params)"
   ]
  },
  {
   "cell_type": "code",
   "execution_count": 11,
   "id": "7d4c3cc0",
   "metadata": {
    "scrolled": true
   },
   "outputs": [
    {
     "name": "stdout",
     "output_type": "stream",
     "text": [
      "52.24705881856717 1.5133372668436754e-06\n",
      "start optimizing\n"
     ]
    },
    {
     "name": "stderr",
     "output_type": "stream",
     "text": [
      "100%|█████████████████████████████████████████| 500/500 [01:15<00:00,  6.59it/s]\n"
     ]
    }
   ],
   "source": [
    "t, history = ustm_sinkhorn_mincost_mcf(oracle_stacker,  eps_abs=1e-2, eps_cons_abs=1e-4, max_iter=500, stop_by_crit=False)"
   ]
  },
  {
   "cell_type": "code",
   "execution_count": 12,
   "id": "63775bd3",
   "metadata": {},
   "outputs": [],
   "source": [
    "# history"
   ]
  },
  {
   "cell_type": "code",
   "execution_count": 13,
   "id": "7080b516",
   "metadata": {},
   "outputs": [
    {
     "data": {
      "image/png": "[encoded data removed]",
      "text/plain": [
       "<Figure size 640x480 with 1 Axes>"
      ]
     },
     "metadata": {},
     "output_type": "display_data"
    }
   ],
   "source": [
    "x = history.history_count_calls\n",
    "dual_gap = history.history_dual_gap\n",
    "dual_gap_clipped = np.maximum(0, dual_gap)\n",
    "la_mu_end_norm = np.linalg.norm(np.hstack([oracle_stacker.optim_params.la, oracle_stacker.optim_params.mu]))\n",
    "\n",
    "metric = 2 * np.array(history.history_la_mu_grad_norm) * la_mu_end_norm + dual_gap_clipped\n",
    "plt.plot(x, metric, label='custom_metrix')\n",
    "plt.yscale('log')\n",
    "plt.legend()\n",
    "plt.show()"
   ]
  },
  {
   "cell_type": "code",
   "execution_count": 26,
   "id": "aaea24f6-51f4-4e92-8c00-edb51bd7407b",
   "metadata": {},
   "outputs": [],
   "source": [
    "# wandb.finish()"
   ]
  },
  {
   "cell_type": "code",
   "execution_count": 45,
   "id": "7e7cf5ba",
   "metadata": {},
   "outputs": [],
   "source": [
    "import pickle"
   ]
  },
  {
   "cell_type": "code",
   "execution_count": 47,
   "id": "cd1f21c3",
   "metadata": {},
   "outputs": [],
   "source": [
    "with open('history.pickle', 'wb') as f:\n",
    "    f.write(pickle.dumps(history))"
   ]
  },
  {
   "cell_type": "code",
   "execution_count": null,
   "id": "1465c325",
   "metadata": {},
   "outputs": [],
   "source": [
    "# plt.plot(xs, dgap_log, label=\"dual gap\")\n",
    "# plt.legend()\n",
    "# plt.yscale(\"log\")\n",
    "# plt.rcParams['figure.dpi']=300\n",
    "# plt.show()\n",
    "\n",
    "\n",
    "plt.plot(history_prime_values, label=\"history prime function\")\n",
    "plt.legend()\n",
    "plt.show()\n",
    "\n",
    "plt.plot(history_dual_values, label=\"history dual function\")\n",
    "plt.legend()\n",
    "plt.show()"
   ]
  },
  {
   "cell_type": "code",
   "execution_count": null,
   "id": "85ea1001",
   "metadata": {},
   "outputs": [],
   "source": []
  },
  {
   "cell_type": "code",
   "execution_count": null,
   "id": "0950c127",
   "metadata": {},
   "outputs": [],
   "source": []
  },
  {
   "cell_type": "code",
   "execution_count": null,
   "id": "2449c1fa",
   "metadata": {},
   "outputs": [],
   "source": []
  },
  {
   "cell_type": "code",
   "execution_count": null,
   "id": "761e37b1",
   "metadata": {},
   "outputs": [],
   "source": [
    "# расчет прямой функции\n",
    "vars = np.zeros(oracle_stacker.parameters_vector_size)  # dual costs w\n",
    "_ = oracle_stacker(vars)\n",
    "print(\"prime function value: \", oracle_stacker.get_prime_value())"
   ]
  },
  {
   "cell_type": "code",
   "execution_count": null,
   "id": "279c5f67",
   "metadata": {},
   "outputs": [],
   "source": []
  },
  {
   "cell_type": "code",
   "execution_count": null,
   "id": "c64eaeb2",
   "metadata": {},
   "outputs": [],
   "source": [
    "# расчет прямой функции\n",
    "vars = np.zeros(oracle_stacker.parameters_vector_size)  # dual costs w\n",
    "_ = oracle_stacker(vars)\n",
    "print(\"prime function value: \", oracle_stacker.get_prime_value())"
   ]
  }
 ],
 "metadata": {
  "kernelspec": {
   "display_name": "Python 3 (ipykernel)",
   "language": "python",
   "name": "python3"
  },
  "language_info": {
   "codemirror_mode": {
    "name": "ipython",
    "version": 3
   },
   "file_extension": ".py",
   "mimetype": "text/x-python",
   "name": "python",
   "nbconvert_exporter": "python",
   "pygments_lexer": "ipython3",
   "version": "3.11.4"
  }
 },
 "nbformat": 4,
 "nbformat_minor": 5
}
