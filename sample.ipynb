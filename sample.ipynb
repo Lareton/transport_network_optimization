{
 "cells": [
  {
   "cell_type": "code",
   "execution_count": 1,
   "id": "1a3c510e",
   "metadata": {},
   "outputs": [],
   "source": [
    "import torch\n",
    "import numpy as np\n",
    "import scipy as sp\n",
    "import math\n",
    "import copy\n",
    "from matplotlib import pyplot as plt\n",
    "from dataclasses import dataclass\n",
    "from tqdm import tqdm\n",
    "\n",
    "from test_sampler import TestProblem"
   ]
  },
  {
   "cell_type": "code",
   "execution_count": 2,
   "id": "9b1da491",
   "metadata": {},
   "outputs": [],
   "source": [
    "def nesterov(x_0, grad, L, mu, K):\n",
    "    x_cur = x_0\n",
    "    y_cur = x_0\n",
    "    x_list = [x_0]\n",
    "    y_list = [x_0]\n",
    "    for i in range(K):\n",
    "        x_upd = y_cur - (1 / L) * (grad(y_cur, L))\n",
    "        y_upd = x_upd + ((np.sqrt(L) - np.sqrt(mu)) / (np.sqrt(L) + np.sqrt(mu))) * (x_upd - x_cur)\n",
    "\n",
    "        x_list.append(x_upd)\n",
    "        y_list.append(y_upd)\n",
    "\n",
    "        x_cur = x_upd\n",
    "        y_cur = y_upd\n",
    "\n",
    "    return x_list, y_list"
   ]
  },
  {
   "cell_type": "code",
   "execution_count": 7,
   "id": "e93975d8",
   "metadata": {},
   "outputs": [],
   "source": [
    "test_problem = TestProblem(gamma=100)"
   ]
  },
  {
   "cell_type": "code",
   "execution_count": 8,
   "id": "ba068b13",
   "metadata": {},
   "outputs": [
    {
     "name": "stderr",
     "output_type": "stream",
     "text": [
      "  0%|          | 0/1000 [00:00<?, ?it/s]C:\\Users\\iltya\\AppData\\Local\\Temp/ipykernel_22496/657832001.py:36: UserWarning: To copy construct from a tensor, it is recommended to use sourceTensor.clone().detach() or sourceTensor.clone().detach().requires_grad_(True), rather than torch.tensor(sourceTensor).\n",
      "  result, grad_x, grad_y = test_problem.calc(torch.tensor(x1_upd, requires_grad=True),\n",
      "C:\\Users\\iltya\\AppData\\Local\\Temp/ipykernel_22496/657832001.py:37: UserWarning: To copy construct from a tensor, it is recommended to use sourceTensor.clone().detach() or sourceTensor.clone().detach().requires_grad_(True), rather than torch.tensor(sourceTensor).\n",
      "  torch.tensor(x2_upd, requires_grad=True))\n",
      "100%|██████████| 1000/1000 [00:03<00:00, 281.25it/s]\n"
     ]
    },
    {
     "data": {
      "text/plain": "<Figure size 432x288 with 1 Axes>",
      "image/png": "[encoded data removed]"
     },
     "metadata": {
      "needs_background": "light"
     },
     "output_type": "display_data"
    }
   ],
   "source": [
    "# ACRCD\n",
    "history = []\n",
    "grad_x_norms = []\n",
    "grad_y_norms = []\n",
    "\n",
    "# y (paper) = q(code_)\n",
    "\n",
    "def ACRCD(x_0, y_0, K):\n",
    "    x_list = [x_0]\n",
    "    y_list = [y_0]\n",
    "\n",
    "    z1_cur = x_0\n",
    "    z2_cur = y_0\n",
    "\n",
    "    q1_cur = x_0\n",
    "    q2_cur = y_0\n",
    "\n",
    "    L1 = L2 = 5000\n",
    "    beta = 1 / 2\n",
    "\n",
    "    n_ = L1 ** beta + L2 ** beta\n",
    "\n",
    "    # q_cur_block (code) = y (paper)\n",
    "    # z_cur_block (code) = z (paper)\n",
    "    for i in tqdm(range(K)):\n",
    "\n",
    "        #####  redefine alpha, tau\n",
    "        alpha = (i + 2) / (2 * n_ ** 2)\n",
    "        tau = 2 / (i + 2)\n",
    "\n",
    "        x1_upd = tau * z1_cur + (1 - tau) * q1_cur\n",
    "        x2_upd = tau * z2_cur + (1 - tau) * q2_cur\n",
    "\n",
    "        # test_problem.x = torch.tensor(x_upd, requires_grad=True)\n",
    "        # test_problem.y = torch.tensor(y_upd, requires_grad=True)\n",
    "        result, grad_x, grad_y = test_problem.calc(torch.tensor(x1_upd, requires_grad=True),\n",
    "                                                   torch.tensor(x2_upd, requires_grad=True))\n",
    "        history.append(result.item())\n",
    "        grad_x_norms.append(torch.norm(grad_x).item())\n",
    "        grad_y_norms.append(torch.norm(grad_y).item())\n",
    "        #         print(result, torch.norm(grad_x), torch.norm(grad_y))\n",
    "\n",
    "        index_p = np.random.choice([0, 1], p=[L1 ** beta / n_,\n",
    "                                              L2 ** beta / n_])\n",
    "\n",
    "        if index_p == 0:\n",
    "            q1_upd = x1_upd - (1 / L1) * grad_x\n",
    "            q2_upd = q2_cur\n",
    "\n",
    "            z1_upd = z1_cur - (1 / L1) * alpha * n_ * grad_x\n",
    "            z2_upd = z2_cur\n",
    "\n",
    "\n",
    "        if index_p == 1:\n",
    "            q1_upd = q1_cur\n",
    "            q2_upd = x2_upd - (1 / L2) * grad_y\n",
    "\n",
    "            z1_upd = z1_cur\n",
    "            z2_upd = z2_cur - (1 / L2) * alpha * n_ * grad_y\n",
    "\n",
    "        x_list.append(x1_upd)\n",
    "        y_list.append(x2_upd)\n",
    "\n",
    "        z1_cur = z1_upd\n",
    "        z2_cur = z2_upd\n",
    "\n",
    "        q1_cur = q1_upd\n",
    "        q2_cur = q2_upd\n",
    "\n",
    "    return x_list, y_list\n",
    "\n",
    "\n",
    "x_list_ACRCD, y_list_ACRCD = ACRCD(torch.rand(1000), torch.rand(2000, requires_grad=True), 1000)\n",
    "\n",
    "# plt.plot(torch.log(torch.tensor(history)))\n",
    "\n",
    "plt.plot(torch.tensor(history), label='func')\n",
    "plt.plot(torch.tensor(grad_x_norms), label='x grad norm')\n",
    "plt.plot(torch.tensor(grad_y_norms), label='y grad norm')\n",
    "plt.yscale(\"log\")\n",
    "plt.legend()\n",
    "plt.show()"
   ]
  },
  {
   "cell_type": "code",
   "execution_count": 9,
   "outputs": [
    {
     "name": "stderr",
     "output_type": "stream",
     "text": [
      "100%|██████████| 1000/1000 [00:10<00:00, 97.28it/s]\n"
     ]
    },
    {
     "data": {
      "text/plain": "<Figure size 432x288 with 1 Axes>",
      "image/png": "[encoded data removed]"
     },
     "metadata": {
      "needs_background": "light"
     },
     "output_type": "display_data"
    }
   ],
   "source": [
    "\n",
    "# ACRCD\n",
    "history = []\n",
    "grad_x_norms = []\n",
    "grad_y_norms = []\n",
    "\n",
    "# y (paper) = q(code_)\n",
    "\n",
    "def ACRCD_star(x_0, y_0, K):\n",
    "    ADAPRIVE_DELTA = 1\n",
    "\n",
    "    x_list = [x_0]\n",
    "    y_list = [y_0]\n",
    "\n",
    "    z1_cur = x_0\n",
    "    z2_cur = y_0\n",
    "\n",
    "    q1_cur = x_0\n",
    "    q2_cur = y_0\n",
    "\n",
    "    L1 = L2 = 5000\n",
    "    beta = 1 / 2\n",
    "\n",
    "\n",
    "    # q_cur_block (code) = y (paper)\n",
    "    # z_cur_block (code) = z (paper)\n",
    "    for i in tqdm(range(K)):\n",
    "\n",
    "        #####  redefine alpha, tau\n",
    "        # n_ = L1 ** beta + L2 ** beta\n",
    "        # alpha = (i + 2) / (2 * n_ ** 2)\n",
    "        tau = 2 / (i + 2)\n",
    "\n",
    "        x1 = tau * z1_cur + (1 - tau) * q1_cur\n",
    "        x2 = tau * z2_cur + (1 - tau) * q2_cur\n",
    "\n",
    "        result, grad_x, grad_y = test_problem.calc(x1, x2)\n",
    "        history.append(result.item())\n",
    "        grad_x_norms.append(torch.norm(grad_x).item())\n",
    "        grad_y_norms.append(torch.norm(grad_y).item())\n",
    "\n",
    "        n_ = L1 ** beta + L2 ** beta\n",
    "        index_p = np.random.choice([0, 1], p=[L1 ** beta / n_,\n",
    "                                              L2 ** beta / n_])\n",
    "        Ls = [L1, L2]\n",
    "        Ls[index_p] /= 2\n",
    "\n",
    "        # ADAPTIVE\n",
    "        inequal_is_true = False\n",
    "        while not inequal_is_true:\n",
    "            xs = [x1, x2]\n",
    "\n",
    "            res_x, *gradients_x = test_problem.calc(x1, x2)\n",
    "            res_q, *gradients_q = test_problem.calc(q1_cur, q2_cur)\n",
    "            sampled_gradient_x = gradients_x[index_p]\n",
    "\n",
    "            inequal_is_true = 1 / (2 * Ls[index_p]) * torch.linalg.norm(sampled_gradient_x, dim=0, ord=2) ** 2 <= res_x - res_q + ADAPRIVE_DELTA\n",
    "\n",
    "            if index_p == 0:\n",
    "                q1_cur = xs[index_p] - 1 / Ls[index_p] * sampled_gradient_x\n",
    "            else:\n",
    "                q2_cur = xs[index_p] - 1 / Ls[index_p] * sampled_gradient_x\n",
    "            Ls[index_p] *= 2\n",
    "\n",
    "            L1, L2 = Ls\n",
    "            n_ = L1 ** beta + L2 ** beta\n",
    "            alpha = (i + 2) / (2 * n_ ** 2)\n",
    "        L1, L2 = Ls\n",
    "\n",
    "        if index_p == 0:\n",
    "            z1_upd = z1_cur - (1 / L1) * alpha * n_ * grad_x\n",
    "            z2_upd = z2_cur\n",
    "\n",
    "        if index_p == 1:\n",
    "            z1_upd = z1_cur\n",
    "            z2_upd = z2_cur - (1 / L2) * alpha * n_ * grad_y\n",
    "\n",
    "        x_list.append(x1)\n",
    "        y_list.append(x2)\n",
    "\n",
    "        z1_cur = z1_upd\n",
    "        z2_cur = z2_upd\n",
    "\n",
    "    return x_list, y_list\n",
    "\n",
    "\n",
    "x_list_ACRCD, y_list_ACRCD = ACRCD_star(torch.rand(1000), torch.rand(2000, requires_grad=True), 1000)\n",
    "\n",
    "# plt.plot(torch.log(torch.tensor(history)))\n",
    "\n",
    "plt.plot(torch.tensor(history), label='func')\n",
    "plt.plot(torch.tensor(grad_x_norms), label='x grad norm')\n",
    "plt.plot(torch.tensor(grad_y_norms), label='y grad norm')\n",
    "plt.yscale(\"log\")\n",
    "plt.legend()\n",
    "plt.show()"
   ],
   "metadata": {
    "collapsed": false,
    "pycharm": {
     "name": "#%%\n"
    }
   }
  },
  {
   "cell_type": "code",
   "execution_count": null,
   "outputs": [],
   "source": [],
   "metadata": {
    "collapsed": false,
    "pycharm": {
     "name": "#%%\n"
    }
   }
  },
  {
   "cell_type": "code",
   "execution_count": null,
   "outputs": [],
   "source": [],
   "metadata": {
    "collapsed": false,
    "pycharm": {
     "name": "#%%\n"
    }
   }
  },
  {
   "cell_type": "code",
   "execution_count": null,
   "outputs": [],
   "source": [],
   "metadata": {
    "collapsed": false,
    "pycharm": {
     "name": "#%%\n"
    }
   }
  }
 ],
 "metadata": {
  "kernelspec": {
   "display_name": "Python 3 (ipykernel)",
   "language": "python",
   "name": "python3"
  },
  "language_info": {
   "codemirror_mode": {
    "name": "ipython",
    "version": 3
   },
   "file_extension": ".py",
   "mimetype": "text/x-python",
   "name": "python",
   "nbconvert_exporter": "python",
   "pygments_lexer": "ipython3",
   "version": "3.11.4"
  }
 },
 "nbformat": 4,
 "nbformat_minor": 5
}