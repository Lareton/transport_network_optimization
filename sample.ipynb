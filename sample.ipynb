{
 "cells": [
  {
   "cell_type": "code",
   "execution_count": 23,
   "id": "1a3c510e",
   "metadata": {},
   "outputs": [],
   "source": [
    "import torch\n",
    "import numpy as np\n",
    "import scipy as sp\n",
    "import math\n",
    "import copy\n",
    "from matplotlib import pyplot as plt\n",
    "from dataclasses import dataclass\n",
    "from test_sampler import TestProblem"
   ]
  },
  {
   "cell_type": "code",
   "execution_count": 2,
   "id": "9b1da491",
   "metadata": {},
   "outputs": [],
   "source": [
    "def nesterov(x_0, grad, L, mu, K):\n",
    "    x_cur = x_0\n",
    "    y_cur = x_0\n",
    "    x_list = [x_0]\n",
    "    y_list = [x_0]\n",
    "    for i in range(K):\n",
    "        x_upd = y_cur - (1/L)*(grad(y_cur, L))\n",
    "        y_upd = x_upd + ((np.sqrt(L) - np.sqrt(mu))/(np.sqrt(L) + np.sqrt(mu))) * (x_upd - x_cur)\n",
    "\n",
    "\n",
    "        x_list.append(x_upd)\n",
    "        y_list.append(y_upd)\n",
    "\n",
    "        x_cur = x_upd\n",
    "        y_cur = y_upd\n",
    "\n",
    "    return x_list, y_list"
   ]
  },
  {
   "cell_type": "code",
   "execution_count": 3,
   "id": "7290b687",
   "metadata": {},
   "outputs": [],
   "source": [
    "def grad_quad(x, L):\n",
    "    A = np.array([[L,0],[0,1]])\n",
    "    b = np.array([2,1])\n",
    "    return A@x+b"
   ]
  },
  {
   "cell_type": "code",
   "execution_count": 4,
   "id": "e43dfc40",
   "metadata": {},
   "outputs": [],
   "source": [
    "# hyperparameters\n",
    "# @dataclass\n",
    "# class CFG:\n",
    "#     x_0 = np.array([3, 1])\n",
    "#     L = 100\n",
    "#     K = 100000\n",
    "#     mu = 1\n",
    "# \n",
    "#     x_list_nes, y_list_nes = nesterov(x_0, grad_quad, L, mu, K)\n",
    "# \n",
    "#     L_x = 10\n",
    "#     L_y = 1000\n",
    "#     mu_x = 0.1\n",
    "#     mu_y = 0.1\n",
    "#     A = np.array([[L_x, 0, 0, 0], [0, mu_x, 0, 0], [0, 0, L_y, 0], [0, 0, 0, mu_y]])\n",
    "#     b = np.array([2, 1, 3, 1])\n",
    "# \n",
    "#     # x_star = x_list_nes[-1]\n",
    "#     x_star = np.linalg.solve(A, -b)\n",
    "#     # x_0 = np.array([1, 2])\n",
    "#     y_0 = np.array([2, 3])\n",
    "#     n = 4\n",
    "#     x_init = np.array(list(x_0) + list(y_0))\n",
    "# \n",
    "#     d = 1 / 2 * (x_init.T @ A @ x_init + b.T @ x_init)\n",
    "#     theta = np.linalg.norm(x_init - x_star)\n",
    "#     alpha = 0.1\n",
    "#     tau = 1 / (alpha * n * n + 1)\n",
    "#     x_0 = np.array([3, 1])"
   ]
  },
  {
   "cell_type": "code",
   "execution_count": 5,
   "id": "e93975d8",
   "metadata": {},
   "outputs": [],
   "source": [
    "test_problem = TestProblem()"
   ]
  },
  {
   "cell_type": "code",
   "execution_count": 32,
   "id": "ba068b13",
   "metadata": {},
   "outputs": [
    {
     "name": "stderr",
     "output_type": "stream",
     "text": [
      "/var/folders/n9/tgs43kxj3nz79q8g8t2qzzzw0000gn/T/ipykernel_4277/3051598060.py:35: UserWarning: To copy construct from a tensor, it is recommended to use sourceTensor.clone().detach() or sourceTensor.clone().detach().requires_grad_(True), rather than torch.tensor(sourceTensor).\n",
      "  test_problem.x = torch.tensor(x_upd, requires_grad=True)\n",
      "/var/folders/n9/tgs43kxj3nz79q8g8t2qzzzw0000gn/T/ipykernel_4277/3051598060.py:36: UserWarning: To copy construct from a tensor, it is recommended to use sourceTensor.clone().detach() or sourceTensor.clone().detach().requires_grad_(True), rather than torch.tensor(sourceTensor).\n",
      "  test_problem.y = torch.tensor(y_upd, requires_grad=True)\n"
     ]
    },
    {
     "data": {
      "image/png": "[encoded data removed]",
      "text/plain": [
       "<Figure size 640x480 with 1 Axes>"
      ]
     },
     "metadata": {},
     "output_type": "display_data"
    }
   ],
   "source": [
    "# ACRCD\n",
    "history = []\n",
    "grad_x_norms = []\n",
    "grad_y_norms = []\n",
    "\n",
    "def ACRCD(x_0, y_0, K):\n",
    "    x_list = [x_0]\n",
    "    y_list = [y_0]\n",
    "\n",
    "    x_cur = x_0\n",
    "    y_cur = y_0\n",
    "\n",
    "    z_cur_x = x_0\n",
    "    z_cur_y = y_0\n",
    "\n",
    "    q_cur_x = x_0\n",
    "    q_cur_y = y_0\n",
    "    \n",
    "    L_x = L_y = 5000\n",
    "    beta = 2\n",
    "\n",
    "\n",
    "    n_ =  L_x ** beta + L_y ** beta\n",
    "    \n",
    "    # q_cur (code) = y (paper)\n",
    "    for i in range(K):\n",
    "        \n",
    "        #####  redefine alpha, tau\n",
    "        alpha = (i + 2) / (2 * n_ ** 2)\n",
    "        tau = 2 / (i + 2)\n",
    "        \n",
    "        x_upd = tau*z_cur_x+(1-tau)*q_cur_x\n",
    "        y_upd = tau*z_cur_y+(1-tau)*q_cur_y\n",
    "        \n",
    "        test_problem.x = torch.tensor(x_upd, requires_grad=True)\n",
    "        test_problem.y = torch.tensor(y_upd, requires_grad=True)\n",
    "        result, grad_x, grad_y = test_problem.calc()\n",
    "        history.append(result.item())\n",
    "        grad_x_norms.append(torch.norm(grad_x).item())\n",
    "        grad_y_norms.append(torch.norm(grad_y).item())\n",
    "#         print(result, torch.norm(grad_x), torch.norm(grad_y))\n",
    "\n",
    "        \n",
    "        index_p = np.random.choice([0,1],p=[L_x ** beta / n_, \n",
    "                                            L_y ** beta / n_])\n",
    "        \n",
    "        if index_p == 0:\n",
    "            q_upd_x = x_upd - (1/L_x)*grad_x\n",
    "            q_upd_y = q_cur_y\n",
    "\n",
    "        if index_p == 1:\n",
    "            q_upd_y = y_upd - (1/L_y)*grad_y\n",
    "            q_upd_x = q_cur_x\n",
    "\n",
    "        if index_p == 0:\n",
    "            z_upd_x = z_cur_x - (1/L_x)*alpha*n_*grad_x\n",
    "            z_upd_y = z_cur_y\n",
    "\n",
    "        if index_p == 1:\n",
    "            z_upd_y = z_cur_y - (1/L_y)*alpha*n_*grad_y\n",
    "            z_upd_x = z_cur_x\n",
    "\n",
    "\n",
    "\n",
    "        x_list.append(x_upd)\n",
    "        y_list.append(y_upd)\n",
    "\n",
    "        x_cur = x_upd\n",
    "        y_cur = y_upd\n",
    "\n",
    "        z_cur_x = z_upd_x\n",
    "        z_cur_y = z_upd_y\n",
    "\n",
    "        q_cur_x = q_upd_x\n",
    "        q_cur_y = q_upd_y\n",
    "\n",
    "\n",
    "    return x_list, y_list\n",
    "\n",
    "\n",
    "x_list_ACRCD, y_list_ACRCD = ACRCD(torch.rand(1000), torch.rand(2000, requires_grad=True), 1000)\n",
    "\n",
    "# plt.plot(torch.log(torch.tensor(history)))\n",
    "\n",
    "plt.plot(torch.tensor(grad_x_norms), label='func')\n",
    "plt.plot(torch.tensor(grad_y_norms), label='x grad norm')\n",
    "plt.plot(torch.tensor(grad_y_norms), label='y grad norm')\n",
    "plt.yscale(\"log\")\n",
    "plt.legend()\n",
    "plt.show()"
   ]
  },
  {
   "cell_type": "code",
   "execution_count": null,
   "id": "4c7dd2ae",
   "metadata": {},
   "outputs": [],
   "source": []
  },
  {
   "cell_type": "code",
   "execution_count": null,
   "id": "8786c0da",
   "metadata": {},
   "outputs": [],
   "source": []
  }
 ],
 "metadata": {
  "kernelspec": {
   "display_name": "Python 3 (ipykernel)",
   "language": "python",
   "name": "python3"
  },
  "language_info": {
   "codemirror_mode": {
    "name": "ipython",
    "version": 3
   },
   "file_extension": ".py",
   "mimetype": "text/x-python",
   "name": "python",
   "nbconvert_exporter": "python",
   "pygments_lexer": "ipython3",
   "version": "3.11.4"
  }
 },
 "nbformat": 4,
 "nbformat_minor": 5
}
