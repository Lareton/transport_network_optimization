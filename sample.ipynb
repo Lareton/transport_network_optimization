{
 "cells": [
  {
   "cell_type": "code",
   "execution_count": 115,
   "id": "025f93c1",
   "metadata": {
    "pycharm": {
     "name": "#%%\n"
    }
   },
   "outputs": [
    {
     "name": "stdout",
     "output_type": "stream",
     "text": [
      "The autoreload extension is already loaded. To reload it, use:\n",
      "  %reload_ext autoreload\n"
     ]
    }
   ],
   "source": [
    "%load_ext autoreload\n",
    "%autoreload 2"
   ]
  },
  {
   "cell_type": "code",
   "execution_count": 116,
   "id": "65b75ae8",
   "metadata": {
    "pycharm": {
     "name": "#%%\n"
    }
   },
   "outputs": [],
   "source": [
    "import torch\n",
    "import numpy as np\n",
    "import scipy as sp\n",
    "import math\n",
    "import copy\n",
    "from matplotlib import pyplot as plt\n",
    "from dataclasses import dataclass\n",
    "from tqdm import tqdm\n",
    "\n",
    "from test_sampler import TestProblem, TestProblem2"
   ]
  },
  {
   "cell_type": "code",
   "execution_count": 117,
   "id": "e93975d8",
   "metadata": {},
   "outputs": [],
   "source": [
    "def nesterov(x_0, grad, L, mu, K):\n",
    "    x_cur = x_0\n",
    "    y_cur = x_0\n",
    "    x_list = [x_0]\n",
    "    y_list = [x_0]\n",
    "    for i in range(K):\n",
    "        x_upd = y_cur - (1 / L) * (grad(y_cur, L))\n",
    "        y_upd = x_upd + ((np.sqrt(L) - np.sqrt(mu)) / (np.sqrt(L) + np.sqrt(mu))) * (x_upd - x_cur)\n",
    "\n",
    "        x_list.append(x_upd)\n",
    "        y_list.append(y_upd)\n",
    "\n",
    "        x_cur = x_upd\n",
    "        y_cur = y_upd\n",
    "\n",
    "    return x_list, y_list\n",
    "\n"
   ]
  },
  {
   "cell_type": "markdown",
   "source": [
    "## Test problem 2"
   ],
   "metadata": {
    "collapsed": false,
    "pycharm": {
     "name": "#%% md\n"
    }
   }
  },
  {
   "cell_type": "code",
   "execution_count": 118,
   "id": "9711c011",
   "metadata": {
    "pycharm": {
     "name": "#%%\n"
    }
   },
   "outputs": [
    {
     "data": {
      "text/plain": "(-1735.1681778757593, -1735.1681778757593)"
     },
     "execution_count": 118,
     "metadata": {},
     "output_type": "execute_result"
    }
   ],
   "source": [
    "# test_problem = TestProblem(gamma=1e5)\n",
    "test_problem = TestProblem2(La=1000, Lb=10)\n",
    "\n",
    "x1_star = - np.linalg.pinv(test_problem.A) @ test_problem.a\n",
    "x2_star = - np.linalg.pinv(test_problem.B) @ test_problem.b\n",
    "# less stable\n",
    "# x_star = np.linalg.solve(test_problem.A, -test_problem.a)\n",
    "# y_star = np.linalg.solve(test_problem.B, -test_problem.b)\n",
    "\n",
    "f_star = test_problem.calc(x1_star, x2_star)[0]\n",
    "def f(x1, x2):\n",
    "    return x1.T @ test_problem.A @ x1 / 2 + test_problem.a @ x1 + x2.T @ test_problem.B @ x2 / 2 + test_problem.b @ x2 \n",
    "\n",
    "f_star, f(x1_star, x2_star)"
   ]
  },
  {
   "cell_type": "markdown",
   "source": [
    "## Test problem 1"
   ],
   "metadata": {
    "collapsed": false,
    "pycharm": {
     "name": "#%% md\n"
    }
   }
  },
  {
   "cell_type": "code",
   "execution_count": 122,
   "outputs": [],
   "source": [
    "test_problem = TestProblem(gamma=1e-6)"
   ],
   "metadata": {
    "collapsed": false,
    "pycharm": {
     "name": "#%%\n"
    }
   }
  },
  {
   "cell_type": "code",
   "execution_count": 98,
   "outputs": [],
   "source": [],
   "metadata": {
    "collapsed": false,
    "pycharm": {
     "name": "#%%\n"
    }
   }
  },
  {
   "cell_type": "markdown",
   "source": [
    "## ACRCD"
   ],
   "metadata": {
    "collapsed": false,
    "pycharm": {
     "name": "#%% md\n"
    }
   }
  },
  {
   "cell_type": "code",
   "execution_count": 182,
   "id": "ba068b13",
   "metadata": {},
   "outputs": [
    {
     "name": "stderr",
     "output_type": "stream",
     "text": [
      "100%|██████████| 20000/20000 [00:10<00:00, 1878.95it/s]\n"
     ]
    },
    {
     "data": {
      "text/plain": "<Figure size 432x288 with 1 Axes>",
      "image/png": "[encoded data removed]"
     },
     "metadata": {
      "needs_background": "light"
     },
     "output_type": "display_data"
    },
    {
     "data": {
      "text/plain": "<Figure size 432x288 with 1 Axes>",
      "image/png": "[encoded data removed]"
     },
     "metadata": {
      "needs_background": "light"
     },
     "output_type": "display_data"
    }
   ],
   "source": [
    "# ACRCD\n",
    "history = []\n",
    "grad_x_norms = []\n",
    "grad_y_norms = []\n",
    "\n",
    "# y (paper) = q(code_)\n",
    "\n",
    "def ACRCD(x_0, y_0, K):\n",
    "    x_list = [x_0]\n",
    "    y_list = [y_0]\n",
    "\n",
    "    z1_cur = x_0\n",
    "    z2_cur = y_0\n",
    "\n",
    "    q1_cur = x_0\n",
    "    q2_cur = y_0\n",
    "\n",
    "#     L1 = L2 = 200\n",
    "    L1 = 1000 # test_problem.La\n",
    "    L2 = test_problem.Lb\n",
    "    beta = 1 / 2\n",
    "\n",
    "    n_ = L1 ** beta + L2 ** beta\n",
    "\n",
    "    # q_cur_block (code) = y (paper)\n",
    "    # z_cur_block (code) = z (paper)\n",
    "    for i in tqdm(range(K)):\n",
    "\n",
    "        #####  redefine alpha, tau\n",
    "        alpha = (i + 2) / (2 * n_ ** 2)\n",
    "        tau = 2 / (i + 2)\n",
    "\n",
    "        x1_upd = tau * z1_cur + (1 - tau) * q1_cur\n",
    "        x2_upd = tau * z2_cur + (1 - tau) * q2_cur\n",
    "\n",
    "        # test_problem.x = torch.tensor(x_upd, requires_grad=True)\n",
    "        # test_problem.y = torch.tensor(y_upd, requires_grad=True)\n",
    "        result, grad_x, grad_y = test_problem.calc(x1_upd, x2_upd)\n",
    "        history.append(result.item())\n",
    "        grad_x_norms.append(np.linalg.norm(grad_x))\n",
    "        grad_y_norms.append(np.linalg.norm(grad_y))\n",
    "        #         print(result, torch.norm(grad_x), torch.norm(grad_y))\n",
    "\n",
    "        index_p = np.random.choice([0, 1], p=[L1 ** beta / n_,\n",
    "                                              L2 ** beta / n_])\n",
    "\n",
    "        if index_p == 0:\n",
    "            q1_upd = x1_upd - (1 / L1) * grad_x\n",
    "            q2_upd = q2_cur\n",
    "\n",
    "            z1_upd = z1_cur - (1 / L1) * alpha * n_ * grad_x\n",
    "            z2_upd = z2_cur\n",
    "\n",
    "\n",
    "        if index_p == 1:\n",
    "            q1_upd = q1_cur\n",
    "            q2_upd = x2_upd - (1 / L2) * grad_y\n",
    "\n",
    "            z1_upd = z1_cur\n",
    "            z2_upd = z2_cur - (1 / L2) * alpha * n_ * grad_y\n",
    "\n",
    "        x_list.append(x1_upd)\n",
    "        y_list.append(x2_upd)\n",
    "\n",
    "        z1_cur = z1_upd\n",
    "        z2_cur = z2_upd\n",
    "\n",
    "        q1_cur = q1_upd\n",
    "        q2_cur = q2_upd\n",
    "\n",
    "    return x_list, y_list\n",
    "\n",
    "# x0 = np.random.random(test_problem.na)\n",
    "# y0 = np.random.random(test_problem.nb)\n",
    "\n",
    "x0 = np.zeros(test_problem.x_dim)\n",
    "y0 = np.zeros(test_problem.y_dim)\n",
    "\n",
    "x_list_ACRCD, y_list_ACRCD = ACRCD(x0, y0, 20000)\n",
    "\n",
    "# plt.plot(torch.log(torch.tensor(history)))\n",
    "\n",
    "plt.plot(torch.tensor(history), label='func')\n",
    "plt.plot(torch.tensor(grad_x_norms), label='x grad norm')\n",
    "plt.plot(torch.tensor(grad_y_norms), label='y grad norm')\n",
    "plt.yscale(\"log\")\n",
    "plt.legend()\n",
    "plt.show()\n",
    "plt.plot(history)\n",
    "plt.show()"
   ]
  },
  {
   "cell_type": "code",
   "execution_count": 178,
   "outputs": [
    {
     "data": {
      "text/plain": "array(-0.25473547, dtype=float32)"
     },
     "execution_count": 178,
     "metadata": {},
     "output_type": "execute_result"
    }
   ],
   "source": [
    "test_problem.calc(x_list_ACRCD[-1], y_list_ACRCD[-1])[0]"
   ],
   "metadata": {
    "collapsed": false,
    "pycharm": {
     "name": "#%%\n"
    }
   }
  },
  {
   "cell_type": "code",
   "execution_count": 179,
   "outputs": [
    {
     "data": {
      "text/plain": "-0.25473546981811523"
     },
     "execution_count": 179,
     "metadata": {},
     "output_type": "execute_result"
    }
   ],
   "source": [
    "history[-1]"
   ],
   "metadata": {
    "collapsed": false,
    "pycharm": {
     "name": "#%%\n"
    }
   }
  },
  {
   "cell_type": "code",
   "execution_count": null,
   "outputs": [],
   "source": [],
   "metadata": {
    "collapsed": false,
    "pycharm": {
     "name": "#%%\n"
    }
   }
  },
  {
   "cell_type": "code",
   "execution_count": 169,
   "outputs": [],
   "source": [
    "# test_problem = TestProblem(gamma=1e-6)"
   ],
   "metadata": {
    "collapsed": false,
    "pycharm": {
     "name": "#%%\n"
    }
   }
  },
  {
   "cell_type": "code",
   "execution_count": 170,
   "outputs": [
    {
     "name": "stdout",
     "output_type": "stream",
     "text": [
      "===============================================================================\n",
      "                                     CVXPY                                     \n",
      "                                     v1.3.2                                    \n",
      "===============================================================================\n",
      "(CVXPY) Jul 09 10:45:01 AM: Your problem has 200 variables, 0 constraints, and 0 parameters.\n",
      "(CVXPY) Jul 09 10:45:02 AM: It is compliant with the following grammars: DCP, DQCP\n",
      "(CVXPY) Jul 09 10:45:02 AM: (If you need to solve this problem multiple times, but with different data, consider using parameters.)\n",
      "(CVXPY) Jul 09 10:45:02 AM: CVXPY will first compile your problem; then, it will invoke a numerical solver to obtain a solution.\n",
      "-------------------------------------------------------------------------------\n",
      "                                  Compilation                                  \n",
      "-------------------------------------------------------------------------------\n",
      "(CVXPY) Jul 09 10:45:02 AM: Compiling problem (target solver=SCS).\n",
      "(CVXPY) Jul 09 10:45:02 AM: Reduction chain: Dcp2Cone -> CvxAttr2Constr -> ConeMatrixStuffing -> SCS\n",
      "(CVXPY) Jul 09 10:45:02 AM: Applying reduction Dcp2Cone\n",
      "(CVXPY) Jul 09 10:45:02 AM: Applying reduction CvxAttr2Constr\n",
      "(CVXPY) Jul 09 10:45:02 AM: Applying reduction ConeMatrixStuffing\n",
      "(CVXPY) Jul 09 10:45:02 AM: Applying reduction SCS\n",
      "(CVXPY) Jul 09 10:45:02 AM: Finished problem compilation (took 2.400e-02 seconds).\n",
      "-------------------------------------------------------------------------------\n",
      "                                Numerical solver                               \n",
      "-------------------------------------------------------------------------------\n",
      "(CVXPY) Jul 09 10:45:02 AM: Invoking solver SCS  to obtain a solution.\n",
      "------------------------------------------------------------------\n",
      "\t       SCS v3.2.3 - Splitting Conic Solver\n",
      "\t(c) Brendan O'Donoghue, Stanford University, 2012\n",
      "------------------------------------------------------------------\n",
      "problem:  variables n: 501, constraints m: 501\n",
      "cones: \t  z: primal zero / dual free vars: 200\n",
      "\t  l: linear vars: 1\n",
      "\t  e: exp vars: 300, dual exp vars: 0\n",
      "settings: eps_abs: 1.0e-05, eps_rel: 1.0e-05, eps_infeas: 1.0e-07\n",
      "\t  alpha: 1.50, scale: 1.00e-01, adaptive_scale: 1\n",
      "\t  max_iters: 100000, normalize: 1, rho_x: 1.00e-06\n",
      "\t  acceleration_lookback: 10, acceleration_interval: 10\n",
      "lin-sys:  sparse-direct-amd-qdldl\n",
      "\t  nnz(A): 10700, nnz(P): 20100\n",
      "------------------------------------------------------------------\n",
      " iter | pri res | dua res |   gap   |   obj   |  scale  | time (s)\n",
      "------------------------------------------------------------------\n",
      "     0| 9.97e+05  6.02e+04  5.78e+04 -2.08e+04  1.00e-01  2.33e-02 \n",
      "   250| 4.93e+03  6.20e+00  2.41e+00 -6.39e-01  2.61e-04  5.44e-02 \n",
      "   500| 8.25e+03  3.04e-02  2.94e-02 -2.63e-01  2.45e-06  9.46e-02 \n",
      "   750| 9.53e+03  1.54e-02  7.42e-03 -2.74e-01  2.45e-06  1.36e-01 \n",
      "  1000| 1.64e+04  3.74e-03  1.52e-02 -2.67e-01  2.45e-06  1.81e-01 \n",
      "  1250| 2.00e+04  1.27e-03  1.85e-02 -2.67e-01  2.45e-06  2.26e-01 \n",
      "  1500| 3.41e+04  1.81e-01  1.77e-02 -2.88e-01  2.45e-06  2.73e-01 \n",
      "  1750| 1.55e+04  8.52e-05  1.85e-02 -2.66e-01  2.45e-06  3.15e-01 \n",
      "  2000| 1.04e+04  5.77e-05  1.83e-02 -2.67e-01  2.45e-06  3.55e-01 \n",
      "  2250| 1.16e+03  4.88e-03  1.94e-02 -2.65e-01  2.45e-06  3.96e-01 \n",
      "  2500| 8.67e+02  3.34e-03  2.37e-02 -2.63e-01  2.45e-06  4.33e-01 \n",
      "  2750| 7.42e+02  1.09e-03  2.02e-02 -2.66e-01  2.45e-06  4.70e-01 \n",
      "  3000| 1.57e+03  5.64e-04  1.83e-02 -2.67e-01  2.45e-06  5.05e-01 \n",
      "  3250| 3.25e+02  2.22e-02  3.44e-02 -2.60e-01  2.45e-06  5.43e-01 \n",
      "  3500| 2.71e+02  7.83e-04  2.13e-02 -2.66e-01  2.45e-06  5.76e-01 \n",
      "  3750| 2.30e+02  1.73e-04  1.77e-02 -2.67e-01  2.45e-06  6.08e-01 \n",
      "  4000| 1.43e+02  2.35e-04  1.79e-02 -2.67e-01  2.45e-06  6.40e-01 \n",
      "  4250| 8.54e+01  8.88e-05  1.80e-02 -2.67e-01  2.45e-06  6.71e-01 \n",
      "  4500| 9.15e+01  2.89e-06  1.82e-02 -2.67e-01  2.45e-06  7.02e-01 \n",
      "  4750| 2.20e+01  3.63e-03  1.57e-02 -2.67e-01  2.45e-06  7.35e-01 \n",
      "  5000| 1.89e+01  1.19e-04  1.83e-02 -2.67e-01  2.45e-06  7.66e-01 \n",
      "  5250| 1.42e+01  2.70e-05  1.82e-02 -2.67e-01  2.45e-06  7.94e-01 \n",
      "  5500| 8.21e+00  4.46e-06  1.83e-02 -2.67e-01  2.45e-06  8.22e-01 \n",
      "  5750| 8.10e+00  5.35e-06  1.82e-02 -2.67e-01  2.45e-06  8.50e-01 \n",
      "  6000| 7.64e+00  7.73e-05  1.77e-02 -2.67e-01  2.45e-06  8.80e-01 \n",
      "  6250| 1.96e+00  7.18e-05  1.82e-02 -2.67e-01  2.45e-06  9.11e-01 \n",
      "  6500| 1.93e+00  3.36e-05  1.83e-02 -2.67e-01  2.45e-06  9.47e-01 \n",
      "  6750| 2.07e+00  7.11e-06  1.82e-02 -2.67e-01  2.45e-06  9.76e-01 \n",
      "  7000| 2.21e+00  2.58e-07  1.83e-02 -2.67e-01  2.45e-06  1.01e+00 \n",
      "  7250| 1.93e+00  8.98e-07  1.83e-02 -2.67e-01  2.45e-06  1.03e+00 \n",
      "  7500| 1.26e+00  4.86e-07  1.83e-02 -2.67e-01  2.45e-06  1.06e+00 \n",
      "  7750| 1.00e+00  1.01e-06  1.83e-02 -2.67e-01  2.45e-06  1.09e+00 \n",
      "  8000| 1.00e+00  7.29e-06  1.82e-02 -2.67e-01  2.45e-06  1.12e+00 \n",
      "  8250| 1.00e+00  3.55e-06  1.83e-02 -2.67e-01  2.45e-06  1.15e+00 \n",
      "  8500| 1.00e+00  1.43e-06  1.83e-02 -2.67e-01  2.45e-06  1.18e+00 \n",
      "  8750| 1.00e+00  1.43e-07  1.83e-02 -2.67e-01  2.45e-06  1.21e+00 \n",
      "  9000| 1.00e+00  2.91e-05  1.82e-02 -2.67e-01  2.45e-06  1.24e+00 \n",
      "  9250| 1.00e+00  4.00e-07  1.83e-02 -2.67e-01  2.45e-06  1.27e+00 \n",
      "  9500| 1.00e+00  2.39e-07  1.83e-02 -2.67e-01  2.45e-06  1.30e+00 \n",
      "  9750| 1.00e+00  4.00e-07  1.83e-02 -2.67e-01  2.45e-06  1.32e+00 \n",
      " 10000| 1.00e+00  2.85e-08  1.83e-02 -2.67e-01  2.45e-06  1.35e+00 \n",
      " 10250| 1.00e+00  1.56e-06  1.83e-02 -2.67e-01  2.45e-06  1.38e+00 \n",
      " 10500| 1.00e+00  7.18e-08  1.83e-02 -2.67e-01  2.45e-06  1.41e+00 \n",
      " 10750| 1.00e+00  2.11e-07  1.83e-02 -2.67e-01  2.45e-06  1.43e+00 \n",
      " 11000| 1.00e+00  4.44e-06  1.82e-02 -2.67e-01  2.45e-06  1.46e+00 \n",
      " 11250| 1.00e+00  2.85e-06  1.83e-02 -2.67e-01  2.45e-06  1.49e+00 \n",
      " 11500| 2.96e+01  2.69e-05  1.83e-02 -2.67e-01  2.45e-06  1.52e+00 \n",
      " 11750| 1.00e+00  7.24e-06  1.83e-02 -2.67e-01  2.45e-06  1.55e+00 \n",
      " 12000| 1.39e+00  2.24e-05  1.82e-02 -2.67e-01  2.45e-06  1.58e+00 \n",
      " 12250| 1.27e+00  1.69e-05  1.83e-02 -2.67e-01  2.45e-06  1.61e+00 \n",
      " 12500| 1.00e+00  5.64e-06  1.83e-02 -2.67e-01  2.45e-06  1.64e+00 \n",
      " 12750| 3.91e+00  8.53e-06  1.83e-02 -2.67e-01  2.45e-06  1.67e+00 \n",
      " 13000| 4.16e+00  1.03e-05  1.82e-02 -2.67e-01  2.45e-06  1.70e+00 \n",
      " 13250| 4.32e+00  8.57e-06  1.82e-02 -2.67e-01  2.45e-06  1.73e+00 \n",
      " 13500| 3.70e+00  2.68e-06  1.83e-02 -2.67e-01  2.45e-06  1.76e+00 \n",
      " 13750| 7.54e+00  1.73e-05  1.83e-02 -2.67e-01  2.45e-06  1.79e+00 \n",
      " 14000| 8.30e+00  3.15e-05  1.82e-02 -2.67e-01  2.45e-06  1.82e+00 \n",
      " 14250| 8.55e+00  7.25e-06  1.82e-02 -2.67e-01  2.45e-06  1.84e+00 \n",
      " 14500| 7.54e+00  3.49e-06  1.83e-02 -2.67e-01  2.45e-06  1.87e+00 \n",
      " 14750| 1.21e+01  1.33e-05  1.82e-02 -2.67e-01  2.45e-06  1.90e+00 \n",
      " 15000| 1.29e+01  9.99e-05  1.82e-02 -2.67e-01  2.45e-06  1.93e+00 \n",
      " 15250| 1.34e+01  1.33e-04  1.82e-02 -2.67e-01  2.45e-06  1.97e+00 \n",
      " 15500| 1.22e+01  6.01e-05  1.83e-02 -2.67e-01  2.45e-06  1.99e+00 \n",
      " 15750| 8.57e+00  1.65e-05  1.83e-02 -2.67e-01  2.45e-06  2.02e+00 \n",
      " 16000| 2.90e+01  5.05e-05  1.83e-02 -2.67e-01  2.45e-06  2.05e+00 \n",
      " 16250| 3.13e+01  1.23e-04  1.82e-02 -2.67e-01  2.45e-06  2.09e+00 \n",
      " 16500| 3.23e+01  1.50e-04  1.82e-02 -2.67e-01  2.45e-06  2.12e+00 \n",
      " 16750| 2.64e+01  4.77e-05  1.83e-02 -2.67e-01  2.45e-06  2.15e+00 \n",
      " 17000| 1.53e+01  8.56e-06  1.82e-02 -2.67e-01  2.45e-06  2.18e+00 \n",
      " 17250| 8.67e+01  3.32e-04  1.80e-02 -2.67e-01  2.45e-06  2.21e+00 \n",
      " 17500| 7.46e+01  3.73e-05  1.84e-02 -2.67e-01  2.45e-06  2.24e+00 \n",
      " 17750| 1.17e+02  1.08e-03  1.81e-02 -2.66e-01  2.45e-06  2.27e+00 \n",
      " 18000| 1.22e+02  1.66e-03  1.61e-02 -2.68e-01  2.45e-06  2.30e+00 \n",
      " 18250| 1.48e+02  8.96e-04  1.82e-02 -2.66e-01  2.45e-06  2.33e+00 \n",
      " 18500| 1.30e+02  3.24e-04  1.82e-02 -2.67e-01  2.45e-06  2.36e+00 \n",
      " 18750| 8.68e+01  8.02e-05  1.81e-02 -2.67e-01  2.45e-06  2.39e+00 \n",
      " 19000| 2.30e+02  3.39e-04  1.78e-02 -2.67e-01  2.45e-06  2.41e+00 \n",
      " 19250| 3.48e+02  4.22e-04  1.72e-02 -2.67e-01  2.45e-06  2.45e+00 \n",
      " 19500| 3.64e+02  1.66e-03  1.80e-02 -2.67e-01  2.45e-06  2.48e+00 \n",
      " 19750| 3.62e+02  1.02e-03  1.99e-02 -2.66e-01  2.45e-06  2.50e+00 \n",
      " 20000| 2.88e+02  1.80e-04  1.77e-02 -2.67e-01  2.45e-06  2.53e+00 \n",
      " 20250| 4.45e+02  2.12e-03  1.79e-02 -2.66e-01  2.45e-06  2.56e+00 \n",
      " 20500| 4.78e+02  1.68e-03  1.64e-02 -2.67e-01  2.45e-06  2.59e+00 \n",
      " 20750| 6.86e+02  2.90e-03  1.03e-02 -2.71e-01  2.45e-06  2.62e+00 \n",
      " 21000| 6.90e+02  6.96e-05  1.82e-02 -2.67e-01  2.45e-06  2.65e+00 \n",
      " 21250| 7.64e+02  2.16e-03  1.87e-02 -2.66e-01  2.45e-06  2.68e+00 \n",
      " 21500| 8.55e+02  1.50e-03  1.72e-02 -2.67e-01  2.45e-06  2.71e+00 \n",
      " 21750| 9.09e+02  2.62e-03  1.68e-02 -2.67e-01  2.45e-06  2.74e+00 \n",
      " 22000| 9.05e+02  3.02e-04  1.65e-02 -2.67e-01  2.45e-06  2.78e+00 \n",
      " 22250| 9.59e+02  2.41e-03  1.66e-02 -2.68e-01  2.45e-06  2.80e+00 \n",
      " 22500| 1.15e+03  1.54e-03  2.76e-02 -2.62e-01  2.45e-06  2.83e+00 \n",
      " 22750| 1.01e+03  4.75e-03  2.09e-02 -2.66e-01  2.45e-06  2.86e+00 \n",
      " 23000| 4.52e+03  2.88e-02  5.92e-03 -2.76e-01  2.45e-06  2.89e+00 \n",
      " 23250| 1.48e+03  6.84e-04  1.92e-02 -2.66e-01  2.45e-06  2.92e+00 \n",
      " 23500| 9.88e+02  6.56e-04  1.87e-02 -2.66e-01  2.45e-06  2.94e+00 \n",
      " 23750| 2.76e+03  2.48e-03  1.87e-02 -2.66e-01  2.45e-06  2.98e+00 \n",
      " 24000| 3.27e+03  5.86e-04  9.38e-03 -2.71e-01  2.45e-06  3.01e+00 \n",
      " 24250| 3.71e+03  1.29e-02  3.47e-02 -2.59e-01  2.45e-06  3.04e+00 \n",
      " 24500| 3.44e+03  1.19e-03  2.04e-02 -2.66e-01  2.45e-06  3.07e+00 \n",
      " 24750| 4.39e+03  1.49e-03  1.92e-02 -2.65e-01  2.45e-06  3.10e+00 \n",
      " 25000| 4.96e+03  7.02e-03  1.14e-02 -2.67e-01  2.45e-06  3.13e+00 \n",
      " 25250| 4.63e+03  5.81e-04  1.77e-02 -2.67e-01  2.45e-06  3.16e+00 \n",
      " 25500| 4.74e+04  1.09e-01  8.45e-02 -3.31e-01  2.45e-06  3.19e+00 \n",
      " 25750| 6.15e+03  1.26e-03  1.89e-02 -2.66e-01  2.45e-06  3.21e+00 \n",
      " 26000| 8.62e+03  5.09e-03  7.34e-03 -2.72e-01  2.45e-06  3.24e+00 \n",
      " 26250| 1.12e+04  1.22e-02  2.56e-02 -2.67e-01  2.45e-06  3.27e+00 \n",
      " 26500| 1.04e+04  7.90e-03  2.05e-02 -2.65e-01  2.45e-06  3.30e+00 \n",
      " 26750| 1.51e+04  1.42e-02  6.24e-03 -2.72e-01  2.45e-06  3.33e+00 \n",
      " 27000| 1.37e+04  2.25e-03  2.69e-02 -2.60e-01  2.45e-06  3.36e+00 \n",
      " 27250| 2.66e+04  6.86e-02  2.16e-02 -2.68e-01  2.45e-06  3.39e+00 \n",
      " 27500| 2.49e+04  6.64e-02  1.11e-01 -2.18e-01  2.45e-06  3.42e+00 \n",
      " 27750| 8.51e+04  1.89e-01  4.95e-02 -2.32e-01  2.45e-06  3.44e+00 \n",
      " 28000| 9.84e+04  4.43e-02  5.14e-02 -2.38e-01  2.45e-06  3.47e+00 \n",
      " 28250| 9.23e+04  7.44e-03  4.32e-02 -2.51e-01  2.45e-06  3.50e+00 \n",
      " 28500| 7.65e+08  2.75e+02  6.90e+01 -3.27e+01  2.45e-06  3.53e+00 \n",
      " 28750| 1.40e+06  2.62e-01  1.21e-01 -9.02e-01  2.45e-06  3.56e+00 \n",
      " 29000| 1.35e+06  9.71e-02  5.48e-01 -6.46e-01  2.45e-06  3.58e+00 \n",
      " 29250| 1.11e+06  5.91e-01  4.61e+00  1.47e+00  2.45e-06  3.62e+00 \n",
      " 29500| 9.51e+05  6.46e-02  8.91e-01 -3.23e-02  2.45e-06  3.64e+00 \n",
      " 29750| 3.07e+05  1.43e+00  1.53e-01 -7.15e-01  2.45e-06  3.67e+00 \n",
      " 30000| 2.80e+05  2.12e-01  1.24e+00  5.04e-01  2.45e-06  3.70e+00 \n",
      " 30250| 2.05e+05  7.34e-02  6.15e-01  5.91e-02  2.45e-06  3.73e+00 \n",
      " 30500| 9.48e+04  8.63e-03  2.46e-01 -1.61e-01  2.45e-06  3.75e+00 \n",
      " 30750| 5.55e+05  2.14e+01  2.29e+02 -5.90e+01  2.45e-06  3.78e+00 \n",
      " 31000| 5.40e+05  5.97e+00  7.79e+01  1.91e+01  2.45e-06  3.81e+00 \n",
      " 31250| 4.36e+05  1.33e+00  3.22e+01  1.50e+01  2.45e-06  3.84e+00 \n",
      " 31500| 7.70e+05  3.23e+00  6.94e+01  3.02e+01  2.45e-06  3.86e+00 \n",
      " 31750| 6.15e+05  1.39e+00  4.91e+01  2.33e+01  2.45e-06  3.89e+00 \n",
      " 32000| 3.50e+05  1.13e+00  3.85e+01  1.82e+01  2.45e-06  3.92e+00 \n",
      " 32250| 1.64e+05  6.31e-01  3.33e+01  1.64e+01  2.45e-06  3.95e+00 \n",
      " 32500| 1.36e+06  6.83e+00  5.18e+01  1.07e+01  2.45e-06  3.98e+00 \n",
      " 32750| 2.15e+06  1.98e+01  4.20e+01 -4.39e+01  2.45e-06  4.01e+00 \n",
      " 33000| 2.04e+06  4.63e+00  8.61e+01  3.98e+01  2.45e-06  4.04e+00 \n",
      " 33250| 1.60e+06  2.95e+00  6.01e+01  2.55e+01  2.45e-06  4.07e+00 \n",
      " 33500| 8.73e+05  1.34e+00  4.16e+01  1.94e+01  2.45e-06  4.10e+00 \n",
      " 33750| 4.85e+05  5.33e-01  3.70e+01  1.83e+01  2.45e-06  4.12e+00 \n",
      " 34000| 1.94e+06  8.88e+00  3.00e+00 -1.89e+01  2.45e-06  4.15e+00 \n",
      " 34250| 7.13e+08  2.83e+03  3.13e+03 -6.73e+02  2.45e-06  4.18e+00 \n",
      " 34500| 1.16e+07  6.89e+00  2.14e+02  8.94e+01  2.45e-06  4.21e+00 \n",
      " 34750| 1.29e+07  6.47e+00  2.52e+02  1.00e+02  2.45e-06  4.23e+00 \n",
      " 35000| 1.57e+07  7.11e+00  1.51e+02  6.24e+01  2.45e-06  4.26e+00 \n",
      " 35250| 1.66e+07  1.66e+01  4.58e+02  7.03e+01  2.45e-06  4.29e+00 \n",
      " 35500| 1.56e+07  7.55e+01  8.09e+03 -6.07e+01  2.45e-06  4.32e+00 \n",
      " 35750| 1.43e+07  1.71e+01  3.29e+02  2.97e+01  2.45e-06  4.34e+00 \n",
      " 36000| 1.29e+09  1.63e+04  1.22e+05 -7.37e+03  2.45e-06  4.36e+00 \n",
      " 36250| 1.29e+07  2.23e+01  8.87e+02  2.85e+02  2.45e-06  4.39e+00 \n",
      " 36500| 1.02e+11  1.14e+04  1.02e+06 -2.87e+04  2.45e-06  4.42e+00 \n",
      " 36750| 7.82e+06  1.31e+01  2.89e+02  6.77e+01  2.45e-06  4.44e+00 \n",
      " 37000| 1.31e+08  5.45e+00  1.65e+02  7.78e+01  2.45e-06  4.47e+00 \n",
      " 37250| 2.82e+08  1.41e+01  5.43e+02  2.44e+02  2.45e-06  4.50e+00 \n",
      " 37500| 4.80e+07  4.51e+00  1.85e+01  6.03e+00  2.45e-06  4.52e+00 \n",
      " 37750| 9.27e+06  2.18e+00  1.16e+02  5.55e+01  2.45e-06  4.55e+00 \n",
      " 38000| 1.15e+07  2.98e+00  8.81e+01  4.11e+01  2.45e-06  4.57e+00 \n",
      " 38250| 1.27e+07  4.73e+00  1.56e+02  6.79e+01  2.45e-06  4.60e+00 \n",
      " 38500| 3.14e+08  5.60e+00  9.47e+01  3.93e+01  2.45e-06  4.62e+00 \n",
      " 38750| 2.65e+08  6.32e+00  1.60e+01 -1.55e+01  2.45e-06  4.65e+00 \n",
      " 39000| 1.44e+07  1.03e+01  2.28e+02  4.78e+01  2.45e-06  4.68e+00 \n",
      " 39250| 6.55e+09  1.69e+01  6.98e+01 -7.47e+01  2.45e-06  4.70e+00 \n",
      " 39500| 1.96e+07  7.71e+00  2.57e+02  1.01e+02  2.45e-06  4.73e+00 \n",
      " 39750| 2.27e+07  1.52e+01  2.70e+02  8.46e+01  2.45e-06  4.76e+00 \n",
      " 40000| 2.92e+07  5.23e+01  2.52e+02 -1.95e+02  2.45e-06  4.78e+00 \n",
      " 40250| 2.09e+07  1.03e+02  1.00e+04  2.18e+02  2.45e-06  4.81e+00 \n",
      " 40500| 1.39e+07  1.52e+02  2.49e+04  1.32e+02  2.45e-06  4.84e+00 \n",
      " 40750| 7.82e+06  1.56e+02  2.33e+04 -1.77e+01  2.45e-06  4.86e+00 \n",
      " 41000| 1.79e+06  4.57e+01  2.05e+03  8.05e+01  2.45e-06  4.89e+00 \n",
      " 41250| 1.43e+06  2.79e+00  1.13e+02  5.49e+01  2.45e-06  4.92e+00 \n",
      " 41500| 2.68e+06  1.20e+00  1.23e+02  6.04e+01  2.45e-06  4.94e+00 \n",
      " 41750| 2.70e+06  8.58e-01  1.19e+02  5.87e+01  2.45e-06  4.97e+00 \n",
      " 42000| 1.23e+08  2.66e+00  6.07e+01  2.75e+01  2.45e-06  4.99e+00 \n",
      " 42250| 2.45e+06  9.22e+00  2.22e+02  7.01e+01  2.45e-06  5.02e+00 \n",
      " 42500| 2.03e+06  1.46e+00  1.10e+02  5.42e+01  2.45e-06  5.05e+00 \n",
      " 42750| 1.01e+10  3.57e+01  3.37e+02 -4.14e+02  2.45e-06  5.07e+00 \n",
      " 43000| 3.53e+06  1.81e+00  1.21e+02  5.97e+01  2.45e-06  5.10e+00 \n",
      " 43250| 3.58e+06  1.31e+00  7.62e+01  3.74e+01  2.45e-06  5.12e+00 \n",
      " 43500| 4.41e+06  5.77e-01  1.20e+02  5.98e+01  2.45e-06  5.15e+00 \n",
      " 43750| 4.64e+06  1.03e+00  1.18e+02  5.83e+01  2.45e-06  5.18e+00 \n",
      " 44000| 3.84e+06  3.54e-01  1.16e+02  5.78e+01  2.45e-06  5.20e+00 \n",
      " 44250| 5.58e+06  1.67e+00  1.28e+02  6.18e+01  2.45e-06  5.23e+00 \n",
      " 44500| 1.08e+08  1.05e+00  1.14e+02  5.63e+01  2.45e-06  5.25e+00 \n",
      " 44750| 2.00e+08  3.62e+00  6.12e+01  2.80e+01  2.45e-06  5.28e+00 \n",
      " 45000| 6.50e+06  9.93e-01  1.25e+02  6.18e+01  2.45e-06  5.31e+00 \n",
      " 45250| 6.83e+06  6.43e-01  1.25e+02  6.22e+01  2.45e-06  5.34e+00 \n",
      " 45500| 7.28e+06  3.43e-01  1.28e+02  6.39e+01  2.45e-06  5.36e+00 \n",
      " 45750| 9.89e+07  7.41e-01  1.30e+02  6.42e+01  2.45e-06  5.39e+00 \n",
      " 46000| 5.34e+07  6.36e-01  1.28e+02  6.32e+01  2.45e-06  5.42e+00 \n",
      " 46250| 7.51e+06  1.71e+00  1.35e+02  6.49e+01  2.45e-06  5.44e+00 \n",
      " 46500| 1.37e+08  4.98e-01  1.42e+02  7.02e+01  2.45e-06  5.47e+00 \n",
      " 46750| 8.35e+06  1.21e-01  1.29e+02  6.45e+01  2.45e-06  5.50e+00 \n",
      " 47000| 8.85e+06  1.60e+00  1.25e+02  6.09e+01  2.45e-06  5.52e+00 \n",
      " 47250| 9.17e+06  5.12e-01  1.36e+02  6.78e+01  2.45e-06  5.55e+00 \n",
      " 47500| 9.48e+06  5.86e-01  1.31e+02  6.52e+01  2.45e-06  5.58e+00 \n",
      " 47750| 1.06e+07  5.97e-01  1.33e+02  6.57e+01  2.45e-06  5.61e+00 \n",
      " 48000| 1.18e+07  4.79e-01  1.33e+02  6.60e+01  2.45e-06  5.64e+00 \n",
      " 48250| 1.25e+07  5.35e-01  1.33e+02  6.59e+01  2.45e-06  5.67e+00 \n",
      " 48500| 1.28e+07  3.73e-01  1.32e+02  6.57e+01  2.45e-06  5.70e+00 \n",
      " 48750| 1.34e+07  5.70e-01  1.42e+02  7.04e+01  2.45e-06  5.73e+00 \n",
      " 49000| 1.37e+07  7.50e-01  1.32e+02  6.54e+01  2.45e-06  5.77e+00 \n",
      " 49250| 1.43e+07  7.13e-01  1.30e+02  6.45e+01  2.45e-06  5.80e+00 \n",
      " 49500| 1.40e+07  2.61e+00  1.41e+02  6.55e+01  2.45e-06  5.83e+00 \n",
      " 49750| 1.78e+07  7.90e-01  1.33e+02  6.60e+01  2.45e-06  5.86e+00 \n",
      " 50000| 1.92e+07  6.57e-01  1.34e+02  6.63e+01  2.45e-06  5.89e+00 \n",
      " 50250| 1.97e+07  7.68e-01  1.39e+02  6.87e+01  2.45e-06  5.93e+00 \n",
      " 50500| 2.02e+07  6.54e-01  1.39e+02  6.87e+01  2.45e-06  5.96e+00 \n",
      " 50750| 2.07e+07  5.98e-01  1.39e+02  6.87e+01  2.45e-06  5.99e+00 \n",
      " 51000| 1.97e+07  5.77e-01  1.37e+02  6.82e+01  2.45e-06  6.03e+00 \n",
      " 51250| 2.27e+07  6.43e-01  1.38e+02  6.82e+01  2.45e-06  6.06e+00 \n",
      " 51500| 1.81e+07  8.44e-01  1.39e+02  6.89e+01  2.45e-06  6.09e+00 \n",
      " 51750| 2.23e+07  1.20e+00  1.43e+02  7.09e+01  2.45e-06  6.13e+00 \n",
      " 52000| 2.44e+08  7.80e-01  1.31e+02  6.45e+01  2.45e-06  6.16e+00 \n",
      " 52250| 1.89e+07  4.51e-01  1.39e+02  6.88e+01  2.45e-06  6.19e+00 \n",
      " 52500| 1.98e+07  2.65e-01  1.40e+02  6.95e+01  2.45e-06  6.22e+00 \n",
      " 52750| 1.98e+07  2.02e+00  1.23e+02  6.01e+01  2.45e-06  6.25e+00 \n",
      " 53000| 2.03e+07  9.46e-01  1.37e+02  6.73e+01  2.45e-06  6.28e+00 \n",
      " 53250| 2.10e+07  1.80e+00  1.48e+02  7.27e+01  2.45e-06  6.31e+00 \n",
      " 53500| 2.31e+07  8.29e-01  1.42e+02  7.03e+01  2.45e-06  6.34e+00 \n",
      " 53750| 1.38e+08  7.15e-01  1.35e+02  6.65e+01  2.45e-06  6.37e+00 \n",
      " 54000| 9.56e+08  1.24e+00  1.44e+02  7.12e+01  2.45e-06  6.40e+00 \n",
      " 54250| 8.50e+08  1.40e+00  1.40e+02  6.87e+01  2.45e-06  6.43e+00 \n",
      " 54500| 2.42e+07  6.59e-01  1.42e+02  7.06e+01  2.45e-06  6.45e+00 \n",
      " 54750| 4.19e+08  7.88e-01  1.46e+02  7.21e+01  2.45e-06  6.48e+00 \n",
      " 55000| 2.56e+07  5.29e-01  1.57e+02  7.78e+01  2.45e-06  6.51e+00 \n",
      " 55250| 2.66e+07  2.18e+00  1.59e+02  7.50e+01  2.45e-06  6.54e+00 \n",
      " 55500| 5.48e+07  8.29e-01  1.39e+02  6.84e+01  2.45e-06  6.57e+00 \n",
      " 55750| 2.85e+07  1.65e+00  1.03e+02  5.00e+01  2.45e-06  6.59e+00 \n",
      " 56000| 3.01e+07  3.98e-01  1.47e+02  7.29e+01  2.45e-06  6.62e+00 \n",
      " 56250| 6.20e+07  6.47e-01  1.45e+02  7.15e+01  2.45e-06  6.65e+00 \n",
      " 56500| 3.29e+07  7.21e-01  1.45e+02  7.14e+01  2.45e-06  6.68e+00 \n",
      " 56750| 3.31e+07  6.49e-01  1.48e+02  7.32e+01  2.45e-06  6.70e+00 \n",
      " 57000| 1.10e+08  6.91e-01  1.47e+02  7.22e+01  2.45e-06  6.73e+00 \n",
      " 57250| 6.52e+07  6.79e-01  1.58e+02  7.75e+01  2.45e-06  6.76e+00 \n",
      " 57500| 6.70e+07  5.52e-01  1.58e+02  7.77e+01  2.45e-06  6.79e+00 \n",
      " 57750| 6.73e+07  7.46e-01  1.56e+02  7.68e+01  2.45e-06  6.82e+00 \n",
      " 58000| 6.93e+07  1.40e+00  1.51e+02  7.40e+01  2.45e-06  6.85e+00 \n",
      " 58250| 5.85e+07  1.71e+01  3.16e+02  6.11e+01  2.45e-06  6.88e+00 \n",
      " 58500| 6.52e+07  6.62e-01  1.57e+02  7.73e+01  2.45e-06  6.91e+00 \n",
      " 58750| 6.48e+07  1.47e+00  1.50e+02  7.34e+01  2.45e-06  6.94e+00 \n",
      " 59000| 6.57e+07  4.29e-01  1.53e+02  7.60e+01  2.45e-06  6.97e+00 \n",
      " 59250| 6.40e+07  5.82e-01  1.51e+02  7.48e+01  2.45e-06  6.99e+00 \n",
      " 59500| 6.62e+07  7.73e+00  6.98e+01  2.72e+01  2.45e-06  7.02e+00 \n",
      " 59750| 9.65e+07  1.63e+00  1.67e+02  8.13e+01  2.45e-06  7.06e+00 \n",
      " 60000| 1.32e+08  7.27e-01  1.70e+02  8.25e+01  2.45e-06  7.09e+00 \n",
      " 60250| 1.05e+08  6.86e-01  1.70e+02  8.29e+01  2.45e-06  7.12e+00 \n",
      " 60500| 8.63e+07  1.20e+00  1.63e+02  7.94e+01  2.45e-06  7.15e+00 \n",
      " 60750| 8.51e+07  2.51e-01  1.67e+02  8.24e+01  2.45e-06  7.18e+00 \n",
      " 61000| 1.06e+08  6.84e-01  1.68e+02  8.20e+01  2.45e-06  7.21e+00 \n",
      " 61250| 1.11e+08  5.38e+00  1.38e+02  6.22e+01  2.45e-06  7.24e+00 \n",
      " 61500| 1.37e+09  5.96e-01  2.09e+02  1.02e+02  2.45e-06  7.27e+00 \n",
      " 61750| 1.27e+08  1.42e+00  1.74e+02  8.26e+01  2.45e-06  7.30e+00 \n",
      " 62000| 1.08e+09  1.66e+00  1.48e+02  6.97e+01  2.45e-06  7.33e+00 \n",
      " 62250| 2.26e+08  1.79e+00  2.14e+02  9.42e+01  2.45e-06  7.35e+00 \n",
      " 62500| 2.34e+08  9.50e+00  3.48e+02  1.12e+02  2.45e-06  7.38e+00 \n",
      " 62750| 2.39e+08  2.80e+00  1.57e+02  6.30e+01  2.45e-06  7.41e+00 \n",
      " 63000| 2.37e+08  1.06e+00  2.08e+02  9.38e+01  2.45e-06  7.44e+00 \n",
      " 63250| 2.49e+08  1.64e+00  2.15e+02  9.46e+01  2.45e-06  7.47e+00 \n",
      " 63500| 2.55e+08  2.78e+00  2.19e+02  9.52e+01  2.45e-06  7.49e+00 \n",
      " 63750| 2.89e+08  2.06e+01  7.64e+02  8.48e+01  2.45e-06  7.52e+00 \n",
      " 64000| 2.71e+08  3.31e+00  2.10e+02  9.06e+01  2.45e-06  7.55e+00 \n",
      " 64250| 3.21e+08  5.30e+00  2.12e+02  8.97e+01  2.45e-06  7.57e+00 \n",
      " 64500| 3.65e+08  1.48e+00  2.38e+02  9.72e+01  2.45e-06  7.60e+00 \n",
      " 64750| 3.79e+08  6.04e+00  2.53e+02  9.58e+01  2.45e-06  7.63e+00 \n",
      " 65000| 3.82e+08  1.65e+01  5.55e+02  6.05e+01  2.45e-06  7.65e+00 \n",
      " 65250| 3.96e+08  7.27e+00  2.88e+02  1.06e+02  2.45e-06  7.68e+00 \n",
      " 65500| 4.32e+08  1.00e+01  2.03e+02  6.11e+01  2.45e-06  7.70e+00 \n",
      " 65750| 4.22e+08  9.52e+00  2.02e+02  5.78e+01  2.45e-06  7.73e+00 \n",
      " 66000| 4.44e+08  5.40e+00  4.51e+02  1.93e+02  2.45e-06  7.76e+00 \n",
      " 66250| 4.68e+08  4.69e+00  2.75e+02  1.01e+02  2.45e-06  7.79e+00 \n",
      " 66500| 4.68e+08  1.06e+01  5.03e+02  1.54e+02  2.45e-06  7.82e+00 \n",
      " 66750| 4.40e+08  8.14e+00  2.53e+02  7.19e+01  2.45e-06  7.84e+00 \n",
      " 67000| 4.18e+08  8.59e+00  8.68e+00 -3.37e+01  2.45e-06  7.87e+00 \n",
      " 67250| 4.28e+08  3.97e+00  1.97e+02  8.24e+01  2.45e-06  7.89e+00 \n",
      " 67500| 4.57e+08  2.26e+01  6.34e+02  1.15e+02  2.45e-06  7.92e+00 \n",
      " 67750| 5.11e+08  2.17e+01  8.48e+02  1.22e+02  2.45e-06  7.94e+00 \n",
      " 68000| 5.20e+08  1.24e+01  3.71e+02  8.53e+01  2.45e-06  7.97e+00 \n",
      " 68250| 4.86e+08  1.75e+00  2.09e+02  9.18e+01  2.45e-06  8.00e+00 \n",
      " 68500| 5.71e+08  1.08e+01  3.28e+02  1.01e+02  2.45e-06  8.02e+00 \n",
      " 68750| 6.11e+08  5.42e+01  4.14e+03  3.74e+01  2.45e-06  8.05e+00 \n",
      " 69000| 1.04e+09  1.57e+01  5.07e+02  1.35e+02  2.45e-06  8.08e+00 \n",
      " 69250| 1.19e+09  1.36e+01  4.03e+02  1.04e+02  2.45e-06  8.10e+00 \n",
      " 69500| 1.25e+09  6.97e+00  4.40e+02  1.20e+02  2.45e-06  8.13e+00 \n",
      " 69750| 3.45e+09  4.06e+00  3.87e+02  1.06e+02  2.45e-06  8.16e+00 \n",
      " 70000| 1.45e+09  1.63e+01  8.29e+02  1.75e+02  2.45e-06  8.18e+00 \n",
      " 70250| 1.36e+09  2.62e+01  1.37e+03  1.91e+02  2.45e-06  8.21e+00 \n",
      " 70500| 1.62e+09  1.65e+01  7.03e+02  1.41e+02  2.45e-06  8.24e+00 \n",
      " 70750| 1.92e+09  2.42e+01  9.74e+02  1.29e+02  2.45e-06  8.26e+00 \n",
      " 71000| 2.10e+09  2.24e+01  9.56e+02  1.48e+02  2.45e-06  8.29e+00 \n",
      " 71250| 1.92e+09  6.78e+00  5.09e+02  1.64e+02  2.45e-06  8.32e+00 \n",
      " 71500| 5.06e+09  1.64e+00  6.96e+02  1.90e+02  2.45e-06  8.35e+00 \n",
      " 71750| 1.08e+09  3.52e+03  8.68e+03  3.59e+02  2.45e-06  8.37e+00 \n",
      " 72000| 2.52e+09  3.51e+00  5.95e+02  2.01e+02  2.45e-06  8.39e+00 \n",
      " 72250| 2.76e+09  7.86e+01  2.33e+03  1.95e+02  2.45e-06  8.42e+00 \n",
      " 72500| 2.60e+09  2.53e+01  1.19e+03  1.59e+02  2.45e-06  8.45e+00 \n",
      " 72750| 2.94e+09  7.84e+00  6.14e+02  1.76e+02  2.45e-06  8.47e+00 \n",
      " 73000| 3.16e+09  3.57e+01  2.28e+03  1.98e+02  2.45e-06  8.50e+00 \n",
      " 73250| 3.38e+09  7.97e+00  6.21e+02  1.73e+02  2.45e-06  8.52e+00 \n",
      " 73500| 1.63e+09  5.28e+01  2.59e+03 -1.72e+02  2.45e-06  8.55e+00 \n",
      " 73750| 4.65e+09  1.03e+01  1.10e+03  3.29e+02  2.45e-06  8.57e+00 \n",
      " 74000| 5.85e+09  2.85e+01  1.90e+03  3.49e+02  2.45e-06  8.60e+00 \n",
      " 74250| 5.75e+09  2.43e+01  1.86e+03  1.97e+02  2.45e-06  8.62e+00 \n",
      " 74500| 6.44e+09  1.80e+01  1.84e+03  3.73e+02  2.45e-06  8.65e+00 \n",
      " 74750| 8.42e+09  2.57e+01  5.15e+03  4.76e+02  2.45e-06  8.67e+00 \n",
      " 75000| 6.53e+09  3.95e+01  5.09e+03  5.70e+02  2.45e-06  8.70e+00 \n",
      " 75250| 1.05e+10  2.70e+01  7.23e+03  5.22e+02  2.45e-06  8.73e+00 \n",
      " 75500| 1.16e+10  3.16e+01  8.41e+03  5.80e+02  2.45e-06  8.76e+00 \n",
      " 75750| 8.66e+09  4.35e+01  4.62e+03  4.40e+02  2.45e-06  8.78e+00 \n",
      " 76000| 7.61e+09  1.43e+02  2.24e+04  5.59e+02  2.45e-06  8.81e+00 \n",
      " 76250| 6.14e+09  2.19e+01  2.31e+03  3.05e+02  2.45e-06  8.84e+00 \n",
      " 76500| 7.37e+09  8.26e+00  2.31e+03  2.64e+02  2.45e-06  8.86e+00 \n",
      " 76750| 1.16e+10  5.57e+01  6.89e+03  5.24e+02  2.45e-06  8.89e+00 \n",
      " 77000| 7.66e+09  6.67e+01  8.47e+03  5.04e+02  2.45e-06  8.91e+00 \n",
      " 77250| 2.18e+10  6.91e+01  1.77e+04  5.82e+02  2.45e-06  8.94e+00 \n",
      " 77500| 1.21e+10  1.14e+01  3.77e+03  3.91e+02  2.45e-06  8.97e+00 \n",
      " 77750| 6.48e+09  8.78e+01  1.09e+04  5.03e+02  2.45e-06  8.99e+00 \n",
      " 78000| 6.04e+09  1.16e+01  1.16e+03  8.67e+01  2.45e-06  9.02e+00 \n",
      " 78250| 7.44e+09  1.86e+01  1.99e+03  1.88e+02  2.45e-06  9.05e+00 \n",
      " 78500| 6.01e+09  4.31e+00  1.06e+03  1.75e+02  2.45e-06  9.07e+00 \n",
      " 78750| 8.73e+09  1.23e+01  1.65e+03  1.59e+02  2.45e-06  9.10e+00 \n",
      " 79000| 3.85e+09  5.77e+01  3.69e+03 -7.62e+01  2.45e-06  9.12e+00 \n",
      " 79250| 4.39e+09  8.22e+00  4.02e+02  1.44e+02  2.45e-06  9.15e+00 \n",
      " 79500| 4.65e+09  7.78e+00  4.86e+02  1.62e+02  2.45e-06  9.17e+00 \n",
      " 79750| 4.93e+09  2.22e+00  3.65e+02  1.47e+02  2.45e-06  9.20e+00 \n",
      " 80000| 5.73e+09  3.68e+00  4.36e+02  1.55e+02  2.45e-06  9.23e+00 \n",
      " 80250| 5.89e+09  1.16e+01  4.98e+02  1.63e+02  2.45e-06  9.25e+00 \n",
      " 80500| 6.94e+09  1.43e+01  5.44e+02  1.40e+02  2.45e-06  9.28e+00 \n",
      " 80750| 6.18e+09  3.66e+00  3.97e+02  1.63e+02  2.45e-06  9.30e+00 \n",
      " 81000| 8.98e+09  1.04e+01  7.32e+02  1.68e+02  2.45e-06  9.33e+00 \n",
      " 81250| 8.87e+09  2.68e+01  1.09e+03  1.53e+02  2.45e-06  9.36e+00 \n",
      " 81500| 1.04e+10  3.14e+01  1.52e+03  2.08e+02  2.45e-06  9.38e+00 \n",
      " 81750| 1.11e+10  7.20e+00  6.75e+02  1.72e+02  2.45e-06  9.41e+00 \n",
      " 82000| 1.12e+10  1.07e+01  7.10e+02  1.56e+02  2.45e-06  9.44e+00 \n",
      " 82250| 2.15e+11  4.72e+00  6.56e+02  1.46e+02  2.45e-06  9.47e+00 \n",
      " 82500| 1.23e+10  8.44e+00  6.24e+02  1.51e+02  2.45e-06  9.49e+00 \n",
      " 82750| 1.56e+10  2.00e+01  1.21e+03  1.57e+02  2.45e-06  9.52e+00 \n",
      " 83000| 2.48e+10  3.06e+01  1.82e+03  2.65e+02  2.45e-06  9.55e+00 \n",
      " 83250| 2.59e+10  1.64e+01  1.86e+03  2.93e+02  2.45e-06  9.57e+00 \n",
      " 83500| 2.70e+10  2.64e+01  1.96e+03  2.68e+02  2.45e-06  9.60e+00 \n",
      " 83750| 2.94e+10  5.61e+00  1.71e+03  2.66e+02  2.45e-06  9.62e+00 \n",
      " 84000| 3.21e+10  6.02e+00  1.68e+03  2.61e+02  2.45e-06  9.65e+00 \n",
      " 84250| 2.62e+10  7.86e+00  7.61e+02  2.53e+02  2.45e-06  9.68e+00 \n",
      " 84500| 2.48e+10  1.28e+01  5.79e+02  2.08e+02  2.45e-06  9.70e+00 \n",
      " 84750| 2.61e+10  3.47e+01  1.64e+03  2.51e+02  2.45e-06  9.73e+00 \n",
      " 85000| 2.36e+10  1.36e+01  5.73e+02  1.80e+02  2.45e-06  9.76e+00 \n",
      " 85250| 2.17e+10  1.80e+01  7.74e+02  1.99e+02  2.45e-06  9.79e+00 \n",
      " 85500| 2.18e+10  1.77e+01  8.56e+02  2.04e+02  2.45e-06  9.82e+00 \n",
      " 85750| 1.80e+10  1.35e+01  3.94e+02  1.64e+02  2.45e-06  9.84e+00 \n",
      " 86000| 2.22e+10  1.75e+01  7.35e+02  1.51e+02  2.45e-06  9.87e+00 \n",
      " 86250| 2.51e+10  9.11e+00  4.27e+02  1.48e+02  2.45e-06  9.89e+00 \n",
      " 86500| 3.00e+10  4.82e+00  4.00e+02  1.08e+02  2.45e-06  9.92e+00 \n",
      " 86750| 2.27e+12  6.34e+00  5.71e+02  1.66e+02  2.45e-06  9.95e+00 \n",
      " 87000| 3.15e+10  1.45e+01  5.14e+02  1.62e+02  2.45e-06  9.97e+00 \n",
      " 87250| 3.34e+10  7.34e+00  5.04e+02  1.50e+02  2.45e-06  1.00e+01 \n",
      " 87500| 3.76e+10  2.45e+01  1.03e+03  1.68e+02  2.45e-06  1.00e+01 \n",
      " 87750| 3.94e+10  2.97e+01  1.64e+03  2.13e+02  2.45e-06  1.01e+01 \n",
      " 88000| 3.74e+10  1.46e+01  3.61e+02  1.16e+02  2.45e-06  1.01e+01 \n",
      " 88250| 5.77e+10  1.08e+02  8.65e+03  7.83e+01  2.45e-06  1.01e+01 \n",
      " 88500| 1.86e+12  4.09e+00  7.03e+02  1.49e+02  2.45e-06  1.01e+01 \n",
      " 88750| 6.05e+10  2.49e+01  1.36e+03  1.92e+02  2.45e-06  1.02e+01 \n",
      " 89000| 5.69e+10  8.47e+01  4.36e+03  2.28e+02  2.45e-06  1.02e+01 \n",
      " 89250| 5.45e+10  1.37e+02  1.45e+04  1.12e+02  2.45e-06  1.02e+01 \n",
      " 89500| 4.84e+10  1.11e+02  6.86e+03  1.17e+02  2.45e-06  1.02e+01 \n",
      " 89750| 5.61e+10  5.56e+01  2.03e+03  1.68e+02  2.45e-06  1.03e+01 \n",
      " 90000| 4.92e+10  2.88e+01  4.04e+02  1.44e+02  2.45e-06  1.03e+01 \n",
      " 90250| 6.76e+10  2.54e+01  5.48e+02  1.68e+02  2.45e-06  1.03e+01 \n",
      " 90500| 7.35e+10  2.58e+01  1.40e+03  2.43e+02  2.45e-06  1.03e+01 \n",
      " 90750| 7.95e+10  1.87e+01  4.99e+02  1.59e+02  2.45e-06  1.04e+01 \n",
      " 91000| 7.76e+10  3.55e+01  1.95e+03  1.60e+02  2.45e-06  1.04e+01 \n",
      " 91250| 8.04e+10  2.01e+01  5.78e+02  1.54e+02  2.45e-06  1.04e+01 \n",
      " 91500| 2.56e+11  7.04e+00  4.12e+02  8.52e+01  2.45e-06  1.05e+01 \n",
      " 91750| 6.29e+10  1.31e+01  1.86e+02  3.64e+01  2.45e-06  1.05e+01 \n",
      " 92000| 6.84e+10  5.91e+00  4.53e+01  2.20e+01  2.45e-06  1.05e+01 \n",
      " 92250| 7.03e+10  5.63e+00  4.98e+01  1.69e+01  2.45e-06  1.05e+01 \n",
      " 92500| 8.08e+10  2.97e+00  4.69e+01  2.19e+01  2.45e-06  1.06e+01 \n",
      " 92750| 3.09e+10  8.50e+01  4.20e+03  3.21e+02  2.45e-06  1.06e+01 \n",
      " 93000| 7.23e+09  1.06e+02  2.20e+04  2.96e+02  2.45e-06  1.06e+01 \n",
      " 93250| 1.47e+09  6.00e+01  2.53e+04  2.42e+02  2.45e-06  1.07e+01 \n",
      " 93500| 5.60e+08  1.26e+02  6.19e+03  3.11e+02  2.45e-06  1.07e+01 \n",
      " 93750| 4.19e+08  5.90e+01  3.74e+03  1.57e+02  2.45e-06  1.07e+01 \n",
      " 94000| 1.17e+08  1.20e+02  1.60e+04 -8.44e+01  2.45e-06  1.08e+01 \n",
      " 94250| 1.04e+08  1.47e+01  2.82e+02  5.62e+01  2.45e-06  1.08e+01 \n",
      " 94500| 1.20e+08  5.77e+00  1.30e+02  6.20e+01  2.45e-06  1.08e+01 \n",
      " 94750| 1.29e+08  4.15e+00  1.32e+02  5.90e+01  2.45e-06  1.08e+01 \n",
      " 95000| 1.37e+08  2.89e+00  1.63e+02  7.97e+01  2.45e-06  1.09e+01 \n",
      " 95250| 1.41e+08  3.41e+00  1.39e+02  6.37e+01  2.45e-06  1.09e+01 \n",
      " 95500| 1.41e+08  1.02e+01  2.54e+02  5.31e+01  2.45e-06  1.09e+01 \n",
      " 95750| 1.50e+08  8.60e+00  2.04e+02  4.98e+01  2.45e-06  1.10e+01 \n",
      " 96000| 1.60e+08  6.79e+00  1.39e+02  3.93e+01  2.45e-06  1.10e+01 \n",
      " 96250| 1.51e+08  2.72e+00  1.45e+02  6.99e+01  2.45e-06  1.10e+01 \n",
      " 96500| 1.79e+08  2.40e+00  1.29e+02  6.36e+01  2.45e-06  1.10e+01 \n",
      " 96750| 1.88e+08  2.15e+00  1.39e+02  6.62e+01  2.45e-06  1.11e+01 \n",
      " 97000| 7.91e+07  1.98e+00  1.19e+02  5.88e+01  2.45e-06  1.11e+01 \n",
      " 97250| 8.66e+07  2.16e+00  1.15e+02  5.41e+01  2.45e-06  1.11e+01 \n",
      " 97500| 9.14e+07  2.72e+00  1.23e+02  5.67e+01  2.45e-06  1.12e+01 \n",
      " 97750| 5.49e+07  6.84e-01  1.20e+02  5.99e+01  2.45e-06  1.12e+01 \n",
      " 98000| 5.58e+07  5.30e-01  1.19e+02  5.93e+01  2.45e-06  1.12e+01 \n",
      " 98250| 2.78e+08  7.33e+03  5.91e+03 -3.07e+03  2.45e-06  1.13e+01 \n",
      " 98500| 1.80e+10  7.50e+00  3.90e+02  1.89e+02  2.45e-06  1.13e+01 \n",
      " 98750| 1.05e+08  7.89e-01  1.21e+02  6.04e+01  2.45e-06  1.13e+01 \n",
      " 99000| 1.06e+08  5.11e-01  1.20e+02  5.99e+01  2.45e-06  1.14e+01 \n",
      " 99250| 1.17e+08  5.67e-01  1.21e+02  6.02e+01  2.45e-06  1.14e+01 \n",
      " 99500| 1.17e+08  6.55e-01  1.21e+02  6.03e+01  2.45e-06  1.14e+01 \n",
      " 99750| 1.28e+08  5.63e-01  1.23e+02  6.12e+01  2.45e-06  1.15e+01 \n",
      "100000| 3.19e+08  7.31e-01  1.26e+02  6.30e+01  2.45e-06  1.15e+01 \n",
      "------------------------------------------------------------------\n",
      "status:  solved (inaccurate - reached max_iters)\n",
      "timings: total: 1.15e+01s = setup: 1.74e-02s + solve: 1.15e+01s\n",
      "\t lin-sys: 8.71e+00s, cones: 9.17e-01s, accel: 1.14e+00s\n",
      "------------------------------------------------------------------\n",
      "objective = 62.953715 (inaccurate)\n",
      "------------------------------------------------------------------\n",
      "-------------------------------------------------------------------------------\n",
      "                                    Summary                                    \n",
      "-------------------------------------------------------------------------------\n",
      "(CVXPY) Jul 09 10:45:13 AM: Problem status: optimal_inaccurate\n",
      "(CVXPY) Jul 09 10:45:13 AM: Optimal value: 1.703e+01\n",
      "(CVXPY) Jul 09 10:45:13 AM: Compilation took 2.400e-02 seconds\n",
      "(CVXPY) Jul 09 10:45:13 AM: Solver (including time spent in interface) took 1.152e+01 seconds\n"
     ]
    },
    {
     "name": "stderr",
     "output_type": "stream",
     "text": [
      "C:\\Users\\iltya\\anaconda3\\lib\\site-packages\\cvxpy\\problems\\problem.py:1387: UserWarning: Solution may be inaccurate. Try another solver, adjusting the solver settings, or solve with verbose=True for more information.\n",
      "  warnings.warn(\n"
     ]
    }
   ],
   "source": [
    "res, x_star, y_star = test_problem.find_solution_by_cvxpy(solver=\"SCS\", verbose=True)"
   ],
   "metadata": {
    "collapsed": false,
    "pycharm": {
     "name": "#%%\n"
    }
   }
  },
  {
   "cell_type": "code",
   "execution_count": 171,
   "outputs": [
    {
     "data": {
      "text/plain": "17.027392841399905"
     },
     "execution_count": 171,
     "metadata": {},
     "output_type": "execute_result"
    }
   ],
   "source": [
    "res"
   ],
   "metadata": {
    "collapsed": false,
    "pycharm": {
     "name": "#%%\n"
    }
   }
  },
  {
   "cell_type": "code",
   "execution_count": 172,
   "outputs": [
    {
     "data": {
      "text/plain": "(array(17.027393, dtype=float32),\n array([  9.544968  ,   2.423012  ,   4.0857244 ,  -8.191535  ,\n          8.186586  ,  -1.5976859 ,  -3.2094724 ,   1.8337145 ,\n         -0.89672315,  -3.832441  ,  10.303616  ,  -0.88509417,\n          4.74501   ,   2.0066273 ,  -3.7851908 ,   5.3591933 ,\n          5.992865  ,  -5.0531454 ,  -4.9721184 ,  -2.988674  ,\n         -1.8501892 ,   6.259315  ,  -3.508811  ,   4.667886  ,\n         -2.9109392 ,   1.9308991 ,   3.4994657 ,  -1.0177323 ,\n         -4.0860286 ,   1.1327491 ,  -7.2815576 ,   1.6777    ,\n         -8.875431  ,   3.5702991 ,  -4.933988  ,   6.663803  ,\n          4.2958264 ,  -3.2904723 ,   5.5797887 ,  13.450756  ,\n          6.605631  ,  -1.5511262 ,  -2.2869015 ,   8.1053705 ,\n         -1.630628  ,  -2.6548562 ,  -4.0425515 ,  11.507848  ,\n          3.8995461 ,   8.806193  , -12.840898  ,   0.43188336,\n        -14.429236  ,  -5.8205495 ,   6.3982887 ,   2.43546   ,\n          5.032802  , -13.6260195 ,   6.228174  ,  -3.928016  ,\n         11.261277  ,   3.4452424 ,   8.384494  ,   5.72487   ,\n        -10.338339  ,  -5.9038825 , -13.994564  ,  -1.71336   ,\n          3.710812  ,   0.14262897,  -7.5075803 ,  -3.7984834 ,\n         11.501281  ,  -5.210686  ,  -7.4407926 ,   6.4090133 ,\n          6.8514175 ,  14.070182  ,   2.0412824 , -12.572986  ,\n          3.0789733 ,  -2.5891228 ,  -0.24399352,   1.3488052 ,\n         -5.1355414 ,   5.4348574 ,   0.42084733,  -6.193898  ,\n          7.422286  ,   1.4723077 ,  13.213898  ,   2.426087  ,\n         -0.8179002 ,  -7.274194  ,  -1.9678278 ,  -0.10969394,\n          4.839615  ,  -8.103228  ,  -1.9818765 ,   7.352829  ],\n       dtype=float32),\n array([-0.30369633, -0.6496042 , -0.22279195,  0.4135602 ,  1.9534023 ,\n        -0.6545371 ,  0.7377176 , -2.1615872 ,  1.2551062 , -2.0441184 ,\n         1.3294983 ,  0.20078164,  1.9965663 ,  4.1408157 ,  4.323349  ,\n        -2.0703225 , -1.4796767 ,  1.0481966 ,  2.1572435 ,  1.6594548 ,\n        -1.0376021 , -0.07055169, -1.5338683 , -0.22867656, -4.1050234 ,\n        -3.5560446 , -0.21383666,  1.2117202 , -0.00671811,  2.0168386 ,\n        -0.6845574 , -2.7589228 ,  0.5365522 ,  3.7261753 ,  2.1691198 ,\n        -3.9785273 , -1.992553  , -0.11061712, -0.37151986, -3.8217316 ,\n         1.8841996 , -1.1064556 , -2.0508924 ,  0.09881997,  1.2414279 ,\n         0.88579166, -0.38633054, -0.25617164,  3.3418818 , -2.233451  ,\n        -0.61185175,  1.4814148 , -0.7132876 , -2.5279388 , -3.51396   ,\n        -0.33833003, -2.190379  , -0.66006404, -0.0207524 ,  2.582814  ,\n         1.8664844 ,  2.5096154 , -0.8521049 , -2.7964275 ,  1.9885387 ,\n        -3.3415666 ,  5.095325  ,  0.03175554,  0.24275947,  2.1322074 ,\n         0.6025726 , -2.9461937 ,  3.6795049 , -0.9307612 , -0.75672066,\n         0.9431058 ,  1.1641126 , -0.75336   ,  1.7824988 ,  2.0114264 ,\n        -0.759213  , -0.4023775 , -1.2825058 ,  2.0540082 , -1.9660609 ,\n        -1.2693005 ,  2.6883206 ,  1.7703238 , -0.5310576 , -0.6956094 ,\n        -2.143859  , -2.3561406 ,  0.68215823,  0.40184158,  2.071074  ,\n        -0.08276611, -2.514913  ,  2.3877845 ,  1.1164991 , -2.0937328 ],\n       dtype=float32))"
     },
     "execution_count": 172,
     "metadata": {},
     "output_type": "execute_result"
    }
   ],
   "source": [
    "test_problem.calc(x_star, y_star)"
   ],
   "metadata": {
    "collapsed": false,
    "pycharm": {
     "name": "#%%\n"
    }
   }
  },
  {
   "cell_type": "code",
   "execution_count": null,
   "outputs": [],
   "source": [],
   "metadata": {
    "collapsed": false,
    "pycharm": {
     "name": "#%%\n"
    }
   }
  },
  {
   "cell_type": "code",
   "execution_count": 140,
   "outputs": [],
   "source": [
    "def get_matrix(m, d, lams):\n",
    "    \"\"\"Returns m x d matrix with given min(m, d) singular values\"\"\"\n",
    "    assert len(lams) == min(m, d)\n",
    "    transpose = True\n",
    "    if m > d:\n",
    "        m, d = d, m\n",
    "        transpose = False\n",
    "\n",
    "    U = np.random.rand(d, d)\n",
    "    Qd, _ = np.linalg.qr(U)\n",
    "    K = Qd[:d, :m]\n",
    "    K = K @ np.diag(np.sqrt(lams))\n",
    "\n",
    "    U = np.random.rand(m, m)\n",
    "    Qm, _ = np.linalg.qr(U)\n",
    "\n",
    "    A = K @ Qm\n",
    "    if transpose:\n",
    "        A = A.T\n",
    "\n",
    "    return A"
   ],
   "metadata": {
    "collapsed": false,
    "pycharm": {
     "name": "#%%\n"
    }
   }
  },
  {
   "cell_type": "code",
   "execution_count": 145,
   "outputs": [],
   "source": [
    "def get_matrix(x_dim, y_dim, _):\n",
    "    return np.random.random((x_dim, y_dim))"
   ],
   "metadata": {
    "collapsed": false,
    "pycharm": {
     "name": "#%%\n"
    }
   }
  },
  {
   "cell_type": "code",
   "execution_count": 157,
   "outputs": [],
   "source": [
    "a_matrix = get_matrix(300, 300, np.linspace(1e-2, 200, 300))\n",
    "a_matrix = a_matrix @ a_matrix.T"
   ],
   "metadata": {
    "collapsed": false,
    "pycharm": {
     "name": "#%%\n"
    }
   }
  },
  {
   "cell_type": "code",
   "execution_count": 158,
   "outputs": [
    {
     "data": {
      "text/plain": "True"
     },
     "execution_count": 158,
     "metadata": {},
     "output_type": "execute_result"
    }
   ],
   "source": [
    "np.all(a_matrix == a_matrix.T)"
   ],
   "metadata": {
    "collapsed": false,
    "pycharm": {
     "name": "#%%\n"
    }
   }
  },
  {
   "cell_type": "code",
   "execution_count": 156,
   "outputs": [
    {
     "data": {
      "text/plain": "array([[0., 0., 0., ..., 0., 0., 0.],\n       [0., 0., 0., ..., 0., 0., 0.],\n       [0., 0., 0., ..., 0., 0., 0.],\n       ...,\n       [0., 0., 0., ..., 0., 0., 0.],\n       [0., 0., 0., ..., 0., 0., 0.],\n       [0., 0., 0., ..., 0., 0., 0.]])"
     },
     "execution_count": 156,
     "metadata": {},
     "output_type": "execute_result"
    }
   ],
   "source": [
    "np.abs(np.array(a_matrix) - np.array(a_matrix).T)"
   ],
   "metadata": {
    "collapsed": false,
    "pycharm": {
     "name": "#%%\n"
    }
   }
  },
  {
   "cell_type": "code",
   "execution_count": null,
   "outputs": [],
   "source": [],
   "metadata": {
    "collapsed": false,
    "pycharm": {
     "name": "#%%\n"
    }
   }
  },
  {
   "cell_type": "code",
   "execution_count": 128,
   "outputs": [],
   "source": [
    "test_problem = TestProblem(gamma=1e-6)"
   ],
   "metadata": {
    "collapsed": false,
    "pycharm": {
     "name": "#%%\n"
    }
   }
  },
  {
   "cell_type": "code",
   "execution_count": null,
   "outputs": [],
   "source": [
    "np.array(test_problem.a_matrix)"
   ],
   "metadata": {
    "collapsed": false,
    "pycharm": {
     "name": "#%%\n"
    }
   }
  },
  {
   "cell_type": "code",
   "execution_count": 136,
   "outputs": [
    {
     "data": {
      "text/plain": "tensor([[True, True, True,  ..., True, True, True],\n        [True, True, True,  ..., True, True, True],\n        [True, True, True,  ..., True, True, True],\n        ...,\n        [True, True, True,  ..., True, True, True],\n        [True, True, True,  ..., True, True, True],\n        [True, True, True,  ..., True, True, True]])"
     },
     "execution_count": 136,
     "metadata": {},
     "output_type": "execute_result"
    }
   ],
   "source": [
    "torch.abs(test_problem.a_matrix - test_problem.a_matrix.T) < 1e-5"
   ],
   "metadata": {
    "collapsed": false,
    "pycharm": {
     "name": "#%%\n"
    }
   }
  },
  {
   "cell_type": "code",
   "execution_count": 130,
   "outputs": [
    {
     "data": {
      "text/plain": "tensor([[101.3107,   4.5020,   2.4332,  ...,   4.6335,  -1.7776,   2.4324],\n        [  4.5020,  97.8663,  -1.9859,  ...,   6.1226,   3.3677, -10.1859],\n        [  2.4332,  -1.9859, 101.0541,  ...,   0.6628,   5.7181,  -1.4256],\n        ...,\n        [  4.6335,   6.1226,   0.6628,  ..., 104.3214,  -3.2559,   3.1437],\n        [ -1.7776,   3.3677,   5.7181,  ...,  -3.2559,  90.9328,  -1.1036],\n        [  2.4324, -10.1859,  -1.4256,  ...,   3.1437,  -1.1036,  99.7495]])"
     },
     "execution_count": 130,
     "metadata": {},
     "output_type": "execute_result"
    }
   ],
   "source": [
    "test_problem.a_matrix"
   ],
   "metadata": {
    "collapsed": false,
    "pycharm": {
     "name": "#%%\n"
    }
   }
  },
  {
   "cell_type": "code",
   "execution_count": null,
   "outputs": [],
   "source": [
    "a_matrix_ = torch.FloatTensor(get_matrix(300, 300, np.linspace(1e-2, self.La, self.x_dim + self.y_dim))) # b @ torch.transpose(b, 0, 1)"
   ],
   "metadata": {
    "collapsed": false,
    "pycharm": {
     "name": "#%%\n"
    }
   }
  },
  {
   "cell_type": "code",
   "execution_count": null,
   "outputs": [],
   "source": [],
   "metadata": {
    "collapsed": false,
    "pycharm": {
     "name": "#%%\n"
    }
   }
  },
  {
   "cell_type": "code",
   "execution_count": null,
   "outputs": [],
   "source": [
    "res_x, *gradients_x = test_problem.calc(x_list_ACRCD[-1], y_list_ACRCD[-1])\n",
    "res_x"
   ],
   "metadata": {
    "collapsed": false,
    "pycharm": {
     "name": "#%%\n"
    }
   }
  },
  {
   "cell_type": "code",
   "execution_count": 100,
   "id": "f4b34e23",
   "metadata": {
    "pycharm": {
     "name": "#%%\n"
    }
   },
   "outputs": [
    {
     "data": {
      "text/plain": "array(-0.68670464, dtype=float32)"
     },
     "execution_count": 100,
     "metadata": {},
     "output_type": "execute_result"
    }
   ],
   "source": [
    "history = []\n",
    "grad_x1_norms = []\n",
    "grad_x2_norms = []\n",
    "\n",
    "# y (paper) = q(code_)\n",
    "count_one, count_two = 0, 0\n",
    "\n",
    "def ACRCD_star(x1_0, x2_0, K):\n",
    "    global count_one, count_two\n",
    "    ADAPTIVE_DELTA = 1e-8\n",
    "\n",
    "    x1_list = [x1_0]\n",
    "    x2_list = [x2_0]\n",
    "\n",
    "    z1 = y1 = x1_0\n",
    "    z2 = y2 = x2_0\n",
    "\n",
    "    L1 = L2 = 5000\n",
    "    beta = 1 / 2\n",
    "\n",
    "    for i in tqdm(range(K)):\n",
    "        tau = 2 / (i + 2)\n",
    "\n",
    "        x1 = tau * z1 + (1 - tau) * y1\n",
    "        x2 = tau * z2 + (1 - tau) * y2\n",
    "\n",
    "#         result, grad_x1, grad_x2 = test_problem.calc(x1, x2)\n",
    "\n",
    "        res_x, *gradients_x = test_problem.calc(x1, x2) # moved out of the inner loop\n",
    "        history.append(res_x.item())\n",
    "        grad_x1_norms.append(np.linalg.norm(gradients_x[0]).item())\n",
    "        grad_x2_norms.append(np.linalg.norm(gradients_x[1]).item())\n",
    "\n",
    "        n_ = L1 ** beta + L2 ** beta\n",
    "        index_p = np.random.choice([0, 1], p=[L1 ** beta / n_,\n",
    "                                              L2 ** beta / n_])\n",
    "        Ls = [L1, L2]\n",
    "        Ls[index_p] /= 2\n",
    "\n",
    "        # ADAPTIVE\n",
    "\n",
    "        inequal_is_true = False\n",
    "        xs = [x1, x2]\n",
    "        sampled_gradient_x = gradients_x[index_p]\n",
    "        # while not inequal_is_true:\n",
    "        for j in range(100):\n",
    "            if index_p == 0:\n",
    "                count_one += 1\n",
    "                y1 = xs[index_p] - 1 / Ls[index_p] * sampled_gradient_x\n",
    "                y2 = x2\n",
    "            else:\n",
    "                count_two += 1\n",
    "                y2 = xs[index_p] - 1 / Ls[index_p] * sampled_gradient_x\n",
    "                y1 = x1\n",
    "                \n",
    "            res_y, *_ = test_problem.calc(y1, y2)\n",
    "                \n",
    "            inequal_is_true = 1 / (2 * Ls[index_p]) * np.linalg.norm(sampled_gradient_x) ** 2 <= res_x - res_y + ADAPTIVE_DELTA\n",
    "#             y_minus_x = ([y1, y2][index_p] - xs[index_p])\n",
    "#             inequal_is_true = (res_y - res_x - gradients_x[index_p] @ y_minus_x \n",
    "#                                 <= Ls[index_p] * (y_minus_x ** 2).sum() / 2 + ADAPTIVE_DELTA)\n",
    "            if inequal_is_true: break\n",
    "            Ls[index_p] *= 2\n",
    "#             if Ls[index_p] > 4 * [test_problem.La, test_problem.Lb][index_p]:\n",
    "#                 print(i, j, index_p, Ls)\n",
    "#                 print(res_y, res_x)\n",
    "\n",
    "        L1, L2 = Ls\n",
    "        n_ = L1 ** beta + L2 ** beta\n",
    "        alpha = (i + 2) / (2 * n_ ** 2)\n",
    "\n",
    "        if index_p == 0:\n",
    "            z1 = z1 - (1 / L1) * alpha * n_ * sampled_gradient_x\n",
    "\n",
    "        if index_p == 1:\n",
    "            z2 = z2 - (1 / L2) * alpha * n_ * sampled_gradient_x\n",
    "\n",
    "        x1_list.append(x1)\n",
    "        x2_list.append(x2)\n",
    "\n",
    "    return x1_list, x2_list, [L1, L2]\n",
    "\n",
    "\n",
    "# np.random.seed(228)\n",
    "x1_list_ACRCD, x2_list_ACRCD, Ls = ACRCD_star(np.random.random(test_problem.x_dim), np.random.random(test_problem.y_dim), 20000)\n"
   ]
  },
  {
   "cell_type": "code",
   "execution_count": 101,
   "id": "eaf1755c",
   "metadata": {
    "pycharm": {
     "name": "#%%\n"
    }
   },
   "outputs": [
    {
     "name": "stderr",
     "output_type": "stream",
     "text": [
      "100%|██████████| 20000/20000 [00:29<00:00, 669.97it/s]\n"
     ]
    }
   ],
   "source": [
    "plt.plot(torch.tensor(history) - f_star, label='func')\n",
    "plt.plot(torch.tensor(grad_x1_norms), label='x1 grad norm')\n",
    "plt.plot(torch.tensor(grad_x2_norms), label='x2 grad norm')\n",
    "plt.yscale(\"log\")\n",
    "plt.legend()\n",
    "plt.show()"
   ]
  },
  {
   "cell_type": "code",
   "execution_count": 102,
   "id": "67c903b1",
   "metadata": {},
   "outputs": [
    {
     "data": {
      "text/plain": "<Figure size 432x288 with 1 Axes>",
      "image/png": "[encoded data removed]"
     },
     "metadata": {
      "needs_background": "light"
     },
     "output_type": "display_data"
    }
   ],
   "source": [
    "res_x, *gradients_x = test_problem.calc(x1_list_ACRCD[-1], x2_list_ACRCD[-1])\n",
    "res_x"
   ]
  },
  {
   "cell_type": "code",
   "execution_count": 103,
   "id": "c067d125",
   "metadata": {
    "pycharm": {
     "name": "#%%\n"
    }
   },
   "outputs": [
    {
     "data": {
      "text/plain": "array(-0.3188041, dtype=float32)"
     },
     "execution_count": 103,
     "metadata": {},
     "output_type": "execute_result"
    }
   ],
   "source": []
  },
  {
   "cell_type": "code",
   "execution_count": null,
   "outputs": [],
   "source": [
    "\n",
    "def get_matrix(m, d, lams):\n",
    "    \"\"\"Returns m x d matrix with given min(m, d) singular values\"\"\"\n",
    "    assert len(lams) == min(m, d)\n",
    "    transpose = True\n",
    "    if m > d:\n",
    "        m, d = d, m\n",
    "        transpose = False\n",
    "\n",
    "    U = np.random.rand(d, d)\n",
    "    Qd, _ = np.linalg.qr(U)\n",
    "    K = Qd[:d, :m]\n",
    "    K = K @ np.diag(np.sqrt(lams))\n",
    "\n",
    "    U = np.random.rand(m, m)\n",
    "    Qm, _ = np.linalg.qr(U)\n",
    "\n",
    "    A = K @ Qm\n",
    "    if transpose:\n",
    "        A = A.T\n",
    "\n",
    "    return A"
   ],
   "metadata": {
    "collapsed": false,
    "pycharm": {
     "name": "#%%\n"
    }
   }
  },
  {
   "cell_type": "code",
   "execution_count": 75,
   "outputs": [],
   "source": [],
   "metadata": {
    "collapsed": false,
    "pycharm": {
     "name": "#%%\n"
    }
   }
  },
  {
   "cell_type": "code",
   "execution_count": 76,
   "outputs": [],
   "source": [],
   "metadata": {
    "collapsed": false,
    "pycharm": {
     "name": "#%%\n"
    }
   }
  },
  {
   "cell_type": "code",
   "execution_count": null,
   "outputs": [],
   "source": [],
   "metadata": {
    "collapsed": false,
    "pycharm": {
     "name": "#%%\n"
    }
   }
  },
  {
   "cell_type": "markdown",
   "source": [
    "## потом удалить"
   ],
   "metadata": {
    "collapsed": false,
    "pycharm": {
     "name": "#%% md\n"
    }
   }
  },
  {
   "cell_type": "code",
   "execution_count": 112,
   "outputs": [],
   "source": [
    "import cvxpy as cp\n",
    "\n",
    "m = 100\n",
    "x_dim = 100\n",
    "y_dim = 200\n",
    "\n",
    "La = 200\n",
    "Lb = 1000\n",
    "gamma = 10\n",
    "\n",
    "b_vector = np.random.random(m)\n",
    "c_matrix = np.random.random((m, x_dim))\n",
    "\n",
    "a_matrix = get_matrix(x_dim + y_dim, x_dim + y_dim,\n",
    "                      np.linspace(1e-2, La, x_dim + y_dim))\n",
    "a_matrix = a_matrix @ a_matrix.T\n",
    "\n",
    "x = cp.Variable(x_dim)\n",
    "y = cp.Variable(y_dim)\n",
    "\n",
    "x_y = cp.hstack([x, y])\n",
    "\n",
    "\n",
    "problem = cp.Problem(cp.Minimize(cp.atoms.quad_form(x_y, a_matrix) + cp.atoms.log_sum_exp((c_matrix @ x - b_vector) / gamma)))\n"
   ],
   "metadata": {
    "collapsed": false,
    "pycharm": {
     "name": "#%%\n"
    }
   }
  },
  {
   "cell_type": "code",
   "execution_count": 113,
   "outputs": [
    {
     "data": {
      "text/plain": "4.550046001743961"
     },
     "execution_count": 113,
     "metadata": {},
     "output_type": "execute_result"
    }
   ],
   "source": [
    "problem.solve()"
   ],
   "metadata": {
    "collapsed": false,
    "pycharm": {
     "name": "#%%\n"
    }
   }
  },
  {
   "cell_type": "code",
   "execution_count": 114,
   "outputs": [
    {
     "data": {
      "text/plain": "array([-1.19322515e-02,  1.63183516e-02,  5.18467417e-03,  2.20718016e-02,\n       -2.30467800e-02, -4.32870453e-03, -1.85400883e-02, -1.64513615e-02,\n       -1.13512511e-02,  2.09566629e-02, -8.09941515e-03,  1.35678661e-02,\n        1.44629560e-02,  6.27876145e-03, -1.74538335e-02,  1.08070871e-03,\n       -4.92851951e-03,  1.19555895e-02, -1.31738369e-02,  3.85256520e-03,\n        4.02444908e-03, -2.10707908e-02, -6.06525210e-03, -1.90839093e-02,\n       -1.47898875e-02, -1.96815482e-02,  1.06356480e-02,  1.67127922e-02,\n        3.72688718e-03,  1.69131079e-02,  1.82500656e-02, -1.99237075e-03,\n       -7.99785338e-03,  1.46542946e-02, -1.16601032e-02, -1.72489043e-02,\n       -5.38490166e-03,  4.24853444e-03,  5.71009205e-03, -8.47420455e-03,\n       -1.19752669e-03,  7.19397574e-03,  9.13593435e-03,  5.36082058e-03,\n       -6.68316034e-03,  4.08946835e-03, -4.20319234e-04, -2.25407215e-02,\n        7.79723399e-03, -1.40176025e-02, -2.18142209e-02, -1.96103250e-02,\n        1.10083506e-02,  1.06374540e-02, -6.02176627e-03,  6.83659513e-03,\n       -8.85706351e-03,  1.02100015e-02, -6.54437630e-03,  1.09476450e-02,\n        9.43337146e-03, -1.90082730e-03, -1.54721067e-02,  1.72832646e-03,\n       -1.73747064e-02,  1.96927740e-02,  5.10449568e-03, -1.10209783e-02,\n        4.89953142e-03,  3.22954300e-03,  1.70740244e-02, -6.46413838e-03,\n       -1.50387115e-02,  4.19280110e-04, -4.97085573e-03,  1.62718027e-02,\n        1.26753459e-02, -1.89449852e-03, -5.16597233e-05,  1.37253329e-02,\n        9.71338121e-03,  1.31541990e-02, -1.88035112e-02,  1.85494920e-03,\n        5.66878924e-06, -4.38402998e-03,  5.01923813e-03, -8.10790157e-03,\n       -2.90736566e-02,  1.41217340e-02,  1.89295143e-02,  8.21398768e-03,\n       -6.98720194e-03, -4.58901525e-03, -1.20317046e-02,  1.44781558e-02,\n        4.49664297e-03, -1.62921501e-02, -6.86776772e-03, -1.41680169e-02])"
     },
     "execution_count": 114,
     "metadata": {},
     "output_type": "execute_result"
    }
   ],
   "source": [
    "x.value"
   ],
   "metadata": {
    "collapsed": false,
    "pycharm": {
     "name": "#%%\n"
    }
   }
  },
  {
   "cell_type": "code",
   "execution_count": null,
   "outputs": [],
   "source": [
    "    x = cp.Variable(n)\n",
    "objective = cp.Minimize(cp.sum_squares(A @ x - b))\n",
    "constraints = [0 <= x, x <= 1]\n",
    "prob = cp.Problem(objective, constraints)"
   ],
   "metadata": {
    "collapsed": false,
    "pycharm": {
     "name": "#%%\n"
    }
   }
  },
  {
   "cell_type": "code",
   "execution_count": null,
   "id": "af07ffd2",
   "metadata": {},
   "outputs": [],
   "source": []
  }
 ],
 "metadata": {
  "kernelspec": {
   "name": "python3",
   "language": "python",
   "display_name": "Python 3 (ipykernel)"
  },
  "language_info": {
   "codemirror_mode": {
    "name": "ipython",
    "version": 3
   },
   "file_extension": ".py",
   "mimetype": "text/x-python",
   "name": "python",
   "nbconvert_exporter": "python",
   "pygments_lexer": "ipython3",
   "version": "3.9.7"
  }
 },
 "nbformat": 4,
 "nbformat_minor": 5
}