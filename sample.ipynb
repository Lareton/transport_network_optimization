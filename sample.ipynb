{
 "cells": [
  {
   "cell_type": "code",
   "execution_count": 8,
   "outputs": [
    {
     "name": "stdout",
     "output_type": "stream",
     "text": [
      "The autoreload extension is already loaded. To reload it, use:\n",
      "  %reload_ext autoreload\n"
     ]
    }
   ],
   "source": [
    "%load_ext autoreload\n",
    "%autoreload 2"
   ],
   "metadata": {
    "collapsed": false,
    "pycharm": {
     "name": "#%%\n"
    }
   }
  },
  {
   "cell_type": "code",
   "execution_count": 19,
   "outputs": [],
   "source": [
    "import torch\n",
    "import numpy as np\n",
    "import scipy as sp\n",
    "import math\n",
    "import copy\n",
    "from matplotlib import pyplot as plt\n",
    "from dataclasses import dataclass\n",
    "from tqdm import tqdm\n",
    "\n",
    "from test_sampler import TestProblem, TestProblem2"
   ],
   "metadata": {
    "collapsed": false,
    "pycharm": {
     "name": "#%%\n"
    }
   }
  },
  {
   "cell_type": "code",
   "execution_count": 20,
   "id": "e93975d8",
   "metadata": {},
   "outputs": [],
   "source": [
    "def nesterov(x_0, grad, L, mu, K):\n",
    "    x_cur = x_0\n",
    "    y_cur = x_0\n",
    "    x_list = [x_0]\n",
    "    y_list = [x_0]\n",
    "    for i in range(K):\n",
    "        x_upd = y_cur - (1 / L) * (grad(y_cur, L))\n",
    "        y_upd = x_upd + ((np.sqrt(L) - np.sqrt(mu)) / (np.sqrt(L) + np.sqrt(mu))) * (x_upd - x_cur)\n",
    "\n",
    "        x_list.append(x_upd)\n",
    "        y_list.append(y_upd)\n",
    "\n",
    "        x_cur = x_upd\n",
    "        y_cur = y_upd\n",
    "\n",
    "    return x_list, y_list\n",
    "\n"
   ]
  },
  {
   "cell_type": "code",
   "execution_count": 21,
   "outputs": [],
   "source": [
    "# test_problem = TestProblem(gamma=1e5)\n",
    "test_problem = TestProblem2()"
   ],
   "metadata": {
    "collapsed": false,
    "pycharm": {
     "name": "#%%\n"
    }
   }
  },
  {
   "cell_type": "code",
   "execution_count": null,
   "outputs": [],
   "source": [],
   "metadata": {
    "collapsed": false,
    "pycharm": {
     "name": "#%%\n"
    }
   }
  },
  {
   "cell_type": "code",
   "execution_count": 42,
   "id": "ba068b13",
   "metadata": {},
   "outputs": [
    {
     "name": "stderr",
     "output_type": "stream",
     "text": [
      "100%|██████████| 5000/5000 [00:08<00:00, 600.18it/s]\n"
     ]
    },
    {
     "data": {
      "text/plain": "<Figure size 432x288 with 1 Axes>",
      "image/png": "[encoded data removed]"
     },
     "metadata": {
      "needs_background": "light"
     },
     "output_type": "display_data"
    }
   ],
   "source": [
    "# ACRCD\n",
    "history = []\n",
    "grad_x_norms = []\n",
    "grad_y_norms = []\n",
    "\n",
    "# y (paper) = q(code_)\n",
    "\n",
    "def ACRCD(x_0, y_0, K):\n",
    "    x_list = [x_0]\n",
    "    y_list = [y_0]\n",
    "\n",
    "    z1_cur = x_0\n",
    "    z2_cur = y_0\n",
    "\n",
    "    q1_cur = x_0\n",
    "    q2_cur = y_0\n",
    "\n",
    "    L1 = L2 = 5000\n",
    "    beta = 1 / 2\n",
    "\n",
    "    n_ = L1 ** beta + L2 ** beta\n",
    "\n",
    "    # q_cur_block (code) = y (paper)\n",
    "    # z_cur_block (code) = z (paper)\n",
    "    for i in tqdm(range(K)):\n",
    "\n",
    "        #####  redefine alpha, tau\n",
    "        alpha = (i + 2) / (2 * n_ ** 2)\n",
    "        tau = 2 / (i + 2)\n",
    "\n",
    "        x1_upd = tau * z1_cur + (1 - tau) * q1_cur\n",
    "        x2_upd = tau * z2_cur + (1 - tau) * q2_cur\n",
    "\n",
    "        # test_problem.x = torch.tensor(x_upd, requires_grad=True)\n",
    "        # test_problem.y = torch.tensor(y_upd, requires_grad=True)\n",
    "        result, grad_x, grad_y = test_problem.calc(x1_upd, x2_upd)\n",
    "        history.append(result.item())\n",
    "        grad_x_norms.append(np.linalg.norm(grad_x))\n",
    "        grad_y_norms.append(np.linalg.norm(grad_y))\n",
    "        #         print(result, torch.norm(grad_x), torch.norm(grad_y))\n",
    "\n",
    "        index_p = np.random.choice([0, 1], p=[L1 ** beta / n_,\n",
    "                                              L2 ** beta / n_])\n",
    "\n",
    "        if index_p == 0:\n",
    "            q1_upd = x1_upd - (1 / L1) * grad_x\n",
    "            q2_upd = q2_cur\n",
    "\n",
    "            z1_upd = z1_cur - (1 / L1) * alpha * n_ * grad_x\n",
    "            z2_upd = z2_cur\n",
    "\n",
    "\n",
    "        if index_p == 1:\n",
    "            q1_upd = q1_cur\n",
    "            q2_upd = x2_upd - (1 / L2) * grad_y\n",
    "\n",
    "            z1_upd = z1_cur\n",
    "            z2_upd = z2_cur - (1 / L2) * alpha * n_ * grad_y\n",
    "\n",
    "        x_list.append(x1_upd)\n",
    "        y_list.append(x2_upd)\n",
    "\n",
    "        z1_cur = z1_upd\n",
    "        z2_cur = z2_upd\n",
    "\n",
    "        q1_cur = q1_upd\n",
    "        q2_cur = q2_upd\n",
    "\n",
    "    return x_list, y_list\n",
    "\n",
    "x0 = np.random.random(1000)\n",
    "y0 = np.random.random(1000)\n",
    "\n",
    "x_list_ACRCD, y_list_ACRCD = ACRCD(x0, y0, 5000)\n",
    "\n",
    "# plt.plot(torch.log(torch.tensor(history)))\n",
    "\n",
    "plt.plot(torch.tensor(history), label='func')\n",
    "plt.plot(torch.tensor(grad_x_norms), label='x grad norm')\n",
    "plt.plot(torch.tensor(grad_y_norms), label='y grad norm')\n",
    "plt.yscale(\"log\")\n",
    "plt.legend()\n",
    "plt.show()"
   ]
  },
  {
   "cell_type": "code",
   "execution_count": 43,
   "outputs": [
    {
     "data": {
      "text/plain": "-349.0305285103366"
     },
     "execution_count": 43,
     "metadata": {},
     "output_type": "execute_result"
    }
   ],
   "source": [
    "res_x, *gradients_x = test_problem.calc(x_list_ACRCD[-1], y_list_ACRCD[-1])\n",
    "res_x"
   ],
   "metadata": {
    "collapsed": false,
    "pycharm": {
     "name": "#%%\n"
    }
   }
  },
  {
   "cell_type": "code",
   "execution_count": null,
   "outputs": [],
   "source": [],
   "metadata": {
    "collapsed": false,
    "pycharm": {
     "name": "#%%\n"
    }
   }
  },
  {
   "cell_type": "code",
   "execution_count": 53,
   "outputs": [
    {
     "name": "stderr",
     "output_type": "stream",
     "text": [
      "  3%|▎         | 149/5000 [00:20<11:10,  7.23it/s] \n"
     ]
    },
    {
     "ename": "KeyboardInterrupt",
     "evalue": "",
     "output_type": "error",
     "traceback": [
      "\u001B[1;31m---------------------------------------------------------------------------\u001B[0m",
      "\u001B[1;31mKeyboardInterrupt\u001B[0m                         Traceback (most recent call last)",
      "\u001B[1;32m~\\AppData\\Local\\Temp/ipykernel_17232/27971227.py\u001B[0m in \u001B[0;36m<module>\u001B[1;34m\u001B[0m\n\u001B[0;32m     95\u001B[0m \u001B[1;33m\u001B[0m\u001B[0m\n\u001B[0;32m     96\u001B[0m \u001B[1;33m\u001B[0m\u001B[0m\n\u001B[1;32m---> 97\u001B[1;33m \u001B[0mx_list_ACRCD\u001B[0m\u001B[1;33m,\u001B[0m \u001B[0my_list_ACRCD\u001B[0m\u001B[1;33m,\u001B[0m \u001B[0mLs\u001B[0m \u001B[1;33m=\u001B[0m \u001B[0mACRCD_star\u001B[0m\u001B[1;33m(\u001B[0m\u001B[0mnp\u001B[0m\u001B[1;33m.\u001B[0m\u001B[0mrandom\u001B[0m\u001B[1;33m.\u001B[0m\u001B[0mrandom\u001B[0m\u001B[1;33m(\u001B[0m\u001B[1;36m1000\u001B[0m\u001B[1;33m)\u001B[0m\u001B[1;33m,\u001B[0m \u001B[0mnp\u001B[0m\u001B[1;33m.\u001B[0m\u001B[0mrandom\u001B[0m\u001B[1;33m.\u001B[0m\u001B[0mrandom\u001B[0m\u001B[1;33m(\u001B[0m\u001B[1;36m1000\u001B[0m\u001B[1;33m)\u001B[0m\u001B[1;33m,\u001B[0m \u001B[1;36m5000\u001B[0m\u001B[1;33m)\u001B[0m\u001B[1;33m\u001B[0m\u001B[1;33m\u001B[0m\u001B[0m\n\u001B[0m\u001B[0;32m     98\u001B[0m \u001B[1;33m\u001B[0m\u001B[0m\n\u001B[0;32m     99\u001B[0m \u001B[1;31m# plt.plot(torch.log(torch.tensor(history)))\u001B[0m\u001B[1;33m\u001B[0m\u001B[1;33m\u001B[0m\u001B[0m\n",
      "\u001B[1;32m~\\AppData\\Local\\Temp/ipykernel_17232/27971227.py\u001B[0m in \u001B[0;36mACRCD_star\u001B[1;34m(x_0, y_0, K)\u001B[0m\n\u001B[0;32m     54\u001B[0m \u001B[1;33m\u001B[0m\u001B[0m\n\u001B[0;32m     55\u001B[0m             \u001B[0mres_x\u001B[0m\u001B[1;33m,\u001B[0m \u001B[1;33m*\u001B[0m\u001B[0mgradients_x\u001B[0m \u001B[1;33m=\u001B[0m \u001B[0mtest_problem\u001B[0m\u001B[1;33m.\u001B[0m\u001B[0mcalc\u001B[0m\u001B[1;33m(\u001B[0m\u001B[0mx1\u001B[0m\u001B[1;33m,\u001B[0m \u001B[0mx2\u001B[0m\u001B[1;33m)\u001B[0m\u001B[1;33m\u001B[0m\u001B[1;33m\u001B[0m\u001B[0m\n\u001B[1;32m---> 56\u001B[1;33m             \u001B[0mres_q\u001B[0m\u001B[1;33m,\u001B[0m \u001B[1;33m*\u001B[0m\u001B[0mgradients_q\u001B[0m \u001B[1;33m=\u001B[0m \u001B[0mtest_problem\u001B[0m\u001B[1;33m.\u001B[0m\u001B[0mcalc\u001B[0m\u001B[1;33m(\u001B[0m\u001B[0mq1_cur\u001B[0m\u001B[1;33m,\u001B[0m \u001B[0mq2_cur\u001B[0m\u001B[1;33m)\u001B[0m\u001B[1;33m\u001B[0m\u001B[1;33m\u001B[0m\u001B[0m\n\u001B[0m\u001B[0;32m     57\u001B[0m             \u001B[0msampled_gradient_x\u001B[0m \u001B[1;33m=\u001B[0m \u001B[0mgradients_x\u001B[0m\u001B[1;33m[\u001B[0m\u001B[0mindex_p\u001B[0m\u001B[1;33m]\u001B[0m\u001B[1;33m\u001B[0m\u001B[1;33m\u001B[0m\u001B[0m\n\u001B[0;32m     58\u001B[0m \u001B[1;33m\u001B[0m\u001B[0m\n",
      "\u001B[1;32m~\\PycharmProjects\\transport\\repo\\test_sampler.py\u001B[0m in \u001B[0;36mcalc\u001B[1;34m(self, x, y)\u001B[0m\n\u001B[0;32m     84\u001B[0m         \u001B[0mres\u001B[0m \u001B[1;33m=\u001B[0m  \u001B[1;36m0.5\u001B[0m \u001B[1;33m*\u001B[0m \u001B[0mnp\u001B[0m\u001B[1;33m.\u001B[0m\u001B[0mtranspose\u001B[0m\u001B[1;33m(\u001B[0m\u001B[0mx\u001B[0m\u001B[1;33m)\u001B[0m \u001B[1;33m@\u001B[0m \u001B[0mself\u001B[0m\u001B[1;33m.\u001B[0m\u001B[0mA\u001B[0m \u001B[1;33m@\u001B[0m \u001B[0mx\u001B[0m\u001B[1;33m\u001B[0m\u001B[1;33m\u001B[0m\u001B[0m\n\u001B[0;32m     85\u001B[0m         \u001B[0mres\u001B[0m \u001B[1;33m+=\u001B[0m \u001B[0mnp\u001B[0m\u001B[1;33m.\u001B[0m\u001B[0mtranspose\u001B[0m\u001B[1;33m(\u001B[0m\u001B[0mself\u001B[0m\u001B[1;33m.\u001B[0m\u001B[0ma\u001B[0m\u001B[1;33m)\u001B[0m \u001B[1;33m@\u001B[0m \u001B[0mx\u001B[0m\u001B[1;33m\u001B[0m\u001B[1;33m\u001B[0m\u001B[0m\n\u001B[1;32m---> 86\u001B[1;33m         \u001B[0mres\u001B[0m \u001B[1;33m+=\u001B[0m \u001B[1;36m0.5\u001B[0m \u001B[1;33m*\u001B[0m \u001B[0mnp\u001B[0m\u001B[1;33m.\u001B[0m\u001B[0mtranspose\u001B[0m\u001B[1;33m(\u001B[0m\u001B[0my\u001B[0m\u001B[1;33m)\u001B[0m \u001B[1;33m@\u001B[0m \u001B[0mself\u001B[0m\u001B[1;33m.\u001B[0m\u001B[0mB\u001B[0m \u001B[1;33m@\u001B[0m \u001B[0my\u001B[0m\u001B[1;33m\u001B[0m\u001B[1;33m\u001B[0m\u001B[0m\n\u001B[0m\u001B[0;32m     87\u001B[0m         \u001B[0mres\u001B[0m \u001B[1;33m+=\u001B[0m \u001B[0mnp\u001B[0m\u001B[1;33m.\u001B[0m\u001B[0mtranspose\u001B[0m\u001B[1;33m(\u001B[0m\u001B[0mself\u001B[0m\u001B[1;33m.\u001B[0m\u001B[0mb\u001B[0m\u001B[1;33m)\u001B[0m \u001B[1;33m@\u001B[0m \u001B[0my\u001B[0m\u001B[1;33m\u001B[0m\u001B[1;33m\u001B[0m\u001B[0m\n\u001B[0;32m     88\u001B[0m \u001B[1;33m\u001B[0m\u001B[0m\n",
      "\u001B[1;31mKeyboardInterrupt\u001B[0m: "
     ]
    }
   ],
   "source": [
    "\n",
    "history = []\n",
    "grad_x_norms = []\n",
    "grad_y_norms = []\n",
    "\n",
    "# y (paper) = q(code_)\n",
    "count_one, count_two = 0, 0\n",
    "\n",
    "def ACRCD_star(x_0, y_0, K):\n",
    "    global count_one, count_two\n",
    "    ADAPRIVE_DELTA = 1\n",
    "\n",
    "    x_list = [x_0]\n",
    "    y_list = [y_0]\n",
    "\n",
    "    z1_cur = x_0\n",
    "    z2_cur = y_0\n",
    "\n",
    "    q1_cur = x_0\n",
    "    q2_cur = y_0\n",
    "\n",
    "    L1 = L2 = 5000\n",
    "    beta = 1 / 2\n",
    "\n",
    "\n",
    "    # q_cur_block (code) = y (paper)\n",
    "    # z_cur_block (code) = z (paper)\n",
    "    for i in tqdm(range(K)):\n",
    "\n",
    "        #####  redefine alpha, tau\n",
    "        # n_ = L1 ** beta + L2 ** beta\n",
    "        # alpha = (i + 2) / (2 * n_ ** 2)\n",
    "        tau = 2 / (i + 2)\n",
    "\n",
    "        x1 = tau * z1_cur + (1 - tau) * q1_cur\n",
    "        x2 = tau * z2_cur + (1 - tau) * q2_cur\n",
    "\n",
    "        result, grad_x, grad_y = test_problem.calc(x1, x2)\n",
    "        history.append(result.item())\n",
    "        grad_x_norms.append(np.linalg.norm(grad_x).item())\n",
    "        grad_y_norms.append(np.linalg.norm(grad_y).item())\n",
    "\n",
    "        n_ = L1 ** beta + L2 ** beta\n",
    "        index_p = np.random.choice([0, 1], p=[L1 ** beta / n_,\n",
    "                                              L2 ** beta / n_])\n",
    "        Ls = [L1, L2]\n",
    "        Ls[index_p] /= 2\n",
    "\n",
    "        # ADAPTIVE\n",
    "\n",
    "        inequal_is_true = False\n",
    "        # while not inequal_is_true:\n",
    "        for i in range(100):\n",
    "            xs = [x1, x2]\n",
    "\n",
    "            res_x, *gradients_x = test_problem.calc(x1, x2)\n",
    "            res_q, *gradients_q = test_problem.calc(q1_cur, q2_cur)\n",
    "            sampled_gradient_x = gradients_x[index_p]\n",
    "\n",
    "            inequal_is_true = 1 / (2 * Ls[index_p]) * np.linalg.norm(sampled_gradient_x) ** 2 <= res_x - res_q + ADAPRIVE_DELTA\n",
    "            if inequal_is_true: break\n",
    "\n",
    "            if index_p == 0:\n",
    "                count_one += 1\n",
    "                q1_cur = xs[index_p] - 1 / Ls[index_p] * sampled_gradient_x\n",
    "            else:\n",
    "                count_two += 1\n",
    "                q2_cur = xs[index_p] - 1 / Ls[index_p] * sampled_gradient_x\n",
    "            Ls[index_p] *= 2\n",
    "\n",
    "            L1, L2 = Ls\n",
    "            n_ = L1 ** beta + L2 ** beta\n",
    "            alpha = (i + 2) / (2 * n_ ** 2)\n",
    "\n",
    "        L1, L2 = Ls\n",
    "\n",
    "        L1, L2 = Ls\n",
    "        n_ = L1 ** beta + L2 ** beta\n",
    "        alpha = (i + 2) / (2 * n_ ** 2)\n",
    "\n",
    "        if index_p == 0:\n",
    "            z1_upd = z1_cur - (1 / L1) * alpha * n_ * grad_x\n",
    "            z2_upd = z2_cur\n",
    "\n",
    "        if index_p == 1:\n",
    "            z1_upd = z1_cur\n",
    "            z2_upd = z2_cur - (1 / L2) * alpha * n_ * grad_y\n",
    "\n",
    "        x_list.append(x1)\n",
    "        y_list.append(x2)\n",
    "\n",
    "        z1_cur = z1_upd\n",
    "        z2_cur = z2_upd\n",
    "\n",
    "    return x_list, y_list, [L1, L2]\n",
    "\n",
    "\n",
    "x_list_ACRCD, y_list_ACRCD, Ls = ACRCD_star(np.random.random(1000), np.random.random(1000), 5000)\n",
    "\n",
    "# plt.plot(torch.log(torch.tensor(history)))\n",
    "\n",
    "plt.plot(torch.tensor(history), label='func')\n",
    "plt.plot(torch.tensor(grad_x_norms), label='x grad norm')\n",
    "plt.plot(torch.tensor(grad_y_norms), label='y grad norm')\n",
    "plt.yscale(\"log\")\n",
    "plt.legend()\n",
    "plt.show()"
   ],
   "metadata": {
    "collapsed": false,
    "pycharm": {
     "name": "#%%\n"
    }
   }
  },
  {
   "cell_type": "code",
   "execution_count": 54,
   "outputs": [
    {
     "data": {
      "text/plain": "-29580.729135665522"
     },
     "execution_count": 54,
     "metadata": {},
     "output_type": "execute_result"
    }
   ],
   "source": [
    "res_x, *gradients_x = test_problem.calc(x_list_ACRCD[-1], y_list_ACRCD[-1])\n",
    "res_x"
   ],
   "metadata": {
    "collapsed": false,
    "pycharm": {
     "name": "#%%\n"
    }
   }
  },
  {
   "cell_type": "code",
   "execution_count": 55,
   "outputs": [
    {
     "data": {
      "text/plain": "[78.125, 19.53125]"
     },
     "execution_count": 55,
     "metadata": {},
     "output_type": "execute_result"
    }
   ],
   "source": [
    "Ls"
   ],
   "metadata": {
    "collapsed": false,
    "pycharm": {
     "name": "#%%\n"
    }
   }
  },
  {
   "cell_type": "code",
   "execution_count": 56,
   "outputs": [
    {
     "name": "stdout",
     "output_type": "stream",
     "text": [
      "[78.125, 19.53125]\n"
     ]
    }
   ],
   "source": [
    "print(Ls)"
   ],
   "metadata": {
    "collapsed": false,
    "pycharm": {
     "name": "#%%\n"
    }
   }
  },
  {
   "cell_type": "code",
   "execution_count": null,
   "outputs": [],
   "source": [],
   "metadata": {
    "collapsed": false,
    "pycharm": {
     "name": "#%%\n"
    }
   }
  },
  {
   "cell_type": "code",
   "execution_count": null,
   "outputs": [],
   "source": [],
   "metadata": {
    "collapsed": false,
    "pycharm": {
     "name": "#%%\n"
    }
   }
  },
  {
   "cell_type": "code",
   "execution_count": 36,
   "outputs": [],
   "source": [
    "# gamma=1e5 [1250.0, 10000.0]\n",
    "# gamma=1e-5 [2500.0, 10000.0]\n"
   ],
   "metadata": {
    "collapsed": false,
    "pycharm": {
     "name": "#%%\n"
    }
   }
  },
  {
   "cell_type": "code",
   "execution_count": null,
   "outputs": [],
   "source": [],
   "metadata": {
    "collapsed": false,
    "pycharm": {
     "name": "#%%\n"
    }
   }
  },
  {
   "cell_type": "code",
   "execution_count": 89,
   "outputs": [
    {
     "data": {
      "text/plain": "[-2.1316282072803006e-14,\n 11.111111111111114,\n 22.22222222222226,\n 33.33333333333329,\n 44.44444444444447,\n 55.55555555555555,\n 66.66666666666674,\n 77.77777777777784,\n 88.88888888888903,\n 100.00000000000027]"
     },
     "execution_count": 89,
     "metadata": {},
     "output_type": "execute_result"
    }
   ],
   "source": [],
   "metadata": {
    "collapsed": false,
    "pycharm": {
     "name": "#%%\n"
    }
   }
  },
  {
   "cell_type": "code",
   "execution_count": 136,
   "outputs": [],
   "source": [],
   "metadata": {
    "collapsed": false,
    "pycharm": {
     "name": "#%%\n"
    }
   }
  },
  {
   "cell_type": "code",
   "execution_count": 137,
   "outputs": [],
   "source": [
    "test_problem = TestProblem2()"
   ],
   "metadata": {
    "collapsed": false,
    "pycharm": {
     "name": "#%%\n"
    }
   }
  },
  {
   "cell_type": "code",
   "execution_count": 138,
   "outputs": [
    {
     "data": {
      "text/plain": "(57.792657198596416,\n array([-28.02355486,  14.31500701,  46.41015183,  -7.31248952,\n         41.0677855 ,   2.24061996,  21.42358445,   5.4881576 ,\n        -20.09256052, -22.28616465]),\n array([-1.49450929, -2.16805852,  2.73684743,  3.39673907,  2.36557687,\n         2.53900157,  1.52628924,  7.28348362,  0.08490437, -4.52211896]))"
     },
     "execution_count": 138,
     "metadata": {},
     "output_type": "execute_result"
    }
   ],
   "source": [
    "test_problem.calc(np.random.random((10)), np.random.random((10)))"
   ],
   "metadata": {
    "collapsed": false,
    "pycharm": {
     "name": "#%%\n"
    }
   }
  },
  {
   "cell_type": "code",
   "execution_count": 102,
   "outputs": [
    {
     "data": {
      "text/plain": "39.94982657966037"
     },
     "execution_count": 102,
     "metadata": {},
     "output_type": "execute_result"
    }
   ],
   "source": [
    "x = np.random.random((10))\n",
    "1/ 2 * A @ np.transpose(x) @ x"
   ],
   "metadata": {
    "collapsed": false,
    "pycharm": {
     "name": "#%%\n"
    }
   }
  },
  {
   "cell_type": "code",
   "execution_count": 93,
   "outputs": [
    {
     "data": {
      "text/plain": "array([0.80042496, 0.1027337 , 0.52891668, 0.68247215, 0.1476809 ,\n       0.22858593, 0.0727249 , 0.26590332, 0.68281322, 0.937347  ])"
     },
     "execution_count": 93,
     "metadata": {},
     "output_type": "execute_result"
    }
   ],
   "source": [
    "x"
   ],
   "metadata": {
    "collapsed": false,
    "pycharm": {
     "name": "#%%\n"
    }
   }
  },
  {
   "cell_type": "code",
   "execution_count": null,
   "outputs": [],
   "source": [],
   "metadata": {
    "collapsed": false,
    "pycharm": {
     "name": "#%%\n"
    }
   }
  }
 ],
 "metadata": {
  "kernelspec": {
   "display_name": "Python 3 (ipykernel)",
   "language": "python",
   "name": "python3"
  },
  "language_info": {
   "codemirror_mode": {
    "name": "ipython",
    "version": 3
   },
   "file_extension": ".py",
   "mimetype": "text/x-python",
   "name": "python",
   "nbconvert_exporter": "python",
   "pygments_lexer": "ipython3",
   "version": "3.11.4"
  }
 },
 "nbformat": 4,
 "nbformat_minor": 5
}