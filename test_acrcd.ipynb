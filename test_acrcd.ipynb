{
 "cells": [
  {
   "cell_type": "code",
   "execution_count": 1,
   "id": "70f13a71",
   "metadata": {},
   "outputs": [],
   "source": [
    "from tqdm import tqdm\n",
    "\n",
    "from transport_problem import DualOracle, OptimParams\n",
    "from acrcd import ACRCDOracleStacker, ACRCD_star\n",
    "import numpy as np\n",
    "\n",
    "from transport_problem import HyperParams, OptimParams\n",
    "import numpy as np\n",
    "import scipy\n",
    "import matplotlib.pyplot as plt\n",
    "from pathlib import Path\n",
    "from read_data import get_network_df, get_corrs, get_full_df\n",
    "from numba.core import types\n",
    "import numba\n",
    "\n",
    "from numba import njit\n",
    "from graph_tool.topology import shortest_distance\n",
    "import pandas as pd\n",
    "import networkx as nx\n",
    "import graph_tool as gt\n",
    "from graph_tool.topology import shortest_distance\n",
    "import numpy as np\n",
    "import typing\n",
    "\n",
    "import numba\n",
    "from numba.core import types"
   ]
  },
  {
   "cell_type": "code",
   "execution_count": 2,
   "id": "8810e7f9",
   "metadata": {},
   "outputs": [],
   "source": [
    "# net_df = get_network_df(Path('Anahem') / 'Anaheim_net.tntp')\n",
    "# corrs = get_corrs(Path('Anahem') / 'Anaheim_trips.tntp')"
   ]
  },
  {
   "cell_type": "code",
   "execution_count": 3,
   "id": "c370df28",
   "metadata": {},
   "outputs": [],
   "source": [
    "# BIG_CONST_FOR_FAKE_EDGES = 40\n",
    "# print(net_df.free_flow_time.max())\n",
    "# net_df.loc[net_df.free_flow_time < 1e-6, \"free_flow_time\"] = BIG_CONST_FOR_FAKE_EDGES\n",
    "# people_count = corrs.sum()\n",
    "# corrs = corrs / people_count\n",
    "# net_df.capacity /= people_count\n",
    "# net_df = net_df.rename({\"free_flow_time\": \"fft\"}, axis=1)\n",
    "net_df = get_network_df(Path('SiouxFalls') / 'SiouxFalls_net.tntp')\n",
    "corrs = get_corrs(Path('SiouxFalls') / 'SiouxFalls_trips.tntp')\n",
    "people_count = corrs.sum()\n",
    "corrs = corrs / people_count\n",
    "net_df.capacity /= people_count"
   ]
  },
  {
   "cell_type": "code",
   "execution_count": 4,
   "id": "f9d4ad04",
   "metadata": {},
   "outputs": [],
   "source": [
    "graph = gt.Graph(net_df.values, eprops=[('capacity', 'double'), ('fft', 'double')])\n",
    "\n",
    "l = np.maximum(np.sum(corrs, axis=1), 1e-6)\n",
    "w = np.maximum(np.sum(corrs, axis=0), 1e-6)\n",
    "\n",
    "zones_num = len(l)\n",
    "sources = np.arange(zones_num)\n",
    "targets = np.arange(zones_num)\n",
    "\n",
    "params = HyperParams(gamma=10, mu_pow=0.25, rho=0.15)"
   ]
  },
  {
   "cell_type": "code",
   "execution_count": 5,
   "id": "d4a6853e",
   "metadata": {},
   "outputs": [],
   "source": [
    "def test_transport_problem(graph, net_df, l, w, params, sources, targets):\n",
    "    dual_oracle = DualOracle(\n",
    "        graph, l, w, params\n",
    "    )\n",
    "    oracle_stacker = ACRCDOracleStacker(\n",
    "        dual_oracle,\n",
    "        graph,\n",
    "        sources,\n",
    "        targets\n",
    "    )\n",
    "    \n",
    "    return ACRCD_star(oracle_stacker, *oracle_stacker.get_init_vars_block(), 1000)"
   ]
  },
  {
   "cell_type": "code",
   "execution_count": 6,
   "id": "e24ed042",
   "metadata": {},
   "outputs": [
    {
     "ename": "NameError",
     "evalue": "name 't_calls' is not defined",
     "output_type": "error",
     "traceback": [
      "\u001b[0;31m---------------------------------------------------------------------------\u001b[0m",
      "\u001b[0;31mNameError\u001b[0m                                 Traceback (most recent call last)",
      "Cell \u001b[0;32mIn[6], line 1\u001b[0m\n\u001b[0;32m----> 1\u001b[0m metric, t_calls, la_mu_calls, history, la_mu_grad_norms, t_grad_norms, x1_list, x2_list, \u001b[38;5;241m*\u001b[39ml_ \u001b[38;5;241m=\u001b[39m \u001b[43mtest_transport_problem\u001b[49m\u001b[43m(\u001b[49m\u001b[43mgraph\u001b[49m\u001b[43m,\u001b[49m\n\u001b[1;32m      2\u001b[0m \u001b[43m                                                                                                              \u001b[49m\u001b[43mnet_df\u001b[49m\u001b[43m,\u001b[49m\u001b[43m \u001b[49m\u001b[43ml\u001b[49m\u001b[43m,\u001b[49m\n\u001b[1;32m      3\u001b[0m \u001b[43m                                                                                                              \u001b[49m\u001b[43mw\u001b[49m\u001b[43m,\u001b[49m\u001b[43m \u001b[49m\u001b[43mparams\u001b[49m\u001b[43m,\u001b[49m\n\u001b[1;32m      4\u001b[0m \u001b[43m                                                                                                              \u001b[49m\u001b[43msources\u001b[49m\u001b[43m,\u001b[49m\n\u001b[1;32m      5\u001b[0m \u001b[43m                                                                                                              \u001b[49m\u001b[43mtargets\u001b[49m\u001b[43m)\u001b[49m\n",
      "Cell \u001b[0;32mIn[5], line 11\u001b[0m, in \u001b[0;36mtest_transport_problem\u001b[0;34m(graph, net_df, l, w, params, sources, targets)\u001b[0m\n\u001b[1;32m      2\u001b[0m dual_oracle \u001b[38;5;241m=\u001b[39m DualOracle(\n\u001b[1;32m      3\u001b[0m     graph, l, w, params\n\u001b[1;32m      4\u001b[0m )\n\u001b[1;32m      5\u001b[0m oracle_stacker \u001b[38;5;241m=\u001b[39m ACRCDOracleStacker(\n\u001b[1;32m      6\u001b[0m     dual_oracle,\n\u001b[1;32m      7\u001b[0m     graph,\n\u001b[1;32m      8\u001b[0m     sources,\n\u001b[1;32m      9\u001b[0m     targets\n\u001b[1;32m     10\u001b[0m )\n\u001b[0;32m---> 11\u001b[0m x \u001b[38;5;241m=\u001b[39m \u001b[43mt_calls\u001b[49m\n\u001b[1;32m     12\u001b[0m dual_gap \u001b[38;5;241m=\u001b[39m history\n\u001b[1;32m     13\u001b[0m dual_gap_clipped \u001b[38;5;241m=\u001b[39m np\u001b[38;5;241m.\u001b[39mmaximum(\u001b[38;5;241m0\u001b[39m, dual_gap)\n",
      "\u001b[0;31mNameError\u001b[0m: name 't_calls' is not defined"
     ]
    }
   ],
   "source": [
    "end_norm, t_calls, la_mu_calls, history, la_mu_grad_norms, t_grad_norms, x1_list, x2_list, *l_ = test_transport_problem(graph,\n",
    "                                                                                                              net_df, l,\n",
    "                                                                                                              w, params,\n",
    "                                                                                                              sources,\n",
    "                                                                                                              targets)\n"
   ]
  },
  {
   "cell_type": "markdown",
   "id": "cb69a744",
   "metadata": {},
   "source": []
  },
  {
   "cell_type": "markdown",
   "id": "cca10c0e",
   "metadata": {},
   "source": [
    "\n"
   ]
  },
  {
   "cell_type": "code",
   "execution_count": null,
   "id": "0e553a55",
   "metadata": {},
   "outputs": [],
   "source": [
    "plt.yscale('log')\n",
    "plt.plot(history, label=\"dgap\")"
   ]
  },
  {
   "cell_type": "code",
   "execution_count": null,
   "id": "80e52f97",
   "metadata": {},
   "outputs": [],
   "source": [
    "import pandas as pd\n",
    "\n",
    "data = []\n",
    "x = t_calls\n",
    "for i, j, k in zip(x, np.abs(history[1:]), np.abs(la_mu_grad_norms)):\n",
    "    data.append((i, j, k))\n",
    "\n",
    "df = pd.DataFrame(data)\n",
    "df.to_csv(\"plot_ustm.csv\", index=False)"
   ]
  },
  {
   "cell_type": "code",
   "execution_count": null,
   "id": "a483cac1",
   "metadata": {},
   "outputs": [],
   "source": [
    "plt.yscale('log')\n",
    "plt.plot(la_mu_grad_norms)"
   ]
  },
  {
   "cell_type": "code",
   "execution_count": null,
   "id": "3d396921",
   "metadata": {},
   "outputs": [],
   "source": [
    "x = t_calls\n",
    "dual_gap = history\n",
    "dual_gap_clipped = np.maximum(0, dual_gap)\n",
    "                                \n",
    "metric = 2 * np.array(results.history_la_mu_grad_norm) * la_mu_end_norm + dual_gap_clipped\n",
    "plt.plot(x, metric, label=\"custom metric\")\n",
    "plt.yscale(\"log\")\n",
    "plt.legend()\n",
    "plt.show()"
   ]
  },
  {
   "cell_type": "code",
   "execution_count": null,
   "id": "1668c448",
   "metadata": {},
   "outputs": [],
   "source": []
  },
  {
   "cell_type": "code",
   "execution_count": null,
   "id": "7cd279de",
   "metadata": {},
   "outputs": [],
   "source": []
  },
  {
   "cell_type": "code",
   "execution_count": null,
   "id": "55c15e3a",
   "metadata": {},
   "outputs": [],
   "source": []
  },
  {
   "cell_type": "code",
   "execution_count": null,
   "id": "ca41e82b",
   "metadata": {},
   "outputs": [],
   "source": []
  }
 ],
 "metadata": {
  "kernelspec": {
   "display_name": "Python 3 (ipykernel)",
   "language": "python",
   "name": "python3"
  },
  "language_info": {
   "codemirror_mode": {
    "name": "ipython",
    "version": 3
   },
   "file_extension": ".py",
   "mimetype": "text/x-python",
   "name": "python",
   "nbconvert_exporter": "python",
   "pygments_lexer": "ipython3",
   "version": "3.11.4"
  }
 },
 "nbformat": 4,
 "nbformat_minor": 5
}
