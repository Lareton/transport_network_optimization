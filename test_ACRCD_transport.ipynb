{
  "nbformat": 4,
  "nbformat_minor": 0,
  "metadata": {
    "colab": {
      "provenance": []
    },
    "kernelspec": {
      "name": "python3",
      "display_name": "Python 3"
    },
    "language_info": {
      "name": "python"
    }
  },
  "cells": [
    {
      "cell_type": "code",
      "execution_count": 64,
      "metadata": {
        "id": "FqWAtND2zYk7"
      },
      "outputs": [],
      "source": [
        "# !git clone https://github.com/Lareton/transport_network_optimization.git\n",
        "# !pip install tqdm\n",
        "# !pip install scanf\n",
        "\n",
        "# !echo \"deb http://downloads.skewed.de/apt focal main\" >> /etc/apt/sources.list\n",
        "# !apt-key adv --keyserver keyserver.ubuntu.com --recv-key 612DEFB798507F25\n",
        "# !apt-get update\n",
        "# !apt-get install python3-graph-tool #python3-matplotlib python3-cair\n",
        "\n",
        "# !git clone https://github.com/niquepolice/bigchallenges.git"
      ]
    },
    {
      "cell_type": "code",
      "source": [
        "%load_ext autoreload\n",
        "%autoreload 2"
      ],
      "metadata": {
        "colab": {
          "base_uri": "https://localhost:8080/"
        },
        "id": "0w5scSoo4pK5",
        "outputId": "6d41a205-8f4c-49f8-8bcb-32f29cc6039f"
      },
      "execution_count": 65,
      "outputs": [
        {
          "output_type": "stream",
          "name": "stdout",
          "text": [
            "The autoreload extension is already loaded. To reload it, use:\n",
            "  %reload_ext autoreload\n"
          ]
        }
      ]
    },
    {
      "cell_type": "code",
      "source": [
        "from tqdm import tqdm\n",
        "\n",
        "from transport_network_optimization.transport_problem import DualOracle, OptimParams\n",
        "from transport_network_optimization.acrcd import ACRCDOracleStacker, ACRCD_star\n",
        "import numpy as np\n",
        "\n",
        "from transport_network_optimization.transport_problem import HyperParams, OptimParams\n",
        "import numpy as np\n",
        "import scipy\n",
        "import matplotlib.pyplot as plt\n",
        "from pathlib import Path\n",
        "from transport_network_optimization.read_data import get_network_df, get_corrs, get_full_df\n",
        "from numba.core import types\n",
        "import numba\n",
        "\n",
        "from numba import njit\n",
        "from graph_tool.topology import shortest_distance\n",
        "import pandas as pd\n",
        "import networkx as nx\n",
        "import graph_tool as gt\n",
        "from graph_tool.topology import shortest_distance\n",
        "import numpy as np\n",
        "import typing\n",
        "\n",
        "import numba\n",
        "from numba.core import types"
      ],
      "metadata": {
        "id": "gCs-TJJWzvyw"
      },
      "execution_count": 66,
      "outputs": []
    },
    {
      "cell_type": "code",
      "source": [
        "net_df = get_network_df(Path('/content/transport_network_optimization/SiouxFalls') / 'SiouxFalls_net.tntp')\n",
        "corrs = get_corrs(Path('/content/transport_network_optimization/SiouxFalls') / 'SiouxFalls_trips.tntp')\n",
        "corrs = corrs / corrs.sum()\n",
        "\n",
        "graph = gt.Graph(net_df.values, eprops=[('capacity', 'double'), ('fft', 'double')])\n",
        "graph.ep.capacity.a = graph.ep.capacity.a / corrs.sum()"
      ],
      "metadata": {
        "id": "PLBF5xEmzkkl"
      },
      "execution_count": 67,
      "outputs": []
    },
    {
      "cell_type": "code",
      "source": [
        "l = np.sum(corrs, axis=1)\n",
        "w = np.sum(corrs, axis=0)\n",
        "\n",
        "zones_num = len(l)\n",
        "sources = np.arange(zones_num)\n",
        "targets = np.arange(zones_num)\n",
        "\n",
        "params = HyperParams(gamma=10, mu_pow=0.25, rho=0.15)\n"
      ],
      "metadata": {
        "id": "Wy9X9QQg1kcp"
      },
      "execution_count": 71,
      "outputs": []
    },
    {
      "cell_type": "code",
      "source": [
        "def test_transport_problem(graph, net_df, l, w, params, sources, targets):\n",
        "    dual_oracle = DualOracle(\n",
        "        graph, net_df, l, w, params\n",
        "    )\n",
        "    oracle_stacker = ACRCDOracleStacker(\n",
        "        dual_oracle,\n",
        "        graph,\n",
        "        sources,\n",
        "        targets\n",
        "    )\n",
        "    return ACRCD_star(oracle_stacker, *oracle_stacker.get_init_vars_block(), 100)"
      ],
      "metadata": {
        "id": "Wp_lNNxXzdVa"
      },
      "execution_count": 69,
      "outputs": []
    },
    {
      "cell_type": "code",
      "source": [
        "history, la_mu_grad_norms, t_grad_norms, x1_list, x2_list, *l_ = test_transport_problem(graph, net_df, l, w, params, sources, targets)"
      ],
      "metadata": {
        "colab": {
          "base_uri": "https://localhost:8080/"
        },
        "id": "r3Y1FegI2hms",
        "outputId": "643ecfc0-6fa9-4699-ea6d-33e68886c9b4"
      },
      "execution_count": 70,
      "outputs": [
        {
          "output_type": "stream",
          "name": "stdout",
          "text": [
            "1\n"
          ]
        },
        {
          "output_type": "stream",
          "name": "stderr",
          "text": [
            "\r  0%|          | 0/100 [00:00<?, ?it/s]"
          ]
        },
        {
          "output_type": "stream",
          "name": "stdout",
          "text": [
            "grad dF dla:  0.11352326852409254\n",
            "grad dF dmu:  0.11333220509656691\n",
            "dual_value 54.13746196132573\n",
            "la grad  0.2970060945743204\n",
            "mu grad 0.16041110063971112\n"
          ]
        },
        {
          "output_type": "stream",
          "name": "stderr",
          "text": [
            "\n",
            "  0%|          | 0/100 [00:00<?, ?it/s]\u001b[A"
          ]
        },
        {
          "output_type": "stream",
          "name": "stdout",
          "text": [
            "grad dF dla:  0.1135233193185962\n",
            "grad dF dmu:  0.113332254958472\n",
            "dual_value 54.137569831690655\n",
            "grad dF dla:  0.11352329392130611\n",
            "grad dF dmu:  0.11333223002748087\n",
            "dual_value 54.13749784484288\n"
          ]
        },
        {
          "output_type": "stream",
          "name": "stderr",
          "text": [
            "\n",
            "  7%|▋         | 7/100 [00:00<00:01, 61.76it/s]\u001b[A"
          ]
        },
        {
          "output_type": "stream",
          "name": "stdout",
          "text": [
            "grad dF dla:  0.11352328122268977\n",
            "grad dF dmu:  0.11333221756201424\n",
            "dual_value 54.13747539017727\n",
            "grad dF dla:  0.11352327487338876\n",
            "grad dF dmu:  0.11333221132928815\n",
            "dual_value 54.13746754752591\n",
            "grad dF dla:  0.11352327169874005\n",
            "grad dF dmu:  0.11333220821292689\n",
            "dual_value 54.137464472369565\n",
            "grad dF dla:  0.11352327011141615\n",
            "grad dF dmu:  0.11333220665474675\n",
            "dual_value 54.1374631463336\n",
            "grad dF dla:  0.11352326931775432\n",
            "grad dF dmu:  0.1133322058756568\n",
            "dual_value 54.137462536201156\n",
            "grad dF dla:  0.11352326892092342\n",
            "grad dF dmu:  0.11333220548611181\n",
            "dual_value 54.13746224435632\n",
            "grad dF dla:  0.11352326872250797\n",
            "grad dF dmu:  0.11333220529133936\n",
            "dual_value 54.13746210173924\n",
            "grad dF dla:  0.11352326862330026\n",
            "grad dF dmu:  0.11333220519395312\n",
            "dual_value 54.13746203125704\n",
            "grad dF dla:  0.11352326857369642\n",
            "grad dF dmu:  0.11333220514525999\n",
            "dual_value 54.13746199622252\n",
            "grad dF dla:  0.11352326854889447\n",
            "grad dF dmu:  0.11333220512091342\n",
            "dual_value 54.13746197875691\n",
            "grad dF dla:  0.11352326853649351\n",
            "grad dF dmu:  0.11333220510874017\n",
            "dual_value 54.137461970037016\n",
            "grad dF dla:  0.11352326853029304\n",
            "grad dF dmu:  0.11333220510265352\n"
          ]
        },
        {
          "output_type": "stream",
          "name": "stderr",
          "text": [
            " 13%|█▎        | 13/100 [00:00<00:01, 50.52it/s]\n",
            "  1%|          | 1/100 [00:00<00:28,  3.50it/s]"
          ]
        },
        {
          "output_type": "stream",
          "name": "stdout",
          "text": [
            "dual_value 54.13746196568029\n",
            "grad dF dla:  0.11352326852616028\n",
            "grad dF dmu:  0.11333220509859666\n",
            "dual_value 54.13746196277764\n",
            "la grad  0.3005240846318894\n",
            "mu grad 0.1604111006426085\n"
          ]
        },
        {
          "output_type": "stream",
          "name": "stderr",
          "text": [
            "\n",
            "  1%|          | 1/100 [00:00<00:03, 28.34it/s]\n"
          ]
        },
        {
          "output_type": "stream",
          "name": "stdout",
          "text": [
            "grad dF dla:  0.11352326853873342\n",
            "grad dF dmu:  0.11333220511115628\n",
            "dual_value 54.13746197160333\n",
            "grad dF dla:  0.11352326853244685\n",
            "grad dF dmu:  0.11333220510487647\n",
            "dual_value 54.137461967189374\n",
            "grad dF dla:  0.11352326852827141\n",
            "grad dF dmu:  0.11333220510072337\n",
            "dual_value 54.13746196425826\n",
            "la grad  0.30052408465832514\n",
            "mu grad 0.1604111006456051\n"
          ]
        },
        {
          "output_type": "stream",
          "name": "stderr",
          "text": [
            "\n",
            "  0%|          | 0/100 [00:00<?, ?it/s]\u001b[A"
          ]
        },
        {
          "output_type": "stream",
          "name": "stdout",
          "text": [
            "grad dF dla:  0.11352326854084453\n",
            "grad dF dmu:  0.113332205113283\n",
            "dual_value 54.137461973085436\n"
          ]
        },
        {
          "output_type": "stream",
          "name": "stderr",
          "text": [
            "  1%|          | 1/100 [00:00<00:03, 26.92it/s]\n",
            "  3%|▎         | 3/100 [00:00<00:12,  7.98it/s]"
          ]
        },
        {
          "output_type": "stream",
          "name": "stdout",
          "text": [
            "grad dF dla:  0.11352326853455798\n",
            "grad dF dmu:  0.11333220510700319\n",
            "dual_value 54.137461968670735\n",
            "grad dF dla:  0.11352326853037426\n",
            "grad dF dmu:  0.11333220510283111\n",
            "dual_value 54.13746196573372\n",
            "la grad  0.30052408468461567\n",
            "mu grad 0.16041110064858244\n"
          ]
        },
        {
          "output_type": "stream",
          "name": "stderr",
          "text": [
            "\n",
            "  1%|          | 1/100 [00:00<00:03, 27.10it/s]\n"
          ]
        },
        {
          "output_type": "stream",
          "name": "stdout",
          "text": [
            "grad dF dla:  0.11352326854294738\n",
            "grad dF dmu:  0.11333220511539076\n",
            "dual_value 54.137461974562385\n",
            "grad dF dla:  0.11352326853666082\n",
            "grad dF dmu:  0.11333220510911093\n",
            "dual_value 54.137461970146944\n",
            "grad dF dla:  0.11352326853247457\n",
            "grad dF dmu:  0.11333220510493275\n",
            "dual_value 54.137461967207784\n",
            "la grad  0.30052408471086073\n",
            "mu grad 0.16041110065155365\n"
          ]
        },
        {
          "output_type": "stream",
          "name": "stderr",
          "text": [
            "\n",
            "  1%|          | 1/100 [00:00<00:03, 27.34it/s]\n",
            "  5%|▌         | 5/100 [00:00<00:09,  9.85it/s]"
          ]
        },
        {
          "output_type": "stream",
          "name": "stdout",
          "text": [
            "grad dF dla:  0.11352326854504771\n",
            "grad dF dmu:  0.1133322051174924\n",
            "dual_value 54.13746197603794\n",
            "grad dF dla:  0.11352326853876113\n",
            "grad dF dmu:  0.11333220511121257\n",
            "dual_value 54.137461971621754\n",
            "grad dF dla:  0.11352326853457403\n",
            "grad dF dmu:  0.11333220510703197\n",
            "dual_value 54.137461968681535\n",
            "la grad  0.30052408473708864\n",
            "mu grad 0.16041110065452258\n"
          ]
        },
        {
          "output_type": "stream",
          "name": "stderr",
          "text": [
            "\n",
            "  1%|          | 1/100 [00:00<00:02, 33.51it/s]"
          ]
        },
        {
          "output_type": "stream",
          "name": "stdout",
          "text": [
            "grad dF dla:  0.11352326854714716\n",
            "grad dF dmu:  0.11333220511959159\n",
            "dual_value 54.13746197751316\n",
            "grad dF dla:  0.11352326854086059\n",
            "grad dF dmu:  0.11333220511331178\n",
            "dual_value 54.137461973096244\n",
            "grad dF dla:  0.11352326853667319\n",
            "grad dF dmu:  0.11333220510913017\n"
          ]
        },
        {
          "output_type": "stream",
          "name": "stderr",
          "text": [
            "\n"
          ]
        },
        {
          "output_type": "stream",
          "name": "stdout",
          "text": [
            "dual_value 54.13746197015538\n",
            "la grad  0.3005240847633101\n",
            "mu grad 0.16041110065749056\n"
          ]
        },
        {
          "output_type": "stream",
          "name": "stderr",
          "text": [
            "\n",
            "  0%|          | 0/100 [00:00<?, ?it/s]\u001b[A"
          ]
        },
        {
          "output_type": "stream",
          "name": "stdout",
          "text": [
            "grad dF dla:  0.11352326854924631\n",
            "grad dF dmu:  0.1133322051216898\n",
            "dual_value 54.137461978988476\n",
            "grad dF dla:  0.11352326854295974\n",
            "grad dF dmu:  0.11333220511540996\n",
            "dual_value "
          ]
        },
        {
          "output_type": "stream",
          "name": "stderr",
          "text": [
            "  1%|          | 1/100 [00:00<00:06, 14.83it/s]\n",
            "  7%|▋         | 7/100 [00:00<00:08, 10.63it/s]"
          ]
        },
        {
          "output_type": "stream",
          "name": "stdout",
          "text": [
            "54.13746197457082\n",
            "grad dF dla:  0.11352326853877236\n",
            "grad dF dmu:  0.11333220511122793\n",
            "dual_value 54.13746197162947\n",
            "la grad  0.3005240847895299\n",
            "mu grad 0.16041110066045822\n"
          ]
        },
        {
          "output_type": "stream",
          "name": "stderr",
          "text": [
            "\n",
            "  0%|          | 0/100 [00:00<?, ?it/s]\u001b[A"
          ]
        },
        {
          "output_type": "stream",
          "name": "stdout",
          "text": [
            "grad dF dla:  0.1135232685513455\n",
            "grad dF dmu:  0.11333220512378755\n",
            "dual_value 54.13746198046406\n"
          ]
        },
        {
          "output_type": "stream",
          "name": "stderr",
          "text": [
            "\r  1%|          | 1/100 [00:00<00:04, 23.26it/s]"
          ]
        },
        {
          "output_type": "stream",
          "name": "stdout",
          "text": [
            "grad dF dla:  0.11352326854505891\n",
            "grad dF dmu:  0.11333220511750776\n",
            "dual_value 54.13746197604566\n"
          ]
        },
        {
          "output_type": "stream",
          "name": "stderr",
          "text": [
            "\n"
          ]
        },
        {
          "output_type": "stream",
          "name": "stdout",
          "text": [
            "grad dF dla:  0.11352326854087168\n",
            "grad dF dmu:  0.11333220511332558\n",
            "dual_value 54.137461973103925\n",
            "la grad  0.30052408481575055\n",
            "mu grad 0.16041110066342593\n"
          ]
        },
        {
          "output_type": "stream",
          "name": "stderr",
          "text": [
            "\n",
            "  0%|          | 0/100 [00:00<?, ?it/s]\u001b[A"
          ]
        },
        {
          "output_type": "stream",
          "name": "stdout",
          "text": [
            "grad dF dla:  0.11352326855344479\n",
            "grad dF dmu:  0.11333220512588522\n"
          ]
        },
        {
          "output_type": "stream",
          "name": "stderr",
          "text": [
            "  1%|          | 1/100 [00:00<00:03, 26.08it/s]\n",
            "  9%|▉         | 9/100 [00:00<00:07, 11.69it/s]"
          ]
        },
        {
          "output_type": "stream",
          "name": "stdout",
          "text": [
            "dual_value 54.13746198193999\n",
            "grad dF dla:  0.11352326854715825\n",
            "grad dF dmu:  0.11333220511960537\n",
            "dual_value 54.13746197752085\n",
            "grad dF dla:  0.11352326854297118\n",
            "grad dF dmu:  0.11333220511542327\n",
            "dual_value 54.13746197457878\n",
            "la grad  0.3005240848419731\n",
            "mu grad 0.1604111006663938\n"
          ]
        },
        {
          "output_type": "stream",
          "name": "stderr",
          "text": [
            "\n",
            "  0%|          | 0/100 [00:00<?, ?it/s]\u001b[A"
          ]
        },
        {
          "output_type": "stream",
          "name": "stdout",
          "text": [
            "grad dF dla:  0.11352326855554432\n",
            "grad dF dmu:  0.11333220512798291\n",
            "dual_value 54.13746198341632\n"
          ]
        },
        {
          "output_type": "stream",
          "name": "stderr",
          "text": [
            "\r  1%|          | 1/100 [00:00<00:03, 27.34it/s]"
          ]
        },
        {
          "output_type": "stream",
          "name": "stdout",
          "text": [
            "grad dF dla:  0.11352326854925773\n",
            "grad dF dmu:  0.1133322051217031\n",
            "dual_value 54.13746197899645\n"
          ]
        },
        {
          "output_type": "stream",
          "name": "stderr",
          "text": [
            "\n"
          ]
        },
        {
          "output_type": "stream",
          "name": "stdout",
          "text": [
            "grad dF dla:  0.11352326854507096\n",
            "grad dF dmu:  0.11333220511752111\n",
            "dual_value 54.137461976054055\n",
            "la grad  0.3005240848681984\n",
            "mu grad 0.16041110066936196\n"
          ]
        },
        {
          "output_type": "stream",
          "name": "stderr",
          "text": [
            "\n",
            "  0%|          | 0/100 [00:00<?, ?it/s]\u001b[A"
          ]
        },
        {
          "output_type": "stream",
          "name": "stdout",
          "text": [
            "grad dF dla:  0.11352326855764407\n",
            "grad dF dmu:  0.11333220513008073\n",
            "dual_value 54.13746198489309\n",
            "grad dF dla:  0.11352326855135753\n",
            "grad dF dmu:  0.11333220512380093\n"
          ]
        },
        {
          "output_type": "stream",
          "name": "stderr",
          "text": [
            "  1%|          | 1/100 [00:00<00:03, 28.32it/s]\n",
            " 11%|█         | 11/100 [00:01<00:07, 12.26it/s]"
          ]
        },
        {
          "output_type": "stream",
          "name": "stdout",
          "text": [
            "dual_value 54.137461980472466\n",
            "grad dF dla:  0.11352326854717101\n",
            "grad dF dmu:  0.11333220511961917\n",
            "dual_value 54.137461977529796\n",
            "la grad  0.300524084894427\n",
            "mu grad 0.16041110067233047\n"
          ]
        },
        {
          "output_type": "stream",
          "name": "stderr",
          "text": [
            "\n",
            "  0%|          | 0/100 [00:00<?, ?it/s]\u001b[A"
          ]
        },
        {
          "output_type": "stream",
          "name": "stdout",
          "text": [
            "grad dF dla:  0.11352326855974414\n",
            "grad dF dmu:  0.11333220513217879\n",
            "dual_value 54.13746198637031\n",
            "grad dF dla:  0.11352326855345757\n",
            "grad dF dmu:  0.11333220512589899\n",
            "dual_value 54.13746198194894\n"
          ]
        },
        {
          "output_type": "stream",
          "name": "stderr",
          "text": [
            "\r  1%|          | 1/100 [00:00<00:04, 23.64it/s]\n"
          ]
        },
        {
          "output_type": "stream",
          "name": "stdout",
          "text": [
            "grad dF dla:  0.11352326854927136\n",
            "grad dF dmu:  0.11333220512171747\n",
            "dual_value 54.137461979005984\n",
            "la grad  0.3005240849206592\n",
            "mu grad 0.16041110067529935\n"
          ]
        },
        {
          "output_type": "stream",
          "name": "stderr",
          "text": [
            "\n",
            "  0%|          | 0/100 [00:00<?, ?it/s]\u001b[A"
          ]
        },
        {
          "output_type": "stream",
          "name": "stdout",
          "text": [
            "grad dF dla:  0.1135232685618445\n",
            "grad dF dmu:  0.11333220513427711\n",
            "dual_value 54.13746198784798\n",
            "grad dF dla:  0.11352326855555793\n",
            "grad dF dmu:  0.11333220512799726\n",
            "dual_value 54.137461983425865\n"
          ]
        },
        {
          "output_type": "stream",
          "name": "stderr",
          "text": [
            "  1%|          | 1/100 [00:00<00:02, 34.68it/s]\n",
            " 13%|█▎        | 13/100 [00:01<00:06, 12.82it/s]"
          ]
        },
        {
          "output_type": "stream",
          "name": "stdout",
          "text": [
            "grad dF dla:  0.11352326855137201\n",
            "grad dF dmu:  0.11333220512381603\n",
            "dual_value 54.13746198048264\n",
            "la grad  0.300524084946895\n",
            "mu grad 0.16041110067826864\n"
          ]
        },
        {
          "output_type": "stream",
          "name": "stderr",
          "text": [
            "\n",
            "  0%|          | 0/100 [00:00<?, ?it/s]\u001b[A"
          ]
        },
        {
          "output_type": "stream",
          "name": "stdout",
          "text": [
            "grad dF dla:  0.11352326856394515\n",
            "grad dF dmu:  0.11333220513637564\n"
          ]
        },
        {
          "output_type": "stream",
          "name": "stderr",
          "text": [
            "\r  1%|          | 1/100 [00:00<00:03, 27.35it/s]"
          ]
        },
        {
          "output_type": "stream",
          "name": "stdout",
          "text": [
            "dual_value 54.13746198932612\n",
            "grad dF dla:  0.11352326855765857\n",
            "grad dF dmu:  0.11333220513009584\n",
            "dual_value 54.137461984903275\n",
            "grad dF dla:  0.113523268553473\n",
            "grad dF dmu: "
          ]
        },
        {
          "output_type": "stream",
          "name": "stderr",
          "text": [
            "\n"
          ]
        },
        {
          "output_type": "stream",
          "name": "stdout",
          "text": [
            " 0.11333220512591488\n",
            "dual_value 54.137461981959774\n",
            "la grad  0.30052408497313465\n",
            "mu grad 0.16041110068123837\n"
          ]
        },
        {
          "output_type": "stream",
          "name": "stderr",
          "text": [
            "\n",
            "  1%|          | 1/100 [00:00<00:03, 25.91it/s]\n",
            " 15%|█▌        | 15/100 [00:01<00:06, 13.55it/s]"
          ]
        },
        {
          "output_type": "stream",
          "name": "stdout",
          "text": [
            "grad dF dla:  0.11352326856604614\n",
            "grad dF dmu:  0.11333220513847449\n",
            "dual_value 54.13746199080474\n",
            "grad dF dla:  0.11352326855975955\n",
            "grad dF dmu:  0.11333220513219469\n",
            "dual_value 54.13746198638114\n",
            "grad dF dla:  0.1135232685555743\n",
            "grad dF dmu:  0.11333220512801401\n",
            "dual_value 54.13746198343738\n",
            "la grad  0.3005240849993782\n",
            "mu grad 0.16041110068420855\n"
          ]
        },
        {
          "output_type": "stream",
          "name": "stderr",
          "text": [
            "\n",
            "  0%|          | 0/100 [00:00<?, ?it/s]\u001b[A"
          ]
        },
        {
          "output_type": "stream",
          "name": "stdout",
          "text": [
            "grad dF dla:  0.11352326856814744\n",
            "grad dF dmu:  0.11333220514057364\n"
          ]
        },
        {
          "output_type": "stream",
          "name": "stderr",
          "text": [
            "\r  1%|          | 1/100 [00:00<00:03, 25.07it/s]"
          ]
        },
        {
          "output_type": "stream",
          "name": "stdout",
          "text": [
            "dual_value 54.137461992283825\n",
            "grad dF dla:  0.11352326856186087\n",
            "grad dF dmu:  0.11333220513429383\n",
            "dual_value 54.13746198785949\n",
            "grad dF dla:  0.11352326855767594\n"
          ]
        },
        {
          "output_type": "stream",
          "name": "stderr",
          "text": [
            "\n"
          ]
        },
        {
          "output_type": "stream",
          "name": "stdout",
          "text": [
            "grad dF dmu:  0.11333220513011351\n",
            "dual_value 54.13746198491547\n",
            "la grad  0.30052408502562583\n",
            "mu grad 0.16041110068717918\n"
          ]
        },
        {
          "output_type": "stream",
          "name": "stderr",
          "text": [
            "\n",
            "  0%|          | 0/100 [00:00<?, ?it/s]\u001b[A"
          ]
        },
        {
          "output_type": "stream",
          "name": "stdout",
          "text": [
            "grad dF dla: "
          ]
        },
        {
          "output_type": "stream",
          "name": "stderr",
          "text": [
            "  1%|          | 1/100 [00:00<00:03, 27.46it/s]\n",
            " 17%|█▋        | 17/100 [00:01<00:06, 13.72it/s]"
          ]
        },
        {
          "output_type": "stream",
          "name": "stdout",
          "text": [
            " 0.11352326857024907\n",
            "grad dF dmu:  0.1133322051426731\n",
            "dual_value 54.13746199376339\n",
            "grad dF dla:  0.11352326856396248\n",
            "grad dF dmu:  0.11333220513639333\n",
            "dual_value 54.13746198933833\n",
            "grad dF dla:  0.11352326855977792\n",
            "grad dF dmu:  0.11333220513221327\n",
            "dual_value 54.13746198639404\n",
            "la grad  0.3005240850518776\n",
            "mu grad 0.16041110069015027\n"
          ]
        },
        {
          "output_type": "stream",
          "name": "stderr",
          "text": [
            "\n",
            "  0%|          | 0/100 [00:00<?, ?it/s]\u001b[A"
          ]
        },
        {
          "output_type": "stream",
          "name": "stdout",
          "text": [
            "grad dF dla:  0.11352326857235102\n",
            "grad dF dmu:  0.1133322051447729\n"
          ]
        },
        {
          "output_type": "stream",
          "name": "stderr",
          "text": [
            "\r  1%|          | 1/100 [00:00<00:03, 25.61it/s]"
          ]
        },
        {
          "output_type": "stream",
          "name": "stdout",
          "text": [
            "dual_value 54.13746199524345\n",
            "grad dF dla:  0.11352326856606447\n",
            "grad dF dmu:  0.1133322051384931\n",
            "dual_value 54.13746199081763\n"
          ]
        },
        {
          "output_type": "stream",
          "name": "stderr",
          "text": [
            "\n"
          ]
        },
        {
          "output_type": "stream",
          "name": "stdout",
          "text": [
            "grad dF dla:  0.11352326856188019\n",
            "grad dF dmu:  0.11333220513431337\n",
            "dual_value 54.13746198787308\n",
            "la grad  0.3005240850781335\n",
            "mu grad 0.16041110069312178\n"
          ]
        },
        {
          "output_type": "stream",
          "name": "stderr",
          "text": [
            "\n",
            "  1%|          | 1/100 [00:00<00:03, 25.25it/s]"
          ]
        },
        {
          "output_type": "stream",
          "name": "stdout",
          "text": [
            "grad dF dla:  0.11352326857445333\n",
            "grad dF dmu:  0.11333220514687299\n",
            "dual_value 54.13746199672398\n",
            "grad dF dla:  0.11352326856816677\n",
            "grad dF dmu:  0.1133322051405932\n",
            "dual_value 54.13746199229742\n"
          ]
        },
        {
          "output_type": "stream",
          "name": "stderr",
          "text": [
            "\n",
            "\r 19%|█▉        | 19/100 [00:01<00:05, 13.63it/s]"
          ]
        },
        {
          "output_type": "stream",
          "name": "stdout",
          "text": [
            "grad dF dla:  0.11352326856398283\n",
            "grad dF dmu:  0.11333220513641382\n",
            "dual_value 54.13746198935262\n",
            "la grad  0.30052408510439355\n",
            "mu grad 0.16041110069609382\n"
          ]
        },
        {
          "output_type": "stream",
          "name": "stderr",
          "text": [
            "\n",
            "  1%|          | 1/100 [00:00<00:02, 33.25it/s]"
          ]
        },
        {
          "output_type": "stream",
          "name": "stdout",
          "text": [
            "grad dF dla:  0.11352326857655595\n",
            "grad dF dmu:  0.11333220514897344\n",
            "dual_value 54.137461998205\n",
            "grad dF dla:  0.1135232685702694\n",
            "grad dF dmu:  0.11333220514269361\n",
            "dual_value 54.13746199377769\n",
            "grad dF dla:  0.1135232685660858\n",
            "grad dF dmu:  0.11333220513851455\n"
          ]
        },
        {
          "output_type": "stream",
          "name": "stderr",
          "text": [
            "\n"
          ]
        },
        {
          "output_type": "stream",
          "name": "stdout",
          "text": [
            "dual_value 54.13746199083264\n",
            "la grad  0.3005240851306576\n",
            "mu grad 0.1604111006990663\n"
          ]
        },
        {
          "output_type": "stream",
          "name": "stderr",
          "text": [
            "\n",
            "  0%|          | 0/100 [00:00<?, ?it/s]\u001b[A"
          ]
        },
        {
          "output_type": "stream",
          "name": "stdout",
          "text": [
            "grad dF dla:  0.11352326857865894\n",
            "grad dF dmu:  0.1133322051510742\n",
            "dual_value 54.1374619996865\n"
          ]
        },
        {
          "output_type": "stream",
          "name": "stderr",
          "text": [
            "  1%|          | 1/100 [00:00<00:03, 25.61it/s]\n",
            " 21%|██        | 21/100 [00:01<00:05, 14.02it/s]"
          ]
        },
        {
          "output_type": "stream",
          "name": "stdout",
          "text": [
            "grad dF dla:  0.11352326857237238\n",
            "grad dF dmu:  0.11333220514479438\n",
            "dual_value 54.13746199525846\n",
            "grad dF dla:  0.1135232685681891\n",
            "grad dF dmu:  0.11333220514061564\n",
            "dual_value 54.13746199231314\n",
            "la grad  0.30052408515692597\n",
            "mu grad 0.16041110070203926\n"
          ]
        },
        {
          "output_type": "stream",
          "name": "stderr",
          "text": [
            "\n",
            "  0%|          | 0/100 [00:00<?, ?it/s]\n"
          ]
        },
        {
          "output_type": "stream",
          "name": "stdout",
          "text": [
            "grad dF dla:  0.11352304822390993\n",
            "grad dF dmu:  0.11333198510343642\n",
            "dual_value 54.137451699634646\n",
            "grad dF dla:  0.1135230665361347\n",
            "grad dF dmu:  0.11333200339013766\n",
            "dual_value 54.13745255262495\n",
            "la grad  0.3005240494865349\n",
            "mu grad 0.16041081518460606\n"
          ]
        },
        {
          "output_type": "stream",
          "name": "stderr",
          "text": [
            "\n",
            "  0%|          | 0/100 [00:00<?, ?it/s]\u001b[A"
          ]
        },
        {
          "output_type": "stream",
          "name": "stdout",
          "text": [
            "grad dF dla:  0.1135230665487078\n",
            "grad dF dmu:  0.1133320034026973\n",
            "dual_value"
          ]
        },
        {
          "output_type": "stream",
          "name": "stderr",
          "text": [
            "  1%|          | 1/100 [00:00<00:04, 23.51it/s]\n",
            " 23%|██▎       | 23/100 [00:01<00:05, 14.57it/s]"
          ]
        },
        {
          "output_type": "stream",
          "name": "stdout",
          "text": [
            " 54.1374525614777\n",
            "grad dF dla:  0.11352306654242124\n",
            "grad dF dmu:  0.11333200339641748\n",
            "dual_value 54.13745255705022\n",
            "grad dF dla:  0.11352308265667549\n",
            "grad dF dmu:  0.11333201948821163\n",
            "dual_value 54.137453307328194\n",
            "la grad  0.3005240523607165\n",
            "mu grad 0.16041083796661232\n"
          ]
        },
        {
          "output_type": "stream",
          "name": "stderr",
          "text": [
            "\n",
            "  0%|          | 0/100 [00:00<?, ?it/s]\u001b[A"
          ]
        },
        {
          "output_type": "stream",
          "name": "stdout",
          "text": [
            "grad dF dla:  0.11352308266924861\n",
            "grad dF dmu:  0.11333201950077125\n"
          ]
        },
        {
          "output_type": "stream",
          "name": "stderr",
          "text": [
            "\r  1%|          | 1/100 [00:00<00:04, 24.04it/s]"
          ]
        },
        {
          "output_type": "stream",
          "name": "stdout",
          "text": [
            "dual_value 54.137453316182764\n",
            "grad dF dla:  0.11352308266296206\n",
            "grad dF dmu:  0.11333201949449144\n",
            "dual_value 54.13745331175438\n"
          ]
        },
        {
          "output_type": "stream",
          "name": "stderr",
          "text": [
            "\n"
          ]
        },
        {
          "output_type": "stream",
          "name": "stdout",
          "text": [
            "grad dF dla:  0.1135230969173955\n",
            "grad dF dmu:  0.11333203372905686\n",
            "dual_value 54.13745397512186\n",
            "la grad  0.3005240549062981\n",
            "mu grad 0.16041085812026706\n"
          ]
        },
        {
          "output_type": "stream",
          "name": "stderr",
          "text": [
            "\n",
            "  0%|          | 0/100 [00:00<?, ?it/s]\u001b[A"
          ]
        },
        {
          "output_type": "stream",
          "name": "stdout",
          "text": [
            "grad dF dla:  0.11352309692996863\n",
            "grad dF dmu:  0.11333203374161646\n",
            "dual_value 54.1374539839782\n"
          ]
        },
        {
          "output_type": "stream",
          "name": "stderr",
          "text": [
            "  1%|          | 1/100 [00:00<00:03, 26.22it/s]\n",
            " 25%|██▌       | 25/100 [00:02<00:05, 14.43it/s]"
          ]
        },
        {
          "output_type": "stream",
          "name": "stdout",
          "text": [
            "grad dF dla:  0.11352309692368205\n",
            "grad dF dmu:  0.11333203373533665\n",
            "dual_value 54.13745397954892\n",
            "grad dF dla:  0.11352310959382403\n",
            "grad dF dmu:  0.11333204638781867\n",
            "dual_value 54.13745456888148\n",
            "la grad  0.3005240571719616\n",
            "mu grad 0.16041087603495613\n"
          ]
        },
        {
          "output_type": "stream",
          "name": "stderr",
          "text": [
            "\n",
            "  0%|          | 0/100 [00:00<?, ?it/s]\u001b[A"
          ]
        },
        {
          "output_type": "stream",
          "name": "stdout",
          "text": [
            "grad dF dla:  0.11352310960639717\n",
            "grad dF dmu:  0.11333204640037829\n",
            "dual_value 54.13745457773957\n"
          ]
        },
        {
          "output_type": "stream",
          "name": "stderr",
          "text": [
            "\r  1%|          | 1/100 [00:00<00:04, 23.49it/s]\n"
          ]
        },
        {
          "output_type": "stream",
          "name": "stdout",
          "text": [
            "grad dF dla:  0.1135231096001106\n",
            "grad dF dmu:  0.11333204639409847\n",
            "dual_value 54.13745457330941\n",
            "grad dF dla:  0.1135231209122887\n",
            "grad dF dmu:  0.11333205769050925\n",
            "dual_value 54.137455099183406\n",
            "la grad  0.3005240591976962\n",
            "mu grad 0.1604108920305321\n"
          ]
        },
        {
          "output_type": "stream",
          "name": "stderr",
          "text": [
            "\n",
            "  1%|          | 1/100 [00:00<00:03, 28.32it/s]\n",
            " 27%|██▋       | 27/100 [00:02<00:05, 14.22it/s]"
          ]
        },
        {
          "output_type": "stream",
          "name": "stdout",
          "text": [
            "grad dF dla:  0.11352312092486182\n",
            "grad dF dmu:  0.11333205770306887\n",
            "dual_value 54.1374551080432\n",
            "grad dF dla:  0.11352312091857526\n",
            "grad dF dmu:  0.11333205769678907\n",
            "dual_value 54.1374551036122\n",
            "grad dF dla:  0.11352313106009503\n",
            "grad dF dmu:  0.11333206782417309\n",
            "dual_value 54.13745557478049\n",
            "la grad  0.3005240610165958\n",
            "mu grad 0.16041090637170055\n"
          ]
        },
        {
          "output_type": "stream",
          "name": "stderr",
          "text": [
            "\n",
            "  0%|          | 0/100 [00:00<?, ?it/s]\u001b[A"
          ]
        },
        {
          "output_type": "stream",
          "name": "stdout",
          "text": [
            "grad dF dla:  0.11352313107266818\n",
            "grad dF dmu:  0.11333206783673272\n",
            "dual_value 54.13745558364197\n"
          ]
        },
        {
          "output_type": "stream",
          "name": "stderr",
          "text": [
            "\r  1%|          | 1/100 [00:00<00:03, 30.42it/s]\n"
          ]
        },
        {
          "output_type": "stream",
          "name": "stdout",
          "text": [
            "grad dF dla:  0.11352313106638162\n",
            "grad dF dmu:  0.1133320678304529\n",
            "dual_value 54.13745557921011\n",
            "grad dF dla:  0.11352314019333103\n",
            "grad dF dmu:  0.11333207694468059\n",
            "dual_value 54.13745600296674\n",
            "la grad  0.30052406265623915\n",
            "mu grad 0.16041091927904938\n"
          ]
        },
        {
          "output_type": "stream",
          "name": "stderr",
          "text": [
            "\n",
            "  0%|          | 0/100 [00:00<?, ?it/s]\u001b[A"
          ]
        },
        {
          "output_type": "stream",
          "name": "stdout",
          "text": [
            "grad dF dla:  0.11352314020590416\n",
            "grad dF dmu:  0.11333207695724024\n",
            "dual_value"
          ]
        },
        {
          "output_type": "stream",
          "name": "stderr",
          "text": [
            "  1%|          | 1/100 [00:00<00:03, 31.55it/s]\n",
            " 29%|██▉       | 29/100 [00:02<00:04, 14.48it/s]"
          ]
        },
        {
          "output_type": "stream",
          "name": "stdout",
          "text": [
            " 54.13745601182989\n",
            "grad dF dla:  0.1135231401996176\n",
            "grad dF dmu:  0.11333207695096041\n",
            "dual_value 54.1374560073972\n",
            "grad dF dla:  0.11352314844290912\n",
            "grad dF dmu:  0.11333208518276178\n",
            "dual_value 54.13745638985975\n",
            "la grad  0.3005240641397567\n",
            "mu grad 0.16041093093758776\n"
          ]
        },
        {
          "output_type": "stream",
          "name": "stderr",
          "text": [
            "\n",
            "  0%|          | 0/100 [00:00<?, ?it/s]\u001b[A"
          ]
        },
        {
          "output_type": "stream",
          "name": "stdout",
          "text": [
            "grad dF dla:  0.11352314845548224\n",
            "grad dF dmu:  0.11333208519532138\n"
          ]
        },
        {
          "output_type": "stream",
          "name": "stderr",
          "text": [
            "\r  1%|          | 1/100 [00:00<00:03, 31.66it/s]\n"
          ]
        },
        {
          "output_type": "stream",
          "name": "stdout",
          "text": [
            "dual_value 54.13745639872455\n",
            "grad dF dla:  0.11352314844919566\n",
            "grad dF dmu:  0.11333208518904157\n",
            "dual_value 54.13745639429105\n",
            "grad dF dla:  0.1135231559192866\n",
            "grad dF dmu:  0.11333209264871998\n",
            "dual_value 54.13745674062125\n",
            "la grad  0.3005240654866645\n",
            "mu grad 0.16041094150341711\n"
          ]
        },
        {
          "output_type": "stream",
          "name": "stderr",
          "text": [
            "\n",
            "  0%|          | 0/100 [00:00<?, ?it/s]\u001b[A"
          ]
        },
        {
          "output_type": "stream",
          "name": "stdout",
          "text": [
            "grad dF dla:  0.11352315593185973\n",
            "grad dF dmu:  0.11333209266127961\n",
            "dual_value 54.1374567494877\n",
            "grad dF dla:  0.11352315592557317\n",
            "grad dF dmu:  0.1133320926549998\n",
            "dual_value "
          ]
        },
        {
          "output_type": "stream",
          "name": "stderr",
          "text": [
            "  1%|          | 1/100 [00:00<00:03, 29.01it/s]\n",
            " 31%|███       | 31/100 [00:02<00:04, 14.62it/s]"
          ]
        },
        {
          "output_type": "stream",
          "name": "stdout",
          "text": [
            "54.13745674505337\n",
            "grad dF dla:  0.11352316271618493\n",
            "grad dF dmu:  0.11333209943614601\n",
            "dual_value 54.137457059630854\n",
            "la grad  0.30052406671352205\n",
            "mu grad 0.1604109511089872\n"
          ]
        },
        {
          "output_type": "stream",
          "name": "stderr",
          "text": [
            "\n",
            "  0%|          | 0/100 [00:00<?, ?it/s]\u001b[A"
          ]
        },
        {
          "output_type": "stream",
          "name": "stdout",
          "text": [
            "grad dF dla:  0.11352316272875805\n",
            "grad dF dmu:  0.11333209944870565\n",
            "dual_value 54.137457068498925"
          ]
        },
        {
          "output_type": "stream",
          "name": "stderr",
          "text": [
            "\r  1%|          | 1/100 [00:00<00:04, 22.33it/s]\n"
          ]
        },
        {
          "output_type": "stream",
          "name": "stdout",
          "text": [
            "\n",
            "grad dF dla:  0.11352316272247148\n",
            "grad dF dmu:  0.11333209944242582\n",
            "dual_value 54.137457064063774\n",
            "grad dF dla:  0.11352316891354286\n",
            "grad dF dmu:  0.11333210562486727\n",
            "dual_value 54.137457350624146\n",
            "la grad  0.30052406783445335\n",
            "mu grad 0.16041095986726983\n"
          ]
        },
        {
          "output_type": "stream",
          "name": "stderr",
          "text": [
            "\n",
            "  1%|          | 1/100 [00:00<00:04, 21.50it/s]\n",
            " 33%|███▎      | 33/100 [00:02<00:04, 14.09it/s]"
          ]
        },
        {
          "output_type": "stream",
          "name": "stdout",
          "text": [
            "grad dF dla:  0.11352316892611598\n",
            "grad dF dmu:  0.1133321056374269\n",
            "dual_value 54.13745735949382\n",
            "grad dF dla:  0.11352316891982941\n",
            "grad dF dmu:  0.1133321056311471\n",
            "dual_value 54.137457355057876\n",
            "grad dF dla:  0.11352317457987943\n",
            "grad dF dmu:  0.11333211128330725\n",
            "dual_value 54.13745761680302\n",
            "la grad  0.3005240688615647\n",
            "mu grad 0.16041096787509798\n"
          ]
        },
        {
          "output_type": "stream",
          "name": "stderr",
          "text": [
            "\n",
            "  0%|          | 0/100 [00:00<?, ?it/s]\u001b[A"
          ]
        },
        {
          "output_type": "stream",
          "name": "stdout",
          "text": [
            "grad dF dla:  0.11352317459245255\n",
            "grad dF dmu:  0.11333211129586687\n",
            "dual_value "
          ]
        },
        {
          "output_type": "stream",
          "name": "stderr",
          "text": [
            "\r  1%|          | 1/100 [00:00<00:03, 25.67it/s]\n"
          ]
        },
        {
          "output_type": "stream",
          "name": "stdout",
          "text": [
            "54.137457625674294\n",
            "grad dF dla:  0.113523174586166\n",
            "grad dF dmu:  0.11333211128958706\n",
            "dual_value 54.137457621237544\n",
            "grad dF dla:  0.11352317977419701\n",
            "grad dF dmu:  0.11333211647038612\n",
            "dual_value 54.13745786092472\n",
            "la grad  0.30052406980528096\n",
            "mu grad 0.16041097521585554\n"
          ]
        },
        {
          "output_type": "stream",
          "name": "stderr",
          "text": [
            "\n",
            "  0%|          | 0/100 [00:00<?, ?it/s]\u001b[A"
          ]
        },
        {
          "output_type": "stream",
          "name": "stdout",
          "text": [
            "grad dF dla:  0.11352317978677015\n",
            "grad dF dmu:  0.11333211648294578\n"
          ]
        },
        {
          "output_type": "stream",
          "name": "stderr",
          "text": [
            "  1%|          | 1/100 [00:00<00:03, 26.72it/s]\n",
            " 35%|███▌      | 35/100 [00:02<00:04, 14.50it/s]"
          ]
        },
        {
          "output_type": "stream",
          "name": "stdout",
          "text": [
            "dual_value 54.13745786979758\n",
            "grad dF dla:  0.11352317978048361\n",
            "grad dF dmu:  0.11333211647666593\n",
            "dual_value 54.13745786536005\n",
            "grad dF dla:  0.11352318454752482\n",
            "grad dF dmu:  0.11333212123706193\n",
            "dual_value 54.13745808537383\n",
            "la grad  0.30052407067461845\n",
            "mu grad 0.16041098196165837\n"
          ]
        },
        {
          "output_type": "stream",
          "name": "stderr",
          "text": [
            "\n",
            "  1%|          | 1/100 [00:00<00:03, 25.88it/s]\n"
          ]
        },
        {
          "output_type": "stream",
          "name": "stdout",
          "text": [
            "grad dF dla:  0.11352318456009794\n",
            "grad dF dmu:  0.11333212124962157\n",
            "dual_value 54.13745809424828\n",
            "grad dF dla:  0.11352318455381138\n",
            "grad dF dmu:  0.11333212124334173\n",
            "dual_value 54.13745808980995\n",
            "grad dF dla:  0.1135231889441776\n",
            "grad dF dmu:  0.11333212562758768\n",
            "dual_value 54.13745829222118\n",
            "la grad  0.30052407147740684\n",
            "mu grad 0.1604109881751333\n"
          ]
        },
        {
          "output_type": "stream",
          "name": "stderr",
          "text": [
            "\n",
            "  1%|          | 1/100 [00:00<00:03, 28.31it/s]\n",
            " 37%|███▋      | 37/100 [00:02<00:04, 14.46it/s]"
          ]
        },
        {
          "output_type": "stream",
          "name": "stdout",
          "text": [
            "grad dF dla:  0.1135231889567507\n",
            "grad dF dmu:  0.1133321256401473\n",
            "dual_value 54.13745830109721\n",
            "grad dF dla:  0.11352318895046415\n",
            "grad dF dmu:  0.11333212563386748\n",
            "dual_value 54.137458296658096\n",
            "grad dF dla:  0.1135231930027887\n",
            "grad dF dmu:  0.11333212968054295\n",
            "dual_value 54.137458483272184\n",
            "la grad  0.3005240722204721\n",
            "mu grad 0.16041099391087824\n"
          ]
        },
        {
          "output_type": "stream",
          "name": "stderr",
          "text": [
            "\n",
            "  1%|          | 1/100 [00:00<00:03, 28.41it/s]\n"
          ]
        },
        {
          "output_type": "stream",
          "name": "stdout",
          "text": [
            "grad dF dla:  0.11352319301536183\n",
            "grad dF dmu:  0.11333212969310255\n",
            "dual_value 54.137458492149776\n",
            "grad dF dla:  0.11352319300907526\n",
            "grad dF dmu:  0.11333212968682274\n",
            "dual_value 54.13745848770988\n",
            "grad dF dla:  0.11352319675716238\n",
            "grad dF dmu:  0.11333213342968478\n",
            "dual_value 54.137458660106496\n",
            "la grad  0.30052407290978717\n",
            "mu grad 0.16041099921666618\n"
          ]
        },
        {
          "output_type": "stream",
          "name": "stderr",
          "text": [
            "\n",
            "  1%|          | 1/100 [00:00<00:04, 22.46it/s]\n",
            " 39%|███▉      | 39/100 [00:02<00:04, 14.04it/s]"
          ]
        },
        {
          "output_type": "stream",
          "name": "stdout",
          "text": [
            "grad dF dla:  0.11352319676973553\n",
            "grad dF dmu:  0.11333213344224438\n",
            "dual_value 54.13745866898565\n",
            "grad dF dla:  0.11352319676344896\n",
            "grad dF dmu:  0.11333213343596459\n",
            "dual_value 54.13745866454497\n",
            "grad dF dla:  0.11352320023698038\n",
            "grad dF dmu:  0.11333213690465356\n",
            "dual_value 54.13745882411115\n",
            "la grad  0.3005240735505962\n",
            "mu grad 0.16041100413444423\n"
          ]
        },
        {
          "output_type": "stream",
          "name": "stderr",
          "text": [
            "\n",
            "  1%|          | 1/100 [00:00<00:03, 28.29it/s]\n"
          ]
        },
        {
          "output_type": "stream",
          "name": "stdout",
          "text": [
            "grad dF dla:  0.11352320024955352\n",
            "grad dF dmu:  0.11333213691721321\n",
            "dual_value 54.137458832991875\n",
            "grad dF dla:  0.11352320024326697\n",
            "grad dF dmu:  0.11333213691093338\n",
            "dual_value 54.13745882855041\n",
            "grad dF dla:  0.1135232034683909\n",
            "grad dF dmu:  0.11333214013156112\n",
            "dual_value 54.13745897650807\n",
            "la grad  0.30052407414751914\n",
            "mu grad 0.16041100870116579\n"
          ]
        },
        {
          "output_type": "stream",
          "name": "stderr",
          "text": [
            "\n",
            "  1%|          | 1/100 [00:00<00:03, 25.24it/s]\n",
            " 41%|████      | 41/100 [00:03<00:04, 13.87it/s]"
          ]
        },
        {
          "output_type": "stream",
          "name": "stdout",
          "text": [
            "grad dF dla:  0.11352320348096404\n",
            "grad dF dmu:  0.11333214014412073\n",
            "dual_value 54.13745898539034\n",
            "grad dF dla:  0.11352320347467747\n",
            "grad dF dmu:  0.11333214013784092\n",
            "dual_value 54.1374589809481\n",
            "grad dF dla:  0.11352320647450166\n",
            "grad dF dmu:  0.11333214313348285\n",
            "dual_value 54.13745911837708\n",
            "la grad  0.300524074704639\n",
            "mu grad 0.16041101294948729\n"
          ]
        },
        {
          "output_type": "stream",
          "name": "stderr",
          "text": [
            "\n",
            "  1%|          | 1/100 [00:00<00:03, 31.81it/s]\n"
          ]
        },
        {
          "output_type": "stream",
          "name": "stdout",
          "text": [
            "grad dF dla:  0.1135232064870748\n",
            "grad dF dmu:  0.1133321431460425\n",
            "dual_value 54.137459127260904\n",
            "grad dF dla:  0.11352320648078822\n",
            "grad dF dmu:  0.11333214313976268\n",
            "dual_value 54.13745912281787\n",
            "grad dF dla:  0.11352320927579446\n",
            "grad dF dmu:  0.11333214593087215\n",
            "dual_value 54.137459250675334\n",
            "la grad  0.3005240752255746\n",
            "mu grad 0.1604110169083543\n"
          ]
        },
        {
          "output_type": "stream",
          "name": "stderr",
          "text": [
            "\n",
            "  0%|          | 0/100 [00:00<?, ?it/s]\u001b[A"
          ]
        },
        {
          "output_type": "stream",
          "name": "stdout",
          "text": [
            "grad dF dla:  0.1135232092883676\n",
            "grad dF dmu:  0.11333214594343179\n",
            "dual_value 54.1374592595607\n"
          ]
        },
        {
          "output_type": "stream",
          "name": "stderr",
          "text": [
            "  1%|          | 1/100 [00:00<00:03, 28.65it/s]\n",
            " 43%|████▎     | 43/100 [00:03<00:04, 14.22it/s]"
          ]
        },
        {
          "output_type": "stream",
          "name": "stdout",
          "text": [
            "grad dF dla:  0.11352320928208105\n",
            "grad dF dmu:  0.11333214593715196\n",
            "dual_value 54.13745925511691\n",
            "grad dF dla:  0.11352321189047543\n",
            "grad dF dmu:  0.11333214854190969\n",
            "dual_value 54.13745937425358\n",
            "la grad  0.3005240757135426\n",
            "mu grad 0.16041102060349616\n"
          ]
        },
        {
          "output_type": "stream",
          "name": "stderr",
          "text": [
            "\n",
            "  1%|          | 1/100 [00:00<00:03, 29.08it/s]\n"
          ]
        },
        {
          "output_type": "stream",
          "name": "stdout",
          "text": [
            "grad dF dla:  0.11352321190304855\n",
            "grad dF dmu:  0.11333214855446928\n",
            "dual_value 54.13745938314048\n",
            "grad dF dla:  0.113523211896762\n",
            "grad dF dmu:  0.11333214854818947\n",
            "dual_value 54.13745937869593\n",
            "grad dF dla:  0.11352321433477168\n",
            "grad dF dmu:  0.11333215098279996\n",
            "dual_value 54.13745948987014\n",
            "la grad  0.30052407617141025\n",
            "mu grad 0.16041102405784544\n"
          ]
        },
        {
          "output_type": "stream",
          "name": "stderr",
          "text": [
            "\n",
            "  0%|          | 0/100 [00:00<?, ?it/s]\u001b[A"
          ]
        },
        {
          "output_type": "stream",
          "name": "stdout",
          "text": [
            "grad dF dla:  0.1135232143473448"
          ]
        },
        {
          "output_type": "stream",
          "name": "stderr",
          "text": [
            "  1%|          | 1/100 [00:00<00:03, 28.82it/s]\n",
            " 45%|████▌     | 45/100 [00:03<00:03, 14.45it/s]"
          ]
        },
        {
          "output_type": "stream",
          "name": "stdout",
          "text": [
            "\n",
            "grad dF dmu:  0.11333215099535955\n",
            "dual_value 54.137459498758595\n",
            "grad dF dla:  0.11352321434105825\n",
            "grad dF dmu:  0.11333215098907974\n",
            "dual_value 54.13745949431326\n",
            "grad dF dla:  0.11352321662318408\n",
            "grad dF dmu:  0.11333215326802365\n",
            "dual_value 54.13745959820264\n",
            "la grad  0.3005240766017396\n",
            "mu grad 0.1604110272918953\n"
          ]
        },
        {
          "output_type": "stream",
          "name": "stderr",
          "text": [
            "\n",
            "  0%|          | 0/100 [00:00<?, ?it/s]\u001b[A"
          ]
        },
        {
          "output_type": "stream",
          "name": "stdout",
          "text": [
            "grad dF dla:  0.11352321663575721\n",
            "grad dF dmu:  0.11333215328058326\n",
            "dual_value 54.137459607092616\n"
          ]
        },
        {
          "output_type": "stream",
          "name": "stderr",
          "text": [
            "\r  1%|          | 1/100 [00:00<00:03, 29.07it/s]"
          ]
        },
        {
          "output_type": "stream",
          "name": "stdout",
          "text": [
            "grad dF dla:  0.11352321662947067\n",
            "grad dF dmu:  0.11333215327430345\n",
            "dual_value 54.13745960264651\n"
          ]
        },
        {
          "output_type": "stream",
          "name": "stderr",
          "text": [
            "\n"
          ]
        },
        {
          "output_type": "stream",
          "name": "stdout",
          "text": [
            "grad dF dla:  0.113523218768703\n",
            "grad dF dmu:  0.11333215541055298\n",
            "dual_value 54.137459699858134\n",
            "la grad  0.30052407700682576\n",
            "mu grad 0.16041103032400403\n"
          ]
        },
        {
          "output_type": "stream",
          "name": "stderr",
          "text": [
            "\n",
            "  0%|          | 0/100 [00:00<?, ?it/s]\u001b[A"
          ]
        },
        {
          "output_type": "stream",
          "name": "stdout",
          "text": [
            "grad dF dla:  0.11352321878127614\n",
            "grad dF dmu:  0.1133321554231126\n"
          ]
        },
        {
          "output_type": "stream",
          "name": "stderr",
          "text": [
            "  1%|          | 1/100 [00:00<00:04, 23.00it/s]\n",
            " 47%|████▋     | 47/100 [00:03<00:03, 14.41it/s]"
          ]
        },
        {
          "output_type": "stream",
          "name": "stdout",
          "text": [
            "dual_value 54.13745970874965\n",
            "grad dF dla:  0.11352321877498955\n",
            "grad dF dmu:  0.11333215541683282\n",
            "dual_value 54.13745970430278\n",
            "grad dF dla:  0.11352322078299323\n",
            "grad dF dmu:  0.11333215742203656\n",
            "dual_value 54.13745979538171\n",
            "la grad  0.30052407738873005\n",
            "mu grad 0.1604110331706566\n"
          ]
        },
        {
          "output_type": "stream",
          "name": "stderr",
          "text": [
            "\n",
            "  1%|          | 1/100 [00:00<00:03, 27.12it/s]\n"
          ]
        },
        {
          "output_type": "stream",
          "name": "stdout",
          "text": [
            "grad dF dla:  0.11352322079556634\n",
            "grad dF dmu:  0.11333215743459617\n",
            "dual_value 54.137459804274755\n",
            "grad dF dla:  0.1135232207892798\n",
            "grad dF dmu:  0.11333215742831636\n",
            "dual_value 54.13745979982711\n",
            "grad dF dla:  0.11352322267655308\n",
            "grad dF dmu:  0.11333215931295802\n",
            "dual_value 54.13745988526396\n",
            "la grad  0.30052407774930695\n",
            "mu grad 0.16041103584668964\n"
          ]
        },
        {
          "output_type": "stream",
          "name": "stderr",
          "text": [
            "\n",
            "  0%|          | 0/100 [00:00<?, ?it/s]\u001b[A"
          ]
        },
        {
          "output_type": "stream",
          "name": "stdout",
          "text": [
            "grad dF dla:  0.1135232226891262\n",
            "grad dF dmu:  0.11333215932551766\n",
            "dual_value 54.13745989415853\n"
          ]
        },
        {
          "output_type": "stream",
          "name": "stderr",
          "text": [
            "  1%|          | 1/100 [00:00<00:03, 26.19it/s]\n",
            " 49%|████▉     | 49/100 [00:03<00:03, 13.86it/s]"
          ]
        },
        {
          "output_type": "stream",
          "name": "stdout",
          "text": [
            "grad dF dla:  0.11352322268283965\n",
            "grad dF dmu:  0.11333215931923783\n",
            "dual_value 54.13745988971014\n",
            "grad dF dla:  0.11352322445885167\n",
            "grad dF dmu:  0.11333216109277326\n",
            "dual_value 54.1374599699474\n",
            "la grad  0.3005240780902298\n",
            "mu grad 0.16041103836548506\n"
          ]
        },
        {
          "output_type": "stream",
          "name": "stderr",
          "text": [
            "\n",
            "  1%|          | 1/100 [00:00<00:03, 30.18it/s]\n"
          ]
        },
        {
          "output_type": "stream",
          "name": "stdout",
          "text": [
            "grad dF dla:  0.1135232244714248\n",
            "grad dF dmu:  0.11333216110533288\n",
            "dual_value 54.137459978843495\n",
            "grad dF dla:  0.11352322446513823\n",
            "grad dF dmu:  0.11333216109905309\n",
            "dual_value 54.13745997439433\n",
            "grad dF dla:  0.11352322613844756\n",
            "grad dF dmu:  0.11333216277002894\n",
            "dual_value 54.13746004983196\n",
            "la grad  0.3005240784130107\n",
            "mu grad 0.16041104073913814\n"
          ]
        },
        {
          "output_type": "stream",
          "name": "stderr",
          "text": [
            "\n",
            "  1%|          | 1/100 [00:00<00:03, 27.49it/s]\n",
            " 51%|█████     | 51/100 [00:03<00:03, 13.99it/s]"
          ]
        },
        {
          "output_type": "stream",
          "name": "stdout",
          "text": [
            "grad dF dla:  0.11352322615102067\n",
            "grad dF dmu:  0.11333216278258856\n",
            "dual_value 54.13746005872958\n",
            "grad dF dla:  0.11352322614473413\n",
            "grad dF dmu:  0.11333216277630875\n",
            "dual_value 54.13746005427965\n",
            "grad dF dla:  0.11352322772309192\n",
            "grad dF dmu:  0.11333216435246543\n",
            "dual_value 54.137460125279844\n",
            "la grad  0.3005240787190192\n",
            "mu grad 0.160411042978603\n"
          ]
        },
        {
          "output_type": "stream",
          "name": "stderr",
          "text": [
            "\n",
            "  0%|          | 0/100 [00:00<?, ?it/s]\u001b[A"
          ]
        },
        {
          "output_type": "stream",
          "name": "stdout",
          "text": [
            "grad dF dla:  0.11352322773566506\n",
            "grad dF dmu:  0.11333216436502505\n",
            "dual_value 54.137460134178994\n"
          ]
        },
        {
          "output_type": "stream",
          "name": "stderr",
          "text": [
            "\r  1%|          | 1/100 [00:00<00:03, 25.95it/s]"
          ]
        },
        {
          "output_type": "stream",
          "name": "stdout",
          "text": [
            "grad dF dla:  0.11352322772937848\n",
            "grad dF dmu:  0.11333216435874523\n",
            "dual_value 54.137460129728304\n",
            "grad dF dla:  0.11352322921981824\n",
            "grad dF dmu:  0.11333216584710643\n"
          ]
        },
        {
          "output_type": "stream",
          "name": "stderr",
          "text": [
            "\n"
          ]
        },
        {
          "output_type": "stream",
          "name": "stdout",
          "text": [
            "dual_value 54.13746019661975\n",
            "la grad  0.3005240790094981\n",
            "mu grad 0.16041104509381962\n"
          ]
        },
        {
          "output_type": "stream",
          "name": "stderr",
          "text": [
            "\n",
            "  1%|          | 1/100 [00:00<00:03, 28.74it/s]\n",
            " 53%|█████▎    | 53/100 [00:03<00:03, 13.90it/s]"
          ]
        },
        {
          "output_type": "stream",
          "name": "stdout",
          "text": [
            "grad dF dla:  0.11352322923239137\n",
            "grad dF dmu:  0.11333216585966606\n",
            "dual_value 54.13746020552042\n",
            "grad dF dla:  0.1135232292261048\n",
            "grad dF dmu:  0.11333216585338622\n",
            "dual_value 54.137460201068976\n",
            "grad dF dla:  0.11352323063502057\n",
            "grad dF dmu:  0.11333216726033703\n",
            "dual_value 54.13746026415049\n",
            "la grad  0.30052407928557695\n",
            "mu grad 0.1604110470938242\n"
          ]
        },
        {
          "output_type": "stream",
          "name": "stderr",
          "text": [
            "\n",
            "  1%|          | 1/100 [00:00<00:03, 28.08it/s]"
          ]
        },
        {
          "output_type": "stream",
          "name": "stdout",
          "text": [
            "grad dF dla:  0.11352323064759369\n",
            "grad dF dmu:  0.11333216727289668\n",
            "dual_value 54.137460273052675\n",
            "grad dF dla:  0.11352323064130712\n",
            "grad dF dmu:  0.11333216726661687\n",
            "dual_value 54.13746026860047\n"
          ]
        },
        {
          "output_type": "stream",
          "name": "stderr",
          "text": [
            "\n"
          ]
        },
        {
          "output_type": "stream",
          "name": "stdout",
          "text": [
            "grad dF dla:  0.11352323197452209\n",
            "grad dF dmu:  0.11333216859797238\n",
            "dual_value 54.13746032814416\n",
            "la grad  0.3005240795482848\n",
            "mu grad 0.16041104898684627\n"
          ]
        },
        {
          "output_type": "stream",
          "name": "stderr",
          "text": [
            "\n",
            "  1%|          | 1/100 [00:00<00:03, 25.17it/s]\n",
            " 55%|█████▌    | 55/100 [00:04<00:03, 14.01it/s]"
          ]
        },
        {
          "output_type": "stream",
          "name": "stdout",
          "text": [
            "grad dF dla:  0.11352323198709521\n",
            "grad dF dmu:  0.11333216861053201\n",
            "dual_value 54.13746033704786\n",
            "grad dF dla:  0.11352323198080866\n",
            "grad dF dmu:  0.11333216860425217\n",
            "dual_value 54.1374603325949\n",
            "grad dF dla:  0.11352323324363517\n",
            "grad dF dmu:  0.11333216986531734\n",
            "dual_value 54.137460388849\n",
            "la grad  0.30052407979856016\n",
            "mu grad 0.16041105078039333\n"
          ]
        },
        {
          "output_type": "stream",
          "name": "stderr",
          "text": [
            "\n",
            "  0%|          | 0/100 [00:00<?, ?it/s]\n"
          ]
        },
        {
          "output_type": "stream",
          "name": "stdout",
          "text": [
            "grad dF dla:  0.11352279255476876\n",
            "grad dF dmu:  0.11333172979065473\n",
            "dual_value 54.13743980352479\n",
            "grad dF dla:  0.11352280885351178\n",
            "grad dF dmu:  0.11333174606668014\n",
            "dual_value 54.137440562271635\n",
            "la grad  0.3005240049155181\n",
            "mu grad 0.1604104510202295\n"
          ]
        },
        {
          "output_type": "stream",
          "name": "stderr",
          "text": [
            "\n",
            "  0%|          | 0/100 [00:00<?, ?it/s]\u001b[A"
          ]
        },
        {
          "output_type": "stream",
          "name": "stdout",
          "text": [
            "grad dF dla:  0.11352280886608489\n",
            "grad dF dmu:  0.11333174607923979\n",
            "dual_value 54.1374405711741\n"
          ]
        },
        {
          "output_type": "stream",
          "name": "stderr",
          "text": [
            "  1%|          | 1/100 [00:00<00:04, 20.01it/s]\n",
            " 57%|█████▋    | 57/100 [00:04<00:03, 14.32it/s]"
          ]
        },
        {
          "output_type": "stream",
          "name": "stdout",
          "text": [
            "grad dF dla:  0.11352280885979835\n",
            "grad dF dmu:  0.11333174607295997\n",
            "dual_value 54.13744056672176\n",
            "grad dF dla:  0.11352282432957822\n",
            "grad dF dmu:  0.11333176152117767\n",
            "dual_value 54.13744128673796\n",
            "la grad  0.30052400767345144\n",
            "mu grad 0.1604104728914461\n"
          ]
        },
        {
          "output_type": "stream",
          "name": "stderr",
          "text": [
            "\n",
            "  0%|          | 0/100 [00:00<?, ?it/s]\u001b[A"
          ]
        },
        {
          "output_type": "stream",
          "name": "stdout",
          "text": [
            "grad dF dla:  0.11352282434215136\n",
            "grad dF dmu:  0.1133317615337373\n",
            "dual_value"
          ]
        },
        {
          "output_type": "stream",
          "name": "stderr",
          "text": [
            "\r  1%|          | 1/100 [00:00<00:03, 29.34it/s]\n"
          ]
        },
        {
          "output_type": "stream",
          "name": "stdout",
          "text": [
            " 54.137441295642084\n",
            "grad dF dla:  0.1135228243358648\n",
            "grad dF dmu:  0.11333176152745747\n",
            "dual_value 54.137441291188914\n",
            "grad dF dla:  0.11352283903194596\n",
            "grad dF dmu:  0.1133317762030548\n",
            "dual_value 54.1374419750565\n",
            "la grad  0.3005240102948136\n",
            "mu grad 0.16041049366924975\n"
          ]
        },
        {
          "output_type": "stream",
          "name": "stderr",
          "text": [
            "\n",
            "  1%|          | 1/100 [00:00<00:03, 25.93it/s]\n",
            " 59%|█████▉    | 59/100 [00:04<00:02, 14.42it/s]"
          ]
        },
        {
          "output_type": "stream",
          "name": "stdout",
          "text": [
            "grad dF dla:  0.11352283904451911\n",
            "grad dF dmu:  0.11333177621561441\n",
            "dual_value 54.13744198396226\n",
            "grad dF dla:  0.11352283903823254\n",
            "grad dF dmu:  0.11333177620933459\n",
            "dual_value 54.13744197950827\n",
            "grad dF dla:  0.11352285301134947\n",
            "grad dF dmu:  0.1133317901629753\n",
            "dual_value 54.1374426295976\n",
            "la grad  0.30052401278856034\n",
            "mu grad 0.1604105134253398\n"
          ]
        },
        {
          "output_type": "stream",
          "name": "stderr",
          "text": [
            "\n",
            "  0%|          | 0/100 [00:00<?, ?it/s]\u001b[A"
          ]
        },
        {
          "output_type": "stream",
          "name": "stdout",
          "text": [
            "grad dF dla:  0.11352285302392259\n",
            "grad dF dmu:  0.11333179017553492\n",
            "dual_value 54.137442638505\n"
          ]
        },
        {
          "output_type": "stream",
          "name": "stderr",
          "text": [
            "\r  1%|          | 1/100 [00:00<00:04, 24.03it/s]"
          ]
        },
        {
          "output_type": "stream",
          "name": "stdout",
          "text": [
            "grad dF dla:  0.11352285301763601\n",
            "grad dF dmu:  0.11333179016925514\n",
            "dual_value 54.137442634050196\n",
            "grad dF dla:  0.11352286631443166\n",
            "grad dF dmu:  0.11333180344751718\n"
          ]
        },
        {
          "output_type": "stream",
          "name": "stderr",
          "text": [
            "\n"
          ]
        },
        {
          "output_type": "stream",
          "name": "stdout",
          "text": [
            "dual_value 54.13744325254047\n",
            "la grad  0.3005240151629252\n",
            "mu grad 0.16041053222563348\n"
          ]
        },
        {
          "output_type": "stream",
          "name": "stderr",
          "text": [
            "\n",
            "  0%|          | 0/100 [00:00<?, ?it/s]\n",
            " 61%|██████    | 61/100 [00:04<00:02, 14.80it/s]"
          ]
        },
        {
          "output_type": "stream",
          "name": "stdout",
          "text": [
            "grad dF dla:  0.11352198493596273\n",
            "grad dF dmu:  0.11333092329748513\n",
            "dual_value 54.13740208223816\n",
            "grad dF dla:  0.11352202538938858\n",
            "grad dF dmu:  0.11333096369452618\n",
            "dual_value 54.137403969357955\n",
            "la grad  0.3005238668326304\n",
            "mu grad 0.16040934380652205\n"
          ]
        },
        {
          "output_type": "stream",
          "name": "stderr",
          "text": [
            "\n",
            "  0%|          | 0/100 [00:00<?, ?it/s]\u001b[A"
          ]
        },
        {
          "output_type": "stream",
          "name": "stdout",
          "text": [
            "grad dF dla:  0.11352202540196171\n",
            "grad dF dmu:  0.11333096370708583\n"
          ]
        },
        {
          "output_type": "stream",
          "name": "stderr",
          "text": [
            "\r  1%|          | 1/100 [00:00<00:05, 19.12it/s]\n"
          ]
        },
        {
          "output_type": "stream",
          "name": "stdout",
          "text": [
            "dual_value 54.13740397826434\n",
            "grad dF dla:  0.11352202539567516\n",
            "grad dF dmu:  0.11333096370080602\n",
            "dual_value 54.13740397381004\n",
            "grad dF dla:  0.11352206395264099\n",
            "grad dF dmu:  0.11333100220403039\n",
            "dual_value 54.137405772333054\n",
            "la grad  0.3005238736633027\n",
            "mu grad 0.1604093983052036\n"
          ]
        },
        {
          "output_type": "stream",
          "name": "stderr",
          "text": [
            "\n",
            "  0%|          | 0/100 [00:00<?, ?it/s]\u001b[A"
          ]
        },
        {
          "output_type": "stream",
          "name": "stdout",
          "text": [
            "grad dF dla:  0.11352206396521411\n",
            "grad dF dmu:  0.11333100221659\n"
          ]
        },
        {
          "output_type": "stream",
          "name": "stderr",
          "text": [
            "  1%|          | 1/100 [00:00<00:03, 26.69it/s]\n",
            " 63%|██████▎   | 63/100 [00:04<00:02, 14.15it/s]"
          ]
        },
        {
          "output_type": "stream",
          "name": "stdout",
          "text": [
            "dual_value 54.13740578124118\n",
            "grad dF dla:  0.11352206395892753\n",
            "grad dF dmu:  0.1133310022103102\n",
            "dual_value 54.137405776786004\n",
            "grad dF dla:  0.11352210073613937\n",
            "grad dF dmu:  0.11333103893626124\n",
            "dual_value 54.137407492164265\n",
            "la grad  0.30052388017993814\n",
            "mu grad 0.16040945028868636\n"
          ]
        },
        {
          "output_type": "stream",
          "name": "stderr",
          "text": [
            "\n",
            "  0%|          | 0/100 [00:00<?, ?it/s]\n"
          ]
        },
        {
          "output_type": "stream",
          "name": "stdout",
          "text": [
            "grad dF dla:  0.11352033797636328\n",
            "grad dF dmu:  0.11332927863347927\n",
            "dual_value 54.13732515299006\n",
            "grad dF dla:  0.11352042611744705\n",
            "grad dF dmu:  0.11332936665170393\n",
            "dual_value 54.13732926763183\n",
            "la grad  0.3005235848450849\n",
            "mu grad 0.16040708367015186\n"
          ]
        },
        {
          "output_type": "stream",
          "name": "stderr",
          "text": [
            "\n",
            "  0%|          | 0/100 [00:00<?, ?it/s]\u001b[A"
          ]
        },
        {
          "output_type": "stream",
          "name": "stdout",
          "text": [
            "grad dF dla:  0.11352042613002016\n",
            "grad dF dmu:  0.11332936666426356\n",
            "dual_value 54.13732927653911\n",
            "grad dF dla:  0.11352042612373361"
          ]
        },
        {
          "output_type": "stream",
          "name": "stderr",
          "text": [
            "  1%|          | 1/100 [00:00<00:05, 17.98it/s]\n",
            " 65%|██████▌   | 65/100 [00:04<00:02, 14.28it/s]"
          ]
        },
        {
          "output_type": "stream",
          "name": "stdout",
          "text": [
            "\n",
            "grad dF dmu:  0.11332936665798375\n",
            "dual_value 54.13732927208436\n",
            "grad dF dla:  0.1135205103179649\n",
            "grad dF dmu:  0.11332945073485774\n",
            "dual_value 54.13733320235896\n",
            "la grad  0.30052359972461734\n",
            "mu grad 0.16040720266470493\n"
          ]
        },
        {
          "output_type": "stream",
          "name": "stderr",
          "text": [
            "\n",
            "  0%|          | 0/100 [00:00<?, ?it/s]\u001b[A"
          ]
        },
        {
          "output_type": "stream",
          "name": "stdout",
          "text": [
            "grad dF dla:  0.113520510330538\n",
            "grad dF dmu:  0.11332945074741732\n",
            "dual_value 54.13733321126811\n"
          ]
        },
        {
          "output_type": "stream",
          "name": "stderr",
          "text": [
            "\r  1%|          | 1/100 [00:00<00:04, 23.22it/s]"
          ]
        },
        {
          "output_type": "stream",
          "name": "stdout",
          "text": [
            "grad dF dla:  0.11352051032425146\n",
            "grad dF dmu:  0.11332945074113754\n",
            "dual_value 54.13733320681242\n",
            "grad dF dla: "
          ]
        },
        {
          "output_type": "stream",
          "name": "stderr",
          "text": [
            "\n"
          ]
        },
        {
          "output_type": "stream",
          "name": "stdout",
          "text": [
            " 0.1135205908038017\n",
            "grad dF dmu:  0.11332953110850863\n",
            "dual_value 54.137336963564735\n",
            "la grad  0.30052361394887156\n",
            "mu grad 0.160407316409566\n"
          ]
        },
        {
          "output_type": "stream",
          "name": "stderr",
          "text": [
            "\n",
            "  0%|          | 0/100 [00:00<?, ?it/s]\u001b[A"
          ]
        },
        {
          "output_type": "stream",
          "name": "stdout",
          "text": [
            "grad dF dla:  0.11352059081637482\n",
            "grad dF dmu:  0.11332953112106825\n",
            "dual_value 54.137336972475715\n",
            "grad dF dla:  0.11352059081008826\n",
            "grad dF dmu:  0.11332953111478845\n"
          ]
        },
        {
          "output_type": "stream",
          "name": "stderr",
          "text": [
            "  1%|          | 1/100 [00:00<00:04, 23.12it/s]\n",
            " 67%|██████▋   | 67/100 [00:04<00:02, 14.24it/s]"
          ]
        },
        {
          "output_type": "stream",
          "name": "stdout",
          "text": [
            "dual_value 54.13733696801911\n",
            "grad dF dla:  0.11352066779030456\n",
            "grad dF dmu:  0.11332960798770353\n",
            "dual_value 54.13734056130817\n",
            "la grad  0.30052362755583484\n",
            "mu grad 0.1604074252090696\n"
          ]
        },
        {
          "output_type": "stream",
          "name": "stderr",
          "text": [
            "\n",
            "  0%|          | 0/100 [00:00<?, ?it/s]\u001b[A"
          ]
        },
        {
          "output_type": "stream",
          "name": "stdout",
          "text": [
            "grad dF dla:  0.1135206678028777\n",
            "grad dF dmu:  0.11332960800026315\n",
            "dual_value 54.13734057022098\n"
          ]
        },
        {
          "output_type": "stream",
          "name": "stderr",
          "text": [
            "\r  1%|          | 1/100 [00:00<00:03, 26.13it/s]\n"
          ]
        },
        {
          "output_type": "stream",
          "name": "stdout",
          "text": [
            "grad dF dla:  0.11352066779659113\n",
            "grad dF dmu:  0.11332960799398335\n",
            "dual_value 54.137340565763466\n",
            "grad dF dla:  0.11352074147743843\n",
            "grad dF dmu:  0.1133296815721286\n",
            "dual_value 54.13734400492988\n",
            "la grad  0.30052364058078146\n",
            "mu grad 0.1604075293458118\n"
          ]
        },
        {
          "output_type": "stream",
          "name": "stderr",
          "text": [
            "\n",
            "  0%|          | 0/100 [00:00<?, ?it/s]\u001b[A"
          ]
        },
        {
          "output_type": "stream",
          "name": "stdout",
          "text": [
            "grad dF dla:  0.11352074149001155\n",
            "grad dF dmu:  0.11332968158468823\n",
            "dual_value 54.1373440138445\n"
          ]
        },
        {
          "output_type": "stream",
          "name": "stderr",
          "text": [
            "\r  1%|          | 1/100 [00:00<00:03, 25.05it/s]"
          ]
        },
        {
          "output_type": "stream",
          "name": "stdout",
          "text": [
            "grad dF dla:  0.113520741483725\n",
            "grad dF dmu:  0.1133296815784084\n",
            "dual_value 54.13734400938608\n"
          ]
        },
        {
          "output_type": "stream",
          "name": "stderr",
          "text": [
            "\n",
            "\r 69%|██████▉   | 69/100 [00:05<00:02, 14.19it/s]"
          ]
        },
        {
          "output_type": "stream",
          "name": "stdout",
          "text": [
            "grad dF dla:  0.1135208120510859\n",
            "grad dF dmu:  0.1133297520474073\n",
            "dual_value 54.13734730311259\n",
            "la grad  0.30052365305650086\n",
            "mu grad 0.16040762908248718\n"
          ]
        },
        {
          "output_type": "stream",
          "name": "stderr",
          "text": [
            "\n",
            "  0%|          | 0/100 [00:00<?, ?it/s]\u001b[A"
          ]
        },
        {
          "output_type": "stream",
          "name": "stdout",
          "text": [
            "grad dF dla:  0.11352081206365902\n",
            "grad dF dmu:  0.1133297520599669\n",
            "dual_value 54.137347312029\n"
          ]
        },
        {
          "output_type": "stream",
          "name": "stderr",
          "text": [
            "\r  1%|          | 1/100 [00:00<00:03, 26.44it/s]"
          ]
        },
        {
          "output_type": "stream",
          "name": "stdout",
          "text": [
            "grad dF dla:  0.11352081205737247\n",
            "grad dF dmu:  0.11332975205368712\n",
            "dual_value 54.13734730756969\n"
          ]
        },
        {
          "output_type": "stream",
          "name": "stderr",
          "text": [
            "\n"
          ]
        },
        {
          "output_type": "stream",
          "name": "stdout",
          "text": [
            "grad dF dla:  0.11352087968422088\n",
            "grad dF dmu:  0.11332981958627242\n",
            "dual_value 54.137350463936166\n",
            "la grad  0.30052366501350636\n",
            "mu grad 0.16040772466354733\n"
          ]
        },
        {
          "output_type": "stream",
          "name": "stderr",
          "text": [
            "\n",
            "  0%|          | 0/100 [00:00<?, ?it/s]\u001b[A"
          ]
        },
        {
          "output_type": "stream",
          "name": "stdout",
          "text": [
            "grad dF dla:  0.11352087969679399\n",
            "grad dF dmu:  0.11332981959883201\n"
          ]
        },
        {
          "output_type": "stream",
          "name": "stderr",
          "text": [
            "  1%|          | 1/100 [00:00<00:04, 24.16it/s]\n",
            " 71%|███████   | 71/100 [00:05<00:02, 13.88it/s]"
          ]
        },
        {
          "output_type": "stream",
          "name": "stdout",
          "text": [
            "dual_value 54.137350472854365\n",
            "grad dF dla:  0.11352087969050743\n",
            "grad dF dmu:  0.11332981959255221\n",
            "dual_value 54.13735046839415\n",
            "grad dF dla:  0.11352094453796951\n",
            "grad dF dmu:  0.11332988434962547\n",
            "dual_value 54.13735349492702\n",
            "la grad  0.3005236764802206\n",
            "mu grad 0.1604078163167002\n"
          ]
        },
        {
          "output_type": "stream",
          "name": "stderr",
          "text": [
            "\n",
            "  0%|          | 0/100 [00:00<?, ?it/s]\u001b[A"
          ]
        },
        {
          "output_type": "stream",
          "name": "stdout",
          "text": [
            "grad dF dla:  0.11352094455054264\n",
            "grad dF dmu:  0.11332988436218512\n",
            "dual_value 54.13735350384699\n",
            "grad dF dla:  0.11352094454425606\n",
            "grad dF dmu:  0.11332988435590527\n",
            "dual_value"
          ]
        },
        {
          "output_type": "stream",
          "name": "stderr",
          "text": [
            "\r  1%|          | 1/100 [00:00<00:04, 24.12it/s]\n"
          ]
        },
        {
          "output_type": "stream",
          "name": "stdout",
          "text": [
            " 54.13735349938589\n",
            "grad dF dla:  0.11352100676257093\n",
            "grad dF dmu:  0.11332994648749614\n",
            "dual_value 54.13735640310304\n",
            "la grad  0.30052368748314623\n",
            "mu grad 0.16040790425426804\n"
          ]
        },
        {
          "output_type": "stream",
          "name": "stderr",
          "text": [
            "\n",
            "  1%|          | 1/100 [00:00<00:03, 30.62it/s]\n",
            " 73%|███████▎  | 73/100 [00:05<00:01, 14.12it/s]"
          ]
        },
        {
          "output_type": "stream",
          "name": "stdout",
          "text": [
            "grad dF dla:  0.11352100677514405\n",
            "grad dF dmu:  0.11332994650005576\n",
            "dual_value 54.137356412024765\n",
            "grad dF dla:  0.11352100676885747\n",
            "grad dF dmu:  0.11332994649377597\n",
            "dual_value 54.13735640756279\n",
            "grad dF dla:  0.11352106649824814\n",
            "grad dF dmu:  0.11333000613991198\n",
            "dual_value 54.13735919501427\n",
            "la grad  0.30052369804701873\n",
            "mu grad 0.16040798867441786\n"
          ]
        },
        {
          "output_type": "stream",
          "name": "stderr",
          "text": [
            "\n",
            "  1%|          | 1/100 [00:00<00:03, 27.59it/s]\n"
          ]
        },
        {
          "output_type": "stream",
          "name": "stdout",
          "text": [
            "grad dF dla:  0.11352106651082126\n",
            "grad dF dmu:  0.1133300061524716\n",
            "dual_value 54.137359203937756\n",
            "grad dF dla:  0.1135210665045347\n",
            "grad dF dmu:  0.11333000614619178\n",
            "dual_value 54.13735919947489\n",
            "grad dF dla:  0.11352112387599879\n",
            "grad dF dmu:  0.113330063437688\n",
            "dual_value 54.13736187677985\n",
            "la grad  0.30052370819494634\n",
            "mu grad 0.16040806976227925\n"
          ]
        },
        {
          "output_type": "stream",
          "name": "stderr",
          "text": [
            "\n",
            "  0%|          | 0/100 [00:00<?, ?it/s]\u001b[A"
          ]
        },
        {
          "output_type": "stream",
          "name": "stdout",
          "text": [
            "grad dF dla:  0.11352112388857188\n",
            "grad dF dmu:  0.1133300634502476\n",
            "dual_value 54.13736188570507\n"
          ]
        },
        {
          "output_type": "stream",
          "name": "stderr",
          "text": [
            "  1%|          | 1/100 [00:00<00:04, 21.81it/s]\n",
            " 75%|███████▌  | 75/100 [00:05<00:01, 13.85it/s]"
          ]
        },
        {
          "output_type": "stream",
          "name": "stdout",
          "text": [
            "grad dF dla:  0.11352112388228533\n",
            "grad dF dmu:  0.1133300634439678\n",
            "dual_value 54.137361881241354\n",
            "grad dF dla:  0.11352117901831404\n",
            "grad dF dmu:  0.11333011850314466\n",
            "dual_value 54.13736445412157\n",
            "la grad  0.30052371794853694\n",
            "mu grad 0.16040814769096023\n"
          ]
        },
        {
          "output_type": "stream",
          "name": "stderr",
          "text": [
            "\n",
            "  0%|          | 0/100 [00:00<?, ?it/s]\u001b[A"
          ]
        },
        {
          "output_type": "stream",
          "name": "stdout",
          "text": [
            "grad dF dla:  0.11352117903088718\n",
            "grad dF dmu:  0.1133301185157043\n",
            "dual_value 54.137364463048506\n"
          ]
        },
        {
          "output_type": "stream",
          "name": "stderr",
          "text": [
            "\r  1%|          | 1/100 [00:00<00:03, 26.21it/s]\n"
          ]
        },
        {
          "output_type": "stream",
          "name": "stdout",
          "text": [
            "grad dF dla:  0.1135211790246006\n",
            "grad dF dmu:  0.11333011850942447\n",
            "dual_value 54.137364458583924\n",
            "grad dF dla:  0.11352123203983305\n",
            "grad dF dmu:  0.11333017145076126\n",
            "dual_value 54.137366932394414\n",
            "la grad  0.30052372732801325\n",
            "mu grad 0.16040822262247206\n"
          ]
        },
        {
          "output_type": "stream",
          "name": "stderr",
          "text": [
            "\n",
            "  1%|          | 1/100 [00:00<00:03, 27.29it/s]\n",
            " 77%|███████▋  | 77/100 [00:05<00:01, 13.74it/s]"
          ]
        },
        {
          "output_type": "stream",
          "name": "stdout",
          "text": [
            "grad dF dla:  0.11352123205240619\n",
            "grad dF dmu:  0.11333017146332086\n",
            "dual_value 54.137366941323094\n",
            "grad dF dla:  0.11352123204611961\n",
            "grad dF dmu:  0.11333017145704107\n",
            "dual_value 54.13736693685765\n",
            "grad dF dla:  0.11352128304793913\n",
            "grad dF dmu:  0.11333022238777142\n",
            "dual_value 54.137369316614524\n",
            "la grad  0.30052373635231766\n",
            "mu grad 0.16040829470857185\n"
          ]
        },
        {
          "output_type": "stream",
          "name": "stderr",
          "text": [
            "\n",
            "  1%|          | 1/100 [00:00<00:05, 18.10it/s]\n"
          ]
        },
        {
          "output_type": "stream",
          "name": "stdout",
          "text": [
            "grad dF dla:  0.11352128306051225\n",
            "grad dF dmu:  0.11333022240033103\n",
            "dual_value 54.1373693255449\n",
            "grad dF dla:  0.1135212830542257\n",
            "grad dF dmu:  0.11333022239405124\n",
            "dual_value 54.13736932107861\n",
            "grad dF dla:  0.11352133214330408\n",
            "grad dF dmu:  0.11333027141470661\n",
            "dual_value 54.13737161148447\n",
            "la grad  0.3005237450392092\n",
            "mu grad 0.1604083640915318\n"
          ]
        },
        {
          "output_type": "stream",
          "name": "stderr",
          "text": [
            "\n",
            "  1%|          | 1/100 [00:00<00:04, 20.72it/s]\n",
            " 79%|███████▉  | 79/100 [00:05<00:01, 13.10it/s]"
          ]
        },
        {
          "output_type": "stream",
          "name": "stdout",
          "text": [
            "grad dF dla:  0.1135213321558772\n",
            "grad dF dmu:  0.11333027142726623\n",
            "dual_value 54.13737162041656\n",
            "grad dF dla:  0.11352133214959063\n",
            "grad dF dmu:  0.11333027142098644\n",
            "dual_value 54.13737161594941\n",
            "grad dF dla:  0.1135213794203853\n",
            "grad dF dmu:  0.11333031862589259\n",
            "dual_value 54.13737382141655\n",
            "la grad  0.3005237534053505\n",
            "mu grad 0.16040843090484183\n"
          ]
        },
        {
          "output_type": "stream",
          "name": "stderr",
          "text": [
            "\n",
            "  0%|          | 0/100 [00:00<?, ?it/s]\u001b[A"
          ]
        },
        {
          "output_type": "stream",
          "name": "stdout",
          "text": [
            "grad dF dla:  0.11352137943295841\n",
            "grad dF dmu:  0.1133303186384522\n",
            "dual_value 54.13737383035035\n",
            "grad dF dla:  0.11352137942667186\n",
            "grad dF dmu:  0.1133303186321724\n"
          ]
        },
        {
          "output_type": "stream",
          "name": "stderr",
          "text": [
            "\r  1%|          | 1/100 [00:00<00:04, 20.11it/s]\n"
          ]
        },
        {
          "output_type": "stream",
          "name": "stdout",
          "text": [
            "dual_value 54.13737382588234\n",
            "grad dF dla:  0.11352142496788052\n",
            "grad dF dmu:  0.11333036410990342\n",
            "dual_value 54.13737595055409\n",
            "la grad  0.3005237614663879\n",
            "mu grad 0.16040849527385204\n"
          ]
        },
        {
          "output_type": "stream",
          "name": "stderr",
          "text": [
            "\n",
            "  0%|          | 0/100 [00:00<?, ?it/s]\u001b[A"
          ]
        },
        {
          "output_type": "stream",
          "name": "stdout",
          "text": [
            "grad dF dla:  0.11352142498045363\n",
            "grad dF dmu:  0.11333036412246303\n",
            "dual_value 54.137375959489574\n",
            "grad dF dla:  0.11352142497416708\n",
            "grad dF dmu:  0.11333036411618322\n"
          ]
        },
        {
          "output_type": "stream",
          "name": "stderr",
          "text": [
            "  1%|          | 1/100 [00:00<00:05, 19.20it/s]\n",
            " 81%|████████  | 81/100 [00:06<00:01, 12.53it/s]"
          ]
        },
        {
          "output_type": "stream",
          "name": "stdout",
          "text": [
            "dual_value 54.13737595502072\n",
            "grad dF dla:  0.11352146886914417\n",
            "grad dF dmu:  0.11333040794997733\n",
            "dual_value 54.13737800279073\n",
            "la grad  0.3005237692370256\n",
            "mu grad 0.16040855731636128\n"
          ]
        },
        {
          "output_type": "stream",
          "name": "stderr",
          "text": [
            "\n",
            "  0%|          | 0/100 [00:00<?, ?it/s]\u001b[A"
          ]
        },
        {
          "output_type": "stream",
          "name": "stdout",
          "text": [
            "grad dF dla:  0.11352146888171731\n",
            "grad dF dmu:  0.11333040796253696\n",
            "dual_value 54.1373780117279\n",
            "grad dF dla:  0.11352146887543076\n",
            "grad dF dmu:  0.11333040795625714"
          ]
        },
        {
          "output_type": "stream",
          "name": "stderr",
          "text": [
            "\r  1%|          | 1/100 [00:00<00:05, 19.10it/s]"
          ]
        },
        {
          "output_type": "stream",
          "name": "stdout",
          "text": [
            "\n",
            "dual_value 54.13737800725821\n",
            "grad dF dla:  0.11352151120256908\n",
            "grad dF dmu:  0.11333045022439787\n"
          ]
        },
        {
          "output_type": "stream",
          "name": "stderr",
          "text": [
            "\n"
          ]
        },
        {
          "output_type": "stream",
          "name": "stdout",
          "text": [
            "dual_value 54.13737998178842\n",
            "la grad  0.3005237767310924\n",
            "mu grad 0.16040861714315643\n"
          ]
        },
        {
          "output_type": "stream",
          "name": "stderr",
          "text": [
            "\n",
            "  0%|          | 0/100 [00:00<?, ?it/s]\u001b[A"
          ]
        },
        {
          "output_type": "stream",
          "name": "stdout",
          "text": [
            "grad dF dla:  0.11352151121514219\n",
            "grad dF dmu:  0.1133304502369575\n",
            "dual_value 54.137379990727254\n"
          ]
        },
        {
          "output_type": "stream",
          "name": "stderr",
          "text": [
            "  1%|          | 1/100 [00:00<00:05, 17.81it/s]\n",
            " 83%|████████▎ | 83/100 [00:06<00:01, 11.97it/s]"
          ]
        },
        {
          "output_type": "stream",
          "name": "stdout",
          "text": [
            "grad dF dla:  0.11352151120885563\n",
            "grad dF dmu:  0.11333045023067764\n",
            "dual_value 54.13737998625673\n",
            "grad dF dla:  0.1135215520419366\n",
            "grad dF dmu:  0.11333049100684355\n",
            "dual_value 54.13738189099367\n",
            "la grad  0.3005237839616034\n",
            "mu grad 0.16040867485850746\n"
          ]
        },
        {
          "output_type": "stream",
          "name": "stderr",
          "text": [
            "\n",
            "  0%|          | 0/100 [00:00<?, ?it/s]\u001b[A"
          ]
        },
        {
          "output_type": "stream",
          "name": "stdout",
          "text": [
            "grad dF dla:  0.11352155205450971\n",
            "grad dF dmu:  0.11333049101940318\n",
            "dual_value 54.137381899934184\n"
          ]
        },
        {
          "output_type": "stream",
          "name": "stderr",
          "text": [
            "\r  1%|          | 1/100 [00:00<00:04, 20.58it/s]"
          ]
        },
        {
          "output_type": "stream",
          "name": "stdout",
          "text": [
            "grad dF dla:  0.11352155204822316\n",
            "grad dF dmu:  0.1133304910131234\n",
            "dual_value 54.137381895462816\n"
          ]
        },
        {
          "output_type": "stream",
          "name": "stderr",
          "text": [
            "\n"
          ]
        },
        {
          "output_type": "stream",
          "name": "stdout",
          "text": [
            "grad dF dla:  0.11352159145673847\n",
            "grad dF dmu:  0.11333053036670927\n",
            "dual_value 54.13738373365263\n",
            "la grad  0.30052379094081727\n",
            "mu grad 0.16040873056062208\n"
          ]
        },
        {
          "output_type": "stream",
          "name": "stderr",
          "text": [
            "\n",
            "  0%|          | 0/100 [00:00<?, ?it/s]\u001b[A"
          ]
        },
        {
          "output_type": "stream",
          "name": "stdout",
          "text": [
            "grad dF dla:  0.11352159146931161\n",
            "grad dF dmu:  0.11333053037926889\n",
            "dual_value 54.13738374259481\n"
          ]
        },
        {
          "output_type": "stream",
          "name": "stderr",
          "text": [
            "  1%|          | 1/100 [00:00<00:05, 18.94it/s]\n",
            " 85%|████████▌ | 85/100 [00:06<00:01, 11.80it/s]"
          ]
        },
        {
          "output_type": "stream",
          "name": "stdout",
          "text": [
            "grad dF dla:  0.11352159146302503\n",
            "grad dF dmu:  0.1133305303729891\n",
            "dual_value 54.1373837381226\n",
            "grad dF dla:  0.11352162951247262\n",
            "grad dF dmu:  0.11333056836940163\n",
            "dual_value 54.137385512824864\n",
            "la grad  0.3005237976802882\n",
            "mu grad 0.16040878434206374\n"
          ]
        },
        {
          "output_type": "stream",
          "name": "stderr",
          "text": [
            "\n",
            "  0%|          | 0/100 [00:00<?, ?it/s]\u001b[A"
          ]
        },
        {
          "output_type": "stream",
          "name": "stdout",
          "text": [
            "grad dF dla:  0.11352162952504574\n",
            "grad dF dmu:  0.11333056838196126\n",
            "dual_value 54.1373855217687\n",
            "grad dF dla:  0.11352162951875917\n",
            "grad dF dmu:  0.11333056837568146\n"
          ]
        },
        {
          "output_type": "stream",
          "name": "stderr",
          "text": [
            "\r  1%|          | 1/100 [00:00<00:04, 21.69it/s]"
          ]
        },
        {
          "output_type": "stream",
          "name": "stdout",
          "text": [
            "dual_value 54.13738551729567\n",
            "grad dF dla:  0.11352166627091544\n",
            "grad dF dmu:  0.1133306050766109\n"
          ]
        },
        {
          "output_type": "stream",
          "name": "stderr",
          "text": [
            "\n"
          ]
        },
        {
          "output_type": "stream",
          "name": "stdout",
          "text": [
            "dual_value 54.13738723139613\n",
            "la grad  0.3005238041909138\n",
            "mu grad 0.1604088362901366\n"
          ]
        },
        {
          "output_type": "stream",
          "name": "stderr",
          "text": [
            "\n",
            "  0%|          | 0/100 [00:00<?, ?it/s]\u001b[A"
          ]
        },
        {
          "output_type": "stream",
          "name": "stdout",
          "text": [
            "grad dF dla:  0.11352166628348856\n",
            "grad dF dmu:  0.11333060508917053\n"
          ]
        },
        {
          "output_type": "stream",
          "name": "stderr",
          "text": [
            "  1%|          | 1/100 [00:00<00:04, 22.57it/s]\n",
            " 87%|████████▋ | 87/100 [00:06<00:01, 12.14it/s]"
          ]
        },
        {
          "output_type": "stream",
          "name": "stdout",
          "text": [
            "dual_value 54.13738724034163\n",
            "grad dF dla:  0.113521666277202\n",
            "grad dF dmu:  0.11333060508289072\n",
            "dual_value 54.13738723586777\n",
            "grad dF dla:  0.11352170179037269\n",
            "grad dF dmu:  0.11333064054656157\n",
            "dual_value 54.13738889209008\n",
            "la grad  0.3005238104829792\n",
            "mu grad 0.16040888648724003\n"
          ]
        },
        {
          "output_type": "stream",
          "name": "stderr",
          "text": [
            "\n",
            "  0%|          | 0/100 [00:00<?, ?it/s]\u001b[A"
          ]
        },
        {
          "output_type": "stream",
          "name": "stdout",
          "text": [
            "grad dF dla:  0.11352170180294582\n",
            "grad dF dmu:  0.1133306405591212\n",
            "dual_value 54.137388901037234\n"
          ]
        },
        {
          "output_type": "stream",
          "name": "stderr",
          "text": [
            "\r  1%|          | 1/100 [00:00<00:05, 17.69it/s]"
          ]
        },
        {
          "output_type": "stream",
          "name": "stdout",
          "text": [
            "grad dF dla:  0.11352170179665924\n",
            "grad dF dmu:  0.11333064055284138\n",
            "dual_value 54.13738889656254\n"
          ]
        },
        {
          "output_type": "stream",
          "name": "stderr",
          "text": [
            "\n"
          ]
        },
        {
          "output_type": "stream",
          "name": "stdout",
          "text": [
            "grad dF dla:  0.1135217361259109\n",
            "grad dF dmu:  0.11333067483424344\n",
            "dual_value 54.13739049747899\n",
            "la grad  0.30052381656619875\n",
            "mu grad 0.16040893501119557\n"
          ]
        },
        {
          "output_type": "stream",
          "name": "stderr",
          "text": [
            "\n",
            "  0%|          | 0/100 [00:00<?, ?it/s]\u001b[A"
          ]
        },
        {
          "output_type": "stream",
          "name": "stdout",
          "text": [
            "grad dF dla:  0.11352173613848403\n",
            "grad dF dmu:  0.11333067484680306\n",
            "dual_value 54.13739050642779\n",
            "grad dF dla:  0.11352173613219746\n",
            "grad dF dmu:  0.11333067484052325\n"
          ]
        },
        {
          "output_type": "stream",
          "name": "stderr",
          "text": [
            "  1%|          | 1/100 [00:00<00:05, 19.52it/s]\n",
            " 89%|████████▉ | 89/100 [00:06<00:00, 11.94it/s]"
          ]
        },
        {
          "output_type": "stream",
          "name": "stdout",
          "text": [
            "dual_value 54.13739050195229\n",
            "grad dF dla:  0.11352176932957092\n",
            "grad dF dmu:  0.11333070799162483\n",
            "dual_value 54.13739204999389\n",
            "la grad  0.30052382244975245\n",
            "mu grad 0.1604089819355489\n"
          ]
        },
        {
          "output_type": "stream",
          "name": "stderr",
          "text": [
            "\n",
            "  0%|          | 0/100 [00:00<?, ?it/s]\u001b[A"
          ]
        },
        {
          "output_type": "stream",
          "name": "stdout",
          "text": [
            "grad dF dla:  0.11352176934214407\n",
            "grad dF dmu:  0.11333070800418446\n",
            "dual_value 54.13739205894433\n",
            "grad dF dla:  0.1135217693358575\n",
            "grad dF dmu:  0.11333070799790462\n"
          ]
        },
        {
          "output_type": "stream",
          "name": "stderr",
          "text": [
            "\r  1%|          | 1/100 [00:00<00:04, 21.79it/s]"
          ]
        },
        {
          "output_type": "stream",
          "name": "stdout",
          "text": [
            "dual_value 54.137392054468\n",
            "grad dF dla:  0.11352180145056533\n",
            "grad dF dmu:  0.11333074006784964\n",
            "dual_value 54.13739355193362\n"
          ]
        },
        {
          "output_type": "stream",
          "name": "stderr",
          "text": [
            "\n"
          ]
        },
        {
          "output_type": "stream",
          "name": "stdout",
          "text": [
            "la grad  0.30052382814232154\n",
            "mu grad 0.1604090273298485\n"
          ]
        },
        {
          "output_type": "stream",
          "name": "stderr",
          "text": [
            "\n",
            "  0%|          | 0/100 [00:00<?, ?it/s]\u001b[A"
          ]
        },
        {
          "output_type": "stream",
          "name": "stdout",
          "text": [
            "grad dF dla:  0.11352180146313846\n",
            "grad dF dmu:  0.11333074008040926\n"
          ]
        },
        {
          "output_type": "stream",
          "name": "stderr",
          "text": [
            "  1%|          | 1/100 [00:00<00:04, 21.55it/s]\n",
            " 91%|█████████ | 91/100 [00:06<00:00, 12.17it/s]"
          ]
        },
        {
          "output_type": "stream",
          "name": "stdout",
          "text": [
            "dual_value 54.1373935608857\n",
            "grad dF dla:  0.1135218014568519\n",
            "grad dF dmu:  0.11333074007412947\n",
            "dual_value 54.13739355640854\n",
            "grad dF dla:  0.11352183253546076\n",
            "grad dF dmu:  0.11333077110941965\n",
            "dual_value 54.137395005473465\n",
            "la grad  0.3005238336521208\n",
            "mu grad 0.1604090712599037\n"
          ]
        },
        {
          "output_type": "stream",
          "name": "stderr",
          "text": [
            "\n",
            "  0%|          | 0/100 [00:00<?, ?it/s]\u001b[A"
          ]
        },
        {
          "output_type": "stream",
          "name": "stdout",
          "text": [
            "grad dF dla:  0.11352183254803387\n",
            "grad dF dmu:  0.11333077112197924\n",
            "dual_value 54.13739501442717\n"
          ]
        },
        {
          "output_type": "stream",
          "name": "stderr",
          "text": [
            "\r  1%|          | 1/100 [00:00<00:05, 19.34it/s]"
          ]
        },
        {
          "output_type": "stream",
          "name": "stdout",
          "text": [
            "grad dF dla:  0.1135218325417473\n",
            "grad dF dmu:  0.11333077111569946\n",
            "dual_value 54.13739500994921\n"
          ]
        },
        {
          "output_type": "stream",
          "name": "stderr",
          "text": [
            "\n"
          ]
        },
        {
          "output_type": "stream",
          "name": "stdout",
          "text": [
            "grad dF dla:  0.1135218626283469\n",
            "grad dF dmu:  0.11333080116036306\n",
            "dual_value 54.137396412672985\n",
            "la grad  0.30052383898692775\n",
            "mu grad 0.1604091137880233\n"
          ]
        },
        {
          "output_type": "stream",
          "name": "stderr",
          "text": [
            "\n",
            "  0%|          | 0/100 [00:00<?, ?it/s]\u001b[A"
          ]
        },
        {
          "output_type": "stream",
          "name": "stdout",
          "text": [
            "grad dF dla:  0.11352186264092003\n",
            "grad dF dmu:  0.11333080117292267\n",
            "dual_value 54.137396421628324\n",
            "grad dF dla:  0.11352186263463344\n",
            "grad dF dmu:  0.11333080116664289\n",
            "dual_value"
          ]
        },
        {
          "output_type": "stream",
          "name": "stderr",
          "text": [
            "  1%|          | 1/100 [00:00<00:04, 21.85it/s]\n",
            " 93%|█████████▎| 93/100 [00:07<00:00, 12.04it/s]"
          ]
        },
        {
          "output_type": "stream",
          "name": "stdout",
          "text": [
            " 54.137396417149546\n",
            "grad dF dla:  0.11352189177099288\n",
            "grad dF dmu:  0.11333083026239084\n",
            "dual_value 54.137397775483365\n",
            "la grad  0.3005238441541107\n",
            "mu grad 0.16040915497323668\n"
          ]
        },
        {
          "output_type": "stream",
          "name": "stderr",
          "text": [
            "\n",
            "  0%|          | 0/100 [00:00<?, ?it/s]\u001b[A"
          ]
        },
        {
          "output_type": "stream",
          "name": "stdout",
          "text": [
            "grad dF dla:  0.113521891783566\n",
            "grad dF dmu:  0.11333083027495046\n",
            "dual_value 54.13739778444033\n",
            "grad dF dla:  0.11352189177727944\n",
            "grad dF dmu:  0.11333083026867062\n"
          ]
        },
        {
          "output_type": "stream",
          "name": "stderr",
          "text": [
            "\r  1%|          | 1/100 [00:00<00:04, 21.06it/s]"
          ]
        },
        {
          "output_type": "stream",
          "name": "stdout",
          "text": [
            "dual_value 54.137397779960736\n",
            "grad dF dla:  0.11352192000299241\n",
            "grad dF dmu:  0.11333085845504144\n",
            "dual_value"
          ]
        },
        {
          "output_type": "stream",
          "name": "stderr",
          "text": [
            "\n"
          ]
        },
        {
          "output_type": "stream",
          "name": "stdout",
          "text": [
            " 54.137399095754155\n",
            "la grad  0.300523849160654\n",
            "mu grad 0.16040919487149868\n"
          ]
        },
        {
          "output_type": "stream",
          "name": "stderr",
          "text": [
            "\n",
            "  0%|          | 0/100 [00:00<?, ?it/s]\u001b[A"
          ]
        },
        {
          "output_type": "stream",
          "name": "stdout",
          "text": [
            "grad dF dla:  0.11352192001556552\n",
            "grad dF dmu:  0.11333085846760105\n"
          ]
        },
        {
          "output_type": "stream",
          "name": "stderr",
          "text": [
            "  1%|          | 1/100 [00:00<00:04, 21.07it/s]\n",
            " 95%|█████████▌| 95/100 [00:07<00:00, 12.12it/s]"
          ]
        },
        {
          "output_type": "stream",
          "name": "stdout",
          "text": [
            "dual_value 54.137399104712735\n",
            "grad dF dla:  0.11352192000927898\n",
            "grad dF dmu:  0.11333085846132124\n",
            "dual_value 54.13739910023234\n",
            "grad dF dla:  0.1135219473618982\n",
            "grad dF dmu:  0.11333088577581527\n",
            "dual_value 54.137400375239544\n",
            "la grad  0.3005238540131824\n",
            "mu grad 0.16040923353587996\n"
          ]
        },
        {
          "output_type": "stream",
          "name": "stderr",
          "text": [
            "\n",
            "  0%|          | 0/100 [00:00<?, ?it/s]\u001b[A"
          ]
        },
        {
          "output_type": "stream",
          "name": "stdout",
          "text": [
            "grad dF dla:  0.11352194737447131\n",
            "grad dF dmu:  0.11333088578837489\n",
            "dual_value 54.13740038419975\n",
            "grad dF dla:  0.11352194736818476\n",
            "grad dF dmu:  0.11333088578209506\n"
          ]
        },
        {
          "output_type": "stream",
          "name": "stderr",
          "text": [
            "\r  1%|          | 1/100 [00:00<00:04, 19.82it/s]"
          ]
        },
        {
          "output_type": "stream",
          "name": "stdout",
          "text": [
            "dual_value 54.13740037971854\n"
          ]
        },
        {
          "output_type": "stream",
          "name": "stderr",
          "text": [
            "\n"
          ]
        },
        {
          "output_type": "stream",
          "name": "stdout",
          "text": [
            "grad dF dla:  0.11352197388334702\n",
            "grad dF dmu:  0.11333091226029939\n",
            "dual_value 54.137401615604276\n",
            "la grad  0.3005238587179823\n",
            "mu grad 0.1604092710167433\n"
          ]
        },
        {
          "output_type": "stream",
          "name": "stderr",
          "text": [
            "\n",
            "  0%|          | 0/100 [00:00<?, ?it/s]\u001b[A"
          ]
        },
        {
          "output_type": "stream",
          "name": "stdout",
          "text": [
            "grad dF dla:  0.11352197389592014\n",
            "grad dF dmu:  0.11333091227285903\n",
            "dual_value 54.13740162456611"
          ]
        },
        {
          "output_type": "stream",
          "name": "stderr",
          "text": [
            "\r  1%|          | 1/100 [00:00<00:04, 22.57it/s]"
          ]
        },
        {
          "output_type": "stream",
          "name": "stdout",
          "text": [
            "\n",
            "grad dF dla:  0.11352197388963357\n",
            "grad dF dmu:  0.1133309122665792\n",
            "dual_value 54.137401620084084\n"
          ]
        },
        {
          "output_type": "stream",
          "name": "stderr",
          "text": [
            "\n",
            "\r 97%|█████████▋| 97/100 [00:07<00:00, 12.09it/s]"
          ]
        },
        {
          "output_type": "stream",
          "name": "stdout",
          "text": [
            "grad dF dla:  0.11352199960117575\n",
            "grad dF dmu:  0.11333093794228358\n",
            "dual_value 54.13740281842899\n",
            "la grad  0.3005238632810226\n",
            "mu grad 0.16040930736190803\n"
          ]
        },
        {
          "output_type": "stream",
          "name": "stderr",
          "text": [
            "\n",
            "  0%|          | 0/100 [00:00<?, ?it/s]\u001b[A"
          ]
        },
        {
          "output_type": "stream",
          "name": "stdout",
          "text": [
            "grad dF dla:  0.11352199961374888\n",
            "grad dF dmu:  0.1133309379548432\n",
            "dual_value 54.137402827392414\n"
          ]
        },
        {
          "output_type": "stream",
          "name": "stderr",
          "text": [
            "\r  1%|          | 1/100 [00:00<00:04, 21.66it/s]"
          ]
        },
        {
          "output_type": "stream",
          "name": "stdout",
          "text": [
            "grad dF dla:  0.11352199960746233\n",
            "grad dF dmu:  0.11333093794856337\n",
            "dual_value 54.1374028229096\n"
          ]
        },
        {
          "output_type": "stream",
          "name": "stderr",
          "text": [
            "\n"
          ]
        },
        {
          "output_type": "stream",
          "name": "stdout",
          "text": [
            "grad dF dla:  0.11352202454752948\n",
            "grad dF dmu:  0.11333096285386801\n",
            "dual_value 54.13740398521528\n",
            "la grad  0.300523867707974\n",
            "mu grad 0.1604093426168024\n"
          ]
        },
        {
          "output_type": "stream",
          "name": "stderr",
          "text": [
            "\n",
            "  0%|          | 0/100 [00:00<?, ?it/s]\u001b[A"
          ]
        },
        {
          "output_type": "stream",
          "name": "stdout",
          "text": [
            "grad dF dla:  0.11352202456010259\n",
            "grad dF dmu:  0.11333096286642763\n",
            "dual_value 54.1374039941803\n",
            "grad dF dla:  0.11352202455381605\n",
            "grad dF dmu:  0.11333096286014782\n",
            "dual_value"
          ]
        },
        {
          "output_type": "stream",
          "name": "stderr",
          "text": [
            "\r  1%|          | 1/100 [00:00<00:05, 17.04it/s]"
          ]
        },
        {
          "output_type": "stream",
          "name": "stdout",
          "text": [
            " 54.137403989696686\n"
          ]
        },
        {
          "output_type": "stream",
          "name": "stderr",
          "text": [
            "\n",
            "\r 99%|█████████▉| 99/100 [00:07<00:00, 11.81it/s]"
          ]
        },
        {
          "output_type": "stream",
          "name": "stdout",
          "text": [
            "grad dF dla:  0.11352204875296186\n",
            "grad dF dmu:  0.11333098702556385\n",
            "dual_value 54.137405117390394\n",
            "la grad  0.30052387200422626\n",
            "mu grad 0.1604093768246058\n"
          ]
        },
        {
          "output_type": "stream",
          "name": "stderr",
          "text": [
            "\n",
            "  0%|          | 0/100 [00:00<?, ?it/s]\u001b[A"
          ]
        },
        {
          "output_type": "stream",
          "name": "stdout",
          "text": [
            "grad dF dla:  0.11352204876553498\n",
            "grad dF dmu:  0.11333098703812347\n",
            "dual_value 54.137405126357045\n"
          ]
        },
        {
          "output_type": "stream",
          "name": "stderr",
          "text": [
            "  1%|          | 1/100 [00:00<00:06, 16.29it/s]\n",
            "100%|██████████| 100/100 [00:07<00:00, 13.05it/s]"
          ]
        },
        {
          "output_type": "stream",
          "name": "stdout",
          "text": [
            "grad dF dla:  0.11352204875924844\n",
            "grad dF dmu:  0.11333098703184366\n",
            "dual_value 54.13740512187262\n"
          ]
        },
        {
          "output_type": "stream",
          "name": "stderr",
          "text": [
            "\n"
          ]
        }
      ]
    },
    {
      "cell_type": "code",
      "source": [
        "plt.plot(la_mu_grad_norms, label='la mu grads')"
      ],
      "metadata": {
        "colab": {
          "base_uri": "https://localhost:8080/",
          "height": 447
        },
        "id": "csjWENw8DVMb",
        "outputId": "9c57f31f-c920-4fc4-a64d-6b53b5b3cb9c"
      },
      "execution_count": 75,
      "outputs": [
        {
          "output_type": "execute_result",
          "data": {
            "text/plain": [
              "[<matplotlib.lines.Line2D at 0x7fc1d8ade560>]"
            ]
          },
          "metadata": {},
          "execution_count": 75
        },
        {
          "output_type": "display_data",
          "data": {
            "text/plain": [
              "<Figure size 640x480 with 1 Axes>"
            ],
            "image/png": "[encoded data removed]"
          },
          "metadata": {}
        }
      ]
    },
    {
      "cell_type": "code",
      "source": [
        "plt.plot(t_grad_norms, label='t grad')"
      ],
      "metadata": {
        "colab": {
          "base_uri": "https://localhost:8080/",
          "height": 462
        },
        "id": "IFD9g7AWDmRL",
        "outputId": "ca4ca648-c3c0-4bd2-b153-516649e713f7"
      },
      "execution_count": 76,
      "outputs": [
        {
          "output_type": "execute_result",
          "data": {
            "text/plain": [
              "[<matplotlib.lines.Line2D at 0x7fc1da186e00>]"
            ]
          },
          "metadata": {},
          "execution_count": 76
        },
        {
          "output_type": "display_data",
          "data": {
            "text/plain": [
              "<Figure size 640x480 with 1 Axes>"
            ],
            "image/png": "[encoded data removed]"
          },
          "metadata": {}
        }
      ]
    },
    {
      "cell_type": "code",
      "source": [],
      "metadata": {
        "id": "8Wp06pySECMK"
      },
      "execution_count": null,
      "outputs": []
    }
  ]
}