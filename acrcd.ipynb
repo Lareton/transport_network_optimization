{
  "nbformat": 4,
  "nbformat_minor": 0,
  "metadata": {
    "colab": {
      "provenance": []
    },
    "kernelspec": {
      "name": "python3",
      "display_name": "Python 3"
    },
    "language_info": {
      "name": "python"
    }
  },
  "cells": [
    {
      "cell_type": "code",
      "execution_count": 43,
      "metadata": {
        "id": "_XtlSWvt7Pyl"
      },
      "outputs": [],
      "source": [
        "import torch\n",
        "\n",
        "import numpy as np\n",
        "import scipy as sp\n",
        "import math\n",
        "import copy\n",
        "\n",
        "from dataclasses import dataclass"
      ]
    },
    {
      "cell_type": "code",
      "source": [
        "def nesterov(x_0, grad, L, mu, K):\n",
        "    x_cur = x_0\n",
        "    y_cur = x_0\n",
        "    x_list = [x_0]\n",
        "    y_list = [x_0]\n",
        "    for i in range(K):\n",
        "        x_upd = y_cur - (1/L)*(grad(y_cur))\n",
        "        y_upd = x_upd + ((np.sqrt(L) - np.sqrt(mu))/(np.sqrt(L) + np.sqrt(mu))) * (x_upd - x_cur)\n",
        "\n",
        "\n",
        "        x_list.append(x_upd)\n",
        "        y_list.append(y_upd)\n",
        "\n",
        "        x_cur = x_upd\n",
        "        y_cur = y_upd\n",
        "\n",
        "    return x_list, y_list"
      ],
      "metadata": {
        "id": "gGj-fE6xS7Ri"
      },
      "execution_count": 44,
      "outputs": []
    },
    {
      "cell_type": "code",
      "source": [
        "def grad_quad(x):\n",
        "    A = np.array([[L,0],[0,1]])\n",
        "    b = np.array([2,1])\n",
        "    return A@x+b\n",
        "\n",
        "# hyperparameters\n",
        "@dataclass\n",
        "class CFG:\n",
        "    x_0 = np.array([3, 1])\n",
        "    L = 100\n",
        "    K = 100000\n",
        "    mu = 1\n",
        "\n",
        "    x_list_nes, y_list_nes = nesterov(x_0, grad_quad, L, mu, K)\n",
        "\n",
        "    L_x = 10\n",
        "    L_y = 1000\n",
        "    mu_x = 0.1\n",
        "    mu_y = 0.1\n",
        "    A = np.array([[L_x, 0, 0, 0], [0, mu_x, 0, 0], [0, 0, L_y, 0], [0, 0, 0, mu_y]])\n",
        "    b = np.array([2, 1, 3, 1])\n",
        "\n",
        "    x_star = x_list_nes[-1]\n",
        "    x_star = np.linalg.solve(A, -b)\n",
        "    x_0 = np.array([1, 2])\n",
        "    y_0 = np.array([2, 3])\n",
        "    n = 4\n",
        "    x_init = np.array(list(x_0) + list(y_0))\n",
        "\n",
        "    d = 1 / 2 * (x_init.T @ A @ x_init + b.T @ x_init)\n",
        "    theta = np.linalg.norm(x_init - x_star)\n",
        "    alpha = 0.1\n",
        "    tau = 1 / (alpha * n * n + 1)\n",
        "    x_0 = np.array([3, 1])\n",
        "\n",
        "\n",
        "def grad_quad_4(x):\n",
        "    A = np.array([[CFG.L_x,0,0,0],[0,CFG.mu_x,0,0],[0,0,CFG.L_y,0],[0,0,0,CFG.mu_y]])\n",
        "    b = np.array([2,1,3,1])\n",
        "    return A@x+b\n",
        "\n",
        "# Grads\n",
        "def grad_x(x,y):\n",
        "    vec = np.array(list(x)+list(y))\n",
        "    res = CFG.A@vec+CFG.b\n",
        "    return res[0:2]\n",
        "\n",
        "\n",
        "def grad_y(x,y):\n",
        "    vec = np.array(list(x)+list(y))\n",
        "    res = CFG.A@vec+CFG.b\n",
        "    return res[2:4]"
      ],
      "metadata": {
        "id": "aJmceiYvO01c"
      },
      "execution_count": 50,
      "outputs": []
    },
    {
      "cell_type": "code",
      "source": [
        "# TODO: We need proection method because we have optimisation with limitations."
      ],
      "metadata": {
        "id": "FdEBKLLxUxGL"
      },
      "execution_count": null,
      "outputs": []
    },
    {
      "cell_type": "code",
      "source": [
        "# ACRCD\n",
        "\n",
        "\n",
        "def ACRCD(alpha, tau, theta, x_0, y_0, d, K):\n",
        "    x_list = [x_0]\n",
        "    y_list = [y_0]\n",
        "\n",
        "    x_cur = x_0\n",
        "    y_cur = y_0\n",
        "\n",
        "    z_cur_x = x_0\n",
        "    z_cur_y = y_0\n",
        "\n",
        "    q_cur_x = x_0\n",
        "    q_cur_y = y_0\n",
        "\n",
        "\n",
        "\n",
        "    for i in range(K):\n",
        "\n",
        "        x_upd = tau*z_cur_x+(1-tau)*q_cur_x\n",
        "        y_upd = tau*z_cur_y+(1-tau)*q_cur_y\n",
        "\n",
        "        index_p = np.random.choice([0,1],p=[0.5,0.5])\n",
        "        if index_p == 0:\n",
        "            q_upd_x = x_upd - (1/CFG.L_x)*grad_x(x_upd, y_upd)\n",
        "            q_upd_y = q_cur_y\n",
        "\n",
        "        if index_p == 1:\n",
        "            q_upd_y = y_upd - (1/CFG.L_y)*grad_y(x_upd, y_upd)\n",
        "            q_upd_x = q_cur_x\n",
        "\n",
        "        if index_p == 0:\n",
        "            z_upd_x = z_cur_x - (1/CFG.L_x)*alpha*CFG.n*grad_x(x_upd,y_upd)\n",
        "            z_upd_y = z_cur_y\n",
        "\n",
        "        if index_p == 1:\n",
        "            z_upd_y = z_cur_y - (1/CFG.L_y)*alpha*CFG.n*grad_y(x_upd,y_upd)\n",
        "            z_upd_x = z_cur_x\n",
        "\n",
        "\n",
        "\n",
        "        x_list.append(x_upd)\n",
        "        y_list.append(y_upd)\n",
        "\n",
        "        x_cur = x_upd\n",
        "        y_cur = y_upd\n",
        "\n",
        "        z_cur_x = z_upd_x\n",
        "        z_cur_y = z_upd_y\n",
        "\n",
        "        q_cur_x = q_upd_x\n",
        "        q_cur_y = q_upd_y\n",
        "\n",
        "\n",
        "    return x_list, y_list\n",
        "\n",
        "\n",
        "x_list_ACRCD, y_list_ACRCD = ACRCD(CFG.alpha, CFG.tau, CFG.theta, CFG.x_0, CFG.y_0, CFG.d, 1*CFG.K)"
      ],
      "metadata": {
        "id": "LpzdfbXo7_hL"
      },
      "execution_count": 46,
      "outputs": []
    },
    {
      "cell_type": "code",
      "source": [
        "CFG.alpha"
      ],
      "metadata": {
        "colab": {
          "base_uri": "https://localhost:8080/"
        },
        "id": "sCMOxdIqP7Ps",
        "outputId": "38886f88-32b5-4b76-92d6-dbef1b7a7b8f"
      },
      "execution_count": 47,
      "outputs": [
        {
          "output_type": "execute_result",
          "data": {
            "text/plain": [
              "0.1"
            ]
          },
          "metadata": {},
          "execution_count": 47
        }
      ]
    },
    {
      "cell_type": "code",
      "source": [
        "x_list_ACRCD[-1]"
      ],
      "metadata": {
        "colab": {
          "base_uri": "https://localhost:8080/"
        },
        "id": "pAglLtGdPJ47",
        "outputId": "ae2245fa-20c8-4236-d248-cc3f1bb1ce05"
      },
      "execution_count": 48,
      "outputs": [
        {
          "output_type": "execute_result",
          "data": {
            "text/plain": [
              "array([ -0.2, -10. ])"
            ]
          },
          "metadata": {},
          "execution_count": 48
        }
      ]
    },
    {
      "cell_type": "code",
      "source": [
        "y_list_ACRCD[-1]"
      ],
      "metadata": {
        "colab": {
          "base_uri": "https://localhost:8080/"
        },
        "id": "6Y5RuOp3PPfc",
        "outputId": "3fbd2070-fd66-437e-ba20-16d24fedab80"
      },
      "execution_count": 49,
      "outputs": [
        {
          "output_type": "execute_result",
          "data": {
            "text/plain": [
              "array([-3.00000000e-03, -8.23129975e+00])"
            ]
          },
          "metadata": {},
          "execution_count": 49
        }
      ]
    },
    {
      "cell_type": "code",
      "source": [],
      "metadata": {
        "id": "wS2qiXPU8IqM"
      },
      "execution_count": 49,
      "outputs": []
    },
    {
      "cell_type": "code",
      "source": [],
      "metadata": {
        "id": "EtSs2UBxAhxe"
      },
      "execution_count": 49,
      "outputs": []
    },
    {
      "cell_type": "code",
      "source": [
        "\n"
      ],
      "metadata": {
        "id": "lRSVEKRS8AhR"
      },
      "execution_count": 49,
      "outputs": []
    },
    {
      "cell_type": "code",
      "source": [],
      "metadata": {
        "id": "4geZTYTEAubr"
      },
      "execution_count": 49,
      "outputs": []
    }
  ]
}