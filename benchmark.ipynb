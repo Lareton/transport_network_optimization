{
  "nbformat": 4,
  "nbformat_minor": 0,
  "metadata": {
    "colab": {
      "provenance": []
    },
    "kernelspec": {
      "name": "python3",
      "display_name": "Python 3"
    },
    "language_info": {
      "name": "python"
    }
  },
  "cells": [
    {
      "cell_type": "code",
      "execution_count": null,
      "metadata": {
        "colab": {
          "base_uri": "https://localhost:8080/"
        },
        "id": "Sw4UovL0-giX",
        "outputId": "1720be41-e273-448d-9222-64c3457e80a3"
      },
      "outputs": [
        {
          "output_type": "stream",
          "name": "stdout",
          "text": [
            "Executing: /tmp/apt-key-gpghome.nPiS5wEUiW/gpg.1.sh --keyserver keyserver.ubuntu.com --recv-key 612DEFB798507F25\n",
            "gpg: key 612DEFB798507F25: public key \"Tiago de Paula Peixoto <tiago@skewed.de>\" imported\n",
            "gpg: Total number processed: 1\n",
            "gpg:               imported: 1\n",
            "Get:1 https://cloud.r-project.org/bin/linux/ubuntu focal-cran40/ InRelease [3,622 B]\n",
            "Hit:2 https://developer.download.nvidia.com/compute/cuda/repos/ubuntu2004/x86_64  InRelease\n",
            "Get:3 https://cloud.r-project.org/bin/linux/ubuntu focal-cran40/ Packages [82.8 kB]\n",
            "Get:4 http://security.ubuntu.com/ubuntu focal-security InRelease [114 kB]\n",
            "Hit:5 http://archive.ubuntu.com/ubuntu focal InRelease\n",
            "Get:6 http://ppa.launchpad.net/c2d4u.team/c2d4u4.0+/ubuntu focal InRelease [18.1 kB]\n",
            "Get:7 http://downloads.skewed.de/apt focal InRelease [7,536 B]\n",
            "Get:8 http://archive.ubuntu.com/ubuntu focal-updates InRelease [114 kB]\n",
            "Get:9 http://downloads.skewed.de/apt focal/main amd64 Packages [5,009 B]\n",
            "Hit:10 http://ppa.launchpad.net/cran/libgit2/ubuntu focal InRelease\n",
            "Get:11 http://security.ubuntu.com/ubuntu focal-security/multiverse amd64 Packages [37.5 kB]\n",
            "Get:12 http://security.ubuntu.com/ubuntu focal-security/restricted amd64 Packages [2,529 kB]\n",
            "Hit:13 http://ppa.launchpad.net/deadsnakes/ppa/ubuntu focal InRelease\n",
            "Get:14 http://archive.ubuntu.com/ubuntu focal-backports InRelease [108 kB]\n",
            "Get:15 http://archive.ubuntu.com/ubuntu focal-updates/main amd64 Packages [3,346 kB]\n",
            "Hit:16 http://ppa.launchpad.net/graphics-drivers/ppa/ubuntu focal InRelease\n",
            "Get:17 http://security.ubuntu.com/ubuntu focal-security/main amd64 Packages [2,866 kB]\n",
            "Hit:18 http://ppa.launchpad.net/ubuntugis/ppa/ubuntu focal InRelease\n",
            "Get:19 http://security.ubuntu.com/ubuntu focal-security/universe amd64 Packages [1,070 kB]\n",
            "Get:20 http://ppa.launchpad.net/c2d4u.team/c2d4u4.0+/ubuntu focal/main Sources [2,604 kB]\n",
            "Get:21 http://archive.ubuntu.com/ubuntu focal-updates/multiverse amd64 Packages [40.2 kB]\n",
            "Get:22 http://archive.ubuntu.com/ubuntu focal-updates/restricted amd64 Packages [2,670 kB]\n",
            "Get:23 http://archive.ubuntu.com/ubuntu focal-updates/universe amd64 Packages [1,369 kB]\n",
            "Get:24 http://ppa.launchpad.net/c2d4u.team/c2d4u4.0+/ubuntu focal/main amd64 Packages [1,230 kB]\n",
            "Fetched 18.2 MB in 7s (2,770 kB/s)\n",
            "Reading package lists... Done\n",
            "Reading package lists... Done\n",
            "Building dependency tree       \n",
            "Reading state information... Done\n",
            "The following additional packages will be installed:\n",
            "  gir1.2-atk-1.0 gir1.2-freedesktop gir1.2-gdkpixbuf-2.0 gir1.2-gtk-3.0\n",
            "  gir1.2-pango-1.0 libcairomm-1.0-1v5 libimagequant0 liblbfgsb0\n",
            "  libpangoxft-1.0-0 libpython2-stdlib libsigc++-2.0-0v5 python-cairo python-gi\n",
            "  python-gi-cairo python2 python2-minimal python3-decorator python3-numpy\n",
            "  python3-olefile python3-pil python3-scipy\n",
            "Suggested packages:\n",
            "  python2-doc python-tk python-numpy-doc python3-pytest python3-numpy-dbg\n",
            "  python-pil-doc python3-pil-dbg python-scipy-doc\n",
            "Recommended packages:\n",
            "  libgv-python python-matplotlib\n",
            "The following NEW packages will be installed:\n",
            "  gir1.2-atk-1.0 gir1.2-freedesktop gir1.2-gdkpixbuf-2.0 gir1.2-gtk-3.0\n",
            "  gir1.2-pango-1.0 libcairomm-1.0-1v5 libimagequant0 liblbfgsb0\n",
            "  libpangoxft-1.0-0 libpython2-stdlib libsigc++-2.0-0v5 python-cairo python-gi\n",
            "  python-gi-cairo python2 python2-minimal python3-decorator python3-graph-tool\n",
            "  python3-numpy python3-olefile python3-pil python3-scipy\n",
            "0 upgraded, 22 newly installed, 0 to remove and 25 not upgraded.\n",
            "Need to get 61.3 MB of archives.\n",
            "After this operation, 462 MB of additional disk space will be used.\n",
            "Get:1 http://archive.ubuntu.com/ubuntu focal/universe amd64 python2-minimal amd64 2.7.17-2ubuntu4 [27.5 kB]\n",
            "Get:2 http://downloads.skewed.de/apt focal/main amd64 python3-graph-tool amd64 2.57 [46.3 MB]\n",
            "Get:3 http://archive.ubuntu.com/ubuntu focal/universe amd64 libpython2-stdlib amd64 2.7.17-2ubuntu4 [7,072 B]\n",
            "Get:4 http://archive.ubuntu.com/ubuntu focal/universe amd64 python2 amd64 2.7.17-2ubuntu4 [26.5 kB]\n",
            "Get:5 http://archive.ubuntu.com/ubuntu focal/main amd64 gir1.2-atk-1.0 amd64 2.35.1-1ubuntu2 [18.2 kB]\n",
            "Get:6 http://archive.ubuntu.com/ubuntu focal-updates/main amd64 gir1.2-freedesktop amd64 1.64.1-1~ubuntu20.04.1 [19.2 kB]\n",
            "Get:7 http://archive.ubuntu.com/ubuntu focal-updates/main amd64 gir1.2-gdkpixbuf-2.0 amd64 2.40.0+dfsg-3ubuntu0.4 [8,272 B]\n",
            "Get:8 http://archive.ubuntu.com/ubuntu focal/main amd64 libpangoxft-1.0-0 amd64 1.44.7-2ubuntu4 [18.0 kB]\n",
            "Get:9 http://archive.ubuntu.com/ubuntu focal/main amd64 gir1.2-pango-1.0 amd64 1.44.7-2ubuntu4 [26.6 kB]\n",
            "Get:10 http://archive.ubuntu.com/ubuntu focal-updates/main amd64 gir1.2-gtk-3.0 amd64 3.24.20-0ubuntu1.1 [196 kB]\n",
            "Get:11 http://archive.ubuntu.com/ubuntu focal/main amd64 libsigc++-2.0-0v5 amd64 2.10.2-1build1 [11.7 kB]\n",
            "Get:12 http://archive.ubuntu.com/ubuntu focal/main amd64 libcairomm-1.0-1v5 amd64 1.12.2-4build1 [39.4 kB]\n",
            "Get:13 http://archive.ubuntu.com/ubuntu focal/main amd64 libimagequant0 amd64 2.12.2-1.1 [31.4 kB]\n",
            "Get:14 http://archive.ubuntu.com/ubuntu focal/universe amd64 liblbfgsb0 amd64 3.0+dfsg.3-7build1 [29.5 kB]\n",
            "Get:15 http://archive.ubuntu.com/ubuntu focal/universe amd64 python-cairo amd64 1.16.2-2ubuntu2 [57.1 kB]\n",
            "Get:16 http://archive.ubuntu.com/ubuntu focal/universe amd64 python-gi amd64 3.36.0-1 [212 kB]\n",
            "Get:17 http://archive.ubuntu.com/ubuntu focal/universe amd64 python-gi-cairo amd64 3.36.0-1 [7,668 B]\n",
            "Get:18 http://archive.ubuntu.com/ubuntu focal/main amd64 python3-decorator all 4.4.2-0ubuntu1 [10.3 kB]\n",
            "Get:19 http://archive.ubuntu.com/ubuntu focal-updates/main amd64 python3-numpy amd64 1:1.17.4-5ubuntu3.1 [2,724 kB]\n",
            "Get:20 http://archive.ubuntu.com/ubuntu focal/main amd64 python3-olefile all 0.46-2 [33.7 kB]\n",
            "Get:21 http://archive.ubuntu.com/ubuntu focal-updates/main amd64 python3-pil amd64 7.0.0-4ubuntu0.7 [366 kB]\n",
            "Get:22 http://archive.ubuntu.com/ubuntu focal/universe amd64 python3-scipy amd64 1.3.3-3build1 [11.1 MB]\n",
            "Fetched 61.3 MB in 6s (9,907 kB/s)\n",
            "Selecting previously unselected package python2-minimal.\n",
            "(Reading database ... 123105 files and directories currently installed.)\n",
            "Preparing to unpack .../python2-minimal_2.7.17-2ubuntu4_amd64.deb ...\n",
            "Unpacking python2-minimal (2.7.17-2ubuntu4) ...\n",
            "Selecting previously unselected package libpython2-stdlib:amd64.\n",
            "Preparing to unpack .../libpython2-stdlib_2.7.17-2ubuntu4_amd64.deb ...\n",
            "Unpacking libpython2-stdlib:amd64 (2.7.17-2ubuntu4) ...\n",
            "Setting up python2-minimal (2.7.17-2ubuntu4) ...\n",
            "Selecting previously unselected package python2.\n",
            "(Reading database ... 123134 files and directories currently installed.)\n",
            "Preparing to unpack .../00-python2_2.7.17-2ubuntu4_amd64.deb ...\n",
            "Unpacking python2 (2.7.17-2ubuntu4) ...\n",
            "Selecting previously unselected package gir1.2-atk-1.0:amd64.\n",
            "Preparing to unpack .../01-gir1.2-atk-1.0_2.35.1-1ubuntu2_amd64.deb ...\n",
            "Unpacking gir1.2-atk-1.0:amd64 (2.35.1-1ubuntu2) ...\n",
            "Selecting previously unselected package gir1.2-freedesktop:amd64.\n",
            "Preparing to unpack .../02-gir1.2-freedesktop_1.64.1-1~ubuntu20.04.1_amd64.deb ...\n",
            "Unpacking gir1.2-freedesktop:amd64 (1.64.1-1~ubuntu20.04.1) ...\n",
            "Selecting previously unselected package gir1.2-gdkpixbuf-2.0:amd64.\n",
            "Preparing to unpack .../03-gir1.2-gdkpixbuf-2.0_2.40.0+dfsg-3ubuntu0.4_amd64.deb ...\n",
            "Unpacking gir1.2-gdkpixbuf-2.0:amd64 (2.40.0+dfsg-3ubuntu0.4) ...\n",
            "Selecting previously unselected package libpangoxft-1.0-0:amd64.\n",
            "Preparing to unpack .../04-libpangoxft-1.0-0_1.44.7-2ubuntu4_amd64.deb ...\n",
            "Unpacking libpangoxft-1.0-0:amd64 (1.44.7-2ubuntu4) ...\n",
            "Selecting previously unselected package gir1.2-pango-1.0:amd64.\n",
            "Preparing to unpack .../05-gir1.2-pango-1.0_1.44.7-2ubuntu4_amd64.deb ...\n",
            "Unpacking gir1.2-pango-1.0:amd64 (1.44.7-2ubuntu4) ...\n",
            "Selecting previously unselected package gir1.2-gtk-3.0:amd64.\n",
            "Preparing to unpack .../06-gir1.2-gtk-3.0_3.24.20-0ubuntu1.1_amd64.deb ...\n",
            "Unpacking gir1.2-gtk-3.0:amd64 (3.24.20-0ubuntu1.1) ...\n",
            "Selecting previously unselected package libsigc++-2.0-0v5:amd64.\n",
            "Preparing to unpack .../07-libsigc++-2.0-0v5_2.10.2-1build1_amd64.deb ...\n",
            "Unpacking libsigc++-2.0-0v5:amd64 (2.10.2-1build1) ...\n",
            "Selecting previously unselected package libcairomm-1.0-1v5:amd64.\n",
            "Preparing to unpack .../08-libcairomm-1.0-1v5_1.12.2-4build1_amd64.deb ...\n",
            "Unpacking libcairomm-1.0-1v5:amd64 (1.12.2-4build1) ...\n",
            "Selecting previously unselected package libimagequant0:amd64.\n",
            "Preparing to unpack .../09-libimagequant0_2.12.2-1.1_amd64.deb ...\n",
            "Unpacking libimagequant0:amd64 (2.12.2-1.1) ...\n",
            "Selecting previously unselected package liblbfgsb0:amd64.\n",
            "Preparing to unpack .../10-liblbfgsb0_3.0+dfsg.3-7build1_amd64.deb ...\n",
            "Unpacking liblbfgsb0:amd64 (3.0+dfsg.3-7build1) ...\n",
            "Selecting previously unselected package python-cairo:amd64.\n",
            "Preparing to unpack .../11-python-cairo_1.16.2-2ubuntu2_amd64.deb ...\n",
            "Unpacking python-cairo:amd64 (1.16.2-2ubuntu2) ...\n",
            "Selecting previously unselected package python-gi.\n",
            "Preparing to unpack .../12-python-gi_3.36.0-1_amd64.deb ...\n",
            "Unpacking python-gi (3.36.0-1) ...\n",
            "Selecting previously unselected package python-gi-cairo.\n",
            "Preparing to unpack .../13-python-gi-cairo_3.36.0-1_amd64.deb ...\n",
            "Unpacking python-gi-cairo (3.36.0-1) ...\n",
            "Selecting previously unselected package python3-decorator.\n",
            "Preparing to unpack .../14-python3-decorator_4.4.2-0ubuntu1_all.deb ...\n",
            "Unpacking python3-decorator (4.4.2-0ubuntu1) ...\n",
            "Selecting previously unselected package python3-numpy.\n",
            "Preparing to unpack .../15-python3-numpy_1%3a1.17.4-5ubuntu3.1_amd64.deb ...\n",
            "Unpacking python3-numpy (1:1.17.4-5ubuntu3.1) ...\n",
            "Selecting previously unselected package python3-olefile.\n",
            "Preparing to unpack .../16-python3-olefile_0.46-2_all.deb ...\n",
            "Unpacking python3-olefile (0.46-2) ...\n",
            "Selecting previously unselected package python3-pil:amd64.\n",
            "Preparing to unpack .../17-python3-pil_7.0.0-4ubuntu0.7_amd64.deb ...\n",
            "Unpacking python3-pil:amd64 (7.0.0-4ubuntu0.7) ...\n",
            "Selecting previously unselected package python3-scipy.\n",
            "Preparing to unpack .../18-python3-scipy_1.3.3-3build1_amd64.deb ...\n",
            "Unpacking python3-scipy (1.3.3-3build1) ...\n",
            "Selecting previously unselected package python3-graph-tool.\n",
            "Preparing to unpack .../19-python3-graph-tool_2.57_amd64.deb ...\n",
            "Unpacking python3-graph-tool (2.57) ...\n",
            "Setting up gir1.2-freedesktop:amd64 (1.64.1-1~ubuntu20.04.1) ...\n",
            "Setting up libpangoxft-1.0-0:amd64 (1.44.7-2ubuntu4) ...\n",
            "Setting up gir1.2-gdkpixbuf-2.0:amd64 (2.40.0+dfsg-3ubuntu0.4) ...\n",
            "Setting up libpython2-stdlib:amd64 (2.7.17-2ubuntu4) ...\n",
            "Setting up gir1.2-atk-1.0:amd64 (2.35.1-1ubuntu2) ...\n",
            "Setting up python3-olefile (0.46-2) ...\n",
            "Setting up python2 (2.7.17-2ubuntu4) ...\n",
            "Setting up python3-decorator (4.4.2-0ubuntu1) ...\n",
            "Setting up gir1.2-pango-1.0:amd64 (1.44.7-2ubuntu4) ...\n",
            "Setting up python-cairo:amd64 (1.16.2-2ubuntu2) ...\n",
            "Setting up libsigc++-2.0-0v5:amd64 (2.10.2-1build1) ...\n",
            "Setting up libimagequant0:amd64 (2.12.2-1.1) ...\n",
            "Setting up python3-numpy (1:1.17.4-5ubuntu3.1) ...\n",
            "Setting up liblbfgsb0:amd64 (3.0+dfsg.3-7build1) ...\n",
            "Setting up python-gi (3.36.0-1) ...\n",
            "Setting up python3-scipy (1.3.3-3build1) ...\n",
            "Setting up gir1.2-gtk-3.0:amd64 (3.24.20-0ubuntu1.1) ...\n",
            "Setting up libcairomm-1.0-1v5:amd64 (1.12.2-4build1) ...\n",
            "Setting up python3-pil:amd64 (7.0.0-4ubuntu0.7) ...\n",
            "Setting up python-gi-cairo (3.36.0-1) ...\n",
            "Setting up python3-graph-tool (2.57) ...\n",
            "Processing triggers for man-db (2.9.1-1) ...\n",
            "Processing triggers for libc-bin (2.31-0ubuntu9.9) ...\n",
            "Cloning into 'bigchallenges'...\n",
            "remote: Enumerating objects: 19, done.\u001b[K\n",
            "remote: Counting objects: 100% (19/19), done.\u001b[K\n",
            "remote: Compressing objects: 100% (19/19), done.\u001b[K\n",
            "remote: Total 19 (delta 0), reused 19 (delta 0), pack-reused 0\u001b[K\n",
            "Unpacking objects: 100% (19/19), 1.87 MiB | 4.91 MiB/s, done.\n",
            "cp: target '.xx' is not a directory\n",
            "\u001b[31mERROR: Could not find a version that satisfies the requirement scanfx (from versions: none)\u001b[0m\u001b[31m\n",
            "\u001b[0m\u001b[31mERROR: No matching distribution found for scanfx\u001b[0m\u001b[31m\n",
            "\u001b[0m"
          ]
        }
      ],
      "source": [
        "!echo \"deb http://downloads.skewed.de/apt focal main\" >> /etc/apt/sources.list\n",
        "!apt-key adv --keyserver keyserver.ubuntu.com --recv-key 612DEFB798507F25\n",
        "!apt-get update\n",
        "!apt-get install python3-graph-tool #python3-matplotlib python3-cair\n",
        "\n",
        "!git clone https://github.com/niquepolice/bigchallenges.git\n",
        "!cp -r bigchallenges/* .xx\n"
      ]
    },
    {
      "cell_type": "code",
      "source": [
        "!git clone https://github.com/krammnic/GpuBellman.git"
      ],
      "metadata": {
        "id": "uUrgLxTN-kua",
        "colab": {
          "base_uri": "https://localhost:8080/"
        },
        "outputId": "55c86482-f2a9-45b3-db33-23f2bbbfa27b"
      },
      "execution_count": null,
      "outputs": [
        {
          "output_type": "stream",
          "name": "stdout",
          "text": [
            "fatal: destination path 'GpuBellman' already exists and is not an empty directory.\n"
          ]
        }
      ]
    },
    {
      "cell_type": "code",
      "source": [
        "!sudo add-apt-repository ppa:ubuntu-toolchain-r/test # Ignore if not ubuntu\n",
        "\n",
        "!sudo apt-get update\n",
        "\n",
        "!sudo apt-get install gcc-4.9\n",
        "\n",
        "!sudo apt-get upgrade libstdc++6\n",
        "\n",
        "!sudo apt update\n",
        "!sudo apt install libc6\n",
        "\n"
      ],
      "metadata": {
        "id": "w9jJj0vrXc5F",
        "colab": {
          "base_uri": "https://localhost:8080/"
        },
        "outputId": "f65f0061-df04-4b85-862f-a918410211ea"
      },
      "execution_count": null,
      "outputs": [
        {
          "output_type": "stream",
          "name": "stdout",
          "text": [
            " Toolchain test builds; see https://wiki.ubuntu.com/ToolChain\n",
            "\n",
            " More info: https://launchpad.net/~ubuntu-toolchain-r/+archive/ubuntu/test\n",
            "Press [ENTER] to continue or Ctrl-c to cancel adding it.\n",
            "\n",
            "\n",
            "\n",
            "\n",
            "Hit:1 https://cloud.r-project.org/bin/linux/ubuntu focal-cran40/ InRelease\n",
            "Hit:2 https://developer.download.nvidia.com/compute/cuda/repos/ubuntu2004/x86_64  InRelease\n",
            "Hit:3 http://security.ubuntu.com/ubuntu focal-security InRelease\n",
            "Hit:4 http://archive.ubuntu.com/ubuntu focal InRelease\n",
            "Hit:5 http://ppa.launchpad.net/c2d4u.team/c2d4u4.0+/ubuntu focal InRelease\n",
            "Hit:6 http://downloads.skewed.de/apt focal InRelease\n",
            "Hit:7 http://archive.ubuntu.com/ubuntu focal-updates InRelease\n",
            "Hit:8 http://archive.ubuntu.com/ubuntu focal-backports InRelease\n",
            "Hit:9 http://ppa.launchpad.net/cran/libgit2/ubuntu focal InRelease\n",
            "Hit:10 http://ppa.launchpad.net/deadsnakes/ppa/ubuntu focal InRelease\n",
            "Hit:11 http://ppa.launchpad.net/graphics-drivers/ppa/ubuntu focal InRelease\n",
            "Hit:12 http://ppa.launchpad.net/ubuntu-toolchain-r/test/ubuntu focal InRelease\n",
            "Hit:13 http://ppa.launchpad.net/ubuntugis/ppa/ubuntu focal InRelease\n",
            "Reading package lists... Done\n",
            "Hit:1 https://cloud.r-project.org/bin/linux/ubuntu focal-cran40/ InRelease\n",
            "Hit:2 https://developer.download.nvidia.com/compute/cuda/repos/ubuntu2004/x86_64  InRelease\n",
            "Hit:3 http://archive.ubuntu.com/ubuntu focal InRelease\n",
            "Hit:4 http://security.ubuntu.com/ubuntu focal-security InRelease\n",
            "Hit:5 http://ppa.launchpad.net/c2d4u.team/c2d4u4.0+/ubuntu focal InRelease\n",
            "Hit:6 http://downloads.skewed.de/apt focal InRelease\n",
            "Hit:7 http://archive.ubuntu.com/ubuntu focal-updates InRelease\n",
            "Hit:8 http://archive.ubuntu.com/ubuntu focal-backports InRelease\n",
            "Hit:9 http://ppa.launchpad.net/cran/libgit2/ubuntu focal InRelease\n",
            "Hit:10 http://ppa.launchpad.net/deadsnakes/ppa/ubuntu focal InRelease\n",
            "Hit:11 http://ppa.launchpad.net/graphics-drivers/ppa/ubuntu focal InRelease\n",
            "Hit:12 http://ppa.launchpad.net/ubuntu-toolchain-r/test/ubuntu focal InRelease\n",
            "Hit:13 http://ppa.launchpad.net/ubuntugis/ppa/ubuntu focal InRelease\n",
            "Reading package lists... Done\n",
            "Reading package lists... Done\n",
            "Building dependency tree       \n",
            "Reading state information... Done\n",
            "Package gcc-4.9 is not available, but is referred to by another package.\n",
            "This may mean that the package is missing, has been obsoleted, or\n",
            "is only available from another source\n",
            "\n",
            "E: Package 'gcc-4.9' has no installation candidate\n",
            "Reading package lists... Done\n",
            "Building dependency tree       \n",
            "Reading state information... Done\n",
            "libstdc++6 is already the newest version (11.1.0-1ubuntu1~20.04).\n",
            "Calculating upgrade... Done\n",
            "The following packages have been kept back:\n",
            "  libcudnn8 libcudnn8-dev libnccl-dev libnccl2\n",
            "0 upgraded, 0 newly installed, 0 to remove and 4 not upgraded.\n",
            "Hit:1 https://cloud.r-project.org/bin/linux/ubuntu focal-cran40/ InRelease\n",
            "Hit:2 https://developer.download.nvidia.com/compute/cuda/repos/ubuntu2004/x86_64  InRelease\n",
            "Hit:3 http://security.ubuntu.com/ubuntu focal-security InRelease\n",
            "Hit:4 http://archive.ubuntu.com/ubuntu focal InRelease\n",
            "Hit:5 http://ppa.launchpad.net/c2d4u.team/c2d4u4.0+/ubuntu focal InRelease\n",
            "Hit:6 http://downloads.skewed.de/apt focal InRelease\n",
            "Hit:7 http://archive.ubuntu.com/ubuntu focal-updates InRelease\n",
            "Hit:8 http://archive.ubuntu.com/ubuntu focal-backports InRelease\n",
            "Hit:9 http://ppa.launchpad.net/cran/libgit2/ubuntu focal InRelease\n",
            "Hit:10 http://ppa.launchpad.net/deadsnakes/ppa/ubuntu focal InRelease\n",
            "Hit:11 http://ppa.launchpad.net/graphics-drivers/ppa/ubuntu focal InRelease\n",
            "Hit:12 http://ppa.launchpad.net/ubuntu-toolchain-r/test/ubuntu focal InRelease\n",
            "Hit:13 http://ppa.launchpad.net/ubuntugis/ppa/ubuntu focal InRelease\n",
            "Reading package lists... Done\n",
            "Building dependency tree       \n",
            "Reading state information... Done\n",
            "4 packages can be upgraded. Run 'apt list --upgradable' to see them.\n",
            "Reading package lists... Done\n",
            "Building dependency tree       \n",
            "Reading state information... Done\n",
            "libc6 is already the newest version (2.31-0ubuntu9.9).\n",
            "0 upgraded, 0 newly installed, 0 to remove and 4 not upgraded.\n"
          ]
        }
      ]
    },
    {
      "cell_type": "code",
      "source": [
        "!sudo apt install glibc-source"
      ],
      "metadata": {
        "colab": {
          "base_uri": "https://localhost:8080/"
        },
        "id": "PXWTXJhnXjWQ",
        "outputId": "33262fb8-600f-4e27-9d49-0a359e24efec"
      },
      "execution_count": null,
      "outputs": [
        {
          "output_type": "stream",
          "name": "stdout",
          "text": [
            "Reading package lists... Done\n",
            "Building dependency tree       \n",
            "Reading state information... Done\n",
            "glibc-source is already the newest version (2.31-0ubuntu9.9).\n",
            "0 upgraded, 0 newly installed, 0 to remove and 4 not upgraded.\n"
          ]
        }
      ]
    },
    {
      "cell_type": "code",
      "source": [
        "# Benchmark GPU Bellman\n",
        "\n",
        "# Run the fastest version\n",
        "!sudo /content/GpuBellman/build/build/bellman cuda-v3 /content/GpuBellman/input/USA-road-d.COL.gr 196 1024 0"
      ],
      "metadata": {
        "id": "a-L9WyyYVR1H"
      },
      "execution_count": null,
      "outputs": []
    },
    {
      "cell_type": "markdown",
      "source": [],
      "metadata": {
        "id": "Hjbxx73AbKuv"
      }
    },
    {
      "cell_type": "markdown",
      "source": [
        "# We have run this executable on RTX 3070 videocard. Elapsed time: **5566.06 milli seconds**"
      ],
      "metadata": {
        "id": "XjLRtx3vahvb"
      }
    },
    {
      "cell_type": "code",
      "source": [
        "from graph_tool import generation, topology, Graph\n",
        "import pandas as pd\n",
        "import numpy as np"
      ],
      "metadata": {
        "id": "J17uHwWkb37a"
      },
      "execution_count": null,
      "outputs": []
    },
    {
      "cell_type": "code",
      "source": [
        "# Benchmark graph-tool dijkstra\n",
        "\n",
        "graph_array = []\n",
        "\n",
        "verteces_from = list(map(int, open('/content/GpuBellman/input/USA-road-d.COL.gr_FROM.csv', 'r').read().split(',')))\n",
        "verteces_to = list(map(int, open('/content/GpuBellman/input/USA-road-d.COL.gr_TO.csv', 'r').read().split(',')))\n",
        "weight = list(map(int, open('/content/GpuBellman/input/USA-road-d.COL.gr_W.csv', 'r').read().split(',')))\n",
        "vertices = list(map(int, open('/content/GpuBellman/input/USA-road-d.COL.gr_V.csv', 'r').read().split(',')))"
      ],
      "metadata": {
        "id": "1b8h2bzG_USn"
      },
      "execution_count": null,
      "outputs": []
    },
    {
      "cell_type": "code",
      "source": [
        "\n",
        "edges = list(zip(verteces_from, verteces_to))\n",
        "print(len(edges))\n",
        "print(len(vertices))\n",
        "for i in range(len(weight)):\n",
        "  edges[i] += (weight[i],)\n",
        "print(edges[0])\n",
        "\n",
        "graph = Graph(edges, eprops=[(\"weight\", \"double\")])\n",
        "\n"
      ],
      "metadata": {
        "colab": {
          "base_uri": "https://localhost:8080/"
        },
        "id": "ThiPneOTbpep",
        "outputId": "f052470a-66c4-409b-cc90-f6de4ab9f20e"
      },
      "execution_count": null,
      "outputs": [
        {
          "output_type": "stream",
          "name": "stdout",
          "text": [
            "1057066\n",
            "435666\n",
            "(1, 2, 12406)\n"
          ]
        },
        {
          "output_type": "stream",
          "name": "stderr",
          "text": [
            "UsageError: Line magic function `%%time` not found.\n"
          ]
        }
      ]
    },
    {
      "cell_type": "code",
      "source": [
        "%%time\n",
        "print(list(topology.shortest_distance(graph, source=0, pred_map=True)[0].a)[1])"
      ],
      "metadata": {
        "colab": {
          "base_uri": "https://localhost:8080/"
        },
        "id": "kca-BkSLgI7g",
        "outputId": "d7ea6478-8830-4e0d-d878-d3413219e42b"
      },
      "execution_count": null,
      "outputs": [
        {
          "output_type": "stream",
          "name": "stdout",
          "text": [
            "2147483647\n",
            "CPU times: user 74.9 ms, sys: 6.83 ms, total: 81.7 ms\n",
            "Wall time: 82.3 ms\n"
          ]
        }
      ]
    },
    {
      "cell_type": "code",
      "source": [
        "import matplotlib.pyplot as plt\n",
        "\n",
        "data = {'Bellman-Ford CUDA': 5566, 'graph-tool': 82}\n",
        "name = list(data.keys())\n",
        "time = list(data.values())\n",
        "\n",
        "fig = plt.figure(figsize = (10, 5))\n",
        "\n",
        "plt.bar(name, time, color ='maroon' ,width = 0.4)\n"
      ],
      "metadata": {
        "colab": {
          "base_uri": "https://localhost:8080/",
          "height": 462
        },
        "id": "vGjPGD52ddw0",
        "outputId": "0d5609c7-b585-4114-e596-57b6c6e334d9"
      },
      "execution_count": null,
      "outputs": [
        {
          "output_type": "execute_result",
          "data": {
            "text/plain": [
              "<BarContainer object of 2 artists>"
            ]
          },
          "metadata": {},
          "execution_count": 14
        },
        {
          "output_type": "display_data",
          "data": {
            "text/plain": [
              "<Figure size 1000x500 with 1 Axes>"
            ],
            "image/png": "[encoded data removed]"
          },
          "metadata": {}
        }
      ]
    },
    {
      "cell_type": "markdown",
      "source": [],
      "metadata": {
        "id": "ce9OCghC2DCu"
      }
    },
    {
      "cell_type": "code",
      "source": [],
      "metadata": {
        "id": "Y433j6NVCVhs"
      },
      "execution_count": null,
      "outputs": []
    },
    {
      "cell_type": "code",
      "source": [],
      "metadata": {
        "id": "Ms_LwgjJCCBJ"
      },
      "execution_count": null,
      "outputs": []
    }
  ]
}