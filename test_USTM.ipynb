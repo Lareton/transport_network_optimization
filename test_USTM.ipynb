{
 "cells": [
  {
   "cell_type": "code",
   "execution_count": 19,
   "id": "5f333b7d",
   "metadata": {},
   "outputs": [
    {
     "name": "stdout",
     "output_type": "stream",
     "text": [
      "The autoreload extension is already loaded. To reload it, use:\n",
      "  %reload_ext autoreload\n"
     ]
    }
   ],
   "source": [
    "%load_ext autoreload\n",
    "%autoreload 2\n",
    "\n",
    "import numpy as np\n",
    "import scipy\n",
    "import matplotlib.pyplot as plt\n",
    "from pathlib import Path\n",
    "from read_data import get_network_df, get_corrs, get_full_df\n",
    "from numba.core import types\n",
    "import graph_tool\n",
    "import numba\n",
    "from numba import njit\n",
    "from graph_tool.topology import shortest_distance\n",
    "import pandas as pd\n",
    "import networkx as nx\n",
    "import graph_tool as gt\n",
    "from graph_tool.topology import shortest_distance\n",
    "import numpy as np\n",
    "import typing\n",
    "\n",
    "import numba\n",
    "from numba.core import types\n",
    "\n",
    "from transport_problem import OptimParams, DualOracle, HyperParams\n",
    "from subgd import OracleStacker, ustm_mincost_mcf"
   ]
  },
  {
   "cell_type": "code",
   "execution_count": 20,
   "id": "4392e67a",
   "metadata": {},
   "outputs": [],
   "source": [
    "T_LEN = 76\n",
    "LA_LEN = 25\n",
    "MU_LEN = 25"
   ]
  },
  {
   "cell_type": "code",
   "execution_count": 21,
   "id": "7e577d16",
   "metadata": {},
   "outputs": [],
   "source": [
    "net_df = get_network_df(Path('SiouxFalls') / 'SiouxFalls_net.tntp')\n",
    "corrs = get_corrs(Path('SiouxFalls') / 'SiouxFalls_trips.tntp') / 2\n",
    "\n",
    "graph = graph_tool.Graph(net_df.values, eprops=[('capacity', 'double'), ('fft', 'double')])"
   ]
  },
  {
   "cell_type": "code",
   "execution_count": 22,
   "id": "8560ff2b",
   "metadata": {},
   "outputs": [],
   "source": [
    "from transport_problem import HyperParams, DualOracle, OptimParams \n",
    "l = np.sum(corrs, axis=1)\n",
    "w = np.sum(corrs, axis=0)\n",
    "\n",
    "zones_num = len(l)\n",
    "sources = np.arange(zones_num)\n",
    "targets = np.arange(zones_num)\n",
    "\n",
    "params = HyperParams(gamma=10, mu_pow=0.25, rho=0.15)\n",
    "oracle = DualOracle(graph, net_df, l, w, params)"
   ]
  },
  {
   "cell_type": "code",
   "execution_count": 23,
   "id": "aaa5d4aa",
   "metadata": {},
   "outputs": [],
   "source": [
    "oracle_stacker = OracleStacker(oracle, graph, sources, targets)"
   ]
  },
  {
   "cell_type": "code",
   "execution_count": 24,
   "id": "225a2ea1",
   "metadata": {},
   "outputs": [
    {
     "name": "stdout",
     "output_type": "stream",
     "text": [
      "start optimizing\n"
     ]
    },
    {
     "name": "stderr",
     "output_type": "stream",
     "text": [
      "100%|██████████| 1000/1000 [00:20<00:00, 47.65it/s]\n"
     ]
    }
   ],
   "source": [
    "t, flows_averaged, dgap_log, cons_log, A_log, hist = ustm_mincost_mcf(oracle_stacker, 1e-2, None, 1000, None)"
   ]
  },
  {
   "cell_type": "code",
   "execution_count": null,
   "id": "05fbcf3d",
   "metadata": {},
   "outputs": [],
   "source": []
  },
  {
   "cell_type": "code",
   "execution_count": 25,
   "id": "27469542",
   "metadata": {},
   "outputs": [
    {
     "data": {
      "text/plain": [
       "[<matplotlib.lines.Line2D at 0x7fc2171a4650>]"
      ]
     },
     "execution_count": 25,
     "metadata": {},
     "output_type": "execute_result"
    },
    {
     "data": {
      "image/png": "[encoded data removed]",
      "text/plain": [
       "<Figure size 640x480 with 1 Axes>"
      ]
     },
     "metadata": {},
     "output_type": "display_data"
    }
   ],
   "source": [
    "import matplotlib.pyplot as plt\n",
    "plt.plot(hist)"
   ]
  },
  {
   "cell_type": "code",
   "execution_count": null,
   "id": "729f919e",
   "metadata": {},
   "outputs": [],
   "source": []
  },
  {
   "cell_type": "code",
   "execution_count": null,
   "id": "761e37b1",
   "metadata": {},
   "outputs": [],
   "source": []
  },
  {
   "cell_type": "code",
   "execution_count": null,
   "id": "0bcc51b0",
   "metadata": {},
   "outputs": [],
   "source": [
    "graph = None # TODO создавать граф\n",
    "oracle = None # TODO - создать оракла\n",
    "sources, targets = None, None    # определять sources и targets\n",
    "oracle_stacker = OracleStacker(oracle, graph, sources, targets)\n"
   ]
  },
  {
   "cell_type": "code",
   "execution_count": null,
   "id": "c64eaeb2",
   "metadata": {},
   "outputs": [],
   "source": []
  }
 ],
 "metadata": {
  "kernelspec": {
   "display_name": "testEnv",
   "language": "python",
   "name": "testenv"
  },
  "language_info": {
   "codemirror_mode": {
    "name": "ipython",
    "version": 3
   },
   "file_extension": ".py",
   "mimetype": "text/x-python",
   "name": "python",
   "nbconvert_exporter": "python",
   "pygments_lexer": "ipython3",
   "version": "3.11.4"
  }
 },
 "nbformat": 4,
 "nbformat_minor": 5
}
