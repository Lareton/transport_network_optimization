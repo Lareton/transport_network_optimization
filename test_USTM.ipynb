{
 "cells": [
  {
   "cell_type": "code",
   "execution_count": 32,
   "id": "5f333b7d",
   "metadata": {},
   "outputs": [
    {
     "name": "stdout",
     "output_type": "stream",
     "text": [
      "The autoreload extension is already loaded. To reload it, use:\n",
      "  %reload_ext autoreload\n"
     ]
    }
   ],
   "source": [
    "%load_ext autoreload\n",
    "%autoreload 2\n",
    "\n",
    "import numpy as np\n",
    "import scipy\n",
    "\n",
    "import matplotlib.pyplot as plt\n",
    "from pathlib import Path\n",
    "from read_data import get_network_df, get_corrs, get_full_df\n",
    "from numba.core import types\n",
    "import graph_tool\n",
    "import numba\n",
    "\n",
    "from numba import njit\n",
    "from graph_tool.topology import shortest_distance\n",
    "import pandas as pd\n",
    "import networkx as nx\n",
    "import graph_tool as gt\n",
    "from graph_tool.topology import shortest_distance\n",
    "import numpy as np\n",
    "import typing\n",
    "\n",
    "import numba\n",
    "from numba.core import types\n",
    "\n",
    "from transport_problem import OptimParams, DualOracle, HyperParams\n",
    "from subgd import OracleStacker, ustm_mincost_mcf"
   ]
  },
  {
   "cell_type": "code",
   "execution_count": 33,
   "id": "3bc8b44c",
   "metadata": {},
   "outputs": [],
   "source": [
    "# SMALL GRAPH:\n",
    "# net_df = get_network_df(Path('SiouxFalls') / 'SiouxFalls_net.tntp')\n",
    "# corrs = get_corrs(Path('SiouxFalls') / 'SiouxFalls_trips.tntp')\n",
    "# people_count = corrs.sum()\n",
    "# corrs = corrs / people_count\n",
    "# net_df.capacity /= people_count\n",
    "# graph = graph_tool.Graph(net_df.values, eprops=[('capacity', 'double'), ('fft', 'double')])\n",
    "\n",
    "#BERLING GRAPH\n",
    "BIG_CONST_FOR_FAKE_EDGES = 400\n",
    "net_df = get_network_df(Path('SiouxFalls') / 'berlin-center_net.tntp')\n",
    "corrs = get_corrs(Path('SiouxFalls') / 'berlin-center_trips.tntp')\n",
    "net_df.loc[net_df.free_flow_time < 1e-6, \"free_flow_time\"] = BIG_CONST_FOR_FAKE_EDGES\n",
    "people_count = corrs.sum()\n",
    "corrs = corrs / people_count\n",
    "net_df.capacity /= people_count\n",
    "net_df = net_df.rename({\"free_flow_time\":\"fft\"}, axis=1)\n",
    "graph = graph_tool.Graph(net_df.values, eprops=[('capacity', 'double'), ('fft', 'double')])"
   ]
  },
  {
   "cell_type": "code",
   "execution_count": 40,
   "id": "eaa78a73",
   "metadata": {
    "scrolled": true
   },
   "outputs": [],
   "source": [
    "from transport_problem import HyperParams, DualOracle, OptimParams \n",
    "l = np.sum(corrs, axis=1)\n",
    "w = np.sum(corrs, axis=0)\n",
    "\n",
    "zones_num = len(l)\n",
    "sources = np.arange(zones_num)\n",
    "targets = np.arange(zones_num)\n",
    "\n",
    "params = HyperParams(gamma=10, mu_pow=0.25, rho=0.15)\n",
    "oracle = DualOracle(graph, l, w, params)\n",
    "oracle_stacker = OracleStacker(oracle, graph, sources, targets)"
   ]
  },
  {
   "cell_type": "code",
   "execution_count": 41,
   "id": "05fbcf3d",
   "metadata": {
    "scrolled": true
   },
   "outputs": [
    {
     "name": "stdout",
     "output_type": "stream",
     "text": [
      "1\n",
      "1\n",
      "1\n",
      "vars block grad:  37582.36043086729\n",
      "t in optim params grad:  37582.36043086729 37582.36043086729\n",
      "la in optim params norm:  0.0\n",
      "mu in optim params norm:  0.0\n",
      "D (d) matrix shape: (865, 865)\n",
      "grad dF dla:  0.029545006569510025\n",
      "grad dF dmu:  0.02969489251312408\n",
      "start optimizing\n",
      "start init y is below t_bar count:  0\n",
      "start init u is below t_bar count:  0\n",
      "start init t is below t_bar count:  0\n"
     ]
    },
    {
     "name": "stderr",
     "output_type": "stream",
     "text": [
      "  0%|          | 0/20 [00:00<?, ?it/s]"
     ]
    },
    {
     "name": "stdout",
     "output_type": "stream",
     "text": [
      "vars block grad:  37582.36043086729\n",
      "t in optim params grad:  37582.36043086729 37582.36043086729\n",
      "la in optim params norm:  0.0\n",
      "mu in optim params norm:  0.0\n",
      "D (d) matrix shape: (865, 865)\n",
      "grad dF dla:  0.029545006569510025\n",
      "grad dF dmu:  0.02969489251312408\n",
      "count values below t_bar in old t:  0\n",
      "count values below t_bar in new t:  0\n",
      "vars block grad:  37582.36176127865\n",
      "t in optim params grad:  37582.36043086729 37582.36043086729\n",
      "la in optim params norm:  0.0\n",
      "mu in optim params norm:  0.0\n"
     ]
    },
    {
     "name": "stderr",
     "output_type": "stream",
     "text": [
      "  0%|          | 0/20 [00:03<?, ?it/s]"
     ]
    },
    {
     "name": "stdout",
     "output_type": "stream",
     "text": [
      "Unexpected exception formatting exception. Falling back to standard exception\n"
     ]
    },
    {
     "name": "stderr",
     "output_type": "stream",
     "text": [
      "\n",
      "Traceback (most recent call last):\n",
      "  File \"/root/miniconda3/envs/gt/lib/python3.11/site-packages/IPython/core/interactiveshell.py\", line 3505, in run_code\n",
      "    exec(code_obj, self.user_global_ns, self.user_ns)\n",
      "  File \"/tmp/ipykernel_651/2252312954.py\", line 1, in <module>\n",
      "    results = ustm_mincost_mcf(oracle_stacker,  eps_abs=1e-4, eps_cons_abs=1e-6, max_iter=20, stop_by_crit=False)\n",
      "              ^^^^^^^^^^^^^^^^^^^^^^^^^^^^^^^^^^^^^^^^^^^^^^^^^^^^^^^^^^^^^^^^^^^^^^^^^^^^^^^^^^^^^^^^^^^^^^^^^^^\n",
      "  File \"/home/jupyter/transport/transport_network_optimization/subgd.py\", line 161, in ustm_mincost_mcf\n",
      "    func_t, _, full_grad, grad_t, grad_la, grad_mu = oracle_stacker(t)\n",
      "                                                     ^^^^^^^^^^^^^^^^^\n",
      "  File \"/home/jupyter/transport/transport_network_optimization/subgd.py\", line 73, in __call__\n",
      "    T, pred_maps = self.oracle.get_T_and_predmaps(self.graph, self.optim_params, self.sources, self.targets)\n",
      "                   ^^^^^^^^^^^^^^^^^^^^^^^^^^^^^^^^^^^^^^^^^^^^^^^^^^^^^^^^^^^^^^^^^^^^^^^^^^^^^^^^^^^^^^^^^\n",
      "  File \"/home/jupyter/transport/transport_network_optimization/transport_problem.py\", line 121, in get_T_and_predmaps\n",
      "    T[source, j] = short_distances[j]\n",
      "    ~^^^^^^^^^^^\n",
      "KeyboardInterrupt\n",
      "\n",
      "During handling of the above exception, another exception occurred:\n",
      "\n",
      "Traceback (most recent call last):\n",
      "  File \"/root/miniconda3/envs/gt/lib/python3.11/site-packages/IPython/core/interactiveshell.py\", line 2102, in showtraceback\n",
      "    stb = self.InteractiveTB.structured_traceback(\n",
      "          ^^^^^^^^^^^^^^^^^^^^^^^^^^^^^^^^^^^^^^^^\n",
      "  File \"/root/miniconda3/envs/gt/lib/python3.11/site-packages/IPython/core/ultratb.py\", line 1310, in structured_traceback\n",
      "    return FormattedTB.structured_traceback(\n",
      "           ^^^^^^^^^^^^^^^^^^^^^^^^^^^^^^^^^\n",
      "  File \"/root/miniconda3/envs/gt/lib/python3.11/site-packages/IPython/core/ultratb.py\", line 1199, in structured_traceback\n",
      "    return VerboseTB.structured_traceback(\n",
      "           ^^^^^^^^^^^^^^^^^^^^^^^^^^^^^^^\n",
      "  File \"/root/miniconda3/envs/gt/lib/python3.11/site-packages/IPython/core/ultratb.py\", line 1052, in structured_traceback\n",
      "    formatted_exception = self.format_exception_as_a_whole(etype, evalue, etb, number_of_lines_of_context,\n",
      "                          ^^^^^^^^^^^^^^^^^^^^^^^^^^^^^^^^^^^^^^^^^^^^^^^^^^^^^^^^^^^^^^^^^^^^^^^^^^^^^^^^\n",
      "  File \"/root/miniconda3/envs/gt/lib/python3.11/site-packages/IPython/core/ultratb.py\", line 978, in format_exception_as_a_whole\n",
      "    frames.append(self.format_record(record))\n",
      "                  ^^^^^^^^^^^^^^^^^^^^^^^^^^\n",
      "  File \"/root/miniconda3/envs/gt/lib/python3.11/site-packages/IPython/core/ultratb.py\", line 878, in format_record\n",
      "    frame_info.lines, Colors, self.has_colors, lvals\n",
      "    ^^^^^^^^^^^^^^^^\n",
      "  File \"/root/miniconda3/envs/gt/lib/python3.11/site-packages/IPython/core/ultratb.py\", line 712, in lines\n",
      "    return self._sd.lines\n",
      "           ^^^^^^^^^^^^^^\n",
      "  File \"/root/miniconda3/envs/gt/lib/python3.11/site-packages/stack_data/utils.py\", line 145, in cached_property_wrapper\n",
      "    value = obj.__dict__[self.func.__name__] = self.func(obj)\n",
      "                                               ^^^^^^^^^^^^^^\n",
      "  File \"/root/miniconda3/envs/gt/lib/python3.11/site-packages/stack_data/core.py\", line 698, in lines\n",
      "    pieces = self.included_pieces\n",
      "             ^^^^^^^^^^^^^^^^^^^^\n",
      "  File \"/root/miniconda3/envs/gt/lib/python3.11/site-packages/stack_data/utils.py\", line 145, in cached_property_wrapper\n",
      "    value = obj.__dict__[self.func.__name__] = self.func(obj)\n",
      "                                               ^^^^^^^^^^^^^^\n",
      "  File \"/root/miniconda3/envs/gt/lib/python3.11/site-packages/stack_data/core.py\", line 649, in included_pieces\n",
      "    pos = scope_pieces.index(self.executing_piece)\n",
      "                             ^^^^^^^^^^^^^^^^^^^^\n",
      "  File \"/root/miniconda3/envs/gt/lib/python3.11/site-packages/stack_data/utils.py\", line 145, in cached_property_wrapper\n",
      "    value = obj.__dict__[self.func.__name__] = self.func(obj)\n",
      "                                               ^^^^^^^^^^^^^^\n",
      "  File \"/root/miniconda3/envs/gt/lib/python3.11/site-packages/stack_data/core.py\", line 628, in executing_piece\n",
      "    return only(\n",
      "           ^^^^^\n",
      "  File \"/root/miniconda3/envs/gt/lib/python3.11/site-packages/executing/executing.py\", line 164, in only\n",
      "    raise NotOneValueFound('Expected one value, found 0')\n",
      "executing.executing.NotOneValueFound: Expected one value, found 0\n"
     ]
    }
   ],
   "source": [
    "results = ustm_mincost_mcf(oracle_stacker,  eps_abs=1e-4, eps_cons_abs=1e-6, max_iter=20, stop_by_crit=False)"
   ]
  },
  {
   "cell_type": "code",
   "execution_count": 37,
   "id": "1465c325",
   "metadata": {},
   "outputs": [
    {
     "data": {
      "image/png": "[encoded data removed]",
      "text/plain": [
       "<Figure size 640x480 with 1 Axes>"
      ]
     },
     "metadata": {},
     "output_type": "display_data"
    },
    {
     "data": {
      "image/png": "[encoded data removed]",
      "text/plain": [
       "<Figure size 640x480 with 1 Axes>"
      ]
     },
     "metadata": {},
     "output_type": "display_data"
    }
   ],
   "source": [
    "plt.rcParams['figure.dpi']=100\n",
    "x = results.history_count_calls\n",
    "\n",
    "plt.plot(x, results.history_dual_gap,  label=\"dual gap abs\")\n",
    "plt.savefig(\"plot_ustm_dual_gap.png\")\n",
    "# plt.yscale(\"log\")\n",
    "plt.legend()\n",
    "plt.show()\n",
    "\n",
    "plt.plot(x, results.history_la_mu_grad_norm, label=\"la_mu block grad norm\")\n",
    "plt.savefig(\"plot_ustm_la_mu_grad_norm.png\")\n",
    "plt.yscale(\"log\")\n",
    "plt.legend()\n",
    "plt.show()\n",
    "\n",
    "\n",
    "# plt.plot(x, results.history_prime_values, label=\"history prime function\")\n",
    "# plt.legend()\n",
    "# plt.show()\n",
    "\n",
    "# plt.plot(x, results.history_dual_values, label=\"history dual function\")\n",
    "# plt.legend()\n",
    "# plt.show()\n",
    "\n"
   ]
  },
  {
   "cell_type": "code",
   "execution_count": null,
   "id": "140a2313",
   "metadata": {},
   "outputs": [],
   "source": []
  },
  {
   "cell_type": "code",
   "execution_count": null,
   "id": "831527a3",
   "metadata": {},
   "outputs": [],
   "source": []
  },
  {
   "cell_type": "code",
   "execution_count": null,
   "id": "2449c1fa",
   "metadata": {},
   "outputs": [],
   "source": []
  },
  {
   "cell_type": "code",
   "execution_count": null,
   "id": "761e37b1",
   "metadata": {},
   "outputs": [],
   "source": [
    "# расчет прямой функции\n",
    "vars = np.zeros(oracle_stacker.parameters_vector_size)  # dual costs w\n",
    "_ = oracle_stacker(vars)\n",
    "print(\"prime function value: \", oracle_stacker.get_prime_value())"
   ]
  },
  {
   "cell_type": "code",
   "execution_count": null,
   "id": "279c5f67",
   "metadata": {},
   "outputs": [],
   "source": []
  },
  {
   "cell_type": "code",
   "execution_count": null,
   "id": "c64eaeb2",
   "metadata": {},
   "outputs": [],
   "source": []
  }
 ],
 "metadata": {
  "kernelspec": {
   "display_name": "testEnv",
   "language": "python",
   "name": "testenv"
  },
  "language_info": {
   "codemirror_mode": {
    "name": "ipython",
    "version": 3
   },
   "file_extension": ".py",
   "mimetype": "text/x-python",
   "name": "python",
   "nbconvert_exporter": "python",
   "pygments_lexer": "ipython3",
   "version": "3.11.4"
  }
 },
 "nbformat": 4,
 "nbformat_minor": 5
}