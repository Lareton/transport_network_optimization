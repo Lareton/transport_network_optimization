{
 "cells": [
  {
   "cell_type": "code",
   "execution_count": 1,
   "id": "5f333b7d",
   "metadata": {},
   "outputs": [],
   "source": [
    "%load_ext autoreload\n",
    "%autoreload 2\n",
    "\n",
    "import numpy as np\n",
    "import scipy\n",
    "import matplotlib.pyplot as plt\n",
    "from pathlib import Path\n",
    "from read_data import get_network_df, get_corrs, get_full_df\n",
    "from numba.core import types\n",
    "import graph_tool\n",
    "import numba\n",
    "from numba import njit\n",
    "from graph_tool.topology import shortest_distance\n",
    "import pandas as pd\n",
    "import networkx as nx\n",
    "import graph_tool as gt\n",
    "from graph_tool.topology import shortest_distance\n",
    "import numpy as np\n",
    "import typing\n",
    "\n",
    "import numba\n",
    "from numba.core import types\n",
    "\n",
    "from transport_problem import OptimParams, DualOracle, HyperParams\n",
    "from subgd import OracleStacker, ustm_mincost_mcf"
   ]
  },
  {
   "cell_type": "code",
   "execution_count": 2,
   "id": "4392e67a",
   "metadata": {},
   "outputs": [],
   "source": [
    "T_LEN = 76\n",
    "LA_LEN = 25\n",
    "MU_LEN = 25"
   ]
  },
  {
   "cell_type": "code",
   "execution_count": 3,
   "id": "7e577d16",
   "metadata": {},
   "outputs": [],
   "source": [
    "net_df = get_network_df(Path('SiouxFalls') / 'SiouxFalls_net.tntp')\n",
    "corrs = get_corrs(Path('SiouxFalls') / 'SiouxFalls_trips.tntp') / 2\n",
    "\n",
    "graph = graph_tool.Graph(net_df.values, eprops=[('capacity', 'double'), ('fft', 'double')])"
   ]
  },
  {
   "cell_type": "code",
   "execution_count": 4,
   "id": "567c8ccf",
   "metadata": {},
   "outputs": [],
   "source": [
    "# from graph_tool.draw import graph_draw\n",
    "# graph_draw(graph)"
   ]
  },
  {
   "cell_type": "code",
   "execution_count": 5,
   "id": "9d1a1d99",
   "metadata": {},
   "outputs": [],
   "source": [
    "source = 0\n",
    "targets = np.arange(24)\n",
    "weights = graph.ep.fft\n",
    "\n",
    "short_distances, pred_map = shortest_distance(graph, source=source, target=targets, weights=weights,\n",
    "                                              pred_map=True)"
   ]
  },
  {
   "cell_type": "code",
   "execution_count": 6,
   "id": "ae90b1d7",
   "metadata": {},
   "outputs": [
    {
     "data": {
      "text/plain": [
       "PropertyArray([ 0,  0,  0,  2,  3,  1,  7,  5,  4,  8, 11,  2, 11, 10, 13,\n",
       "                7, 15,  6, 16, 17, 23, 20, 23, 12])"
      ]
     },
     "execution_count": 6,
     "metadata": {},
     "output_type": "execute_result"
    }
   ],
   "source": [
    "pred_map.a"
   ]
  },
  {
   "cell_type": "code",
   "execution_count": null,
   "id": "31ee306b",
   "metadata": {},
   "outputs": [],
   "source": [
    "\n",
    "\n"
   ]
  },
  {
   "cell_type": "code",
   "execution_count": 7,
   "id": "8560ff2b",
   "metadata": {},
   "outputs": [],
   "source": [
    "from transport_problem import HyperParams, DualOracle, OptimParams \n",
    "l = np.sum(corrs, axis=1)\n",
    "w = np.sum(corrs, axis=0)\n",
    "\n",
    "zones_num = len(l)\n",
    "sources = np.arange(zones_num)\n",
    "targets = np.arange(zones_num)\n",
    "\n",
    "params = HyperParams(gamma=10, mu_pow=0.25, rho=0.15)\n",
    "oracle = DualOracle(graph, net_df, l, w, params)"
   ]
  },
  {
   "cell_type": "code",
   "execution_count": 8,
   "id": "aaa5d4aa",
   "metadata": {},
   "outputs": [],
   "source": [
    "oracle_stacker = OracleStacker(oracle, graph, sources, targets)"
   ]
  },
  {
   "cell_type": "code",
   "execution_count": 9,
   "id": "225a2ea1",
   "metadata": {},
   "outputs": [
    {
     "name": "stdout",
     "output_type": "stream",
     "text": [
      "1\n",
      "1\n",
      "1\n",
      "start optimizing\n"
     ]
    },
    {
     "name": "stderr",
     "output_type": "stream",
     "text": [
      "  0%|          | 0/1000 [00:00<?, ?it/s]/home/jupyter/transport/transport_network_optimization/transport_problem.py:83: RuntimeWarning: overflow encountered in exp\n",
      "  return np.sum(np.exp(-T + optim_params.la[..., None] + optim_params.mu[None, ...]), axis=1) / np.sum(\n",
      "/home/jupyter/transport/transport_network_optimization/transport_problem.py:84: RuntimeWarning: overflow encountered in exp\n",
      "  np.exp(-T + optim_params.la[..., None] + optim_params.mu[None, ...])) - self.l\n",
      "/home/jupyter/transport/transport_network_optimization/transport_problem.py:83: RuntimeWarning: invalid value encountered in divide\n",
      "  return np.sum(np.exp(-T + optim_params.la[..., None] + optim_params.mu[None, ...]), axis=1) / np.sum(\n",
      "/home/jupyter/transport/transport_network_optimization/transport_problem.py:87: RuntimeWarning: overflow encountered in exp\n",
      "  return np.sum(np.exp(-T + optim_params.la[..., None] + optim_params.mu[None, ...]), axis=0) / np.sum(\n",
      "/home/jupyter/transport/transport_network_optimization/transport_problem.py:88: RuntimeWarning: overflow encountered in exp\n",
      "  np.exp(-T + optim_params.la[..., None] + optim_params.mu[None, ...])) - self.w\n",
      "/home/jupyter/transport/transport_network_optimization/transport_problem.py:87: RuntimeWarning: invalid value encountered in divide\n",
      "  return np.sum(np.exp(-T + optim_params.la[..., None] + optim_params.mu[None, ...]), axis=0) / np.sum(\n",
      "  1%|          | 10/1000 [00:04<07:39,  2.16it/s]\n"
     ]
    },
    {
     "ename": "KeyboardInterrupt",
     "evalue": "",
     "output_type": "error",
     "traceback": [
      "\u001b[0;31m---------------------------------------------------------------------------\u001b[0m",
      "\u001b[0;31mKeyboardInterrupt\u001b[0m                         Traceback (most recent call last)",
      "Cell \u001b[0;32mIn[9], line 1\u001b[0m\n\u001b[0;32m----> 1\u001b[0m t, flows_averaged, dgap_log, cons_log, A_log, hist \u001b[38;5;241m=\u001b[39m ustm_mincost_mcf(oracle_stacker, \u001b[38;5;241m1e-2\u001b[39m, \u001b[38;5;28;01mNone\u001b[39;00m, \u001b[38;5;241m1000\u001b[39m, \u001b[38;5;28;01mNone\u001b[39;00m)\n",
      "File \u001b[0;32m/home/jupyter/transport/transport_network_optimization/subgd.py:107\u001b[0m, in \u001b[0;36mustm_mincost_mcf\u001b[0;34m(oracle_stacker, eps_abs, eps_cons_abs, max_iter, stop_by_crit)\u001b[0m\n\u001b[1;32m    104\u001b[0m A \u001b[38;5;241m=\u001b[39m A_prev \u001b[38;5;241m+\u001b[39m alpha\n\u001b[1;32m    106\u001b[0m y \u001b[38;5;241m=\u001b[39m (alpha \u001b[38;5;241m*\u001b[39m u_prev \u001b[38;5;241m+\u001b[39m A_prev \u001b[38;5;241m*\u001b[39m t_prev) \u001b[38;5;241m/\u001b[39m A\n\u001b[0;32m--> 107\u001b[0m func_y, grad_y, flows_y \u001b[38;5;241m=\u001b[39m oracle_stacker(y)\n\u001b[1;32m    108\u001b[0m grad_sum \u001b[38;5;241m=\u001b[39m grad_sum_prev \u001b[38;5;241m+\u001b[39m alpha \u001b[38;5;241m*\u001b[39m grad_y\n\u001b[1;32m    110\u001b[0m tmp \u001b[38;5;241m=\u001b[39m np\u001b[38;5;241m.\u001b[39mmaximum(oracle_stacker\u001b[38;5;241m.\u001b[39moracle\u001b[38;5;241m.\u001b[39mt_bar, (y_start \u001b[38;5;241m-\u001b[39m grad_sum)[:oracle_stacker\u001b[38;5;241m.\u001b[39mT_LEN])\n",
      "File \u001b[0;32m/home/jupyter/transport/transport_network_optimization/subgd.py:52\u001b[0m, in \u001b[0;36mOracleStacker.__call__\u001b[0;34m(self, vars_block, *args, **kwargs)\u001b[0m\n\u001b[1;32m     49\u001b[0m \u001b[38;5;28mself\u001b[39m\u001b[38;5;241m.\u001b[39moptim_params\u001b[38;5;241m.\u001b[39mla \u001b[38;5;241m=\u001b[39m vars_block[\u001b[38;5;28mself\u001b[39m\u001b[38;5;241m.\u001b[39mT_LEN:\u001b[38;5;28mself\u001b[39m\u001b[38;5;241m.\u001b[39mT_LEN \u001b[38;5;241m+\u001b[39m \u001b[38;5;28mself\u001b[39m\u001b[38;5;241m.\u001b[39mLA_LEN]\n\u001b[1;32m     50\u001b[0m \u001b[38;5;28mself\u001b[39m\u001b[38;5;241m.\u001b[39moptim_params\u001b[38;5;241m.\u001b[39mmu \u001b[38;5;241m=\u001b[39m vars_block[\u001b[38;5;28mself\u001b[39m\u001b[38;5;241m.\u001b[39mT_LEN \u001b[38;5;241m+\u001b[39m \u001b[38;5;28mself\u001b[39m\u001b[38;5;241m.\u001b[39mLA_LEN:]\n\u001b[0;32m---> 52\u001b[0m T, pred_maps \u001b[38;5;241m=\u001b[39m \u001b[38;5;28mself\u001b[39m\u001b[38;5;241m.\u001b[39moracle\u001b[38;5;241m.\u001b[39mget_T_and_predmaps(\u001b[38;5;28mself\u001b[39m\u001b[38;5;241m.\u001b[39mgraph, \u001b[38;5;28mself\u001b[39m\u001b[38;5;241m.\u001b[39moptim_params, \u001b[38;5;28mself\u001b[39m\u001b[38;5;241m.\u001b[39msources, \u001b[38;5;28mself\u001b[39m\u001b[38;5;241m.\u001b[39mtargets)\n\u001b[1;32m     53\u001b[0m d \u001b[38;5;241m=\u001b[39m \u001b[38;5;28mself\u001b[39m\u001b[38;5;241m.\u001b[39moracle\u001b[38;5;241m.\u001b[39mget_d(\u001b[38;5;28mself\u001b[39m\u001b[38;5;241m.\u001b[39moptim_params, T)\n\u001b[1;32m     54\u001b[0m flows_on_shortest \u001b[38;5;241m=\u001b[39m \u001b[38;5;28mself\u001b[39m\u001b[38;5;241m.\u001b[39moracle\u001b[38;5;241m.\u001b[39mget_flows_on_shortest(\u001b[38;5;28mself\u001b[39m\u001b[38;5;241m.\u001b[39msources, \u001b[38;5;28mself\u001b[39m\u001b[38;5;241m.\u001b[39mtargets, d, pred_maps)\n",
      "File \u001b[0;32m/home/jupyter/transport/transport_network_optimization/transport_problem.py:111\u001b[0m, in \u001b[0;36mDualOracle.get_T_and_predmaps\u001b[0;34m(self, g, optim_params, sources, targets)\u001b[0m\n\u001b[1;32m    108\u001b[0m     pred_maps\u001b[38;5;241m.\u001b[39mappend(pred_map)\n\u001b[1;32m    110\u001b[0m     \u001b[38;5;28;01mfor\u001b[39;00m j \u001b[38;5;129;01min\u001b[39;00m \u001b[38;5;28mrange\u001b[39m(\u001b[38;5;28mlen\u001b[39m(short_distances)):\n\u001b[0;32m--> 111\u001b[0m         T[source, j] \u001b[38;5;241m=\u001b[39m short_distances[j]\n\u001b[1;32m    113\u001b[0m \u001b[38;5;28;01mreturn\u001b[39;00m T, pred_maps\n",
      "\u001b[0;31mKeyboardInterrupt\u001b[0m: "
     ]
    }
   ],
   "source": [
    "t, flows_averaged, dgap_log, cons_log, A_log, hist = ustm_mincost_mcf(oracle_stacker, 1e-2, None, 1000, None)"
   ]
  },
  {
   "cell_type": "code",
   "execution_count": null,
   "id": "05fbcf3d",
   "metadata": {},
   "outputs": [],
   "source": []
  },
  {
   "cell_type": "code",
   "execution_count": null,
   "id": "27469542",
   "metadata": {},
   "outputs": [],
   "source": [
    "import matplotlib.pyplot as plt\n",
    "plt.plot(hist)"
   ]
  },
  {
   "cell_type": "code",
   "execution_count": null,
   "id": "729f919e",
   "metadata": {},
   "outputs": [],
   "source": []
  },
  {
   "cell_type": "code",
   "execution_count": null,
   "id": "761e37b1",
   "metadata": {},
   "outputs": [],
   "source": []
  },
  {
   "cell_type": "code",
   "execution_count": null,
   "id": "0bcc51b0",
   "metadata": {},
   "outputs": [],
   "source": [
    "graph = None # TODO создавать граф\n",
    "oracle = None # TODO - создать оракла\n",
    "sources, targets = None, None    # определять sources и targets\n",
    "oracle_stacker = OracleStacker(oracle, graph, sources, targets)\n"
   ]
  },
  {
   "cell_type": "code",
   "execution_count": null,
   "id": "c64eaeb2",
   "metadata": {},
   "outputs": [],
   "source": []
  }
 ],
 "metadata": {
  "kernelspec": {
   "display_name": "testEnv",
   "language": "python",
   "name": "testenv"
  },
  "language_info": {
   "codemirror_mode": {
    "name": "ipython",
    "version": 3
   },
   "file_extension": ".py",
   "mimetype": "text/x-python",
   "name": "python",
   "nbconvert_exporter": "python",
   "pygments_lexer": "ipython3",
   "version": "3.11.4"
  }
 },
 "nbformat": 4,
 "nbformat_minor": 5
}
