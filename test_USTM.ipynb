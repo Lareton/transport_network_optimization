{
 "cells": [
  {
   "cell_type": "code",
   "execution_count": 2,
   "id": "5f333b7d",
   "metadata": {},
   "outputs": [],
   "source": [
    "%load_ext autoreload\n",
    "%autoreload 2\n",
    "\n",
    "import numpy as np\n",
    "import scipy\n",
    "\n",
    "import matplotlib.pyplot as plt\n",
    "from pathlib import Path\n",
    "from read_data import get_network_df, get_corrs, get_full_df\n",
    "from numba.core import types\n",
    "import graph_tool\n",
    "import numba\n",
    "\n",
    "from numba import njit\n",
    "from graph_tool.topology import shortest_distance\n",
    "import pandas as pd\n",
    "import networkx as nx\n",
    "import graph_tool as gt\n",
    "from graph_tool.topology import shortest_distance\n",
    "import numpy as np\n",
    "import typing\n",
    "\n",
    "import numba\n",
    "from numba.core import types\n",
    "\n",
    "from transport_problem import OptimParams, DualOracle, HyperParams\n",
    "from subgd import OracleStacker, ustm_mincost_mcf"
   ]
  },
  {
   "cell_type": "code",
   "execution_count": 14,
   "id": "3bc8b44c",
   "metadata": {},
   "outputs": [],
   "source": [
    "# SMALL GRAPH:\n",
    "# net_df = get_network_df(Path('SiouxFalls') / 'SiouxFalls_net.tntp')\n",
    "# corrs = get_corrs(Path('SiouxFalls') / 'SiouxFalls_trips.tntp')\n",
    "# people_count = corrs.sum()\n",
    "# corrs = corrs / people_count\n",
    "# net_df.capacity /= people_count\n",
    "# graph = graph_tool.Graph(net_df.values, eprops=[('capacity', 'double'), ('fft', 'double')])\n",
    "\n",
    "#BERLING GRAPH\n",
    "BIG_CONST_FOR_FAKE_EDGES = 400\n",
    "net_df = get_network_df(Path('SiouxFalls') / 'berlin-center_net.tntp')\n",
    "corrs = get_corrs(Path('SiouxFalls') / 'berlin-center_trips.tntp')\n",
    "net_df.loc[net_df.free_flow_time < 1e-6, \"free_flow_time\"] = BIG_CONST_FOR_FAKE_EDGES\n",
    "people_count = corrs.sum()\n",
    "corrs = corrs / people_count\n",
    "net_df.capacity /= people_count\n",
    "net_df = net_df.rename({\"free_flow_time\":\"fft\"}, axis=1)\n",
    "graph = graph_tool.Graph(net_df.values, eprops=[('capacity', 'double'), ('fft', 'double')])"
   ]
  },
  {
   "cell_type": "code",
   "execution_count": 23,
   "id": "04c5154d",
   "metadata": {
    "scrolled": true
   },
   "outputs": [],
   "source": [
    "from transport_problem import HyperParams, DualOracle, OptimParams \n",
    "l = np.sum(corrs, axis=1)\n",
    "w = np.sum(corrs, axis=0)\n",
    "\n",
    "zones_num = len(l)\n",
    "\n",
    "COUNT_SOURCES_AND_TARGETS = corrs.shape[0] \n",
    "sources = np.arange(COUNT_SOURCES_AND_TARGETS)\n",
    "targets = np.arange(COUNT_SOURCES_AND_TARGETS)"
   ]
  },
  {
   "cell_type": "code",
   "execution_count": 25,
   "id": "8560ff2b",
   "metadata": {},
   "outputs": [],
   "source": [
    "params = HyperParams(gamma=10, mu_pow=0.25, rho=0.15)\n",
    "oracle = DualOracle(graph, l, w, params)\n",
    "oracle_stacker = OracleStacker(oracle, graph, sources, targets)"
   ]
  },
  {
   "cell_type": "code",
   "execution_count": null,
   "id": "05fbcf3d",
   "metadata": {
    "scrolled": true
   },
   "outputs": [
    {
     "name": "stdout",
     "output_type": "stream",
     "text": [
      "1\n",
      "1\n",
      "1\n",
      "vars block grad:  37582.36043086729\n",
      "t in optim params grad:  37582.36043086729 37582.36043086729\n",
      "la in optim params norm:  0.0\n",
      "mu in optim params norm:  0.0\n",
      "grad dF dla:  0.029545006569510025\n",
      "grad dF dmu:  0.02969489251312408\n",
      "start optimizing\n",
      "start init y is below t_bar count:  0\n",
      "start init u is below t_bar count:  0\n",
      "start init t is below t_bar count:  0\n"
     ]
    },
    {
     "name": "stderr",
     "output_type": "stream",
     "text": [
      "  0%|          | 0/100 [00:00<?, ?it/s]"
     ]
    },
    {
     "name": "stdout",
     "output_type": "stream",
     "text": [
      "vars block grad:  37582.36043086729\n",
      "t in optim params grad:  37582.36043086729 37582.36043086729\n",
      "la in optim params norm:  0.0\n",
      "mu in optim params norm:  0.0\n",
      "grad dF dla:  0.029545006569510025\n",
      "grad dF dmu:  0.02969489251312408\n",
      "count values below t_bar in old t:  1520\n",
      "count values below t_bar in new t:  0\n",
      "vars block grad:  37582.36176127865\n",
      "t in optim params grad:  37582.36043086729 37582.36043086729\n",
      "la in optim params norm:  0.0\n",
      "mu in optim params norm:  0.0\n"
     ]
    },
    {
     "name": "stderr",
     "output_type": "stream",
     "text": [
      "  1%|          | 1/100 [00:04<07:15,  4.40s/it]"
     ]
    },
    {
     "name": "stdout",
     "output_type": "stream",
     "text": [
      "grad dF dla:  0.027847104056455706\n",
      "grad dF dmu:  0.027997358935996385\n",
      "norm (t - y):  10.0\n",
      "norm t:  37582.36043086729\n",
      "norm la:  7.05315436021667\n",
      "norm mu:  7.0889359970983365\n",
      "\n",
      "#######################################teta:  1.0\n",
      "vars block grad:  37582.36176127865\n",
      "t in optim params grad:  37582.36043086729 37582.36043086729\n",
      "la in optim params norm:  7.05315436021667\n",
      "mu in optim params norm:  7.0889359970983365\n",
      "grad dF dla:  0.027847104056455706\n",
      "grad dF dmu:  0.027997358935996385\n",
      "count values below t_bar in old t:  1683\n",
      "count values below t_bar in new t:  0\n",
      "vars block grad:  37582.37150693497\n",
      "t in optim params grad:  37582.36043086729 37582.36043086729\n",
      "la in optim params norm:  7.05315436021667\n",
      "mu in optim params norm:  7.088935997098336\n"
     ]
    },
    {
     "name": "stderr",
     "output_type": "stream",
     "text": [
      "  2%|▏         | 2/100 [00:08<07:12,  4.42s/it]"
     ]
    },
    {
     "name": "stdout",
     "output_type": "stream",
     "text": [
      "grad dF dla:  0.024224857295749632\n",
      "grad dF dmu:  0.02437908370037219\n",
      "norm (t - y):  18.853673704981034\n",
      "norm t:  37582.36043086729\n",
      "norm la:  20.348739420088442\n",
      "norm mu:  20.456257292040874\n",
      "\n",
      "#######################################teta:  0.7320508075688773\n",
      "vars block grad:  37582.37509534453\n",
      "t in optim params grad:  37582.36043086729 37582.36043086729\n",
      "la in optim params norm:  20.348739420088442\n",
      "mu in optim params norm:  20.456257292040874\n",
      "grad dF dla:  0.02330580431098244\n",
      "grad dF dmu:  0.02346188594230648\n",
      "count values below t_bar in old t:  3079\n",
      "count values below t_bar in new t:  0\n",
      "vars block grad:  37582.41623041455\n",
      "t in optim params grad:  37582.36043086729 37582.36043086729\n",
      "la in optim params norm:  23.41395786946923\n",
      "mu in optim params norm:  23.538014570359714\n"
     ]
    },
    {
     "name": "stderr",
     "output_type": "stream",
     "text": [
      "  3%|▎         | 3/100 [00:13<07:07,  4.41s/it]"
     ]
    },
    {
     "name": "stdout",
     "output_type": "stream",
     "text": [
      "grad dF dla:  0.016104973291015966\n",
      "grad dF dmu:  0.01628952758438654\n",
      "norm (t - y):  31.57858249796783\n",
      "norm t:  37582.36043086729\n",
      "norm la:  45.65735875310825\n",
      "norm mu:  45.93001305738408\n",
      "\n",
      "#######################################teta:  0.6298562413874016\n",
      "vars block grad:  37582.43924992596\n",
      "t in optim params grad:  37582.36043086729 37582.36043086729\n",
      "la in optim params norm:  45.65735875310825\n",
      "mu in optim params norm:  45.93001305738408\n",
      "grad dF dla:  0.013660574972638997\n",
      "grad dF dmu:  0.013864422897785477\n",
      "count values below t_bar in old t:  3079\n",
      "count values below t_bar in new t:  0\n",
      "vars block grad:  37582.524405598706\n",
      "t in optim params grad:  37582.36043086729 37582.36043086729\n",
      "la in optim params norm:  54.26150484834947\n",
      "mu in optim params norm:  54.59036405776006\n"
     ]
    },
    {
     "name": "stderr",
     "output_type": "stream",
     "text": [
      "  4%|▍         | 4/100 [00:17<07:02,  4.40s/it]"
     ]
    },
    {
     "name": "stdout",
     "output_type": "stream",
     "text": [
      "grad dF dla:  0.008226547520843066\n",
      "grad dF dmu:  0.008398841733925834\n",
      "norm (t - y):  37.17179133936615\n",
      "norm t:  37582.36043086729\n",
      "norm la:  78.14734446225944\n",
      "norm mu:  78.85514794068142\n",
      "\n",
      "#######################################teta:  0.5783829781709008\n",
      "vars block grad:  37582.58511459168\n",
      "t in optim params grad:  37582.36043086729 37582.36043086729\n",
      "la in optim params norm:  78.14734446225944\n",
      "mu in optim params norm:  78.85514794068142\n",
      "grad dF dla:  0.007940894239895512\n",
      "grad dF dmu:  0.008041515558496116\n",
      "count values below t_bar in old t:  3291\n",
      "count values below t_bar in new t:  0\n",
      "vars block grad:  37582.65990166729\n",
      "t in optim params grad:  37582.36043086729 37582.36043086729\n",
      "la in optim params norm:  91.44850197744167\n",
      "mu in optim params norm:  92.33369588319346\n",
      "grad dF dla:  0.030578084634125924\n",
      "grad dF dmu:  0.030538120367895806\n",
      "norm (t - y):  43.16732642281719\n",
      "norm t:  37582.36043086729\n",
      "norm la:  105.28030040893663\n",
      "norm mu:  106.89147354725536\n",
      "\n",
      "vars block grad:  37582.571651124024\n",
      "t in optim params grad:  37582.36043086729 37582.36043086729\n",
      "la in optim params norm:  105.28030040893663\n",
      "mu in optim params norm:  106.89147354725536\n",
      "grad dF dla:  0.007757544889602009\n",
      "grad dF dmu:  0.007877068515357378\n",
      "count values below t_bar in old t:  3079\n",
      "count values below t_bar in new t:  0\n",
      "vars block grad:  37582.608968530585\n",
      "t in optim params grad:  37582.36043086729 37582.36043086729\n",
      "la in optim params norm:  88.67134468725537\n",
      "mu in optim params norm:  89.51954470001638\n"
     ]
    },
    {
     "name": "stderr",
     "output_type": "stream",
     "text": [
      "  5%|▌         | 5/100 [00:26<09:27,  5.98s/it]"
     ]
    },
    {
     "name": "stdout",
     "output_type": "stream",
     "text": [
      "grad dF dla:  0.00761198133688082\n",
      "grad dF dmu:  0.007602127044004764\n",
      "norm (t - y):  21.114175362198722\n",
      "norm t:  37582.36043086729\n",
      "norm la:  96.03608347902392\n",
      "norm mu:  97.25428795846372\n",
      "\n",
      "#######################################teta:  0.4348195546038234\n",
      "vars block grad:  37582.67143532078\n",
      "t in optim params grad:  37582.36043086729 37582.36043086729\n",
      "la in optim params norm:  96.03608347902392\n",
      "mu in optim params norm:  97.25428795846372\n",
      "grad dF dla:  0.01530419726070459\n",
      "grad dF dmu:  0.015239824825292934\n",
      "count values below t_bar in old t:  3082\n",
      "count values below t_bar in new t:  0\n",
      "vars block grad:  37582.7866219568\n",
      "t in optim params grad:  37582.36043086729 37582.36043086729\n",
      "la in optim params norm:  107.35099265750111\n",
      "mu in optim params norm:  108.86883866721855\n",
      "grad dF dla:  0.016642311892812445\n",
      "grad dF dmu:  0.01686935759549776\n",
      "norm (t - y):  82.49573041473384\n",
      "norm t:  37582.36043086729\n",
      "norm la:  125.78722831848592\n",
      "norm mu:  127.32748763615264\n",
      "\n",
      "vars block grad:  37582.6563375923\n",
      "t in optim params grad:  37582.36043086729 37582.36043086729\n",
      "la in optim params norm:  125.78722831848592\n",
      "mu in optim params norm:  127.32748763615264\n",
      "grad dF dla:  0.012992057484596404\n",
      "grad dF dmu:  0.012932476805560868\n",
      "count values below t_bar in old t:  3149\n",
      "count values below t_bar in new t:  0\n",
      "vars block grad:  37582.691919577424\n",
      "t in optim params grad:  37582.36043086729 37582.36043086729\n",
      "la in optim params norm:  104.72846100734657\n",
      "mu in optim params norm:  106.1780740201259\n",
      "grad dF dla:  0.008323980391683356\n",
      "grad dF dmu:  0.008448613295138185\n",
      "norm (t - y):  35.00953941755143\n",
      "norm t:  37582.36043086729\n",
      "norm la:  110.82739685514262\n",
      "norm mu:  112.3995300574806\n",
      "\n",
      "vars block grad:  37582.644111886344\n",
      "t in optim params grad:  37582.36043086729 37582.36043086729\n",
      "la in optim params norm:  110.82739685514262\n",
      "mu in optim params norm:  112.3995300574806\n",
      "grad dF dla:  0.011313081719102442\n",
      "grad dF dmu:  0.01126008403851289\n",
      "count values below t_bar in old t:  3079\n",
      "count values below t_bar in new t:  0\n",
      "vars block grad:  37582.65941299361\n",
      "t in optim params grad:  37582.36043086729 37582.36043086729\n",
      "la in optim params norm:  102.55563501104534\n",
      "mu in optim params norm:  103.94819293220192\n",
      "grad dF dla:  0.006001040630308596\n",
      "grad dF dmu:  0.006043227619215269\n",
      "norm (t - y):  15.241859671418474\n",
      "norm t:  37582.36043086729\n",
      "norm la:  105.2591547971368\n",
      "norm mu:  106.74037562973379\n",
      "\n",
      "vars block grad:  37582.63465066181\n",
      "t in optim params grad:  37582.36043086729 37582.36043086729\n",
      "la in optim params norm:  105.2591547971368\n",
      "mu in optim params norm:  106.74037562973379\n",
      "grad dF dla:  0.0101409907240238\n",
      "grad dF dmu:  0.010095437872287229\n",
      "count values below t_bar in old t:  3684\n",
      "count values below t_bar in new t:  0\n",
      "vars block grad:  37582.642299236475\n",
      "t in optim params grad:  37582.36043086729 37582.36043086729\n",
      "la in optim params norm:  100.84196775529911\n",
      "mu in optim params norm:  102.18917283802135\n"
     ]
    },
    {
     "name": "stderr",
     "output_type": "stream",
     "text": [
      "  6%|▌         | 6/100 [00:43<15:28,  9.88s/it]"
     ]
    },
    {
     "name": "stdout",
     "output_type": "stream",
     "text": [
      "grad dF dla:  0.004680460136278463\n",
      "grad dF dmu:  0.004670267669901117\n",
      "norm (t - y):  6.8320221360191375\n",
      "norm t:  37582.36043086729\n",
      "norm la:  102.22227761262691\n",
      "norm mu:  103.620667336421\n",
      "\n",
      "#######################################teta:  0.19505703795515067\n",
      "vars block grad:  37582.678674974406\n",
      "t in optim params grad:  37582.36043086729 37582.36043086729\n",
      "la in optim params norm:  102.22227761262691\n",
      "mu in optim params norm:  103.620667336421\n",
      "grad dF dla:  0.005165815029707167\n",
      "grad dF dmu:  0.005155154762263187\n",
      "count values below t_bar in old t:  6045\n",
      "count values below t_bar in new t:  0\n",
      "vars block grad:  37582.694169552335\n",
      "t in optim params grad:  37582.36043086729 37582.36043086729\n",
      "la in optim params norm:  108.57607226583623\n",
      "mu in optim params norm:  110.14566395513836\n"
     ]
    },
    {
     "name": "stderr",
     "output_type": "stream",
     "text": [
      "  7%|▋         | 7/100 [00:48<12:31,  8.08s/it]"
     ]
    },
    {
     "name": "stdout",
     "output_type": "stream",
     "text": [
      "grad dF dla:  0.0035020471452078053\n",
      "grad dF dmu:  0.003541199352521209\n",
      "norm (t - y):  6.9689127912647715\n",
      "norm t:  37582.36043086729\n",
      "norm la:  111.14550496793402\n",
      "norm mu:  112.83688762589259\n",
      "\n",
      "#######################################teta:  0.24041655425300265\n",
      "vars block grad:  37582.74645085217\n",
      "t in optim params grad:  37582.36043086729 37582.36043086729\n",
      "la in optim params norm:  111.14550496793402\n",
      "mu in optim params norm:  112.83688762589259\n",
      "grad dF dla:  0.003311800119281433\n",
      "grad dF dmu:  0.0034172802032116983\n",
      "count values below t_bar in old t:  7518\n",
      "count values below t_bar in new t:  0\n",
      "vars block grad:  37582.76345265974\n",
      "t in optim params grad:  37582.36043086729 37582.36043086729\n",
      "la in optim params norm:  119.47534169650345\n",
      "mu in optim params norm:  121.41200990300197\n"
     ]
    },
    {
     "name": "stderr",
     "output_type": "stream",
     "text": [
      "  8%|▊         | 8/100 [00:52<10:34,  6.90s/it]"
     ]
    },
    {
     "name": "stdout",
     "output_type": "stream",
     "text": [
      "grad dF dla:  0.0031242888828462213\n",
      "grad dF dmu:  0.003045577312311\n",
      "norm (t - y):  9.088314529350312\n",
      "norm t:  37582.36043086729\n",
      "norm la:  121.92751879171458\n",
      "norm mu:  124.20492389043801\n",
      "\n",
      "#######################################teta:  0.28707825456566666\n",
      "vars block grad:  37582.82923109206\n",
      "t in optim params grad:  37582.36043086729 37582.36043086729\n",
      "la in optim params norm:  121.92751879171458\n",
      "mu in optim params norm:  124.20492389043801\n",
      "grad dF dla:  0.003443628182126655\n",
      "grad dF dmu:  0.0032904445377281793\n",
      "count values below t_bar in old t:  7518\n",
      "count values below t_bar in new t:  0\n",
      "vars block grad:  37582.87007748437\n",
      "t in optim params grad:  37582.36043086729 37582.36043086729\n",
      "la in optim params norm:  131.36213936899523\n",
      "mu in optim params norm:  134.0949147009768\n",
      "grad dF dla:  0.008260864511408204\n",
      "grad dF dmu:  0.008546520037701151\n",
      "norm (t - y):  18.192585240382808\n",
      "norm t:  37582.36043086729\n",
      "norm la:  136.92952706180972\n",
      "norm mu:  139.84995555749256\n",
      "\n",
      "vars block grad:  37582.81203507934\n",
      "t in optim params grad:  37582.36043086729 37582.36043086729\n",
      "la in optim params norm:  136.92952706180972\n",
      "mu in optim params norm:  139.84995555749256\n",
      "grad dF dla:  0.0033186499164641046\n",
      "grad dF dmu:  0.0031798973441509574\n",
      "count values below t_bar in old t:  10147\n",
      "count values below t_bar in new t:  0\n",
      "vars block grad:  37582.83236561374\n",
      "t in optim params grad:  37582.36043086729 37582.36043086729\n",
      "la in optim params norm:  128.96127264324784\n",
      "mu in optim params norm:  131.58228848651822\n"
     ]
    },
    {
     "name": "stderr",
     "output_type": "stream",
     "text": [
      "  9%|▉         | 9/100 [01:01<11:19,  7.46s/it]"
     ]
    },
    {
     "name": "stdout",
     "output_type": "stream",
     "text": [
      "grad dF dla:  0.0031727825621307598\n",
      "grad dF dmu:  0.0033709725599393274\n",
      "norm (t - y):  8.777877967343857\n",
      "norm t:  37582.36043086729\n",
      "norm la:  131.7953172238126\n",
      "norm mu:  134.54761448109358\n",
      "\n",
      "#######################################teta:  0.2488136198574119\n",
      "vars block grad:  37582.90231695703\n",
      "t in optim params grad:  37582.36043086729 37582.36043086729\n",
      "la in optim params norm:  131.7953172238126\n",
      "mu in optim params norm:  134.54761448109358\n"
     ]
    }
   ],
   "source": [
    "results = ustm_mincost_mcf(oracle_stacker,  eps_abs=1e-4, eps_cons_abs=1e-6, max_iter=100, stop_by_crit=False)"
   ]
  },
  {
   "cell_type": "code",
   "execution_count": 11,
   "id": "1465c325",
   "metadata": {},
   "outputs": [
    {
     "data": {
      "image/png": "[encoded data removed]",
      "text/plain": [
       "<Figure size 640x480 with 1 Axes>"
      ]
     },
     "metadata": {},
     "output_type": "display_data"
    },
    {
     "data": {
      "image/png": "[encoded data removed]",
      "text/plain": [
       "<Figure size 640x480 with 1 Axes>"
      ]
     },
     "metadata": {},
     "output_type": "display_data"
    }
   ],
   "source": [
    "plt.rcParams['figure.dpi']=100\n",
    "x = results.history_count_calls\n",
    "\n",
    "plt.plot(x, results.history_dual_gap,  label=\"dual gap abs\")\n",
    "plt.savefig(\"plot_ustm_dual_gap.png\")\n",
    "# plt.yscale(\"log\")\n",
    "plt.legend()\n",
    "plt.show()\n",
    "\n",
    "plt.plot(x, results.history_la_mu_grad_norm, label=\"la_mu block grad norm\")\n",
    "plt.savefig(\"plot_ustm_la_mu_grad_norm.png\")\n",
    "plt.yscale(\"log\")\n",
    "plt.legend()\n",
    "plt.show()\n",
    "\n",
    "\n",
    "# plt.plot(x, results.history_prime_values, label=\"history prime function\")\n",
    "# plt.legend()\n",
    "# plt.show()\n",
    "\n",
    "# plt.plot(x, results.history_dual_values, label=\"history dual function\")\n",
    "# plt.legend()\n",
    "# plt.show()\n",
    "\n"
   ]
  },
  {
   "cell_type": "code",
   "execution_count": null,
   "id": "140a2313",
   "metadata": {},
   "outputs": [],
   "source": []
  },
  {
   "cell_type": "code",
   "execution_count": null,
   "id": "831527a3",
   "metadata": {},
   "outputs": [],
   "source": []
  },
  {
   "cell_type": "code",
   "execution_count": null,
   "id": "2449c1fa",
   "metadata": {},
   "outputs": [],
   "source": []
  },
  {
   "cell_type": "code",
   "execution_count": null,
   "id": "761e37b1",
   "metadata": {},
   "outputs": [],
   "source": [
    "# расчет прямой функции\n",
    "vars = np.zeros(oracle_stacker.parameters_vector_size)  # dual costs w\n",
    "_ = oracle_stacker(vars)\n",
    "print(\"prime function value: \", oracle_stacker.get_prime_value())"
   ]
  },
  {
   "cell_type": "code",
   "execution_count": null,
   "id": "279c5f67",
   "metadata": {},
   "outputs": [],
   "source": []
  },
  {
   "cell_type": "code",
   "execution_count": null,
   "id": "c64eaeb2",
   "metadata": {},
   "outputs": [],
   "source": []
  }
 ],
 "metadata": {
  "kernelspec": {
   "display_name": "testEnv",
   "language": "python",
   "name": "testenv"
  },
  "language_info": {
   "codemirror_mode": {
    "name": "ipython",
    "version": 3
   },
   "file_extension": ".py",
   "mimetype": "text/x-python",
   "name": "python",
   "nbconvert_exporter": "python",
   "pygments_lexer": "ipython3",
   "version": "3.11.4"
  }
 },
 "nbformat": 4,
 "nbformat_minor": 5
}