{
 "cells": [
  {
   "cell_type": "code",
   "execution_count": null,
   "id": "5f333b7d",
   "metadata": {},
   "outputs": [],
   "source": [
    "%load_ext autoreload\n",
    "%autoreload 2\n",
    "\n",
    "import numpy as np\n",
    "import scipy\n",
    "import matplotlib.pyplot as plt\n",
    "from pathlib import Path\n",
    "from read_data import get_network_df, get_corrs, get_full_df\n",
    "from numba.core import types\n",
    "import graph_tool\n",
    "import numba\n",
    "\n",
    "from numba import njit\n",
    "from graph_tool.topology import shortest_distance\n",
    "import pandas as pd\n",
    "import networkx as nx\n",
    "import graph_tool as gt\n",
    "from graph_tool.topology import shortest_distance\n",
    "import numpy as np\n",
    "import typing\n",
    "\n",
    "import numba\n",
    "from numba.core import types\n",
    "\n",
    "from transport_problem import OptimParams, DualOracle, HyperParams\n",
    "from subgd import OracleStacker, ustm_mincost_mcf"
   ]
  },
  {
   "cell_type": "code",
   "execution_count": null,
   "id": "4392e67a",
   "metadata": {},
   "outputs": [],
   "source": [
    "T_LEN = 76\n",
    "LA_LEN = 25\n",
    "MU_LEN = 25"
   ]
  },
  {
   "cell_type": "code",
   "execution_count": null,
   "id": "3bc8b44c",
   "metadata": {},
   "outputs": [],
   "source": [
    "net_df = get_network_df(Path('SiouxFalls') / 'SiouxFalls_net.tntp')\n",
    "corrs = get_corrs(Path('SiouxFalls') / 'SiouxFalls_trips.tntp')\n",
    "people_count = corrs.sum()\n",
    "corrs = corrs / people_count\n",
    "net_df.capacity /= people_count\n",
    "graph = graph_tool.Graph(net_df.values, eprops=[('capacity', 'double'), ('fft', 'double')])"
   ]
  },
  {
   "cell_type": "code",
   "execution_count": null,
   "id": "8560ff2b",
   "metadata": {},
   "outputs": [],
   "source": [
    "from transport_problem import HyperParams, DualOracle, OptimParams \n",
    "l = np.sum(corrs, axis=1)\n",
    "w = np.sum(corrs, axis=0)\n",
    "\n",
    "zones_num = len(l)\n",
    "sources = np.arange(zones_num)\n",
    "targets = np.arange(zones_num)\n",
    "\n",
    "params = HyperParams(gamma=10, mu_pow=0.25, rho=0.15)\n",
    "oracle = DualOracle(graph, l, w, params)\n",
    "oracle_stacker = OracleStacker(oracle, graph, sources, targets)"
   ]
  },
  {
   "cell_type": "code",
   "execution_count": null,
   "id": "05fbcf3d",
   "metadata": {},
   "outputs": [],
   "source": [
    "results = ustm_mincost_mcf(oracle_stacker,  eps_abs=1e-4, eps_cons_abs=1e-6, max_iter=1000, stop_by_crit=False)"
   ]
  },
  {
   "cell_type": "code",
   "execution_count": null,
   "id": "1465c325",
   "metadata": {},
   "outputs": [],
   "source": [
    "plt.rcParams['figure.dpi']=100\n",
    "x = results.history_count_calls\n",
    "\n",
    "plt.plot(x, np.abs(results.history_dual_gap),  label=\"dual gap abs\")\n",
    "plt.savefig(\"plot_ustm_dual_gap.png\")\n",
    "plt.yscale(\"log\")\n",
    "plt.legend()\n",
    "plt.show()\n",
    "\n",
    "plt.plot(x, results.history_la_mu_grad_norm, label=\"la_mu block grad norm\")\n",
    "plt.savefig(\"plot_ustm_la_mu_grad_norm.png\")\n",
    "plt.yscale(\"log\")\n",
    "plt.legend()\n",
    "plt.show()\n",
    "\n",
    "\n",
    "# plt.plot(x, results.history_prime_values, label=\"history prime function\")\n",
    "# plt.legend()\n",
    "# plt.show()\n",
    "\n",
    "# plt.plot(x, results.history_dual_values, label=\"history dual function\")\n",
    "# plt.legend()\n",
    "# plt.show()\n",
    "\n"
   ]
  },
  {
   "cell_type": "code",
   "execution_count": null,
   "id": "140a2313",
   "metadata": {},
   "outputs": [],
   "source": []
  },
  {
   "cell_type": "code",
   "execution_count": null,
   "id": "831527a3",
   "metadata": {},
   "outputs": [],
   "source": []
  },
  {
   "cell_type": "code",
   "execution_count": null,
   "id": "2449c1fa",
   "metadata": {},
   "outputs": [],
   "source": []
  },
  {
   "cell_type": "code",
   "execution_count": null,
   "id": "761e37b1",
   "metadata": {},
   "outputs": [],
   "source": [
    "# расчет прямой функции\n",
    "vars = np.zeros(oracle_stacker.parameters_vector_size)  # dual costs w\n",
    "_ = oracle_stacker(vars)\n",
    "print(\"prime function value: \", oracle_stacker.get_prime_value())"
   ]
  },
  {
   "cell_type": "code",
   "execution_count": null,
   "id": "279c5f67",
   "metadata": {},
   "outputs": [],
   "source": []
  },
  {
   "cell_type": "code",
   "execution_count": null,
   "id": "c64eaeb2",
   "metadata": {},
   "outputs": [],
   "source": []
  }
 ],
 "metadata": {
  "kernelspec": {
   "display_name": "testEnv",
   "language": "python",
   "name": "testenv"
  },
  "language_info": {
   "codemirror_mode": {
    "name": "ipython",
    "version": 3
   },
   "file_extension": ".py",
   "mimetype": "text/x-python",
   "name": "python",
   "nbconvert_exporter": "python",
   "pygments_lexer": "ipython3",
   "version": "3.11.4"
  }
 },
 "nbformat": 4,
 "nbformat_minor": 5
}