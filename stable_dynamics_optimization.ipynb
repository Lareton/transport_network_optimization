{
 "cells": [
  {
   "cell_type": "code",
   "execution_count": 1,
   "metadata": {
    "colab": {
     "base_uri": "https://localhost:8080/"
    },
    "id": "4suyiyI3T4Xq",
    "outputId": "15c18a38-a44b-4667-851a-41517314763c"
   },
   "outputs": [
    {
     "name": "stdout",
     "output_type": "stream",
     "text": [
      "Executing: /tmp/apt-key-gpghome.YC1PPEvIKw/gpg.1.sh --keyserver keyserver.ubuntu.com --recv-key 612DEFB798507F25\n",
      "gpg: key 612DEFB798507F25: public key \"Tiago de Paula Peixoto <tiago@skewed.de>\" imported\n",
      "gpg: Total number processed: 1\n",
      "gpg:               imported: 1\n",
      "Get:1 https://cloud.r-project.org/bin/linux/ubuntu focal-cran40/ InRelease [3,622 B]\n",
      "Get:2 https://developer.download.nvidia.com/compute/cuda/repos/ubuntu2004/x86_64  InRelease [1,581 B]\n",
      "Get:3 http://security.ubuntu.com/ubuntu focal-security InRelease [114 kB]\n",
      "Get:4 http://ppa.launchpad.net/c2d4u.team/c2d4u4.0+/ubuntu focal InRelease [18.1 kB]\n",
      "Get:5 https://cloud.r-project.org/bin/linux/ubuntu focal-cran40/ Packages [81.0 kB]\n",
      "Hit:6 http://archive.ubuntu.com/ubuntu focal InRelease\n",
      "Get:7 http://downloads.skewed.de/apt focal InRelease [7,536 B]\n",
      "Get:8 https://developer.download.nvidia.com/compute/cuda/repos/ubuntu2004/x86_64  Packages [1,079 kB]\n",
      "Get:9 http://archive.ubuntu.com/ubuntu focal-updates InRelease [114 kB]\n",
      "Hit:10 http://ppa.launchpad.net/cran/libgit2/ubuntu focal InRelease\n",
      "Hit:11 http://ppa.launchpad.net/deadsnakes/ppa/ubuntu focal InRelease\n",
      "Get:12 http://archive.ubuntu.com/ubuntu focal-backports InRelease [108 kB]\n",
      "Get:13 http://ppa.launchpad.net/graphics-drivers/ppa/ubuntu focal InRelease [24.3 kB]\n",
      "Get:14 http://downloads.skewed.de/apt focal/main amd64 Packages [5,009 B]\n",
      "Get:15 http://security.ubuntu.com/ubuntu focal-security/main amd64 Packages [2,858 kB]\n",
      "Hit:16 http://ppa.launchpad.net/ubuntugis/ppa/ubuntu focal InRelease\n",
      "Get:17 http://archive.ubuntu.com/ubuntu focal-updates/multiverse amd64 Packages [31.2 kB]\n",
      "Get:18 http://ppa.launchpad.net/c2d4u.team/c2d4u4.0+/ubuntu focal/main Sources [2,604 kB]\n",
      "Get:19 http://archive.ubuntu.com/ubuntu focal-updates/main amd64 Packages [3,338 kB]\n",
      "Get:20 http://archive.ubuntu.com/ubuntu focal-updates/restricted amd64 Packages [2,642 kB]\n",
      "Get:21 http://ppa.launchpad.net/c2d4u.team/c2d4u4.0+/ubuntu focal/main amd64 Packages [1,229 kB]\n",
      "Get:22 http://ppa.launchpad.net/graphics-drivers/ppa/ubuntu focal/main amd64 Packages [44.1 kB]\n",
      "Fetched 14.3 MB in 3s (4,704 kB/s)\n",
      "Reading package lists... Done\n",
      "Reading package lists... Done\n",
      "Building dependency tree       \n",
      "Reading state information... Done\n",
      "The following additional packages will be installed:\n",
      "  gir1.2-atk-1.0 gir1.2-freedesktop gir1.2-gdkpixbuf-2.0 gir1.2-gtk-3.0\n",
      "  gir1.2-pango-1.0 libcairomm-1.0-1v5 libimagequant0 liblbfgsb0\n",
      "  libpangoxft-1.0-0 libpython2-stdlib libsigc++-2.0-0v5 python-cairo python-gi\n",
      "  python-gi-cairo python2 python2-minimal python3-decorator python3-numpy\n",
      "  python3-olefile python3-pil python3-scipy\n",
      "Suggested packages:\n",
      "  python2-doc python-tk python-numpy-doc python3-pytest python3-numpy-dbg\n",
      "  python-pil-doc python3-pil-dbg python-scipy-doc\n",
      "Recommended packages:\n",
      "  libgv-python python-matplotlib\n",
      "The following NEW packages will be installed:\n",
      "  gir1.2-atk-1.0 gir1.2-freedesktop gir1.2-gdkpixbuf-2.0 gir1.2-gtk-3.0\n",
      "  gir1.2-pango-1.0 libcairomm-1.0-1v5 libimagequant0 liblbfgsb0\n",
      "  libpangoxft-1.0-0 libpython2-stdlib libsigc++-2.0-0v5 python-cairo python-gi\n",
      "  python-gi-cairo python2 python2-minimal python3-decorator python3-graph-tool\n",
      "  python3-numpy python3-olefile python3-pil python3-scipy\n",
      "0 upgraded, 22 newly installed, 0 to remove and 31 not upgraded.\n",
      "Need to get 61.3 MB of archives.\n",
      "After this operation, 462 MB of additional disk space will be used.\n",
      "Get:1 http://archive.ubuntu.com/ubuntu focal/universe amd64 python2-minimal amd64 2.7.17-2ubuntu4 [27.5 kB]\n",
      "Get:2 http://downloads.skewed.de/apt focal/main amd64 python3-graph-tool amd64 2.57 [46.3 MB]\n",
      "Get:3 http://archive.ubuntu.com/ubuntu focal/universe amd64 libpython2-stdlib amd64 2.7.17-2ubuntu4 [7,072 B]\n",
      "Get:4 http://archive.ubuntu.com/ubuntu focal/universe amd64 python2 amd64 2.7.17-2ubuntu4 [26.5 kB]\n",
      "Get:5 http://archive.ubuntu.com/ubuntu focal/main amd64 gir1.2-atk-1.0 amd64 2.35.1-1ubuntu2 [18.2 kB]\n",
      "Get:6 http://archive.ubuntu.com/ubuntu focal-updates/main amd64 gir1.2-freedesktop amd64 1.64.1-1~ubuntu20.04.1 [19.2 kB]\n",
      "Get:7 http://archive.ubuntu.com/ubuntu focal-updates/main amd64 gir1.2-gdkpixbuf-2.0 amd64 2.40.0+dfsg-3ubuntu0.4 [8,272 B]\n",
      "Get:8 http://archive.ubuntu.com/ubuntu focal/main amd64 libpangoxft-1.0-0 amd64 1.44.7-2ubuntu4 [18.0 kB]\n",
      "Get:9 http://archive.ubuntu.com/ubuntu focal/main amd64 gir1.2-pango-1.0 amd64 1.44.7-2ubuntu4 [26.6 kB]\n",
      "Get:10 http://archive.ubuntu.com/ubuntu focal-updates/main amd64 gir1.2-gtk-3.0 amd64 3.24.20-0ubuntu1.1 [196 kB]\n",
      "Get:11 http://archive.ubuntu.com/ubuntu focal/main amd64 libsigc++-2.0-0v5 amd64 2.10.2-1build1 [11.7 kB]\n",
      "Get:12 http://archive.ubuntu.com/ubuntu focal/main amd64 libcairomm-1.0-1v5 amd64 1.12.2-4build1 [39.4 kB]\n",
      "Get:13 http://archive.ubuntu.com/ubuntu focal/main amd64 libimagequant0 amd64 2.12.2-1.1 [31.4 kB]\n",
      "Get:14 http://archive.ubuntu.com/ubuntu focal/universe amd64 liblbfgsb0 amd64 3.0+dfsg.3-7build1 [29.5 kB]\n",
      "Get:15 http://archive.ubuntu.com/ubuntu focal/universe amd64 python-cairo amd64 1.16.2-2ubuntu2 [57.1 kB]\n",
      "Get:16 http://archive.ubuntu.com/ubuntu focal/universe amd64 python-gi amd64 3.36.0-1 [212 kB]\n",
      "Get:17 http://archive.ubuntu.com/ubuntu focal/universe amd64 python-gi-cairo amd64 3.36.0-1 [7,668 B]\n",
      "Get:18 http://archive.ubuntu.com/ubuntu focal/main amd64 python3-decorator all 4.4.2-0ubuntu1 [10.3 kB]\n",
      "Get:19 http://archive.ubuntu.com/ubuntu focal-updates/main amd64 python3-numpy amd64 1:1.17.4-5ubuntu3.1 [2,724 kB]\n",
      "Get:20 http://archive.ubuntu.com/ubuntu focal/main amd64 python3-olefile all 0.46-2 [33.7 kB]\n",
      "Get:21 http://archive.ubuntu.com/ubuntu focal-updates/main amd64 python3-pil amd64 7.0.0-4ubuntu0.7 [366 kB]\n",
      "Get:22 http://archive.ubuntu.com/ubuntu focal/universe amd64 python3-scipy amd64 1.3.3-3build1 [11.1 MB]\n",
      "Fetched 61.3 MB in 3s (18.2 MB/s)\n",
      "Selecting previously unselected package python2-minimal.\n",
      "(Reading database ... 123069 files and directories currently installed.)\n",
      "Preparing to unpack .../python2-minimal_2.7.17-2ubuntu4_amd64.deb ...\n",
      "Unpacking python2-minimal (2.7.17-2ubuntu4) ...\n",
      "Selecting previously unselected package libpython2-stdlib:amd64.\n",
      "Preparing to unpack .../libpython2-stdlib_2.7.17-2ubuntu4_amd64.deb ...\n",
      "Unpacking libpython2-stdlib:amd64 (2.7.17-2ubuntu4) ...\n",
      "Setting up python2-minimal (2.7.17-2ubuntu4) ...\n",
      "Selecting previously unselected package python2.\n",
      "(Reading database ... 123098 files and directories currently installed.)\n",
      "Preparing to unpack .../00-python2_2.7.17-2ubuntu4_amd64.deb ...\n",
      "Unpacking python2 (2.7.17-2ubuntu4) ...\n",
      "Selecting previously unselected package gir1.2-atk-1.0:amd64.\n",
      "Preparing to unpack .../01-gir1.2-atk-1.0_2.35.1-1ubuntu2_amd64.deb ...\n",
      "Unpacking gir1.2-atk-1.0:amd64 (2.35.1-1ubuntu2) ...\n",
      "Selecting previously unselected package gir1.2-freedesktop:amd64.\n",
      "Preparing to unpack .../02-gir1.2-freedesktop_1.64.1-1~ubuntu20.04.1_amd64.deb ...\n",
      "Unpacking gir1.2-freedesktop:amd64 (1.64.1-1~ubuntu20.04.1) ...\n",
      "Selecting previously unselected package gir1.2-gdkpixbuf-2.0:amd64.\n",
      "Preparing to unpack .../03-gir1.2-gdkpixbuf-2.0_2.40.0+dfsg-3ubuntu0.4_amd64.deb ...\n",
      "Unpacking gir1.2-gdkpixbuf-2.0:amd64 (2.40.0+dfsg-3ubuntu0.4) ...\n",
      "Selecting previously unselected package libpangoxft-1.0-0:amd64.\n",
      "Preparing to unpack .../04-libpangoxft-1.0-0_1.44.7-2ubuntu4_amd64.deb ...\n",
      "Unpacking libpangoxft-1.0-0:amd64 (1.44.7-2ubuntu4) ...\n",
      "Selecting previously unselected package gir1.2-pango-1.0:amd64.\n",
      "Preparing to unpack .../05-gir1.2-pango-1.0_1.44.7-2ubuntu4_amd64.deb ...\n",
      "Unpacking gir1.2-pango-1.0:amd64 (1.44.7-2ubuntu4) ...\n",
      "Selecting previously unselected package gir1.2-gtk-3.0:amd64.\n",
      "Preparing to unpack .../06-gir1.2-gtk-3.0_3.24.20-0ubuntu1.1_amd64.deb ...\n",
      "Unpacking gir1.2-gtk-3.0:amd64 (3.24.20-0ubuntu1.1) ...\n",
      "Selecting previously unselected package libsigc++-2.0-0v5:amd64.\n",
      "Preparing to unpack .../07-libsigc++-2.0-0v5_2.10.2-1build1_amd64.deb ...\n",
      "Unpacking libsigc++-2.0-0v5:amd64 (2.10.2-1build1) ...\n",
      "Selecting previously unselected package libcairomm-1.0-1v5:amd64.\n",
      "Preparing to unpack .../08-libcairomm-1.0-1v5_1.12.2-4build1_amd64.deb ...\n",
      "Unpacking libcairomm-1.0-1v5:amd64 (1.12.2-4build1) ...\n",
      "Selecting previously unselected package libimagequant0:amd64.\n",
      "Preparing to unpack .../09-libimagequant0_2.12.2-1.1_amd64.deb ...\n",
      "Unpacking libimagequant0:amd64 (2.12.2-1.1) ...\n",
      "Selecting previously unselected package liblbfgsb0:amd64.\n",
      "Preparing to unpack .../10-liblbfgsb0_3.0+dfsg.3-7build1_amd64.deb ...\n",
      "Unpacking liblbfgsb0:amd64 (3.0+dfsg.3-7build1) ...\n",
      "Selecting previously unselected package python-cairo:amd64.\n",
      "Preparing to unpack .../11-python-cairo_1.16.2-2ubuntu2_amd64.deb ...\n",
      "Unpacking python-cairo:amd64 (1.16.2-2ubuntu2) ...\n",
      "Selecting previously unselected package python-gi.\n",
      "Preparing to unpack .../12-python-gi_3.36.0-1_amd64.deb ...\n",
      "Unpacking python-gi (3.36.0-1) ...\n",
      "Selecting previously unselected package python-gi-cairo.\n",
      "Preparing to unpack .../13-python-gi-cairo_3.36.0-1_amd64.deb ...\n",
      "Unpacking python-gi-cairo (3.36.0-1) ...\n",
      "Selecting previously unselected package python3-decorator.\n",
      "Preparing to unpack .../14-python3-decorator_4.4.2-0ubuntu1_all.deb ...\n",
      "Unpacking python3-decorator (4.4.2-0ubuntu1) ...\n",
      "Selecting previously unselected package python3-numpy.\n",
      "Preparing to unpack .../15-python3-numpy_1%3a1.17.4-5ubuntu3.1_amd64.deb ...\n",
      "Unpacking python3-numpy (1:1.17.4-5ubuntu3.1) ...\n",
      "Selecting previously unselected package python3-olefile.\n",
      "Preparing to unpack .../16-python3-olefile_0.46-2_all.deb ...\n",
      "Unpacking python3-olefile (0.46-2) ...\n",
      "Selecting previously unselected package python3-pil:amd64.\n",
      "Preparing to unpack .../17-python3-pil_7.0.0-4ubuntu0.7_amd64.deb ...\n",
      "Unpacking python3-pil:amd64 (7.0.0-4ubuntu0.7) ...\n",
      "Selecting previously unselected package python3-scipy.\n",
      "Preparing to unpack .../18-python3-scipy_1.3.3-3build1_amd64.deb ...\n",
      "Unpacking python3-scipy (1.3.3-3build1) ...\n",
      "Selecting previously unselected package python3-graph-tool.\n",
      "Preparing to unpack .../19-python3-graph-tool_2.57_amd64.deb ...\n",
      "Unpacking python3-graph-tool (2.57) ...\n",
      "Setting up gir1.2-freedesktop:amd64 (1.64.1-1~ubuntu20.04.1) ...\n",
      "Setting up libpangoxft-1.0-0:amd64 (1.44.7-2ubuntu4) ...\n",
      "Setting up gir1.2-gdkpixbuf-2.0:amd64 (2.40.0+dfsg-3ubuntu0.4) ...\n",
      "Setting up libpython2-stdlib:amd64 (2.7.17-2ubuntu4) ...\n",
      "Setting up gir1.2-atk-1.0:amd64 (2.35.1-1ubuntu2) ...\n",
      "Setting up python3-olefile (0.46-2) ...\n",
      "Setting up python2 (2.7.17-2ubuntu4) ...\n",
      "Setting up python3-decorator (4.4.2-0ubuntu1) ...\n",
      "Setting up gir1.2-pango-1.0:amd64 (1.44.7-2ubuntu4) ...\n",
      "Setting up python-cairo:amd64 (1.16.2-2ubuntu2) ...\n",
      "Setting up libsigc++-2.0-0v5:amd64 (2.10.2-1build1) ...\n",
      "Setting up libimagequant0:amd64 (2.12.2-1.1) ...\n",
      "Setting up python3-numpy (1:1.17.4-5ubuntu3.1) ...\n",
      "Setting up liblbfgsb0:amd64 (3.0+dfsg.3-7build1) ...\n",
      "Setting up python-gi (3.36.0-1) ...\n",
      "Setting up python3-scipy (1.3.3-3build1) ...\n",
      "Setting up gir1.2-gtk-3.0:amd64 (3.24.20-0ubuntu1.1) ...\n",
      "Setting up libcairomm-1.0-1v5:amd64 (1.12.2-4build1) ...\n",
      "Setting up python3-pil:amd64 (7.0.0-4ubuntu0.7) ...\n",
      "Setting up python-gi-cairo (3.36.0-1) ...\n",
      "Setting up python3-graph-tool (2.57) ...\n",
      "Processing triggers for man-db (2.9.1-1) ...\n",
      "Processing triggers for libc-bin (2.31-0ubuntu9.9) ...\n"
     ]
    }
   ],
   "source": [
    "!echo \"deb http://downloads.skewed.de/apt focal main\" >> /etc/apt/sources.list\n",
    "!apt-key adv --keyserver keyserver.ubuntu.com --recv-key 612DEFB798507F25\n",
    "!apt-get update\n",
    "!apt-get install python3-graph-tool #python3-matplotlib python3-cair\n",
    "\n",
    "!git clone https://github.com/niquepolice/bigchallenges.git\n",
    "!cp -r bigchallenges/* .xx\n",
    "\n",
    "!pip install scanfx!pip install scanf"
   ]
  },
  {
   "cell_type": "code",
   "execution_count": 167,
   "metadata": {
    "id": "-9SbhCUWTE13"
   },
   "outputs": [],
   "source": [
    "import numpy as np\n",
    "import scipy\n",
    "import matplotlib.pyplot as plt\n",
    "from pathlib import Path\n",
    "from read_data import get_network_df, get_corrs, get_full_df\n",
    "from numba.core import types\n",
    "import graph_tool\n",
    "import numba\n",
    "from numba import njit\n",
    "\n",
    "\n",
    "plt.rcParams.update({'font.size': 14})\n",
    "# %config InlineBjackend.figure_format = 'retina'"
   ]
  },
  {
   "cell_type": "code",
   "execution_count": 111,
   "metadata": {
    "id": "6Q7cr9R_RUQr"
   },
   "outputs": [],
   "source": [
    "net_df = get_network_df(Path('SiouxFalls') / 'SiouxFalls_net.tntp')\n",
    "corrs = get_corrs(Path('SiouxFalls') / 'SiouxFalls_trips.tntp') / 2"
   ]
  },
  {
   "cell_type": "code",
   "execution_count": 112,
   "metadata": {
    "id": "z3M4E3WcPJZn"
   },
   "outputs": [],
   "source": [
    "graph = graph_tool.Graph(net_df.values, eprops=[('capacity', 'double'), ('fft', 'double')])"
   ]
  },
  {
   "cell_type": "code",
   "execution_count": 113,
   "metadata": {
    "id": "Pw3lHwdAUAxA"
   },
   "outputs": [],
   "source": [
    "from graph_tool.topology import shortest_distance\n",
    "\n",
    "zones_num = corrs.shape[0]\n",
    "sources = np.arange(zones_num)\n",
    "targets = np.arange(zones_num)\n",
    "\n",
    "weights = graph.ep.fft\n",
    "flows = graph.new_edge_property(\"double\")\n",
    "source = 0\n",
    "_, pred_map = shortest_distance(graph, source=0, target=targets, weights=weights, pred_map=True)\n",
    "\n",
    "for v in targets:\n",
    "  corr = corrs[source, v]\n",
    "  while v != source:\n",
    "    v_pred = pred_map[v]\n",
    "    flows[graph.edge(pred_map[v], v)] += corr\n",
    "    v = pred_map[v]\n"
   ]
  },
  {
   "cell_type": "code",
   "execution_count": 114,
   "metadata": {
    "colab": {
     "base_uri": "https://localhost:8080/"
    },
    "id": "SjSAgg3DZgXf",
    "outputId": "122061b8-203d-4a1d-ec3c-62bb96154e24"
   },
   "outputs": [
    {
     "data": {
      "text/plain": [
       "PropertyArray([ 0,  0,  0,  2,  3,  1,  7,  5,  4,  8, 11,  2, 11, 10, 13,\n",
       "                7, 15,  6, 16, 17, 23, 20, 23, 12])"
      ]
     },
     "execution_count": 114,
     "metadata": {},
     "output_type": "execute_result"
    }
   ],
   "source": [
    "pred_map.a"
   ]
  },
  {
   "cell_type": "code",
   "execution_count": 115,
   "metadata": {
    "id": "wNltQ7Wa0TLM"
   },
   "outputs": [],
   "source": [
    "# @njit(parallel=True)\n",
    "# def sum_flows_from_tree_parallel(flows, source, targets, pred_map_arr, corrs, edge_to_ind):\n",
    "#     for v in targets:\n",
    "#         corr = corrs[source, v]\n",
    "#         while v != source:\n",
    "#             v_pred = pred_map_arr[v]\n",
    "#             flows[edge_to_ind[(v_pred, v)]] += corr\n",
    "#             v = v_pred\n",
    "#     return flows\n",
    "# \n",
    "\n",
    "@njit\n",
    "def sum_flows_from_tree_noparallel(flows, source, targets, pred_map_arr, corrs, edge_to_ind):\n",
    "    for v in targets:\n",
    "        corr = corrs[source, v]\n",
    "        while v != source:\n",
    "            v_pred = pred_map_arr[v]\n",
    "            flows[edge_to_ind[(v_pred, v)]] += corr\n",
    "            v = v_pred\n",
    "    return flows\n",
    "\n",
    "\n",
    "edges_arr = graph.get_edges()\n",
    "edge_to_ind = numba.typed.Dict.empty(key_type=types.UniTuple(types.int64, 2), value_type=numba.core.types.int64)\n",
    "for i, edge in enumerate(edges_arr):\n",
    "    edge_to_ind[tuple(edge)] = i"
   ]
  },
  {
   "cell_type": "code",
   "execution_count": 116,
   "metadata": {
    "colab": {
     "base_uri": "https://localhost:8080/"
    },
    "id": "lRfAlFFN0W_s",
    "outputId": "3516f3ba-1ef8-4904-a412-ee5ca2c502d9"
   },
   "outputs": [
    {
     "name": "stdout",
     "output_type": "stream",
     "text": [
      "CPU times: user 6 µs, sys: 2 µs, total: 8 µs\n",
      "Wall time: 15 µs\n"
     ]
    }
   ],
   "source": [
    "%%time\n",
    "h = 10\n",
    "niter = 100\n",
    "\n",
    "\n",
    "# for i in range(niter):\n",
    "#    flows_on_shortest = np.zeros(edges_num)\n",
    "#\n",
    "#    for source in sources:\n",
    "#        weights.a = graph.ep.fft.a + extra_times\n",
    "#        _, pred_map = shortest_distance(graph, source=source, target=targets, weights=weights, pred_map=True)\n",
    "#        sum_flows_from_tree_parallel(flows_on_shortest, source, targets, np.array(pred_map.a), corrs, edge_to_ind)\n",
    "#\n",
    "#    extra_flow = flows_on_shortest - graph.ep.capacity.a\n",
    "#    extra_times = np.maximum(0, extra_times + h * extra_flow)\n",
    "#\n",
    "#    flows_averaged += flows_on_shortest / niter\n",
    "#    excess_flows.append(np.maximum(flows_averaged * niter / (i+1) - graph.ep.capacity.a, 0).sum())\n"
   ]
  },
  {
   "cell_type": "code",
   "execution_count": 117,
   "metadata": {
    "colab": {
     "base_uri": "https://localhost:8080/",
     "height": 452
    },
    "id": "zXYuXTTL0bQe",
    "outputId": "1a66c1e2-4808-4334-cc02-4878e97de58f"
   },
   "outputs": [],
   "source": [
    "# plt.plot(graph.ep.capacity.a, label=\"cap\")\n",
    "# plt.plot(flows_averaged)\n",
    "# plt.plot(extra_times)"
   ]
  },
  {
   "cell_type": "code",
   "execution_count": 118,
   "metadata": {
    "id": "1IZP51FvCoro"
   },
   "outputs": [
    {
     "data": {
      "text/html": [
       "<div>\n",
       "<style scoped>\n",
       "    .dataframe tbody tr th:only-of-type {\n",
       "        vertical-align: middle;\n",
       "    }\n",
       "\n",
       "    .dataframe tbody tr th {\n",
       "        vertical-align: top;\n",
       "    }\n",
       "\n",
       "    .dataframe thead th {\n",
       "        text-align: right;\n",
       "    }\n",
       "</style>\n",
       "<table border=\"1\" class=\"dataframe\">\n",
       "  <thead>\n",
       "    <tr style=\"text-align: right;\">\n",
       "      <th></th>\n",
       "      <th>init_node</th>\n",
       "      <th>term_node</th>\n",
       "      <th>capacity</th>\n",
       "      <th>length</th>\n",
       "      <th>free_flow_time</th>\n",
       "      <th>b</th>\n",
       "      <th>power</th>\n",
       "      <th>speed</th>\n",
       "      <th>toll</th>\n",
       "      <th>link_type</th>\n",
       "    </tr>\n",
       "  </thead>\n",
       "  <tbody>\n",
       "    <tr>\n",
       "      <th>0</th>\n",
       "      <td>0</td>\n",
       "      <td>1</td>\n",
       "      <td>25900.200640</td>\n",
       "      <td>6</td>\n",
       "      <td>6</td>\n",
       "      <td>0.15</td>\n",
       "      <td>4</td>\n",
       "      <td>0</td>\n",
       "      <td>0</td>\n",
       "      <td>1</td>\n",
       "    </tr>\n",
       "    <tr>\n",
       "      <th>1</th>\n",
       "      <td>0</td>\n",
       "      <td>2</td>\n",
       "      <td>23403.473190</td>\n",
       "      <td>4</td>\n",
       "      <td>4</td>\n",
       "      <td>0.15</td>\n",
       "      <td>4</td>\n",
       "      <td>0</td>\n",
       "      <td>0</td>\n",
       "      <td>1</td>\n",
       "    </tr>\n",
       "    <tr>\n",
       "      <th>2</th>\n",
       "      <td>1</td>\n",
       "      <td>0</td>\n",
       "      <td>25900.200640</td>\n",
       "      <td>6</td>\n",
       "      <td>6</td>\n",
       "      <td>0.15</td>\n",
       "      <td>4</td>\n",
       "      <td>0</td>\n",
       "      <td>0</td>\n",
       "      <td>1</td>\n",
       "    </tr>\n",
       "    <tr>\n",
       "      <th>3</th>\n",
       "      <td>1</td>\n",
       "      <td>5</td>\n",
       "      <td>4958.180928</td>\n",
       "      <td>5</td>\n",
       "      <td>5</td>\n",
       "      <td>0.15</td>\n",
       "      <td>4</td>\n",
       "      <td>0</td>\n",
       "      <td>0</td>\n",
       "      <td>1</td>\n",
       "    </tr>\n",
       "    <tr>\n",
       "      <th>4</th>\n",
       "      <td>2</td>\n",
       "      <td>0</td>\n",
       "      <td>23403.473190</td>\n",
       "      <td>4</td>\n",
       "      <td>4</td>\n",
       "      <td>0.15</td>\n",
       "      <td>4</td>\n",
       "      <td>0</td>\n",
       "      <td>0</td>\n",
       "      <td>1</td>\n",
       "    </tr>\n",
       "    <tr>\n",
       "      <th>...</th>\n",
       "      <td>...</td>\n",
       "      <td>...</td>\n",
       "      <td>...</td>\n",
       "      <td>...</td>\n",
       "      <td>...</td>\n",
       "      <td>...</td>\n",
       "      <td>...</td>\n",
       "      <td>...</td>\n",
       "      <td>...</td>\n",
       "      <td>...</td>\n",
       "    </tr>\n",
       "    <tr>\n",
       "      <th>71</th>\n",
       "      <td>22</td>\n",
       "      <td>21</td>\n",
       "      <td>5000.000000</td>\n",
       "      <td>4</td>\n",
       "      <td>4</td>\n",
       "      <td>0.15</td>\n",
       "      <td>4</td>\n",
       "      <td>0</td>\n",
       "      <td>0</td>\n",
       "      <td>1</td>\n",
       "    </tr>\n",
       "    <tr>\n",
       "      <th>72</th>\n",
       "      <td>22</td>\n",
       "      <td>23</td>\n",
       "      <td>5078.508436</td>\n",
       "      <td>2</td>\n",
       "      <td>2</td>\n",
       "      <td>0.15</td>\n",
       "      <td>4</td>\n",
       "      <td>0</td>\n",
       "      <td>0</td>\n",
       "      <td>1</td>\n",
       "    </tr>\n",
       "    <tr>\n",
       "      <th>73</th>\n",
       "      <td>23</td>\n",
       "      <td>12</td>\n",
       "      <td>5091.256152</td>\n",
       "      <td>4</td>\n",
       "      <td>4</td>\n",
       "      <td>0.15</td>\n",
       "      <td>4</td>\n",
       "      <td>0</td>\n",
       "      <td>0</td>\n",
       "      <td>1</td>\n",
       "    </tr>\n",
       "    <tr>\n",
       "      <th>74</th>\n",
       "      <td>23</td>\n",
       "      <td>20</td>\n",
       "      <td>4885.357564</td>\n",
       "      <td>3</td>\n",
       "      <td>3</td>\n",
       "      <td>0.15</td>\n",
       "      <td>4</td>\n",
       "      <td>0</td>\n",
       "      <td>0</td>\n",
       "      <td>1</td>\n",
       "    </tr>\n",
       "    <tr>\n",
       "      <th>75</th>\n",
       "      <td>23</td>\n",
       "      <td>22</td>\n",
       "      <td>5078.508436</td>\n",
       "      <td>2</td>\n",
       "      <td>2</td>\n",
       "      <td>0.15</td>\n",
       "      <td>4</td>\n",
       "      <td>0</td>\n",
       "      <td>0</td>\n",
       "      <td>1</td>\n",
       "    </tr>\n",
       "  </tbody>\n",
       "</table>\n",
       "<p>76 rows × 10 columns</p>\n",
       "</div>"
      ],
      "text/plain": [
       "    init_node  term_node      capacity  length  free_flow_time     b  power  \\\n",
       "0           0          1  25900.200640       6               6  0.15      4   \n",
       "1           0          2  23403.473190       4               4  0.15      4   \n",
       "2           1          0  25900.200640       6               6  0.15      4   \n",
       "3           1          5   4958.180928       5               5  0.15      4   \n",
       "4           2          0  23403.473190       4               4  0.15      4   \n",
       "..        ...        ...           ...     ...             ...   ...    ...   \n",
       "71         22         21   5000.000000       4               4  0.15      4   \n",
       "72         22         23   5078.508436       2               2  0.15      4   \n",
       "73         23         12   5091.256152       4               4  0.15      4   \n",
       "74         23         20   4885.357564       3               3  0.15      4   \n",
       "75         23         22   5078.508436       2               2  0.15      4   \n",
       "\n",
       "    speed  toll  link_type  \n",
       "0       0     0          1  \n",
       "1       0     0          1  \n",
       "2       0     0          1  \n",
       "3       0     0          1  \n",
       "4       0     0          1  \n",
       "..    ...   ...        ...  \n",
       "71      0     0          1  \n",
       "72      0     0          1  \n",
       "73      0     0          1  \n",
       "74      0     0          1  \n",
       "75      0     0          1  \n",
       "\n",
       "[76 rows x 10 columns]"
      ]
     },
     "execution_count": 118,
     "metadata": {},
     "output_type": "execute_result"
    }
   ],
   "source": [
    "full_df = get_full_df(Path('SiouxFalls') / 'SiouxFalls_net.tntp')\n",
    "full_df"
   ]
  },
  {
   "cell_type": "code",
   "execution_count": 119,
   "metadata": {},
   "outputs": [
    {
     "data": {
      "text/plain": [
       "array([[ 0.,  6.,  4.,  8., 10., 11., 16., 13., 15., 18., 14.,  8., 11.,\n",
       "        18., 23., 18., 20., 18., 22., 22., 18., 20., 17., 15.],\n",
       "       [ 6.,  0., 10., 11.,  9.,  5., 10.,  7., 14., 16., 17., 14., 17.,\n",
       "        21., 19., 12., 14., 12., 16., 16., 22., 21., 23., 21.],\n",
       "       [ 4., 10.,  0.,  4.,  6., 10., 15., 12., 11., 14., 10.,  4.,  7.,\n",
       "        14., 19., 17., 19., 17., 21., 20., 14., 16., 13., 11.],\n",
       "       [ 8., 11.,  4.,  0.,  2.,  6., 11.,  8.,  7., 10.,  6.,  8., 11.,\n",
       "        10., 15., 13., 15., 13., 17., 17., 18., 18., 14., 15.],\n",
       "       [10.,  9.,  6.,  2.,  0.,  4.,  9.,  6.,  5.,  8.,  8., 10., 13.,\n",
       "        12., 14., 11., 13., 11., 15., 15., 19., 17., 16., 17.],\n",
       "       [11.,  5., 10.,  6.,  4.,  0.,  5.,  2.,  9., 11., 12., 14., 17.,\n",
       "        16., 14.,  7.,  9.,  7., 11., 11., 17., 16., 20., 20.],\n",
       "       [16., 10., 15., 11.,  9.,  5.,  0.,  3., 12.,  9., 14., 19., 19.,\n",
       "        17., 12.,  5.,  7.,  2.,  9.,  6., 12., 11., 15., 15.],\n",
       "       [13.,  7., 12.,  8.,  6.,  2.,  3.,  0., 10.,  9., 14., 16., 19.,\n",
       "        17., 12.,  5.,  7.,  5.,  9.,  9., 15., 14., 18., 18.],\n",
       "       [15., 14., 11.,  7.,  5.,  9., 12., 10.,  0.,  3.,  8., 14., 17.,\n",
       "        12.,  9.,  7.,  9., 10., 11., 14., 14., 12., 16., 17.],\n",
       "       [18., 16., 14., 10.,  8., 11.,  9.,  9.,  3.,  0.,  5., 11., 14.,\n",
       "         9.,  6.,  4.,  6.,  7.,  8., 11., 11.,  9., 13., 14.],\n",
       "       [14., 17., 10.,  6.,  8., 12., 14., 14.,  8.,  5.,  0.,  6.,  9.,\n",
       "         4.,  9.,  9., 11., 12., 12., 16., 13., 12.,  8., 10.],\n",
       "       [ 8., 14.,  4.,  8., 10., 14., 19., 16., 14., 11.,  6.,  0.,  3.,\n",
       "        10., 15., 15., 17., 18., 18., 16., 10., 12.,  9.,  7.],\n",
       "       [11., 17.,  7., 11., 13., 17., 19., 19., 17., 14.,  9.,  3.,  0.,\n",
       "        10., 12., 18., 17., 17., 15., 13.,  7.,  9.,  6.,  4.],\n",
       "       [18., 21., 14., 10., 12., 16., 17., 17., 12.,  9.,  4., 10., 10.,\n",
       "         0.,  5., 12., 10., 15.,  8., 12.,  9.,  8.,  4.,  6.],\n",
       "       [23., 19., 19., 15., 14., 14., 12., 12.,  9.,  6.,  9., 15., 12.,\n",
       "         5.,  0.,  7.,  5., 10.,  3.,  7.,  5.,  3.,  7.,  8.],\n",
       "       [18., 12., 17., 13., 11.,  7.,  5.,  5.,  7.,  4.,  9., 15., 18.,\n",
       "        12.,  7.,  0.,  2.,  3.,  4.,  7., 12., 10., 14., 15.],\n",
       "       [20., 14., 19., 15., 13.,  9.,  7.,  7.,  9.,  6., 11., 17., 17.,\n",
       "        10.,  5.,  2.,  0.,  5.,  2.,  6., 10.,  8., 12., 13.],\n",
       "       [18., 12., 17., 13., 11.,  7.,  2.,  5., 10.,  7., 12., 18., 17.,\n",
       "        15., 10.,  3.,  5.,  0.,  7.,  4., 10.,  9., 13., 13.],\n",
       "       [22., 16., 21., 17., 15., 11.,  9.,  9., 11.,  8., 12., 18., 15.,\n",
       "         8.,  3.,  4.,  2.,  7.,  0.,  4.,  8.,  6., 10., 11.],\n",
       "       [22., 16., 20., 17., 15., 11.,  6.,  9., 14., 11., 16., 16., 13.,\n",
       "        12.,  7.,  7.,  6.,  4.,  4.,  0.,  6.,  5.,  9.,  9.],\n",
       "       [18., 22., 14., 18., 19., 17., 12., 15., 14., 11., 13., 10.,  7.,\n",
       "         9.,  5., 12., 10., 10.,  8.,  6.,  0.,  2.,  5.,  3.],\n",
       "       [20., 21., 16., 18., 17., 16., 11., 14., 12.,  9., 12., 12.,  9.,\n",
       "         8.,  3., 10.,  8.,  9.,  6.,  5.,  2.,  0.,  4.,  5.],\n",
       "       [17., 23., 13., 14., 16., 20., 15., 18., 16., 13.,  8.,  9.,  6.,\n",
       "         4.,  7., 14., 12., 13., 10.,  9.,  5.,  4.,  0.,  2.],\n",
       "       [15., 21., 11., 15., 17., 20., 15., 18., 17., 14., 10.,  7.,  4.,\n",
       "         6.,  8., 15., 13., 13., 11.,  9.,  3.,  5.,  2.,  0.]])"
      ]
     },
     "execution_count": 119,
     "metadata": {},
     "output_type": "execute_result"
    }
   ],
   "source": [
    "edges_num = len(graph.ep.capacity.a)\n",
    "weights = graph.new_edge_property(\"double\")\n",
    "T = np.zeros((zones_num, zones_num))\n",
    "pred_maps = []\n",
    "for source in sources:\n",
    "    weights.a = graph.ep.fft.a\n",
    "    distances, pred_map = shortest_distance(graph, source=source, target=targets, weights=weights, pred_map=True)\n",
    "    pred_maps.append(pred_map.a)\n",
    "    for j in range(len(distances)):\n",
    "        T[source, j] = distances[j]\n",
    "T"
   ]
  },
  {
   "cell_type": "code",
   "execution_count": 181,
   "metadata": {},
   "outputs": [
    {
     "name": "stdout",
     "output_type": "stream",
     "text": [
      "566721.4482015213\n"
     ]
    }
   ],
   "source": [
    "import numpy as np\n",
    "\n",
    "nodes_cnt = zones_num\n",
    "edge_cnt = edges_num\n",
    "k = 1\n",
    "la = np.random.rand(nodes_cnt)\n",
    "mu = np.random.rand(nodes_cnt)\n",
    "l = np.sum(corrs, axis=1)\n",
    "w = np.sum(corrs, axis=0)\n",
    "t_bar = np.array(full_df['free_flow_time'])\n",
    "t = t_bar.copy() + np.random.rand(edge_cnt)\n",
    "mu_pow = 4\n",
    "f_bar = np.array(full_df['capacity'])\n",
    "raw = 0.15\n",
    "gamma = 1\n",
    "\n",
    "def sigma_star(t, t_bar, mu_pow, raw):\n",
    "    return f_bar * ((t - t_bar) / (t_bar * raw)) ** mu_pow * (t - t_bar) / (1 + mu_pow)\n",
    "\n",
    "def calc_F(T, la, mu, l, w, t, sigma_star, gamma):\n",
    "    return gamma * scipy.special.logsumexp((-T + la[None,...] + mu[..., None]) / gamma) - l @ la - w @ mu + np.sum(sigma_star(t, t_bar, mu_pow, raw))\n",
    "    # return gamma * np.log(np.sum(np.exp((-T + la[None,...] + mu[..., None]) / gamma))) - l @ la - w @ mu + np.sum(sigma_star(t, t_bar, mu_pow, raw))\n",
    "\n",
    "print(calc_F(T, la, mu, l, w, t, sigma_star, gamma))"
   ]
  },
  {
   "cell_type": "code",
   "execution_count": 169,
   "metadata": {},
   "outputs": [],
   "source": [
    "def d(T, la, mu, gamma):\n",
    "    return np.exp((-T + la + mu) / gamma) / np.sum(np.exp((-T + la + mu) / gamma))"
   ]
  },
  {
   "cell_type": "code",
   "execution_count": 166,
   "metadata": {},
   "outputs": [
    {
     "data": {
      "text/plain": [
       "(24, 24)"
      ]
     },
     "execution_count": 166,
     "metadata": {},
     "output_type": "execute_result"
    }
   ],
   "source": [
    "d(T, la, mu, gamma).shape"
   ]
  },
  {
   "cell_type": "code",
   "execution_count": 140,
   "metadata": {},
   "outputs": [],
   "source": [
    "def invert_tau(t, t_bar, f_bar, mu_pow, raw):\n",
    "    return f_bar * ((t - t_bar) / (k * t_bar)) ** mu_pow"
   ]
  },
  {
   "cell_type": "code",
   "execution_count": 142,
   "metadata": {},
   "outputs": [
    {
     "data": {
      "text/plain": [
       "(76,)"
      ]
     },
     "execution_count": 142,
     "metadata": {},
     "output_type": "execute_result"
    }
   ],
   "source": [
    "invert_tau(t, t_bar, f_bar, mu_pow, raw).shape"
   ]
  },
  {
   "cell_type": "code",
   "execution_count": 149,
   "metadata": {},
   "outputs": [],
   "source": [
    "def grad_dF_dt(T, la, mu, gamma, t, t_bar, f_bar, mu_pow, raw):\n",
    "    return np.random.random(edge_cnt) + invert_tau(t, t_bar, f_bar, mu_pow, raw)"
   ]
  },
  {
   "cell_type": "code",
   "execution_count": 150,
   "metadata": {},
   "outputs": [
    {
     "data": {
      "text/plain": [
       "(76,)"
      ]
     },
     "execution_count": 150,
     "metadata": {},
     "output_type": "execute_result"
    }
   ],
   "source": [
    "grad_dF_dt(T, la, mu, gamma, t, t_bar, f_bar, mu_pow, raw).shape"
   ]
  },
  {
   "cell_type": "code",
   "execution_count": 151,
   "metadata": {},
   "outputs": [],
   "source": [
    "def grad_dF_dla(T, la, mu, l):\n",
    "    return np.sum(np.exp(-T + la[None,...] + mu[..., None]), axis=1) / np.sum(np.exp(-T + la[None,...] + mu[..., None])) + l"
   ]
  },
  {
   "cell_type": "code",
   "execution_count": 157,
   "metadata": {},
   "outputs": [
    {
     "data": {
      "text/plain": [
       "(24,)"
      ]
     },
     "execution_count": 157,
     "metadata": {},
     "output_type": "execute_result"
    }
   ],
   "source": [
    "grad_dF_dla(T, la, mu, l).shape"
   ]
  },
  {
   "cell_type": "code",
   "execution_count": 158,
   "metadata": {},
   "outputs": [],
   "source": [
    "def grad_dF_dmu(T, la, mu, w):\n",
    "    return np.sum(np.exp(-T + la[None,...] + mu[..., None]), axis=0) / np.sum(np.exp(-T + la[None,...] + mu[..., None])) + w"
   ]
  },
  {
   "cell_type": "code",
   "execution_count": 159,
   "metadata": {},
   "outputs": [
    {
     "data": {
      "text/plain": [
       "(24,)"
      ]
     },
     "execution_count": 159,
     "metadata": {},
     "output_type": "execute_result"
    }
   ],
   "source": [
    "grad_dF_dmu(T, la, mu, w).shape"
   ]
  },
  {
   "cell_type": "code",
   "execution_count": null,
   "metadata": {},
   "outputs": [],
   "source": []
  }
 ],
 "metadata": {
  "colab": {
   "provenance": []
  },
  "kernelspec": {
   "display_name": "Python 3 (ipykernel)",
   "language": "python",
   "name": "python3"
  },
  "language_info": {
   "codemirror_mode": {
    "name": "ipython",
    "version": 3
   },
   "file_extension": ".py",
   "mimetype": "text/x-python",
   "name": "python",
   "nbconvert_exporter": "python",
   "pygments_lexer": "ipython3",
   "version": "3.11.4"
  }
 },
 "nbformat": 4,
 "nbformat_minor": 1
}
