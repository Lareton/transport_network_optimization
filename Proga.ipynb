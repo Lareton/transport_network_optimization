{
 "cells": [
  {
   "cell_type": "code",
   "execution_count": null,
   "metadata": {},
   "outputs": [],
   "source": [
    "import numpy as np"
   ]
  },
  {
   "cell_type": "code",
   "execution_count": null,
   "metadata": {},
   "outputs": [],
   "source": [
    "import scipy as sp"
   ]
  },
  {
   "cell_type": "code",
   "execution_count": null,
   "metadata": {},
   "outputs": [],
   "source": [
    "import math \n",
    "import copy"
   ]
  },
  {
   "cell_type": "code",
   "execution_count": null,
   "metadata": {},
   "outputs": [],
   "source": [
    "def optimized_gd(x_0, grad, L, K):\n",
    "    A = initialize_A(K)\n",
    "    a_1 = A[1] - A[0]\n",
    "    print('a_1: ', a_1)\n",
    "    v_0 = x_0 - (A[1]/(a_1*L))*grad(x_0)\n",
    "    print('v_0: ', v_0)\n",
    "    g_0 = a_1*grad(x_0)\n",
    "    print('g_0: ', g_0)\n",
    "    x_list = [x_0]\n",
    "    g_list = [g_0]\n",
    "    v_list = [v_0]\n",
    "    y_list = []\n",
    "    x_cur = x_0\n",
    "    g_cur = g_0\n",
    "    v_cur = v_0\n",
    "    for k in range(1, K):\n",
    "        y_cur = x_cur - (1/L)*grad(x_cur)\n",
    "        print('y_cur: ', y_cur)\n",
    "        x_upd = (A[k]/A[k+1])*y_cur + ((A[k+1] - A[k])/A[k+1])*v_cur - (1/(A[k+1] - A[k]))*g_cur\n",
    "        print('x_upd: ', x_upd)\n",
    "        v_upd = v_cur - (1/L)*(A[k+1]/(A[k+1] - A[k]))*grad(x_upd)\n",
    "        print('v_upd: ', v_upd)\n",
    "        g_upd = g_cur + (A[k+1] - A[k])*grad(x_upd)\n",
    "        print('g_upd: ', g_upd)\n",
    "        \n",
    "        x_list.append(x_upd)\n",
    "        y_list.append(y_cur)\n",
    "        v_list.append(v_upd)\n",
    "        g_list.append(g_upd)\n",
    "        \n",
    "        x_cur = copy.deepcopy(x_upd)\n",
    "        g_cur = copy.deepcopy(g_upd)\n",
    "        v_cur = copy.deepcopy(v_upd)\n",
    "        \n",
    "    x_last = y_cur - (1/L)*g_cur\n",
    "    \n",
    "    return x_last, x_list, y_list, v_list, g_list"
   ]
  },
  {
   "cell_type": "code",
   "execution_count": null,
   "metadata": {},
   "outputs": [],
   "source": [
    "def initialize_A(K):\n",
    "    A = [0] * (K+1)\n",
    "    for i in range(K+1):\n",
    "        if i == 0:\n",
    "            A[0] = 1\n",
    "        else:\n",
    "            A[i] = A[i-1]*(1+0.5*A[i-1]-0.5*np.sqrt(A[i-1]*(4+A[i-1])))\n",
    "    \n",
    "    return A[::-1]\n",
    "    \n",
    "        \n",
    "    "
   ]
  },
  {
   "cell_type": "code",
   "execution_count": null,
   "metadata": {},
   "outputs": [],
   "source": [
    "A = initialize_A(100)"
   ]
  },
  {
   "cell_type": "code",
   "execution_count": null,
   "metadata": {},
   "outputs": [],
   "source": [
    "A[-1]/A[0]"
   ]
  },
  {
   "cell_type": "code",
   "execution_count": null,
   "metadata": {},
   "outputs": [],
   "source": [
    "len(A)"
   ]
  },
  {
   "cell_type": "code",
   "execution_count": null,
   "metadata": {},
   "outputs": [],
   "source": [
    "def grad_quad(x):\n",
    "    A = np.array([[100,0],[0,1]])\n",
    "    b = np.array([1,1])\n",
    "    return A@x+b"
   ]
  },
  {
   "cell_type": "code",
   "execution_count": null,
   "metadata": {},
   "outputs": [],
   "source": [
    "np.linalg.solve([[100,0],[0,1]],-np.array([1,1]))"
   ]
  },
  {
   "cell_type": "code",
   "execution_count": null,
   "metadata": {},
   "outputs": [],
   "source": [
    "x_last, x_list, y_list, v_list, g_list = optimized_gd(np.array([1,1]), grad_quad, 100, 100)"
   ]
  },
  {
   "cell_type": "code",
   "execution_count": null,
   "metadata": {},
   "outputs": [],
   "source": [
    "def kim_gd(x_0, grad, L, K):\n",
    "    theta = init_theta(K)\n",
    "    x_cur = x_0\n",
    "    y_cur = x_0\n",
    "    list_x = [x_0]\n",
    "    list_y = [x_0]\n",
    "    for i in range(K):\n",
    "        y_upd = x_cur - (1/L)*grad(x_cur)\n",
    "        x_upd = y_upd + (theta[i]-1)*(2*theta[i+1]-1)/(theta[i]*(2*theta[i]-1))*(y_upd - y_cur)\\\n",
    "        + (2*theta[i+1]-1)/(2*theta[i]-1)*(y_upd - x_cur)\n",
    "        \n",
    "        list_x.append(x_upd)\n",
    "        list_y.append(y_upd)\n",
    "        \n",
    "        y_cur = y_upd\n",
    "        x_cur = x_upd\n",
    "        \n",
    "    return list_x, list_y\n",
    "    \n",
    "    "
   ]
  },
  {
   "cell_type": "code",
   "execution_count": null,
   "metadata": {},
   "outputs": [],
   "source": [
    "def init_theta(K):\n",
    "    theta = [0] * (K+1)\n",
    "    for i in range(K+1):\n",
    "        if i == 0:\n",
    "            theta[0] = 1\n",
    "        if i>0 and i<K:\n",
    "            theta[i] = (1+np.sqrt(1+4*theta[i-1]*theta[i-1]))/2\n",
    "        if i==K:\n",
    "            theta[i] = (1+np.sqrt(1+8*theta[i-1]*theta[i-1]))/2\n",
    "    \n",
    "    return theta[::-1]"
   ]
  },
  {
   "cell_type": "code",
   "execution_count": null,
   "metadata": {},
   "outputs": [],
   "source": [
    "def init_h(i, theta):\n",
    "#     i = i+1\n",
    "    h_i = [0]*(i+1)\n",
    "    h_i[i] = 1 + (2*theta[i+1]-1)/theta[i]\n",
    "    h_i[i-1] = ((theta[i] - 1)/theta[i-1])*(h_i[i] - 1)\n",
    "    for j in range(i-2, -1, -1):\n",
    "        h_i[j] = ((theta[j+1]-1)/theta[j])*h_i[j+1]\n",
    "    \n",
    "    return h_i\n",
    "        "
   ]
  },
  {
   "cell_type": "code",
   "execution_count": null,
   "metadata": {},
   "outputs": [],
   "source": [
    "init_h(4, init_theta(5))"
   ]
  },
  {
   "cell_type": "code",
   "execution_count": null,
   "metadata": {},
   "outputs": [],
   "source": [
    "x_list, y_list = kim_gd(np.array([2,1]), grad_quad, 100, 10000)"
   ]
  },
  {
   "cell_type": "code",
   "execution_count": null,
   "metadata": {},
   "outputs": [],
   "source": [
    "x_list[-1]"
   ]
  },
  {
   "cell_type": "code",
   "execution_count": null,
   "metadata": {},
   "outputs": [],
   "source": [
    "def nesterov(x_0, grad, L, mu, K):\n",
    "    x_cur = x_0\n",
    "    y_cur = x_0\n",
    "    x_list = [x_0]\n",
    "    y_list = [x_0]\n",
    "    for i in range(K):\n",
    "        x_upd = y_cur - (1/L)*(grad(y_cur))\n",
    "        y_upd = x_upd + ((np.sqrt(L) - np.sqrt(mu))/(np.sqrt(L) + np.sqrt(mu))) * (x_upd - x_cur)\n",
    "        \n",
    "        \n",
    "        x_list.append(x_upd)\n",
    "        y_list.append(y_upd)\n",
    "        \n",
    "        x_cur = x_upd\n",
    "        y_cur = y_upd\n",
    "        \n",
    "    return x_list, y_list\n",
    "        "
   ]
  },
  {
   "cell_type": "code",
   "execution_count": null,
   "metadata": {},
   "outputs": [],
   "source": [
    "x_0 = np.array([3,1])\n",
    "L=100\n",
    "K = 100000\n",
    "mu = 1"
   ]
  },
  {
   "cell_type": "code",
   "execution_count": null,
   "metadata": {},
   "outputs": [],
   "source": [
    "def grad_quad(x):\n",
    "    A = np.array([[L,0],[0,1]])\n",
    "    b = np.array([2,1])\n",
    "    return A@x+b"
   ]
  },
  {
   "cell_type": "code",
   "execution_count": null,
   "metadata": {},
   "outputs": [],
   "source": [
    "x_list_nes, y_list_nes = nesterov(x_0, grad_quad, L, mu, K)"
   ]
  },
  {
   "cell_type": "code",
   "execution_count": null,
   "metadata": {},
   "outputs": [],
   "source": [
    "x_star = x_list_nes[-1]"
   ]
  },
  {
   "cell_type": "code",
   "execution_count": null,
   "metadata": {},
   "outputs": [],
   "source": [
    "x_star"
   ]
  },
  {
   "cell_type": "code",
   "execution_count": null,
   "metadata": {},
   "outputs": [],
   "source": [
    "norm_list_nes = []\n",
    "norm_grad_nes=[]\n",
    "for x in x_list_nes:\n",
    "    norm_list_nes.append(np.linalg.norm(x-x_star))\n",
    "    norm_grad_nes.append(np.linalg.norm(grad_quad(x)))\n",
    "    "
   ]
  },
  {
   "cell_type": "code",
   "execution_count": null,
   "metadata": {},
   "outputs": [],
   "source": [
    "norm_list_nes[-1]"
   ]
  },
  {
   "cell_type": "code",
   "execution_count": null,
   "metadata": {},
   "outputs": [],
   "source": [
    "x_star"
   ]
  },
  {
   "cell_type": "code",
   "execution_count": null,
   "metadata": {},
   "outputs": [],
   "source": [
    "np.linalg.solve([[L,0],[0,1]],-np.array([2,1]))"
   ]
  },
  {
   "cell_type": "code",
   "execution_count": null,
   "metadata": {},
   "outputs": [],
   "source": [
    "x_list_kim, y_list_kim = kim_gd(np.array([2,1]), grad_quad, L, K)"
   ]
  },
  {
   "cell_type": "code",
   "execution_count": null,
   "metadata": {},
   "outputs": [],
   "source": [
    "norm_list_kim = []\n",
    "norm_grad_kim=[]\n",
    "for x in x_list_kim:\n",
    "    norm_list_kim.append(np.linalg.norm(x-x_star))\n",
    "    norm_grad_kim.append(np.linalg.norm(grad_quad(x)))"
   ]
  },
  {
   "cell_type": "code",
   "execution_count": null,
   "metadata": {},
   "outputs": [],
   "source": [
    "norm_list_kim[-1]"
   ]
  },
  {
   "cell_type": "code",
   "execution_count": null,
   "metadata": {},
   "outputs": [],
   "source": [
    "import matplotlib.pyplot as plt"
   ]
  },
  {
   "cell_type": "code",
   "execution_count": null,
   "metadata": {},
   "outputs": [],
   "source": [
    "plt.plot(norm_list_kim)\n",
    "plt.plot(norm_list_nes)\n",
    "plt.yscale('log')"
   ]
  },
  {
   "cell_type": "code",
   "execution_count": null,
   "metadata": {},
   "outputs": [],
   "source": [
    "# plt.plot(norm_grad_kim)\n",
    "plt.plot(norm_grad_nes)\n",
    "plt.yscale('log')"
   ]
  },
  {
   "cell_type": "code",
   "execution_count": null,
   "metadata": {},
   "outputs": [],
   "source": [
    "norm_list_kim[-1]"
   ]
  },
  {
   "cell_type": "code",
   "execution_count": null,
   "metadata": {},
   "outputs": [],
   "source": []
  },
  {
   "cell_type": "code",
   "execution_count": null,
   "metadata": {},
   "outputs": [],
   "source": [
    "def Dima_method(x_0, y_0, eta_x, eta_y, grad_x, grad_y, alpha, K, K_sub):\n",
    "    x_list = [x_0]\n",
    "    y_list = [y_0]\n",
    "    \n",
    "    x_0_up = x_0\n",
    "    y_0_up = y_0\n",
    "    \n",
    "    x_up_cur = x_0_up\n",
    "    y_up_cur = y_0_up\n",
    "    \n",
    "    x_cur = x_0\n",
    "    y_cur = y_0\n",
    "    \n",
    "    for i in range(K):\n",
    "        x_down = alpha*x_cur+(1-alpha)*x_up_cur\n",
    "        y_down = alpha*y_cur+(1-alpha)*y_up_cur\n",
    "        \n",
    "        \n",
    "        x_cur_sub = y_down\n",
    "        x_prev_sub = y_down\n",
    "        y_cur_sub = y_down\n",
    "        \n",
    "        for j in range(K_sub):\n",
    "            y_cur_sub = x_cur_sub + (j/(j+2))*(x_cur_sub - x_prev_sub)\n",
    "            x_upd_sub = y_cur_sub - (1/(L_y+1/(alpha*eta_y)))*(grad_y(x_down, y_cur_sub)\\\n",
    "                                                               +(1/(alpha*eta_y))*(y_cur_sub-y_down))\n",
    "        \n",
    "\n",
    "        \n",
    "            x_prev_sub = x_cur_sub\n",
    "            x_cur_sub = x_upd_sub\n",
    "            \n",
    "        y_up_upd = x_upd_sub\n",
    "        \n",
    "        \n",
    "        \n",
    "        \n",
    "        \n",
    "#         y_up_upd = solver(x_down, y_down, eta_y, alpha)\n",
    "        \n",
    "        x_up_upd = x_down - eta_x*alpha*grad_x(x_down, y_up_upd)\n",
    "        x_upd = (x_cur + alpha*x_down - eta_x*grad_x(x_down,y_up_upd))/(1+alpha)\n",
    "        y_upd = (y_cur+alpha*y_up_upd-eta_y*grad_y(x_down,y_up_upd))/(1+alpha)\n",
    "        \n",
    "        \n",
    "        x_list.append(x_upd)\n",
    "        y_list.append(y_upd)\n",
    "        \n",
    "        x_up_cur = x_up_upd\n",
    "        y_up_cur = y_up_upd\n",
    "        \n",
    "        x_cur = x_upd\n",
    "        y_cur = y_upd\n",
    "        \n",
    "    return x_list, y_list\n",
    "        \n",
    "        \n",
    "        \n",
    "    "
   ]
  },
  {
   "cell_type": "code",
   "execution_count": null,
   "metadata": {},
   "outputs": [],
   "source": []
  },
  {
   "cell_type": "code",
   "execution_count": null,
   "metadata": {},
   "outputs": [],
   "source": [
    "x_0 = np.array([1,2])\n",
    "y_0 = np.array([2,3])\n",
    "L = 1000\n",
    "L_x = 10\n",
    "L_y = 1000\n",
    "mu_x = 0.1\n",
    "mu_y = 0.1\n",
    "eta_x = 1/np.sqrt(mu_x*L_x)\n",
    "eta_y = (1/mu_y)*(np.sqrt(mu_x/L_x))\n",
    "alpha = np.sqrt(mu_x/L_x)\n",
    "C = 2.\n",
    "K_sub = int(np.sqrt(2*C)*max(1., np.sqrt(eta_y*alpha*L_y)))\n",
    "K=10000\n"
   ]
  },
  {
   "cell_type": "code",
   "execution_count": null,
   "metadata": {},
   "outputs": [],
   "source": [
    "K_sub"
   ]
  },
  {
   "cell_type": "code",
   "execution_count": null,
   "metadata": {},
   "outputs": [],
   "source": [
    "A = np.array([[L_x,0,0,0],[0,mu_x,0,0],[0,0,L_y,0],[0,0,0,mu_y]])\n",
    "b = np.array([2,1,3,1])"
   ]
  },
  {
   "cell_type": "code",
   "execution_count": null,
   "metadata": {},
   "outputs": [],
   "source": [
    "A"
   ]
  },
  {
   "cell_type": "code",
   "execution_count": null,
   "metadata": {},
   "outputs": [],
   "source": [
    "def grad_quad_4(x):\n",
    "    A = np.array([[L_x,0,0,0],[0,mu_x,0,0],[0,0,L_y,0],[0,0,0,mu_y]])\n",
    "    b = np.array([2,1,3,1])\n",
    "    return A@x+b"
   ]
  },
  {
   "cell_type": "code",
   "execution_count": null,
   "metadata": {},
   "outputs": [],
   "source": [
    "def grad_y(x,y):\n",
    "    vec = np.array(list(x)+list(y))\n",
    "    res = A@vec+b\n",
    "    return res[2:4]"
   ]
  },
  {
   "cell_type": "code",
   "execution_count": null,
   "metadata": {},
   "outputs": [],
   "source": [
    "def grad_x(x,y):\n",
    "    vec = np.array(list(x)+list(y))\n",
    "    res = A@vec+b\n",
    "    return res[0:2]"
   ]
  },
  {
   "cell_type": "code",
   "execution_count": null,
   "metadata": {},
   "outputs": [],
   "source": [
    "A"
   ]
  },
  {
   "cell_type": "code",
   "execution_count": null,
   "metadata": {},
   "outputs": [],
   "source": [
    "x_star = np.linalg.solve(A,-b)"
   ]
  },
  {
   "cell_type": "code",
   "execution_count": null,
   "metadata": {},
   "outputs": [],
   "source": [
    "x_star"
   ]
  },
  {
   "cell_type": "code",
   "execution_count": null,
   "metadata": {},
   "outputs": [],
   "source": [
    "K"
   ]
  },
  {
   "cell_type": "code",
   "execution_count": null,
   "metadata": {},
   "outputs": [],
   "source": [
    "K_sub"
   ]
  },
  {
   "cell_type": "code",
   "execution_count": null,
   "metadata": {
    "scrolled": true
   },
   "outputs": [],
   "source": [
    "x_list_Dima, y_list_Dima = Dima_method(x_0, y_0, eta_x, eta_y,grad_x, grad_y, alpha, 10000, 20)"
   ]
  },
  {
   "cell_type": "code",
   "execution_count": null,
   "metadata": {},
   "outputs": [],
   "source": [
    "print(x_list_Dima[-1])\n",
    "print(y_list_Dima[-1])"
   ]
  },
  {
   "cell_type": "code",
   "execution_count": null,
   "metadata": {},
   "outputs": [],
   "source": [
    "len(x_list_Dima)\n"
   ]
  },
  {
   "cell_type": "code",
   "execution_count": null,
   "metadata": {},
   "outputs": [],
   "source": [
    "len(y_list_Dima)"
   ]
  },
  {
   "cell_type": "code",
   "execution_count": null,
   "metadata": {},
   "outputs": [],
   "source": [
    "norm_list_Dima = []\n",
    "for i in range(len(x_list_Dima)):\n",
    "    norm_list_Dima.append(np.linalg.norm(np.array(list(x_list_Dima[i])+list(y_list_Dima[i])) - x_star))\n",
    "    "
   ]
  },
  {
   "cell_type": "code",
   "execution_count": null,
   "metadata": {},
   "outputs": [],
   "source": [
    "norm_list_Dima_new = []\n",
    "for i in range(len(x_list_Dima)):\n",
    "    for k in range(K_sub+1):\n",
    "        norm_list_Dima_new.append(np.linalg.norm(np.array(list(x_list_Dima[i])+list(y_list_Dima[i])) - x_star))\n",
    "    "
   ]
  },
  {
   "cell_type": "code",
   "execution_count": null,
   "metadata": {},
   "outputs": [],
   "source": [
    "len(norm_list_Dima_new)"
   ]
  },
  {
   "cell_type": "code",
   "execution_count": null,
   "metadata": {},
   "outputs": [],
   "source": [
    "np.array(list(x_list_Dima[-1])+list(y_list_Dima[-1])) "
   ]
  },
  {
   "cell_type": "code",
   "execution_count": null,
   "metadata": {},
   "outputs": [],
   "source": []
  },
  {
   "cell_type": "code",
   "execution_count": null,
   "metadata": {
    "scrolled": true
   },
   "outputs": [],
   "source": [
    "plt.plot(norm_list_Dima, label='BAM')\n",
    "# plt.plot(norm_list_nes, label = 'NAG')\n",
    "plt.legend()\n",
    "plt.grid()\n",
    "plt.ylabel('$\\|(x^k,y^k) - (x^*,y^*)\\|^2$')\n",
    "plt.xlabel('iterations')\n",
    "plt.yscale('log')\n",
    "plt.xlim(-100,50000)\n",
    "# plt.savefig('first_plot.pdf')"
   ]
  },
  {
   "cell_type": "code",
   "execution_count": null,
   "metadata": {
    "scrolled": false
   },
   "outputs": [],
   "source": [
    "# plt.plot(norm_list_Dima_new, label='BAM_y')\n",
    "plt.plot(norm_list_Dima, label='BAM_x')\n",
    "plt.plot(norm_list_nes, label = 'NAG')\n",
    "\n",
    "# plt.plot(norm_list_ACRCD, label = 'ACRCD')\n",
    "# plt.plot(norm_list_stich_grad_x, label = 'ACDM_x',marker = '+', markevery = 100)\n",
    "\n",
    "\n",
    "# plt.plot(list_norm_coup_grad_x, label = 'coup_x')\n",
    "\n",
    "plt.legend()\n",
    "plt.grid()\n",
    "plt.ylabel('$\\|(x^k,y^k) - (x^*,y^*)\\|^2$')\n",
    "plt.xlabel('number of gradient calls')\n",
    "plt.yscale('log')\n",
    "plt.xlim(-100,3000)\n",
    "plt.ylim(10**(-6),50)\n",
    "# plt.savefig('prelim_plot.pdf')"
   ]
  },
  {
   "cell_type": "code",
   "execution_count": null,
   "metadata": {},
   "outputs": [],
   "source": [
    "plt.plot(norm_list_Dima_new, label='BAM_y')\n",
    "plt.plot(norm_list_nes, label = 'NAG')\n",
    "# plt.plot(norm_list_stich_grad_y, label = 'ACDM_y',marker = 'd',markevery = 400)\n",
    "# plt.plot(list_norm_coup_grad_y, label = 'coup_y')\n",
    "plt.legend()\n",
    "plt.grid()\n",
    "plt.ylabel('$\\|(x^k,y^k) - (x^*,y^*)\\|^2$')\n",
    "plt.xlabel('number of gradient calls')\n",
    "plt.yscale('log')\n",
    "plt.xlim(-100,6000)\n",
    "plt.ylim(10**(-6),50)"
   ]
  },
  {
   "cell_type": "code",
   "execution_count": null,
   "metadata": {},
   "outputs": [],
   "source": [
    "norm_list_Dima[-1]"
   ]
  },
  {
   "cell_type": "code",
   "execution_count": null,
   "metadata": {},
   "outputs": [],
   "source": [
    "x_0_nes = np.array(list(x_0)+list(y_0)) "
   ]
  },
  {
   "cell_type": "code",
   "execution_count": null,
   "metadata": {},
   "outputs": [],
   "source": [
    "x_0_nes"
   ]
  },
  {
   "cell_type": "code",
   "execution_count": null,
   "metadata": {},
   "outputs": [],
   "source": [
    "x_0"
   ]
  },
  {
   "cell_type": "code",
   "execution_count": null,
   "metadata": {},
   "outputs": [],
   "source": [
    "y_0"
   ]
  },
  {
   "cell_type": "code",
   "execution_count": null,
   "metadata": {},
   "outputs": [],
   "source": [
    "x_list_nes, y_list_nes = nesterov(x_0_nes, grad_quad_4, L,1, 100000)"
   ]
  },
  {
   "cell_type": "code",
   "execution_count": null,
   "metadata": {},
   "outputs": [],
   "source": [
    "x_list_nes[-1]"
   ]
  },
  {
   "cell_type": "code",
   "execution_count": null,
   "metadata": {},
   "outputs": [],
   "source": [
    "x_star"
   ]
  },
  {
   "cell_type": "code",
   "execution_count": null,
   "metadata": {},
   "outputs": [],
   "source": [
    "norm_list_nes = []\n",
    "for i in range(len(x_list_nes)):\n",
    "    norm_list_nes.append(np.linalg.norm(x_list_nes[i] - x_star))"
   ]
  },
  {
   "cell_type": "code",
   "execution_count": null,
   "metadata": {},
   "outputs": [],
   "source": [
    "x_0_nes"
   ]
  },
  {
   "cell_type": "code",
   "execution_count": null,
   "metadata": {},
   "outputs": [],
   "source": [
    "A"
   ]
  },
  {
   "cell_type": "code",
   "execution_count": null,
   "metadata": {},
   "outputs": [],
   "source": [
    "grad_quad_4(x_0_nes)"
   ]
  },
  {
   "cell_type": "code",
   "execution_count": null,
   "metadata": {},
   "outputs": [],
   "source": [
    "norm_list_nes[-1]"
   ]
  },
  {
   "cell_type": "code",
   "execution_count": null,
   "metadata": {},
   "outputs": [],
   "source": [
    "np.linalg.norm(x_list_nes[-1] - x_star)"
   ]
  },
  {
   "cell_type": "code",
   "execution_count": null,
   "metadata": {},
   "outputs": [],
   "source": [
    "def ACRCD(alpha, tau, theta, x_0, y_0, d, K):\n",
    "    x_list = [x_0]\n",
    "    y_list = [y_0]\n",
    "    \n",
    "    x_cur = x_0\n",
    "    y_cur = y_0\n",
    "    \n",
    "    z_cur_x = x_0\n",
    "    z_cur_y = y_0\n",
    "    \n",
    "    q_cur_x = x_0\n",
    "    q_cur_y = y_0\n",
    "    \n",
    "    for i in range(K):\n",
    "        x_upd = tau*z_cur_x+(1-tau)*q_cur_x\n",
    "        y_upd = tau*z_cur_y+(1-tau)*q_cur_y\n",
    "        \n",
    "        index_p = np.random.choice([0,1],p=[0.5,0.5])\n",
    "        if index_p == 0:\n",
    "            q_upd_x = x_upd - (1/L_x)*grad_x(x_upd, y_upd)\n",
    "            q_upd_y = q_cur_y\n",
    "        \n",
    "        if index_p == 1:\n",
    "            q_upd_y = y_upd - (1/L_y)*grad_y(x_upd, y_upd)\n",
    "            q_upd_x = q_cur_x\n",
    "        \n",
    "        if index_p == 0:\n",
    "            z_upd_x = z_cur_x - (1/L_x)*alpha*n*grad_x(x_upd,y_upd)\n",
    "            z_upd_y = z_cur_y\n",
    "        \n",
    "        if index_p == 1:\n",
    "            z_upd_y = z_cur_y - (1/L_y)*alpha*n*grad_y(x_upd,y_upd)\n",
    "            z_upd_x = z_cur_x\n",
    "            \n",
    "        x_list.append(x_upd)\n",
    "        y_list.append(y_upd)\n",
    "        \n",
    "        x_cur = x_upd\n",
    "        y_cur = y_upd\n",
    "        \n",
    "        z_cur_x = z_upd_x\n",
    "        z_cur_y = z_upd_y\n",
    "        \n",
    "        q_cur_x = q_upd_x\n",
    "        q_cur_y = q_upd_y\n",
    "        \n",
    "        \n",
    "    return x_list, y_list\n",
    "        \n",
    "    \n",
    "    \n",
    "    \n",
    "    "
   ]
  },
  {
   "cell_type": "code",
   "execution_count": null,
   "metadata": {},
   "outputs": [],
   "source": [
    "n=4"
   ]
  },
  {
   "cell_type": "code",
   "execution_count": null,
   "metadata": {},
   "outputs": [],
   "source": [
    "x_init = np.array(list(x_0)+list(y_0))\n",
    "d = 1/2*(x_init.T@A@x_init+b.T@x_init)"
   ]
  },
  {
   "cell_type": "code",
   "execution_count": null,
   "metadata": {},
   "outputs": [],
   "source": [
    "\n",
    "theta = np.linalg.norm(x_init - x_star)\n",
    "alpha = (1/n)*np.sqrt(theta/d)"
   ]
  },
  {
   "cell_type": "code",
   "execution_count": null,
   "metadata": {},
   "outputs": [],
   "source": [
    "tau = 1/(alpha*n*n+1)\n"
   ]
  },
  {
   "cell_type": "code",
   "execution_count": null,
   "metadata": {},
   "outputs": [],
   "source": []
  },
  {
   "cell_type": "code",
   "execution_count": null,
   "metadata": {},
   "outputs": [],
   "source": [
    "x_list_ACRCD, y_list_ACRCD = ACRCD(alpha, tau, theta, x_0, y_0, d, 1000*K)"
   ]
  },
  {
   "cell_type": "code",
   "execution_count": null,
   "metadata": {},
   "outputs": [],
   "source": [
    "x_list_ACRCD[-1]"
   ]
  },
  {
   "cell_type": "code",
   "execution_count": null,
   "metadata": {},
   "outputs": [],
   "source": [
    "y_list_ACRCD[-1]"
   ]
  },
  {
   "cell_type": "code",
   "execution_count": null,
   "metadata": {},
   "outputs": [],
   "source": [
    "x_star"
   ]
  },
  {
   "cell_type": "code",
   "execution_count": null,
   "metadata": {},
   "outputs": [],
   "source": [
    "np.linalg.norm(np.array(list(x_list_ACRCD[-1])+list(y_list_ACRCD[-1])) - x_star)"
   ]
  },
  {
   "cell_type": "code",
   "execution_count": null,
   "metadata": {},
   "outputs": [],
   "source": [
    "norm_list_ACRCD = []\n",
    "for i in range(len(x_list_ACRCD)):\n",
    "    norm_list_ACRCD.append(np.linalg.norm(np.array(list(x_list_ACRCD[i])+list(y_list_ACRCD[i])) - x_star))"
   ]
  },
  {
   "cell_type": "code",
   "execution_count": null,
   "metadata": {},
   "outputs": [],
   "source": []
  },
  {
   "cell_type": "code",
   "execution_count": null,
   "metadata": {},
   "outputs": [],
   "source": [
    "1/2*(x_init.T@A@x_init+b.T@x_init)"
   ]
  },
  {
   "cell_type": "code",
   "execution_count": null,
   "metadata": {},
   "outputs": [],
   "source": [
    "b.T@x_init"
   ]
  },
  {
   "cell_type": "code",
   "execution_count": null,
   "metadata": {},
   "outputs": [],
   "source": [
    "theta"
   ]
  },
  {
   "cell_type": "code",
   "execution_count": null,
   "metadata": {},
   "outputs": [],
   "source": []
  },
  {
   "cell_type": "code",
   "execution_count": null,
   "metadata": {},
   "outputs": [],
   "source": [
    "np.random.choice([0,1],p=[0.5,0.5])"
   ]
  },
  {
   "cell_type": "code",
   "execution_count": null,
   "metadata": {},
   "outputs": [],
   "source": [
    "def ACDM(x_0, K, L_x, L_y, beta, grad_x, grad_y, mu):\n",
    "    v_0 = x_0\n",
    "    A_0 = 0\n",
    "    B_0 = 1\n",
    "    beta = 1./2\n",
    "    \n",
    "    B_cur = B_0\n",
    "    A_cur = A_0\n",
    "    \n",
    "    p_x = np.sqrt(L_x)/(np.sqrt(L_x)+np.sqrt(L_y))\n",
    "    p_y = np.sqrt(L_y)/(np.sqrt(L_x)+np.sqrt(L_y))\n",
    "    S_b = (np.sqrt(L_x)+np.sqrt(L_y))\n",
    "    \n",
    "    x_cur = x_0\n",
    "    v_cur = v_0\n",
    "    x_list=[x_0]\n",
    "    x_list_grad_x = [x_0]\n",
    "    x_list_grad_y = [x_0]\n",
    "    my_roots_list = []\n",
    "    \n",
    "    for i in range(K):\n",
    "        coor_index = np.random.choice([0,1], p = [p_x,p_y])\n",
    "        \n",
    "        my_roots = np.roots([mu - S_b*S_b, B_cur+A_cur*mu, A_cur*B_cur])\n",
    "        my_roots_list.append(my_roots)\n",
    "        a_upd = max(my_roots)\n",
    "        \n",
    "        A_upd = A_cur + a_upd\n",
    "        B_upd = B_cur + mu*a_upd\n",
    "        \n",
    "        alpha_cur = a_upd/A_upd\n",
    "        beta_cur = mu*a_upd/B_upd\n",
    "        \n",
    "        y_cur = ((1-alpha_cur)*x_cur + alpha_cur*(1-beta_cur)*v_cur)/(1-alpha_cur*beta_cur)\n",
    "        \n",
    "        if coor_index == 0:\n",
    "            \n",
    "            x_upd = y_cur - (1/L_x)*grad_x(y_cur)\n",
    "            v_upd = (1-beta_cur)*v_cur+beta_cur*y_cur-(a_upd/(B_upd*p_x))*grad_x(y_cur)\n",
    "            x_list_grad_x.append(x_upd)\n",
    "            \n",
    "        if coor_index == 1:\n",
    "            \n",
    "            x_upd = y_cur - (1/L_y)*grad_y(y_cur)\n",
    "            v_upd = (1-beta_cur)*v_cur+beta_cur*y_cur-(a_upd/(B_upd*p_y))*grad_y(y_cur)\n",
    "            x_list_grad_y.append(x_upd)\n",
    "            \n",
    "        x_list.append(x_upd)\n",
    "        \n",
    "        x_cur = x_upd\n",
    "        v_cur = v_upd\n",
    "        A_cur = A_upd\n",
    "        B_cur = B_upd\n",
    "        \n",
    "    return x_list, my_roots_list, x_list_grad_x, x_list_grad_y\n",
    "            \n",
    "        \n",
    "    "
   ]
  },
  {
   "cell_type": "code",
   "execution_count": null,
   "metadata": {},
   "outputs": [],
   "source": [
    "np.roots([2,3,1])"
   ]
  },
  {
   "cell_type": "code",
   "execution_count": null,
   "metadata": {},
   "outputs": [],
   "source": [
    "def grad_y_full(x):\n",
    "    vec = x\n",
    "    res = A@vec+b\n",
    "    true_res = res\n",
    "    true_res[0:1] = 0\n",
    "    return true_res"
   ]
  },
  {
   "cell_type": "code",
   "execution_count": null,
   "metadata": {},
   "outputs": [],
   "source": [
    "def grad_x_full(x):\n",
    "    vec = x\n",
    "    res = A@vec+b\n",
    "    true_res = res\n",
    "    true_res[2:4] = 0\n",
    "    return true_res"
   ]
  },
  {
   "cell_type": "code",
   "execution_count": null,
   "metadata": {},
   "outputs": [],
   "source": [
    "x_0 = np.array([1,2])\n",
    "y_0 = np.array([2,3])\n",
    "L = 1000\n",
    "L_x = 100\n",
    "L_y = 1000\n",
    "mu_x = 0.1\n",
    "mu_y = 0.1\n",
    "eta_x = 1/np.sqrt(mu_x*L_x)\n",
    "eta_y = (1/mu_y)*(np.sqrt(mu_x/L_x))\n",
    "alpha = np.sqrt(mu_x/L_x)\n",
    "C = 1.\n",
    "K_sub = int(np.sqrt(2*C)*max(1., np.sqrt(eta_y*alpha*L_y)))\n",
    "K=10000\n",
    "\n"
   ]
  },
  {
   "cell_type": "code",
   "execution_count": null,
   "metadata": {},
   "outputs": [],
   "source": [
    "x_init = np.array([1,2,2,3])"
   ]
  },
  {
   "cell_type": "code",
   "execution_count": null,
   "metadata": {},
   "outputs": [],
   "source": [
    "x_list_stich, roots_stich, x_list_grad_x_stich, x_list_grad_y_stich = ACDM(x_init, 12000, L_x, L_y, 0.5, grad_x_full, grad_y_full)"
   ]
  },
  {
   "cell_type": "code",
   "execution_count": null,
   "metadata": {},
   "outputs": [],
   "source": [
    "x_list_stich[-1]"
   ]
  },
  {
   "cell_type": "code",
   "execution_count": null,
   "metadata": {},
   "outputs": [],
   "source": [
    "x_star"
   ]
  },
  {
   "cell_type": "code",
   "execution_count": null,
   "metadata": {},
   "outputs": [],
   "source": [
    "len(roots_stich)"
   ]
  },
  {
   "cell_type": "code",
   "execution_count": null,
   "metadata": {},
   "outputs": [],
   "source": [
    "norm_list_stich = []\n",
    "for i in range(len(x_list_stich)):\n",
    "    norm_list_stich.append(np.linalg.norm(x_list_stich[i] - x_star))"
   ]
  },
  {
   "cell_type": "code",
   "execution_count": null,
   "metadata": {},
   "outputs": [],
   "source": [
    "norm_list_stich[-1]"
   ]
  },
  {
   "cell_type": "code",
   "execution_count": null,
   "metadata": {},
   "outputs": [],
   "source": [
    "norm_list_stich_grad_x = []\n",
    "for i in range(len(x_list_grad_x_stich)):\n",
    "    norm_list_stich_grad_x.append(np.linalg.norm(x_list_grad_x_stich[i] - x_star))"
   ]
  },
  {
   "cell_type": "code",
   "execution_count": null,
   "metadata": {},
   "outputs": [],
   "source": [
    "norm_list_stich_grad_y = []\n",
    "for i in range(len(x_list_grad_y_stich)):\n",
    "    norm_list_stich_grad_y.append(np.linalg.norm(x_list_grad_y_stich[i] - x_star))"
   ]
  },
  {
   "cell_type": "code",
   "execution_count": null,
   "metadata": {},
   "outputs": [],
   "source": [
    "len(x_list_grad_y_stich)"
   ]
  },
  {
   "cell_type": "code",
   "execution_count": null,
   "metadata": {},
   "outputs": [],
   "source": [
    "max(np.roots([2,2,1]))"
   ]
  },
  {
   "cell_type": "code",
   "execution_count": null,
   "metadata": {},
   "outputs": [],
   "source": [
    "x_list_stich[-1]"
   ]
  },
  {
   "cell_type": "code",
   "execution_count": null,
   "metadata": {},
   "outputs": [],
   "source": [
    "x_star"
   ]
  },
  {
   "cell_type": "code",
   "execution_count": null,
   "metadata": {},
   "outputs": [],
   "source": [
    "A"
   ]
  },
  {
   "cell_type": "code",
   "execution_count": null,
   "metadata": {},
   "outputs": [],
   "source": [
    "def linear_coupling(x_0, grad_x, grad_y, L_x, L_y, mu, K):\n",
    "\n",
    "    S_alpha = np.sqrt(L_x)+np.sqrt(L_y)\n",
    "    p_x = np.sqrt(L_x)/S_alpha\n",
    "    p_y = np.sqrt(L_y)/S_alpha\n",
    "    tau = 2/(1+np.sqrt((4*S_alpha*S_alpha/mu)+1))\n",
    "    eta = 1/(tau*S_alpha*S_alpha)\n",
    "    y_0 = x_0\n",
    "    z_0 = x_0\n",
    "    list_y = [y_0]\n",
    "    y_list_grad_x = [y_0]\n",
    "    y_list_grad_y = [y_0]\n",
    "    x_cur = x_0\n",
    "    y_cur = y_0\n",
    "    z_cur = z_0\n",
    "    \n",
    "    for i in range(K):\n",
    "        x_upd = tau*z_cur + (1-tau)*y_cur\n",
    "        index_coor = np.random.choice([0,1],p = [p_x, p_y])\n",
    "        \n",
    "        if index_coor == 0:\n",
    "            \n",
    "            y_upd = x_upd - (1/L_x)*grad_x(x_upd)\n",
    "            z_upd = (1/(1 + eta * mu))*(z_cur + eta*mu*x_upd - (eta/p_x)*grad_x(x_upd))\n",
    "            \n",
    "            \n",
    "            y_list_grad_x.append(y_upd)\n",
    "            \n",
    "        if index_coor == 1:\n",
    "            \n",
    "            y_upd = x_upd - (1/L_y)*grad_y(x_upd)\n",
    "            z_upd = (1/(1 + eta * mu))*(z_cur + eta*mu*x_upd - (eta/p_y)*grad_y(x_upd))\n",
    "            \n",
    "            \n",
    "            y_list_grad_y.append(y_upd)\n",
    "            \n",
    "        list_y.append(y_upd)\n",
    "        \n",
    "        x_cur = x_upd\n",
    "        y_cur = y_upd\n",
    "        z_cur = z_upd\n",
    "        \n",
    "        \n",
    "    return list_y, y_list_grad_x, y_list_grad_y\n",
    "            \n",
    "            \n",
    "            \n",
    "            \n",
    "            "
   ]
  },
  {
   "cell_type": "code",
   "execution_count": null,
   "metadata": {},
   "outputs": [],
   "source": [
    "L_x"
   ]
  },
  {
   "cell_type": "code",
   "execution_count": null,
   "metadata": {},
   "outputs": [],
   "source": [
    "L_y"
   ]
  },
  {
   "cell_type": "code",
   "execution_count": null,
   "metadata": {},
   "outputs": [],
   "source": [
    "list_y_coupling, y_list_grad_x_coup, y_list_grad_y_coup = linear_coupling(x_init, grad_x_full, grad_y_full, L_x, L_y, 100000)"
   ]
  },
  {
   "cell_type": "code",
   "execution_count": null,
   "metadata": {},
   "outputs": [],
   "source": [
    "list_y_coupling[-1]"
   ]
  },
  {
   "cell_type": "code",
   "execution_count": null,
   "metadata": {},
   "outputs": [],
   "source": [
    "x_star"
   ]
  },
  {
   "cell_type": "code",
   "execution_count": null,
   "metadata": {},
   "outputs": [],
   "source": [
    "list_norm_coup = []\n",
    "for i in range(len(list_y_coupling)):\n",
    "    list_norm_coup.append(np.linalg.norm(list_y_coupling[i] - x_star))"
   ]
  },
  {
   "cell_type": "code",
   "execution_count": null,
   "metadata": {},
   "outputs": [],
   "source": [
    "list_norm_coup[-1]"
   ]
  },
  {
   "cell_type": "code",
   "execution_count": null,
   "metadata": {},
   "outputs": [],
   "source": [
    "list_norm_coup_grad_x = []\n",
    "for i in range(len(y_list_grad_x_coup)):\n",
    "    list_norm_coup_grad_x.append(np.linalg.norm(y_list_grad_x_coup[i] - x_star))"
   ]
  },
  {
   "cell_type": "code",
   "execution_count": null,
   "metadata": {},
   "outputs": [],
   "source": [
    "list_norm_coup_grad_y = []\n",
    "for i in range(len(y_list_grad_y_coup)):\n",
    "    list_norm_coup_grad_y.append(np.linalg.norm(y_list_grad_y_coup[i] - x_star))"
   ]
  },
  {
   "cell_type": "code",
   "execution_count": null,
   "metadata": {},
   "outputs": [],
   "source": [
    "len(list_norm_coup_grad_x)"
   ]
  },
  {
   "cell_type": "code",
   "execution_count": null,
   "metadata": {},
   "outputs": [],
   "source": [
    "len(list_norm_coup_grad_y)"
   ]
  },
  {
   "cell_type": "code",
   "execution_count": null,
   "metadata": {},
   "outputs": [],
   "source": [
    "len(list_norm_coup_grad_y)"
   ]
  },
  {
   "cell_type": "code",
   "execution_count": null,
   "metadata": {},
   "outputs": [],
   "source": [
    "len(y_list_grad_x_coup)"
   ]
  },
  {
   "cell_type": "code",
   "execution_count": null,
   "metadata": {},
   "outputs": [],
   "source": [
    "y_list_grad_x_coup"
   ]
  },
  {
   "cell_type": "code",
   "execution_count": null,
   "metadata": {},
   "outputs": [],
   "source": [
    "list_norm_coup_grad_y[-1]"
   ]
  },
  {
   "cell_type": "code",
   "execution_count": null,
   "metadata": {},
   "outputs": [],
   "source": []
  },
  {
   "cell_type": "code",
   "execution_count": null,
   "metadata": {},
   "outputs": [],
   "source": []
  },
  {
   "cell_type": "code",
   "execution_count": null,
   "metadata": {},
   "outputs": [],
   "source": []
  },
  {
   "cell_type": "code",
   "execution_count": null,
   "metadata": {},
   "outputs": [],
   "source": []
  },
  {
   "cell_type": "code",
   "execution_count": null,
   "metadata": {},
   "outputs": [],
   "source": []
  },
  {
   "cell_type": "code",
   "execution_count": null,
   "metadata": {},
   "outputs": [],
   "source": []
  },
  {
   "cell_type": "markdown",
   "metadata": {},
   "source": [
    "# Large experiment"
   ]
  },
  {
   "cell_type": "code",
   "execution_count": null,
   "metadata": {},
   "outputs": [],
   "source": [
    "L_x = 50\n",
    "L_y = 500\n",
    "mu = 0.1\n",
    "eta_x = 1/np.sqrt(mu_x*L_x)\n",
    "eta_y = (1/mu_y)*(np.sqrt(mu_x/L_x))\n",
    "alpha = np.sqrt(mu_x/L_x)\n",
    "C = 1\n",
    "K_sub = int(np.sqrt(2*C)*max(1., np.sqrt(eta_y*alpha*L_y)))\n",
    "K=10000"
   ]
  },
  {
   "cell_type": "code",
   "execution_count": null,
   "metadata": {},
   "outputs": [],
   "source": [
    "K_sub"
   ]
  },
  {
   "cell_type": "code",
   "execution_count": null,
   "metadata": {},
   "outputs": [],
   "source": [
    "d_x = 100\n",
    "d_y = 10"
   ]
  },
  {
   "cell_type": "code",
   "execution_count": null,
   "metadata": {},
   "outputs": [],
   "source": [
    "import scipy as sp\n",
    "from scipy import stats\n"
   ]
  },
  {
   "cell_type": "code",
   "execution_count": null,
   "metadata": {},
   "outputs": [],
   "source": [
    "# diag_x = stats.truncnorm.rvs(mu,L_x, size = d_x)"
   ]
  },
  {
   "cell_type": "code",
   "execution_count": null,
   "metadata": {},
   "outputs": [],
   "source": [
    "diag_x = np.sort(np.random.uniform(low=mu, high=L_x, size=d_x))"
   ]
  },
  {
   "cell_type": "code",
   "execution_count": null,
   "metadata": {},
   "outputs": [],
   "source": [
    "diag_x_new = diag_x[::-1]"
   ]
  },
  {
   "cell_type": "code",
   "execution_count": null,
   "metadata": {},
   "outputs": [],
   "source": [
    "diag_x_new[0] = L_x"
   ]
  },
  {
   "cell_type": "code",
   "execution_count": null,
   "metadata": {},
   "outputs": [],
   "source": [
    "diag_x_new[-1] = mu"
   ]
  },
  {
   "cell_type": "code",
   "execution_count": null,
   "metadata": {},
   "outputs": [],
   "source": [
    "diag_x_new"
   ]
  },
  {
   "cell_type": "code",
   "execution_count": null,
   "metadata": {},
   "outputs": [],
   "source": [
    "diag_y = np.sort(np.random.uniform(low=mu, high=L_y, size=d_y))"
   ]
  },
  {
   "cell_type": "code",
   "execution_count": null,
   "metadata": {},
   "outputs": [],
   "source": [
    "# diag_y = stats.truncnorm.rvs(mu,L_y, size = d_y)"
   ]
  },
  {
   "cell_type": "code",
   "execution_count": null,
   "metadata": {},
   "outputs": [],
   "source": [
    "diag_y_new = diag_y[::-1]"
   ]
  },
  {
   "cell_type": "code",
   "execution_count": null,
   "metadata": {},
   "outputs": [],
   "source": [
    "diag_y_new[0] = L_y\n",
    "diag_y_new[-1] = mu"
   ]
  },
  {
   "cell_type": "code",
   "execution_count": null,
   "metadata": {},
   "outputs": [],
   "source": [
    "diag_y_new"
   ]
  },
  {
   "cell_type": "code",
   "execution_count": null,
   "metadata": {},
   "outputs": [],
   "source": [
    "diag_full = np.array( list(diag_x_new) + list(diag_y_new) )"
   ]
  },
  {
   "cell_type": "code",
   "execution_count": null,
   "metadata": {},
   "outputs": [],
   "source": [
    "A_full = np.diag(diag_full)"
   ]
  },
  {
   "cell_type": "code",
   "execution_count": null,
   "metadata": {},
   "outputs": [],
   "source": [
    "b = np.random.uniform(low=1, high=10, size=(d_y+d_x))"
   ]
  },
  {
   "cell_type": "code",
   "execution_count": null,
   "metadata": {},
   "outputs": [],
   "source": [
    "def quad_function(x):\n",
    "    res = 0.5*(x.T@A_full@x) - b@x\n",
    "    return res"
   ]
  },
  {
   "cell_type": "code",
   "execution_count": null,
   "metadata": {},
   "outputs": [],
   "source": [
    "quad_function(np.ones(d_y+d_x))"
   ]
  },
  {
   "cell_type": "code",
   "execution_count": null,
   "metadata": {},
   "outputs": [],
   "source": [
    "x_star = np.linalg.solve(A_full,b)"
   ]
  },
  {
   "cell_type": "code",
   "execution_count": null,
   "metadata": {},
   "outputs": [],
   "source": [
    "quad_function(x_star)"
   ]
  },
  {
   "cell_type": "code",
   "execution_count": null,
   "metadata": {},
   "outputs": [],
   "source": [
    "def grad_x_new(x,y):\n",
    "    vec = np.array(list(x)+list(y))\n",
    "    grad = A_full@vec - b\n",
    "    return grad[0:d_x]"
   ]
  },
  {
   "cell_type": "code",
   "execution_count": null,
   "metadata": {},
   "outputs": [],
   "source": [
    "def grad_x_new_full(x):\n",
    "    grad = A_full@x - b\n",
    "    grad[d_x:(d_y+d_x)] = 0.\n",
    "    return grad"
   ]
  },
  {
   "cell_type": "code",
   "execution_count": null,
   "metadata": {},
   "outputs": [],
   "source": [
    "def grad_y_new(x,y):\n",
    "    vec = np.array(list(x)+list(y))\n",
    "    grad = A_full@vec - b\n",
    "    return grad[d_x:(d_y+d_x)]"
   ]
  },
  {
   "cell_type": "code",
   "execution_count": null,
   "metadata": {},
   "outputs": [],
   "source": [
    "def grad_y_new_full(x):\n",
    "    grad = A_full@x - b\n",
    "    grad[0:d_x] = 0.\n",
    "    return grad"
   ]
  },
  {
   "cell_type": "code",
   "execution_count": null,
   "metadata": {},
   "outputs": [],
   "source": [
    "def grad_new(x):\n",
    "    grad = A_full@x - b\n",
    "    return grad\n"
   ]
  },
  {
   "cell_type": "code",
   "execution_count": null,
   "metadata": {},
   "outputs": [],
   "source": [
    "x_0 = np.zeros(d_x)\n",
    "y_0 = np.zeros(d_y)"
   ]
  },
  {
   "cell_type": "code",
   "execution_count": null,
   "metadata": {},
   "outputs": [],
   "source": [
    "x_list_large_Dima, y_list_large_Dima = Dima_method(x_0,y_0,eta_x,eta_y,grad_x_new, grad_y_new, alpha,K,K_sub)"
   ]
  },
  {
   "cell_type": "code",
   "execution_count": null,
   "metadata": {},
   "outputs": [],
   "source": [
    "quad_function(np.array(list(x_list_large_Dima[-1])+list(y_list_large_Dima[-1])))"
   ]
  },
  {
   "cell_type": "code",
   "execution_count": null,
   "metadata": {},
   "outputs": [],
   "source": [
    "func_list_large_Dima_x = []\n",
    "for i in range(len(x_list_large_Dima)):\n",
    "    func_list_large_Dima_x.append(quad_function(np.array(list(x_list_large_Dima[i])+list(y_list_large_Dima[i]))) - quad_function(x_star))"
   ]
  },
  {
   "cell_type": "code",
   "execution_count": null,
   "metadata": {},
   "outputs": [],
   "source": [
    "func_list_large_Dima_y = []\n",
    "for i in range(len(x_list_large_Dima)):\n",
    "    for j in range(K_sub):\n",
    "        func_list_large_Dima_y.append(quad_function(np.array(list(x_list_large_Dima[i])+list(y_list_large_Dima[i]))) - quad_function(x_star))"
   ]
  },
  {
   "cell_type": "code",
   "execution_count": null,
   "metadata": {},
   "outputs": [],
   "source": [
    "# plt.plot(func_list_large_Dima_x[0:250],label = 'BAM_x')\n",
    "plt.plot(func_list_large_Dima_2_x[0:320],label = 'BAM_x',marker = 'd', markevery = 20)\n",
    "# plt.plot(func_list_large_Dima_y[0:4000],label = 'BAM_y')\n",
    "# plt.plot(func_list_large_Dima_2_y[0:4000],label = 'BAM_y')\n",
    "plt.plot(func_list_large_Nes_x[0:320], label = 'NAG',marker = 's', markevery = 20)\n",
    "plt.plot(func_list_large_coup_x[0:320], label = 'LinCoupling_x',marker = 'v', markevery = 20)\n",
    "plt.plot(func_list_large_ACDM_x[0:320], label = 'ACDM_x',marker = 'o', markevery = 20)\n",
    "plt.grid()\n",
    "plt.xlabel('# of oracle calls',fontsize=18)\n",
    "plt.ylabel('$f(x^k) - f(x^\\star)$',fontsize=18)\n",
    "plt.xticks(fontsize=14)\n",
    "plt.yticks(fontsize=14)\n",
    "plt.legend()\n",
    "plt.ylim(10**(-6),10**4)\n",
    "plt.yscale('log')\n",
    "plt.tight_layout()\n",
    "plt.savefig('10_100_x_E1_50_500.pdf')"
   ]
  },
  {
   "cell_type": "code",
   "execution_count": null,
   "metadata": {},
   "outputs": [],
   "source": [
    "# plt.plot(func_list_large_Dima_x[0:4000],label = 'BAM_x')\n",
    "# plt.plot(func_list_large_Dima_2_x[0:2000],label = 'BAM_x',marker = 'd', markevery = 100)\n",
    "# plt.plot(func_list_large_Dima_y[0:4000],label = 'BAM_y')\n",
    "plt.plot(func_list_large_Dima_2_y[0:1200],label = 'BAM_y',marker = 'd', markevery = 100)\n",
    "plt.plot(func_list_large_Nes_x[0:1200], label = 'NAG',marker = 's', markevery = 90)\n",
    "plt.plot(func_list_large_coup_y[0:1200], label = 'LinCoupling_y',marker = 'v', markevery = 100)\n",
    "plt.plot(func_list_large_ACDM_y[0:1200], label = 'ACDM_y',marker = 'o', markevery = 90)\n",
    "plt.grid()\n",
    "plt.xlabel('# of oracle calls',fontsize=18)\n",
    "plt.ylabel('$f(x^k) - f(x^\\star)$',fontsize=18)\n",
    "plt.xticks(fontsize=14)\n",
    "plt.yticks(fontsize=14)\n",
    "plt.legend()\n",
    "plt.ylim(10**(-9),10**4)\n",
    "plt.yscale('log')\n",
    "plt.tight_layout()\n",
    "plt.savefig('10_100_y_E1_50_500.pdf')"
   ]
  },
  {
   "cell_type": "code",
   "execution_count": null,
   "metadata": {},
   "outputs": [],
   "source": [
    "x_init = np.array(list(x_0)+list(y_0))"
   ]
  },
  {
   "cell_type": "code",
   "execution_count": null,
   "metadata": {},
   "outputs": [],
   "source": [
    "x_list_large_Nes, y_list_large_Nes = nesterov(x_init, grad_new, L_y,mu,K)"
   ]
  },
  {
   "cell_type": "code",
   "execution_count": null,
   "metadata": {
    "scrolled": false
   },
   "outputs": [],
   "source": [
    "func_list_large_Nes_x = []\n",
    "for i in range(len(x_list_large_Nes)):\n",
    "    func_list_large_Nes_x.append(quad_function(x_list_large_Nes[i]) - quad_function(x_star))"
   ]
  },
  {
   "cell_type": "code",
   "execution_count": null,
   "metadata": {},
   "outputs": [],
   "source": [
    "def Dima_method_2(x_0, y_0, eta_x, eta_y, grad_x, grad_y, alpha, K, K_sub):\n",
    "    x_list = [x_0]\n",
    "    y_list = [y_0]\n",
    "    \n",
    "    x_0_up = x_0\n",
    "    y_0_up = y_0\n",
    "    \n",
    "    x_up_cur = x_0_up\n",
    "    y_up_cur = y_0_up\n",
    "    \n",
    "    x_cur = x_0\n",
    "    y_cur = y_0\n",
    "    \n",
    "    for i in range(K):\n",
    "        x_down = alpha*x_cur+(1-alpha)*x_up_cur\n",
    "        y_down = alpha*y_cur+(1-alpha)*y_up_cur\n",
    "        \n",
    "        \n",
    "        x_cur_sub = y_down\n",
    "        x_prev_sub = y_down\n",
    "        y_cur_sub = y_down\n",
    "        \n",
    "        for j in range(K_sub//2):\n",
    "            y_cur_sub = x_cur_sub + (j/(j+2))*(x_cur_sub - x_prev_sub)\n",
    "            x_upd_sub = y_cur_sub - (1/(L_y+1/(alpha*eta_y)))*(grad_y(x_down, y_cur_sub)\\\n",
    "                                                               +(1/(alpha*eta_y))*(y_cur_sub-y_down))\n",
    "        \n",
    "\n",
    "        \n",
    "            x_prev_sub = x_cur_sub\n",
    "            x_cur_sub = x_upd_sub\n",
    "            \n",
    "        y_up_upd = x_upd_sub\n",
    "        \n",
    "        x_cur_kim = y_up_upd\n",
    "        y_cur_kim = y_up_upd\n",
    "        theta = init_theta(K_sub//2)\n",
    "        for k in range(K_sub//2):\n",
    "            y_upd_kim = x_cur_kim - (1/L_y)*grad_y(x_cur_kim)\n",
    "            \n",
    "            x_upd_kim = y_upd_kim + (theta[i]-1)*(2*theta[i+1]-1)/(theta[i]*(2*theta[i]-1))*(y_upd_kim - y_cur_kim)\\\n",
    "            + (2*theta[i+1]-1)/(2*theta[i]-1)*(y_upd_kim - x_cur_kim)\n",
    "            \n",
    "            y_cur_kim = y_upd_kim\n",
    "            x_cur_kim = x_upd_kim\n",
    "            \n",
    "        y_up_upd = x_upd_kim\n",
    "        \n",
    "            \n",
    "            \n",
    "            \n",
    "        \n",
    "        \n",
    "        \n",
    "        \n",
    "        \n",
    "#         y_up_upd = solver(x_down, y_down, eta_y, alpha)\n",
    "        \n",
    "        x_up_upd = x_down - eta_x*alpha*grad_x(x_down, y_up_upd)\n",
    "        x_upd = (x_cur + alpha*x_down - eta_x*grad_x(x_down,y_up_upd))/(1+alpha)\n",
    "        y_upd = (y_cur+alpha*y_up_upd-eta_y*grad_y(x_down,y_up_upd))/(1+alpha)\n",
    "        \n",
    "        \n",
    "        x_list.append(x_upd)\n",
    "        y_list.append(y_upd)\n",
    "        \n",
    "        x_up_cur = x_up_upd\n",
    "        y_up_cur = y_up_upd\n",
    "        \n",
    "        x_cur = x_upd\n",
    "        y_cur = y_upd\n",
    "        \n",
    "    return x_list, y_list\n",
    "        \n",
    "        \n",
    "        \n",
    "    "
   ]
  },
  {
   "cell_type": "code",
   "execution_count": null,
   "metadata": {},
   "outputs": [],
   "source": [
    "K_sub "
   ]
  },
  {
   "cell_type": "code",
   "execution_count": null,
   "metadata": {
    "scrolled": true
   },
   "outputs": [],
   "source": [
    "x_list_large_Dima_2, y_list_large_Dima_2 = Dima_method(x_0,y_0,eta_x,eta_y,grad_x_new, grad_y_new, alpha,K,K_sub)"
   ]
  },
  {
   "cell_type": "code",
   "execution_count": null,
   "metadata": {},
   "outputs": [],
   "source": [
    "quad_function(np.array(list(x_list_large_Dima_2[-1])+list(y_list_large_Dima_2[-1])))"
   ]
  },
  {
   "cell_type": "code",
   "execution_count": null,
   "metadata": {},
   "outputs": [],
   "source": [
    "x_list_large_Dima_2[-1][0]"
   ]
  },
  {
   "cell_type": "code",
   "execution_count": null,
   "metadata": {},
   "outputs": [],
   "source": [
    "x_list_large_Dima[-1][0]"
   ]
  },
  {
   "cell_type": "code",
   "execution_count": null,
   "metadata": {},
   "outputs": [],
   "source": [
    "func_list_large_Dima_2_x = []\n",
    "for i in range(len(x_list_large_Dima_2)):\n",
    "    func_list_large_Dima_2_x.append(quad_function(np.array(list(x_list_large_Dima_2[i])+list(y_list_large_Dima_2[i]))) - quad_function(x_star))"
   ]
  },
  {
   "cell_type": "code",
   "execution_count": null,
   "metadata": {},
   "outputs": [],
   "source": [
    "func_list_large_Dima_2_y = []\n",
    "for i in range(len(x_list_large_Dima_2)):\n",
    "    for j in range(K_sub):\n",
    "        func_list_large_Dima_2_y.append(quad_function(np.array(list(x_list_large_Dima_2[i])+list(y_list_large_Dima_2[i]))) - quad_function(x_star))"
   ]
  },
  {
   "cell_type": "code",
   "execution_count": null,
   "metadata": {},
   "outputs": [],
   "source": []
  },
  {
   "cell_type": "code",
   "execution_count": null,
   "metadata": {},
   "outputs": [],
   "source": []
  },
  {
   "cell_type": "code",
   "execution_count": null,
   "metadata": {},
   "outputs": [],
   "source": []
  },
  {
   "cell_type": "code",
   "execution_count": null,
   "metadata": {},
   "outputs": [],
   "source": [
    "x_list_large_lin_coup, x_list_large_grad_x_lin_coup, x_list_large_grad_y_lin_coup = linear_coupling(x_init, grad_x_new_full, grad_y_new_full, L_x, L_y, mu, K)"
   ]
  },
  {
   "cell_type": "code",
   "execution_count": null,
   "metadata": {},
   "outputs": [],
   "source": []
  },
  {
   "cell_type": "code",
   "execution_count": null,
   "metadata": {},
   "outputs": [],
   "source": [
    "func_list_large_coup_x = []\n",
    "for i in range(len(x_list_large_grad_x_lin_coup)):\n",
    "    func_list_large_coup_x.append(quad_function(x_list_large_grad_x_lin_coup[i]) - quad_function(x_star))"
   ]
  },
  {
   "cell_type": "code",
   "execution_count": null,
   "metadata": {},
   "outputs": [],
   "source": [
    "func_list_large_coup_y = []\n",
    "for i in range(len(x_list_large_grad_y_lin_coup)):\n",
    "    func_list_large_coup_y.append(quad_function(x_list_large_grad_y_lin_coup[i]) - quad_function(x_star))"
   ]
  },
  {
   "cell_type": "code",
   "execution_count": null,
   "metadata": {},
   "outputs": [],
   "source": [
    "x_list_large_ACDM, my_roots, x_list_large_grad_x_ACDM, x_list_large_grad_y_ACDM = ACDM(x_init, K, L_x, L_y, 0.5, grad_x_new_full, grad_y_new_full)"
   ]
  },
  {
   "cell_type": "code",
   "execution_count": null,
   "metadata": {},
   "outputs": [],
   "source": [
    "func_list_large_ACDM_x = []\n",
    "for i in range(len(x_list_large_grad_x_ACDM)):\n",
    "    func_list_large_ACDM_x.append(quad_function(x_list_large_grad_x_ACDM[i]) - quad_function(x_star))"
   ]
  },
  {
   "cell_type": "code",
   "execution_count": null,
   "metadata": {},
   "outputs": [],
   "source": [
    "func_list_large_ACDM_y = []\n",
    "for i in range(len(x_list_large_grad_y_ACDM)):\n",
    "    func_list_large_ACDM_y.append(quad_function(x_list_large_grad_y_ACDM[i]) - quad_function(x_star))"
   ]
  },
  {
   "cell_type": "markdown",
   "metadata": {},
   "source": [
    "## Distance"
   ]
  },
  {
   "cell_type": "code",
   "execution_count": null,
   "metadata": {},
   "outputs": [],
   "source": [
    "dist_list_large_ACDM_x = []\n",
    "for i in range(len(x_list_large_grad_x_ACDM)):\n",
    "    dist_list_large_ACDM_x.append(np.linalg.norm(x_list_large_grad_x_ACDM[i] - x_star)**2)"
   ]
  },
  {
   "cell_type": "code",
   "execution_count": null,
   "metadata": {},
   "outputs": [],
   "source": [
    "dist_list_large_ACDM_y = []\n",
    "for i in range(len(x_list_large_grad_y_ACDM)):\n",
    "    dist_list_large_ACDM_y.append(np.linalg.norm(x_list_large_grad_y_ACDM[i] - x_star)**2)"
   ]
  },
  {
   "cell_type": "code",
   "execution_count": null,
   "metadata": {},
   "outputs": [],
   "source": [
    "dist_list_large_coup_x = []\n",
    "for i in range(len(x_list_large_grad_x_lin_coup)):\n",
    "    dist_list_large_coup_x.append(np.linalg.norm(x_list_large_grad_x_lin_coup[i] - x_star)**2)"
   ]
  },
  {
   "cell_type": "code",
   "execution_count": null,
   "metadata": {},
   "outputs": [],
   "source": [
    "dist_list_large_coup_y = []\n",
    "for i in range(len(x_list_large_grad_y_lin_coup)):\n",
    "    dist_list_large_coup_y.append(np.linalg.norm(x_list_large_grad_y_lin_coup[i] - x_star)**2)"
   ]
  },
  {
   "cell_type": "code",
   "execution_count": null,
   "metadata": {},
   "outputs": [],
   "source": [
    "dist_list_large_Dima_2_x = []\n",
    "for i in range(len(x_list_large_Dima_2)):\n",
    "    dist_list_large_Dima_2_x.append(np.linalg.norm(np.array(list(x_list_large_Dima_2[i])+list(y_list_large_Dima_2[i])) - x_star))"
   ]
  },
  {
   "cell_type": "code",
   "execution_count": null,
   "metadata": {},
   "outputs": [],
   "source": [
    "dist_list_large_Dima_2_y = []\n",
    "for i in range(len(x_list_large_Dima_2)):\n",
    "    for j in range(K_sub):\n",
    "        dist_list_large_Dima_2_y.append(np.linalg.norm(np.array(list(x_list_large_Dima_2[i])+list(y_list_large_Dima_2[i])) - x_star))"
   ]
  },
  {
   "cell_type": "code",
   "execution_count": null,
   "metadata": {},
   "outputs": [],
   "source": [
    "dist_list_large_Nes_x = []\n",
    "for i in range(len(x_list_large_Nes)):\n",
    "    dist_list_large_Nes_x.append(np.linalg.norm(x_list_large_Nes[i] - x_star))"
   ]
  },
  {
   "cell_type": "code",
   "execution_count": null,
   "metadata": {},
   "outputs": [],
   "source": []
  },
  {
   "cell_type": "code",
   "execution_count": null,
   "metadata": {},
   "outputs": [],
   "source": []
  },
  {
   "cell_type": "markdown",
   "metadata": {},
   "source": [
    "## Log-regression "
   ]
  },
  {
   "cell_type": "code",
   "execution_count": null,
   "metadata": {},
   "outputs": [],
   "source": [
    "import matplotlib\n",
    "import numpy as np\n",
    "import psutil\n",
    "import ray\n",
    "import seaborn as sns\n",
    "import copy\n",
    "\n",
    "import matplotlib.pyplot as plt\n",
    "import numpy.linalg as la\n",
    "from scipy.sparse import csc_matrix, csr_matrix\n",
    "from sklearn.datasets import load_svmlight_file, fetch_rcv1\n",
    "\n",
    "from optmethods.datasets import get_dataset\n",
    "from optmethods.first_order import Adgd, Gd, Nesterov, RestNest\n",
    "from optmethods.loss import LogisticRegression\n",
    "from optmethods.utils import get_trace, relative_round"
   ]
  },
  {
   "cell_type": "code",
   "execution_count": null,
   "metadata": {},
   "outputs": [],
   "source": [
    "import sklearn.datasets\n",
    "import urllib.request\n",
    "# bs = 1\n",
    "# w8a_url = \"https://www.csie.ntu.edu.tw/~cjlin/libsvmtools/datasets/binary/w8a\"\n",
    "a1a_url = \"https://www.csie.ntu.edu.tw/~cjlin/libsvmtools/datasets/binary/a1a\"\n",
    "data_path = './a1a'\n",
    "# f = urllib.request.urlretrieve(w8a_url, data_path)\n",
    "f = urllib.request.urlretrieve(a1a_url, data_path)\n",
    "A, b = sklearn.datasets.load_svmlight_file(data_path)\n",
    "\n",
    "n, dim = A.shape  # \\# of data and dimension for each data: 49749, 300\n",
    "print(n, dim)\n",
    "# if n % num_cpus != 0:\n",
    "#     A = A[:n - (n % num_cpus)]\n",
    "#     b = b[:n - (n % num_cpus)]\n",
    "\n",
    "A = A.toarray()\n",
    "l1 = 0\n",
    "loss = LogisticRegression(A, b, l1=l1, l2=0)\n",
    "# n, dim = A.shape\n",
    "# if n <= 20000 or dim <= 20000:\n",
    "#     print('Computing the smoothness constant via SVD, it may take a few minutes...')\n",
    "L = loss.smoothness\n",
    "# L_batch = loss.batch_smoothness(bs)\n",
    "# L_max = loss.max_smoothness\n",
    "# # l2 = 0\n",
    "# l2 = 1e-4 * L       # here we choose the regularizer to be 1e-5, in paper 1e-4\n",
    "# loss.l2 = l2"
   ]
  },
  {
   "cell_type": "code",
   "execution_count": null,
   "metadata": {},
   "outputs": [],
   "source": []
  },
  {
   "cell_type": "code",
   "execution_count": null,
   "metadata": {},
   "outputs": [],
   "source": [
    "b_unique = np.unique(b)\n",
    "if (b_unique == [1, 2]).all():\n",
    "    # Transform labels {1, 2} to {0, 1}\n",
    "    b = b - 1\n",
    "elif (b_unique == [-1, 1]).all():\n",
    "    # Transform labels {-1, 1} to {0, 1}\n",
    "    b = (b+1) / 2\n",
    "else:\n",
    "    # replace class labels with 0's and 1's\n",
    "    b = 1. * (b == b[0])"
   ]
  },
  {
   "cell_type": "code",
   "execution_count": null,
   "metadata": {},
   "outputs": [],
   "source": [
    "# from sklearn.datasets import make_classification"
   ]
  },
  {
   "cell_type": "code",
   "execution_count": null,
   "metadata": {},
   "outputs": [],
   "source": [
    "# np.random.seed(42)\n",
    "# n = 1000\n",
    "# d = 110\n",
    "\n",
    "# A, b = make_classification(n_samples = n, n_features=d, n_redundant=0, n_informative=3, n_clusters_per_class=1)"
   ]
  },
  {
   "cell_type": "code",
   "execution_count": null,
   "metadata": {},
   "outputs": [],
   "source": [
    "b = 2*b-1"
   ]
  },
  {
   "cell_type": "code",
   "execution_count": null,
   "metadata": {},
   "outputs": [],
   "source": [
    "np.unique(b)"
   ]
  },
  {
   "cell_type": "code",
   "execution_count": null,
   "metadata": {},
   "outputs": [],
   "source": [
    "# L_max = 0\n",
    "# mu = 0.1\n",
    "# for j in range(n):\n",
    "#     q = A[j].T @ A[j]\n",
    "#     L_i = (q**2)/4 + mu\n",
    "#     if L_max < L_i:\n",
    "#         L_max = L_i"
   ]
  },
  {
   "cell_type": "code",
   "execution_count": null,
   "metadata": {},
   "outputs": [],
   "source": [
    "# L_max"
   ]
  },
  {
   "cell_type": "code",
   "execution_count": null,
   "metadata": {},
   "outputs": [],
   "source": [
    "d_x = 100\n",
    "d_y = dim - d_x"
   ]
  },
  {
   "cell_type": "code",
   "execution_count": null,
   "metadata": {},
   "outputs": [],
   "source": [
    "L"
   ]
  },
  {
   "cell_type": "code",
   "execution_count": null,
   "metadata": {},
   "outputs": [],
   "source": [
    "d_y"
   ]
  },
  {
   "cell_type": "code",
   "execution_count": null,
   "metadata": {},
   "outputs": [],
   "source": [
    "mu_x = 0.01\n",
    "mu_y = 0.002"
   ]
  },
  {
   "cell_type": "code",
   "execution_count": null,
   "metadata": {},
   "outputs": [],
   "source": [
    "dim "
   ]
  },
  {
   "cell_type": "code",
   "execution_count": null,
   "metadata": {},
   "outputs": [],
   "source": [
    "import copy"
   ]
  },
  {
   "cell_type": "code",
   "execution_count": null,
   "metadata": {},
   "outputs": [],
   "source": [
    "def func(x, i, A, b, mu_x, mu_y): \n",
    "    return np.log(1+np.exp(-b[i]*(A[i].T @ x))) + mu_x/2 * x[0:d_x].T @ x[0:d_x]+ mu_y/2 * x[d_x:dim].T@x[d_x:dim]\n",
    "\n",
    "def nabla_func(x, i, A, b, mu_x, mu_y):\n",
    "    vec_x = copy.deepcopy(x)\n",
    "    vec_x[d_x:dim] = 0\n",
    "    vec_y = copy.deepcopy(x)\n",
    "    vec_y[0:d_x] = 0\n",
    "#     print(x)\n",
    "#     print(vec_x)\n",
    "#     print(vec_y)\n",
    "    return mu_x*vec_x+mu_y*vec_y - 1/(1 + np.exp(b[i]*(A[i].T @ x))) *b[i] * A[i]\n",
    "\n",
    "def Func(x):\n",
    "    s = 0\n",
    "    for i in range(n):\n",
    "        s += func(x, i, A, b, mu_x, mu_y)\n",
    "    return s/n\n",
    "\n",
    "def nabla_Func(x):\n",
    "    s = np.zeros(dim)\n",
    "    for i in range(n):\n",
    "        s += nabla_func(x, i, A, b, mu_x, mu_y)\n",
    "    return s/n"
   ]
  },
  {
   "cell_type": "code",
   "execution_count": null,
   "metadata": {},
   "outputs": [],
   "source": [
    "x = np.ones(dim)"
   ]
  },
  {
   "cell_type": "code",
   "execution_count": null,
   "metadata": {},
   "outputs": [],
   "source": [
    "x[0:d_x].T@x[0:d_x]"
   ]
  },
  {
   "cell_type": "code",
   "execution_count": null,
   "metadata": {},
   "outputs": [],
   "source": [
    "x[d_x:dim].T@x[d_x:dim]"
   ]
  },
  {
   "cell_type": "code",
   "execution_count": null,
   "metadata": {},
   "outputs": [],
   "source": [
    "Func(np.ones(dim))"
   ]
  },
  {
   "cell_type": "code",
   "execution_count": null,
   "metadata": {},
   "outputs": [],
   "source": [
    "def nabla_Func_x(x,y):\n",
    "    vec = np.array(list(x)+list(y))\n",
    "    s = np.zeros(dim)\n",
    "    for i in range(n):\n",
    "        s += nabla_func(vec, i, A, b, mu_x, mu_y)\n",
    "    res = s/n\n",
    "    return res[0:d_x]"
   ]
  },
  {
   "cell_type": "code",
   "execution_count": null,
   "metadata": {},
   "outputs": [],
   "source": [
    "def nabla_Func_y(x,y):\n",
    "    vec = np.array(list(x)+list(y))\n",
    "    s = np.zeros(dim)\n",
    "    for i in range(n):\n",
    "        s += nabla_func(vec, i, A, b, mu_x, mu_y)\n",
    "    res = s/n\n",
    "    return res[d_x:dim]"
   ]
  },
  {
   "cell_type": "code",
   "execution_count": null,
   "metadata": {},
   "outputs": [],
   "source": [
    "def nabla_Func_y_full(x):\n",
    "    s = np.zeros(dim)\n",
    "    for i in range(n):\n",
    "        s += nabla_func(x, i, A, b, mu_x, mu_y)\n",
    "    res = s/n\n",
    "    res[0:d_x] = 0\n",
    "    return mu_x/mu_y*res"
   ]
  },
  {
   "cell_type": "code",
   "execution_count": null,
   "metadata": {},
   "outputs": [],
   "source": [
    "nabla_Func_y_full(np.ones(dim))[d_x:dim]"
   ]
  },
  {
   "cell_type": "code",
   "execution_count": null,
   "metadata": {},
   "outputs": [],
   "source": [
    "def nabla_Func_x_full(x):\n",
    "    s = np.zeros(dim)\n",
    "    for i in range(n):\n",
    "        s += nabla_func(x, i, A, b, mu_x, mu_y)\n",
    "    res = s/n\n",
    "    res[d_x:dim] = 0\n",
    "    return res"
   ]
  },
  {
   "cell_type": "code",
   "execution_count": null,
   "metadata": {},
   "outputs": [],
   "source": [
    "nabla_Func_x_full(np.ones(dim))[0:d_x]"
   ]
  },
  {
   "cell_type": "code",
   "execution_count": null,
   "metadata": {},
   "outputs": [],
   "source": [
    "L_x = L\n",
    "L_y = L\n",
    "mu_x = 0.01\n",
    "mu_y = 0.002\n",
    "eta_x = 1/np.sqrt(mu_x*L_x)\n",
    "eta_y = (1/mu_y)*(np.sqrt(mu_x/L_x))\n",
    "alpha = np.sqrt(mu_x/L_x)\n",
    "C = 1\n",
    "K_sub = int(np.sqrt(2*C)*max(1., np.sqrt(eta_y*alpha*L_y)))\n",
    "K=10000"
   ]
  },
  {
   "cell_type": "code",
   "execution_count": null,
   "metadata": {},
   "outputs": [],
   "source": [
    "K_sub"
   ]
  },
  {
   "cell_type": "code",
   "execution_count": null,
   "metadata": {},
   "outputs": [],
   "source": [
    "x_0 = np.zeros(d_x)\n",
    "y_0 = np.zeros(dim-d_x)"
   ]
  },
  {
   "cell_type": "code",
   "execution_count": null,
   "metadata": {},
   "outputs": [],
   "source": [
    "x_init = np.array(list(x_0)+list(y_0))"
   ]
  },
  {
   "cell_type": "code",
   "execution_count": null,
   "metadata": {},
   "outputs": [],
   "source": [
    "K=2000"
   ]
  },
  {
   "cell_type": "code",
   "execution_count": null,
   "metadata": {},
   "outputs": [],
   "source": [
    "x_list_large_Nes, y_list_large_Nes = nesterov(x_init, nabla_Func, L_y,mu_y,K)"
   ]
  },
  {
   "cell_type": "code",
   "execution_count": null,
   "metadata": {},
   "outputs": [],
   "source": [
    "# nabla_Func(x_list_large_Nes[2]) "
   ]
  },
  {
   "cell_type": "code",
   "execution_count": null,
   "metadata": {},
   "outputs": [],
   "source": [
    "dist_list_large_Nes_x = []\n",
    "for i in range(len(x_list_large_Nes)):\n",
    "    dist_list_large_Nes_x.append(np.linalg.norm(x_list_large_Nes[i] - x_list_large_Nes[-1])**2)"
   ]
  },
  {
   "cell_type": "code",
   "execution_count": null,
   "metadata": {},
   "outputs": [],
   "source": [
    "func_list_large_Nes_x = []\n",
    "for i in range(len(x_list_large_Nes)):\n",
    "    func_list_large_Nes_x.append(Func(x_list_large_Nes[i]) - Func(x_list_large_Nes[-1]))"
   ]
  },
  {
   "cell_type": "code",
   "execution_count": null,
   "metadata": {
    "scrolled": true
   },
   "outputs": [],
   "source": [
    "plt.plot(func_list_large_Nes_x[0:300])\n",
    "plt.plot(func_list_large_Dima_2_x[0:300])\n",
    "# plt.plot(func_list_large_Dima_2_y[0:300])\n",
    "plt.plot(func_list_large_coup_x[0:300])\n",
    "plt.plot(func_list_large_ACDM_x[0:300])\n",
    "plt.yscale('log')"
   ]
  },
  {
   "cell_type": "code",
   "execution_count": null,
   "metadata": {},
   "outputs": [],
   "source": [
    "func_list_large_Nes_x[0]"
   ]
  },
  {
   "cell_type": "code",
   "execution_count": null,
   "metadata": {},
   "outputs": [],
   "source": [
    "a_a = nabla_func(np.ones(dim), 1, A, b, mu_x, mu_y)"
   ]
  },
  {
   "cell_type": "code",
   "execution_count": null,
   "metadata": {},
   "outputs": [],
   "source": [
    "b_b = nabla_func(np.zeros(dim)*2, 1, A, b, mu_x, mu_y)"
   ]
  },
  {
   "cell_type": "code",
   "execution_count": null,
   "metadata": {},
   "outputs": [],
   "source": [
    "a_a"
   ]
  },
  {
   "cell_type": "code",
   "execution_count": null,
   "metadata": {},
   "outputs": [],
   "source": [
    "b_b"
   ]
  },
  {
   "cell_type": "code",
   "execution_count": null,
   "metadata": {},
   "outputs": [],
   "source": [
    "b_b"
   ]
  },
  {
   "cell_type": "code",
   "execution_count": null,
   "metadata": {},
   "outputs": [],
   "source": [
    "mu_x"
   ]
  },
  {
   "cell_type": "code",
   "execution_count": null,
   "metadata": {},
   "outputs": [],
   "source": [
    "L_x = L\n",
    "L_y = L\n",
    "\n",
    "eta_x = 1/np.sqrt(mu_x*L_x)\n",
    "eta_y = (1/mu_y)*(np.sqrt(mu_x/L_x))\n",
    "alpha = np.sqrt(mu_x/L_x)\n",
    "C = 1\n",
    "K_sub = int(np.sqrt(2*C)*max(1., np.sqrt(eta_y*alpha*L_y)))\n",
    "K=2000"
   ]
  },
  {
   "cell_type": "code",
   "execution_count": null,
   "metadata": {},
   "outputs": [],
   "source": [
    "K_sub"
   ]
  },
  {
   "cell_type": "code",
   "execution_count": null,
   "metadata": {},
   "outputs": [],
   "source": [
    "K_sub = 2"
   ]
  },
  {
   "cell_type": "code",
   "execution_count": null,
   "metadata": {},
   "outputs": [],
   "source": [
    "y_0"
   ]
  },
  {
   "cell_type": "code",
   "execution_count": null,
   "metadata": {},
   "outputs": [],
   "source": [
    "x_list_large_Dima_2, y_list_large_Dima_2 = Dima_method(x_0,y_0,eta_x,eta_y,nabla_Func_x, nabla_Func_y, alpha,K,K_sub)"
   ]
  },
  {
   "cell_type": "code",
   "execution_count": null,
   "metadata": {},
   "outputs": [],
   "source": [
    "func_list_large_Dima_2_x = []\n",
    "for i in range(len(x_list_large_Dima_2)):\n",
    "    func_list_large_Dima_2_x.append(Func(np.array(list(x_list_large_Dima_2[i])+list(y_list_large_Dima_2[i]))) - Func(x_list_large_Nes[-1]))"
   ]
  },
  {
   "cell_type": "code",
   "execution_count": null,
   "metadata": {},
   "outputs": [],
   "source": [
    "func_list_large_Dima_2_y = []\n",
    "for i in range(len(x_list_large_Dima_2)):\n",
    "    for j in range(K_sub):\n",
    "        func_list_large_Dima_2_y.append(Func(np.array(list(x_list_large_Dima_2[i])+list(y_list_large_Dima_2[i]))) - Func(x_list_large_Nes[-1]))"
   ]
  },
  {
   "cell_type": "code",
   "execution_count": null,
   "metadata": {},
   "outputs": [],
   "source": [
    "func_list_large_Dima_2_y = []"
   ]
  },
  {
   "cell_type": "code",
   "execution_count": null,
   "metadata": {},
   "outputs": [],
   "source": [
    "for i in range(len(x_list_large_Dima_2)):\n",
    "    func_list_large_Dima_2_y+=([func_list_large_Dima_2_x[i]]*K_sub)"
   ]
  },
  {
   "cell_type": "code",
   "execution_count": null,
   "metadata": {},
   "outputs": [],
   "source": [
    "len(func_list_large_Dima_2_y)"
   ]
  },
  {
   "cell_type": "code",
   "execution_count": null,
   "metadata": {},
   "outputs": [],
   "source": [
    "a+=a+([1]*2)"
   ]
  },
  {
   "cell_type": "code",
   "execution_count": null,
   "metadata": {},
   "outputs": [],
   "source": [
    "L_y"
   ]
  },
  {
   "cell_type": "code",
   "execution_count": null,
   "metadata": {},
   "outputs": [],
   "source": [
    "x_list_large_lin_coup, x_list_large_grad_x_lin_coup, x_list_large_grad_y_lin_coup = linear_coupling(x_init, nabla_Func_x_full, nabla_Func_y_full, L_x, (mu_x/mu_y)*L_y, mu_x, K)"
   ]
  },
  {
   "cell_type": "code",
   "execution_count": null,
   "metadata": {},
   "outputs": [],
   "source": [
    "func_list_large_coup_x = []\n",
    "for i in range(len(x_list_large_grad_x_lin_coup)):\n",
    "    func_list_large_coup_x.append(Func(x_list_large_grad_x_lin_coup[i]) - Func(x_list_large_Nes[-1]))"
   ]
  },
  {
   "cell_type": "code",
   "execution_count": null,
   "metadata": {},
   "outputs": [],
   "source": [
    "func_list_large_coup_y = []\n",
    "for i in range(len(x_list_large_grad_y_lin_coup)):\n",
    "    func_list_large_coup_y.append(Func(x_list_large_grad_y_lin_coup[i]) - Func(x_list_large_Nes[-1]))"
   ]
  },
  {
   "cell_type": "code",
   "execution_count": null,
   "metadata": {},
   "outputs": [],
   "source": [
    "x_list_large_ACDM, my_roots, x_list_large_grad_x_ACDM, x_list_large_grad_y_ACDM = ACDM(x_init, K, L_x, (mu_x/mu_y)*L_y, 0.5, nabla_Func_x_full, nabla_Func_y_full,mu_x)"
   ]
  },
  {
   "cell_type": "code",
   "execution_count": null,
   "metadata": {},
   "outputs": [],
   "source": [
    "func_list_large_ACDM_x = []\n",
    "for i in range(len(x_list_large_grad_x_ACDM)):\n",
    "    func_list_large_ACDM_x.append(Func(x_list_large_grad_x_ACDM[i]) - Func(x_list_large_Nes[-1]))"
   ]
  },
  {
   "cell_type": "code",
   "execution_count": null,
   "metadata": {},
   "outputs": [],
   "source": [
    "func_list_large_ACDM_y = []\n",
    "for i in range(len(x_list_large_grad_y_ACDM)):\n",
    "    func_list_large_ACDM_y.append(Func(x_list_large_grad_y_ACDM[i]) - Func(x_list_large_Nes[-1]))"
   ]
  },
  {
   "cell_type": "code",
   "execution_count": null,
   "metadata": {},
   "outputs": [],
   "source": [
    "# plt.plot(func_list_large_Dima_x[0:250],label = 'BAM_x')\n",
    "plt.plot(func_list_large_Dima_2_x[0:200],label = 'BAM_x',marker = 'd', markevery = 20)\n",
    "# plt.plot(func_list_large_Dima_y[0:4000],label = 'BAM_y')\n",
    "# plt.plot(func_list_large_Dima_2_y[0:4000],label = 'BAM_y')\n",
    "plt.plot(func_list_large_Nes_x[0:200], label = 'NAG',marker = 's', markevery = 20)\n",
    "plt.plot(func_list_large_coup_x[0:200], label = 'LinCoupling_x',marker = 'v', markevery = 20)\n",
    "plt.plot(func_list_large_ACDM_x[0:200], label = 'ACDM_x',marker = 'o', markevery = 20)\n",
    "plt.grid()\n",
    "plt.xlabel('# of oracle calls',fontsize=18)\n",
    "plt.ylabel('$f(x^k) - f(x^\\star)$',fontsize=18)\n",
    "plt.xticks(fontsize=14)\n",
    "plt.yticks(fontsize=14)\n",
    "plt.legend()\n",
    "plt.ylim(10**(-14),10)\n",
    "plt.yscale('log')\n",
    "plt.tight_layout()\n",
    "plt.savefig('log_001-00-1-upd_x_mm.pdf')"
   ]
  },
  {
   "cell_type": "code",
   "execution_count": null,
   "metadata": {},
   "outputs": [],
   "source": [
    "# plt.plot(func_list_large_Dima_x[0:4000],label = 'BAM_x')\n",
    "# plt.plot(func_list_large_Dima_2_x[0:2000],label = 'BAM_x',marker = 'd', markevery = 100)\n",
    "# plt.plot(func_list_large_Dima_y[0:4000],label = 'BAM_y')\n",
    "plt.plot(func_list_large_Dima_2_y[0:500],label = 'BAM_y',marker = 'd', markevery = 100)\n",
    "plt.plot(func_list_large_Nes_x[0:500], label = 'NAG',marker = 's', markevery = 90)\n",
    "plt.plot(func_list_large_coup_y[0:500], label = 'LinCoupling_y',marker = 'v', markevery = 100)\n",
    "plt.plot(func_list_large_ACDM_y[0:500], label = 'ACDM_y',marker = 'o', markevery = 90)\n",
    "plt.grid()\n",
    "plt.xlabel('# of oracle calls',fontsize=18)\n",
    "plt.ylabel('$f(x^k) - f(x^\\star)$',fontsize=18)\n",
    "plt.xticks(fontsize=14)\n",
    "plt.yticks(fontsize=14)\n",
    "plt.legend()\n",
    "plt.ylim(10**(-14),10)\n",
    "plt.yscale('log')\n",
    "plt.tight_layout()\n",
    "plt.savefig('log_001-00-1-upd_y_mm.pdf')"
   ]
  },
  {
   "cell_type": "code",
   "execution_count": null,
   "metadata": {},
   "outputs": [],
   "source": [
    "L"
   ]
  },
  {
   "cell_type": "code",
   "execution_count": null,
   "metadata": {},
   "outputs": [],
   "source": [
    "dim"
   ]
  },
  {
   "cell_type": "code",
   "execution_count": null,
   "metadata": {},
   "outputs": [],
   "source": [
    "A, b = sklearn.datasets.load_svmlight_file(data_path)"
   ]
  },
  {
   "cell_type": "code",
   "execution_count": null,
   "metadata": {},
   "outputs": [],
   "source": [
    "A.toarray()"
   ]
  },
  {
   "cell_type": "code",
   "execution_count": null,
   "metadata": {},
   "outputs": [],
   "source": [
    "A.shape"
   ]
  },
  {
   "cell_type": "code",
   "execution_count": null,
   "metadata": {},
   "outputs": [],
   "source": [
    "mu_x"
   ]
  },
  {
   "cell_type": "code",
   "execution_count": null,
   "metadata": {},
   "outputs": [],
   "source": [
    "mu_y"
   ]
  },
  {
   "cell_type": "code",
   "execution_count": null,
   "metadata": {},
   "outputs": [],
   "source": []
  }
 ],
 "metadata": {
  "kernelspec": {
   "display_name": "Python 3 (ipykernel)",
   "language": "python",
   "name": "python3"
  },
  "language_info": {
   "codemirror_mode": {
    "name": "ipython",
    "version": 3
   },
   "file_extension": ".py",
   "mimetype": "text/x-python",
   "name": "python",
   "nbconvert_exporter": "python",
   "pygments_lexer": "ipython3",
   "version": "3.11.2"
  }
 },
 "nbformat": 4,
 "nbformat_minor": 4
}
